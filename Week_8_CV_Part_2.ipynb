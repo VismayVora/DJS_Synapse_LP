{
  "nbformat": 4,
  "nbformat_minor": 0,
  "metadata": {
    "colab": {
      "name": "Week 8_CV_Part 2.ipynb",
      "provenance": [],
      "collapsed_sections": []
    },
    "kernelspec": {
      "name": "python3",
      "display_name": "Python 3"
    },
    "language_info": {
      "name": "python"
    },
    "accelerator": "GPU"
  },
  "cells": [
    {
      "cell_type": "markdown",
      "metadata": {
        "id": "NVdR1p0yN1YE"
      },
      "source": [
        "# Class Models, Custom Layers, GPU training and Custom Resnets"
      ]
    },
    {
      "cell_type": "markdown",
      "metadata": {
        "id": "5jVXoMVAzLdj"
      },
      "source": [
        "## Instructions\n",
        "1. Use Google Collab for this task\n",
        "2. change runtime type to GPU in the Runtime tab"
      ]
    },
    {
      "cell_type": "markdown",
      "metadata": {
        "id": "Q0OSmQlRtyMh"
      },
      "source": [
        "## Making models using class\n",
        "\n",
        "1. In earlier tasks, we learnt how to make a model using the sequential api provided by tensorflow.\n",
        "2. Now we learnt how to make a model using a class based approach."
      ]
    },
    {
      "cell_type": "markdown",
      "metadata": {
        "id": "T67gFCm5yKJ0"
      },
      "source": [
        "1. <b>Import</b>"
      ]
    },
    {
      "cell_type": "code",
      "metadata": {
        "id": "Bvd3N1aMte77"
      },
      "source": [
        "import numpy as np\n",
        "import tensorflow as tf\n",
        "import matplotlib.pyplot as plt\n",
        "from tensorflow import keras\n",
        "from tensorflow.keras import Sequential, layers, initializers, models, callbacks, optimizers\n",
        "from tensorflow.keras.models import Model\n",
        "from tensorflow.keras.utils import to_categorical\n",
        "from tensorflow.keras.datasets import mnist"
      ],
      "execution_count": 3,
      "outputs": []
    },
    {
      "cell_type": "markdown",
      "metadata": {
        "id": "qaaIDs0Xyeve"
      },
      "source": [
        "2. <b>To avoid GPU errors</b>"
      ]
    },
    {
      "cell_type": "code",
      "metadata": {
        "id": "lEZk_IRuydWT"
      },
      "source": [
        "physical_devices = tf.config.list_physical_devices(\"GPU\")\n",
        "tf.config.experimental.set_memory_growth(physical_devices[0], True) "
      ],
      "execution_count": 23,
      "outputs": []
    },
    {
      "cell_type": "markdown",
      "metadata": {
        "id": "qszmpUatzwPs"
      },
      "source": [
        "3. <b>Loading MNIST Data</b>"
      ]
    },
    {
      "cell_type": "code",
      "metadata": {
        "id": "fw4x8BFxzHHb"
      },
      "source": [
        "(x_train, y_train) , (x_test, y_test) = mnist.load_data()\n",
        "#flattening the images into 1 dimensional array\n",
        "x_train = x_train.reshape(-1, 28*28).astype(\"float32\") / 255.0\n",
        "x_test = x_test.reshape(-1, 28*28).astype(\"float32\") / 255.0"
      ],
      "execution_count": 24,
      "outputs": []
    },
    {
      "cell_type": "code",
      "metadata": {
        "colab": {
          "base_uri": "https://localhost:8080/"
        },
        "id": "8XsdiB-ygu3Z",
        "outputId": "f3c54f01-bd4a-485c-e36f-df30fa7673ad"
      },
      "source": [
        "x_train.shape"
      ],
      "execution_count": 25,
      "outputs": [
        {
          "output_type": "execute_result",
          "data": {
            "text/plain": [
              "(60000, 784)"
            ]
          },
          "metadata": {},
          "execution_count": 25
        }
      ]
    },
    {
      "cell_type": "code",
      "metadata": {
        "id": "4CTHTVKj0jh6",
        "colab": {
          "base_uri": "https://localhost:8080/"
        },
        "outputId": "a5f00fb8-33f9-408a-edca-6a60109c38fb"
      },
      "source": [
        "len(x_train)"
      ],
      "execution_count": 26,
      "outputs": [
        {
          "output_type": "execute_result",
          "data": {
            "text/plain": [
              "60000"
            ]
          },
          "metadata": {},
          "execution_count": 26
        }
      ]
    },
    {
      "cell_type": "code",
      "metadata": {
        "id": "849L-lA80lN4",
        "colab": {
          "base_uri": "https://localhost:8080/"
        },
        "outputId": "96691e50-045d-43f9-89aa-dd08b38cefa2"
      },
      "source": [
        "len(x_test)"
      ],
      "execution_count": 27,
      "outputs": [
        {
          "output_type": "execute_result",
          "data": {
            "text/plain": [
              "10000"
            ]
          },
          "metadata": {},
          "execution_count": 27
        }
      ]
    },
    {
      "cell_type": "markdown",
      "metadata": {
        "id": "FWRIJkRa05n6"
      },
      "source": [
        "4. <b>Building the model</b>"
      ]
    },
    {
      "cell_type": "code",
      "metadata": {
        "id": "zJARi9jQ0rfr"
      },
      "source": [
        "#we will extend the class from keras.Model\n",
        "#this means that we can use the functionalities of keras.model\n",
        "#extending a class is an object oriented concept, so google that if you are confused\n",
        "class MyModel(keras.Model):\n",
        "\n",
        "  def __init__(self):\n",
        "    super(MyModel, self).__init__() #super is also an object oriented thing which allows us to call the init method of the parent class (keras.Model here)\n",
        "    self.dense1 = layers.Dense(64) #self links the variable to the class. You can access dense1 anywhere in this class by using self.dense1\n",
        "    self.dense2 = layers.Dense(10)\n",
        "\n",
        "  def call(self, input_tensor):\n",
        "    x = tf.nn.relu(self.dense1(input_tensor))\n",
        "    x = self.dense2(x)\n",
        "    return x"
      ],
      "execution_count": 28,
      "outputs": []
    },
    {
      "cell_type": "markdown",
      "metadata": {
        "id": "OoTVfSbf6l_Q"
      },
      "source": [
        "5. <b>Creating the model object</b>"
      ]
    },
    {
      "cell_type": "code",
      "metadata": {
        "id": "fQx1h46h6lBR"
      },
      "source": [
        "model = MyModel()"
      ],
      "execution_count": 29,
      "outputs": []
    },
    {
      "cell_type": "markdown",
      "metadata": {
        "id": "Y6kOrpUT6yRV"
      },
      "source": [
        "6. <b>Compiling the model</b>"
      ]
    },
    {
      "cell_type": "code",
      "metadata": {
        "id": "v-8eI1MO6tYS"
      },
      "source": [
        "model.compile(\n",
        "    loss = keras.losses.SparseCategoricalCrossentropy(from_logits=True),\n",
        "    optimizer = keras.optimizers.Adam(),\n",
        "    metrics = ['accuracy'],\n",
        ")"
      ],
      "execution_count": 30,
      "outputs": []
    },
    {
      "cell_type": "markdown",
      "metadata": {
        "id": "DixE2_s473n-"
      },
      "source": [
        "7. <b>Fitting the model"
      ]
    },
    {
      "cell_type": "code",
      "metadata": {
        "id": "WwOXXNQS7La1",
        "colab": {
          "base_uri": "https://localhost:8080/"
        },
        "outputId": "01128e7b-50df-4ef7-aff3-d10627301f85"
      },
      "source": [
        "model.fit(x_train, y_train, batch_size=32, epochs=2)"
      ],
      "execution_count": 31,
      "outputs": [
        {
          "output_type": "stream",
          "name": "stderr",
          "text": [
            "/usr/local/lib/python3.7/dist-packages/tensorflow/python/data/ops/dataset_ops.py:4527: UserWarning: Even though the `tf.config.experimental_run_functions_eagerly` option is set, this option does not apply to tf.data functions. To force eager execution of tf.data functions, please use `tf.data.experimental.enable_debug_mode()`.\n",
            "  \"Even though the `tf.config.experimental_run_functions_eagerly` \"\n"
          ]
        },
        {
          "output_type": "stream",
          "name": "stdout",
          "text": [
            "Epoch 1/2\n",
            "1875/1875 [==============================] - 38s 20ms/step - loss: 0.3033 - accuracy: 0.9147\n",
            "Epoch 2/2\n",
            "1875/1875 [==============================] - 37s 20ms/step - loss: 0.1457 - accuracy: 0.9580\n"
          ]
        },
        {
          "output_type": "execute_result",
          "data": {
            "text/plain": [
              "<keras.callbacks.History at 0x7fa8604642d0>"
            ]
          },
          "metadata": {},
          "execution_count": 31
        }
      ]
    },
    {
      "cell_type": "markdown",
      "metadata": {
        "id": "1AO3QvJr8_VX"
      },
      "source": [
        "6. <b>Evaluate the model</b>"
      ]
    },
    {
      "cell_type": "code",
      "metadata": {
        "id": "-MLpsRt58GC6",
        "colab": {
          "base_uri": "https://localhost:8080/"
        },
        "outputId": "92ed3272-f560-40d9-8e07-8a045cb89c62"
      },
      "source": [
        "model.evaluate(x_test, y_test, batch_size=32)"
      ],
      "execution_count": 32,
      "outputs": [
        {
          "output_type": "stream",
          "name": "stdout",
          "text": [
            "  5/313 [..............................] - ETA: 3s - loss: 0.0490 - accuracy: 0.9875"
          ]
        },
        {
          "output_type": "stream",
          "name": "stderr",
          "text": [
            "/usr/local/lib/python3.7/dist-packages/tensorflow/python/data/ops/dataset_ops.py:4527: UserWarning: Even though the `tf.config.experimental_run_functions_eagerly` option is set, this option does not apply to tf.data functions. To force eager execution of tf.data functions, please use `tf.data.experimental.enable_debug_mode()`.\n",
            "  \"Even though the `tf.config.experimental_run_functions_eagerly` \"\n"
          ]
        },
        {
          "output_type": "stream",
          "name": "stdout",
          "text": [
            "313/313 [==============================] - 4s 12ms/step - loss: 0.1292 - accuracy: 0.9603\n"
          ]
        },
        {
          "output_type": "execute_result",
          "data": {
            "text/plain": [
              "[0.12920311093330383, 0.9603000283241272]"
            ]
          },
          "metadata": {},
          "execution_count": 32
        }
      ]
    },
    {
      "cell_type": "markdown",
      "metadata": {
        "id": "K8GUhKhs-RIL"
      },
      "source": [
        "<b>Why class based</b>\n",
        "1. allows for better code visualization\n",
        "2. better connectivity\n",
        "3. helps in modularizing the code"
      ]
    },
    {
      "cell_type": "markdown",
      "metadata": {
        "id": "KTQn7xVS-baA"
      },
      "source": [
        "<b>Now we'll learn to make the layers (like Dense) using classes</b><br><br>\n",
        "<b>Why do we need to dive till making layers?</b>\n",
        "1. sometimes when we make our own models, we want to do our operations.<br><br>\n",
        "  a. dense follows the operation WX+b<br><br>\n",
        "  b. while back propogation, tf uses it's own automatic derivative algorithm to calculate the derivative of this operation and uses it for gradient descent.<br><br>\n",
        "  c. What if we want to implement a dense operation which does (WX x 5) + (7 x b)? How will tensorflow account for this derivative?<br><br>\n",
        "  d. The answer is : by using the keras.Layer class to build the layer <br><br>\n",
        "\n",
        "2. Hence, we can do any complex operation using the Layer class and tensorflow will account for its derivative during back propogation."
      ]
    },
    {
      "cell_type": "markdown",
      "metadata": {
        "id": "0jjbIKZ79fCX"
      },
      "source": [
        "## Making layers using classes"
      ]
    },
    {
      "cell_type": "markdown",
      "metadata": {
        "id": "_LSso33-Doc8"
      },
      "source": [
        "1. <b>Building the Dense layer from scratch</b>"
      ]
    },
    {
      "cell_type": "code",
      "metadata": {
        "id": "vS88cD5C9mbX"
      },
      "source": [
        "class MyDense(layers.Layer):\n",
        "  #when object created, first init is called\n",
        "  def __init__(self, units=32):\n",
        "      super(MyDense, self).__init__()\n",
        "      self.units = units\n",
        "\n",
        "  #init automatically calls build and the weights are set. init passes the input shape to build automatically. (input shape for dense 1 will be (batch_size, 784) 28*28=784, for dense 2 -> (batch_size,64))\n",
        "  def build(self, input_shape):\n",
        "      print(input_shape)\n",
        "      self.w = self.add_weight(shape=(input_shape[-1], self.units), #why do we choose this shape? ponder (make a neural net diagram and see what shape fits the matrix multiplication W*X)\n",
        "                               initializer='random_normal', #what other initialization methods exist?\n",
        "                               trainable=True)\n",
        "      self.b = self.add_weight(shape=(self.units,),\n",
        "                               initializer='zeros',\n",
        "                               trainable=True)\n",
        "\n",
        "  #build calls the call function which executes the operation\n",
        "  def call(self, inputs):\n",
        "      return tf.matmul(inputs, self.w) + self.b"
      ],
      "execution_count": 16,
      "outputs": []
    },
    {
      "cell_type": "markdown",
      "metadata": {
        "id": "MOweaJ9gFcwG"
      },
      "source": [
        "2. <b>Using custom Dense to build MyModel</b>"
      ]
    },
    {
      "cell_type": "code",
      "metadata": {
        "id": "M1VtughXFbrZ"
      },
      "source": [
        "#we will extend the class from keras.Model\n",
        "#this means that we can use the functionalities of keras.model\n",
        "#extending a class is an object oriented concept, so google that if you are confused\n",
        "class MyModel(keras.Model):\n",
        "\n",
        "  def __init__(self):\n",
        "    super(MyModel, self).__init__() #super is also an object oriented thing which allows us to call the init method of the parent class (keras.Model here)\n",
        "    self.dense1 = MyDense(64) #self links the variable to the class. You can access dense1 anywhere in this class by using self.dense1\n",
        "    self.dense2 = MyDense(10)\n",
        "\n",
        "  def call(self, input_tensor):\n",
        "    x = tf.nn.relu(self.dense1(input_tensor))\n",
        "    x = self.dense2(x)\n",
        "    return x"
      ],
      "execution_count": 17,
      "outputs": []
    },
    {
      "cell_type": "markdown",
      "metadata": {
        "id": "Y9jXYFrmFxUZ"
      },
      "source": [
        "3. <b>Training the model </b>\n"
      ]
    },
    {
      "cell_type": "code",
      "metadata": {
        "colab": {
          "base_uri": "https://localhost:8080/"
        },
        "id": "3e0orLBUFvKP",
        "outputId": "5ce1e000-8eda-42f3-f7df-3977b6880792"
      },
      "source": [
        "#train the model\n",
        "#write code here\n",
        "model = MyModel()\n",
        "\n",
        "model.compile(\n",
        "    loss = keras.losses.SparseCategoricalCrossentropy(from_logits=True),\n",
        "    optimizer = keras.optimizers.Adam(),\n",
        "    metrics = ['accuracy'],\n",
        ")\n",
        "\n",
        "model.fit(x_train, y_train, batch_size=32, epochs=2)\n"
      ],
      "execution_count": 35,
      "outputs": [
        {
          "output_type": "stream",
          "name": "stderr",
          "text": [
            "/usr/local/lib/python3.7/dist-packages/tensorflow/python/data/ops/dataset_ops.py:4527: UserWarning: Even though the `tf.config.experimental_run_functions_eagerly` option is set, this option does not apply to tf.data functions. To force eager execution of tf.data functions, please use `tf.data.experimental.enable_debug_mode()`.\n",
            "  \"Even though the `tf.config.experimental_run_functions_eagerly` \"\n"
          ]
        },
        {
          "output_type": "stream",
          "name": "stdout",
          "text": [
            "Epoch 1/2\n",
            "(32, 784)\n",
            "(32, 64)\n",
            "1875/1875 [==============================] - 38s 20ms/step - loss: 0.3518 - accuracy: 0.9053\n",
            "Epoch 2/2\n",
            "1875/1875 [==============================] - 38s 20ms/step - loss: 0.1687 - accuracy: 0.9515\n"
          ]
        },
        {
          "output_type": "execute_result",
          "data": {
            "text/plain": [
              "<keras.callbacks.History at 0x7fa8603c5dd0>"
            ]
          },
          "metadata": {},
          "execution_count": 35
        }
      ]
    },
    {
      "cell_type": "markdown",
      "metadata": {
        "id": "3j_Nuwg8KJmL"
      },
      "source": [
        "4. <b>Testing the model </b>\n"
      ]
    },
    {
      "cell_type": "code",
      "metadata": {
        "id": "fu9nFqd4F5wP",
        "colab": {
          "base_uri": "https://localhost:8080/"
        },
        "outputId": "f198a3af-16e7-4519-f851-db0fdf8ec797"
      },
      "source": [
        "#evaluate the model\n",
        "#write code here\n",
        "model.evaluate(x_test, y_test, batch_size=32)"
      ],
      "execution_count": 36,
      "outputs": [
        {
          "output_type": "stream",
          "name": "stdout",
          "text": [
            "  9/313 [..............................] - ETA: 4s - loss: 0.1090 - accuracy: 0.9792"
          ]
        },
        {
          "output_type": "stream",
          "name": "stderr",
          "text": [
            "/usr/local/lib/python3.7/dist-packages/tensorflow/python/data/ops/dataset_ops.py:4527: UserWarning: Even though the `tf.config.experimental_run_functions_eagerly` option is set, this option does not apply to tf.data functions. To force eager execution of tf.data functions, please use `tf.data.experimental.enable_debug_mode()`.\n",
            "  \"Even though the `tf.config.experimental_run_functions_eagerly` \"\n"
          ]
        },
        {
          "output_type": "stream",
          "name": "stdout",
          "text": [
            "313/313 [==============================] - 4s 13ms/step - loss: 0.1396 - accuracy: 0.9603\n"
          ]
        },
        {
          "output_type": "execute_result",
          "data": {
            "text/plain": [
              "[0.13960054516792297, 0.9603000283241272]"
            ]
          },
          "metadata": {},
          "execution_count": 36
        }
      ]
    },
    {
      "cell_type": "markdown",
      "metadata": {
        "id": "g1P0__HUKSOJ"
      },
      "source": [
        "#### We got a very similar result with our own Dense Layer"
      ]
    },
    {
      "cell_type": "markdown",
      "metadata": {
        "id": "0Saeq1rcLWNg"
      },
      "source": [
        "## Now your turn\n",
        "1. We will build a mini custom version of ResNet CNN architecture using the keras.Model\n",
        "\n",
        "2. Resnet solves the problem of vanishing gradients (https://www.youtube.com/watch?v=JIWXbzRXk1I) and allows us to build very deep neural networks.\n",
        "\n",
        "\n",
        "RESNET BLOG RESOURCE : https://towardsdatascience.com/understanding-and-visualizing-resnets-442284831be8\n",
        "\n",
        "RESNET VIDEO RESOURCE : https://www.youtube.com/watch?v=sAzL4XMke80&t=314s\n",
        "\n",
        "Read the above blog carefully and watch the video for better understanding as well."
      ]
    },
    {
      "cell_type": "markdown",
      "metadata": {
        "id": "QGrDssFOM-dm"
      },
      "source": [
        "#### <b>Our Custom Model architecture</b>\n",
        "DATASET -> MNIST\n",
        "\n",
        "1. Input -> 28,28,1 images\n",
        "2. 8 filters of 5x5, padding none => (24,24,8)\n",
        "3. Resblock 1\n",
        "  - 16 filters of 7x7, padding none => (18,18,16) <b>[im_res_1]</b>\n",
        "  - 16 filters of 8x8, padding same => (18,18,16)\n",
        "  - 16 filters of 10x10, padding same => (18,18,16) <b>[output_res_1]</b>\n",
        "  - (sum of output_res_1 and im_res_1 here) => (18,18,16)\n",
        "4. maxpooling => (9,9,16)\n",
        "5. Resblock 2\n",
        "  - 32 filters of 6x6, padding none => (4,4,32) <b>[im_res_2]</b>\n",
        "  - 32 filters of 7x7, padding same => (4,4,32)\n",
        "  - 32 filters of 8x8, padding same => (4,4,32) <b>[output_res_2]</b>\n",
        "  - (sum of output_res_2 and im_res_2 here) => (4,4,32)\n",
        "6. maxpooling => (2, 2, 32)\n",
        "7. Flatten => (128,1)\n",
        "8. Dense, 64 units => (64,1)\n",
        "9. Dense, 10 units => (10, 1)\n",
        "10. use softmax to predict\n",
        "\n"
      ]
    },
    {
      "cell_type": "markdown",
      "metadata": {
        "id": "Fb1biy3uSRDd"
      },
      "source": [
        "### <b>Instructions</b>\n",
        "1. Build the custom Resnet model based on the architecture described above\n",
        "2. Only use class based approach\n",
        "3. Create a custom model using class based approach. Name the Class CustomResNet\n",
        "4. Use RELU as activation function, Batch normalization after every layer\n",
        "5. reload the data as it was already flattened before\n",
        "6. Use custom layers only if you find the use case for it here \n",
        "\n",
        "### <b>Notes</b>\n",
        "1. all layers are supposed to be defined in the init method.If defined anyehere else, will result in errors.\n",
        "2. Repititive layers will need seperate initializations\n",
        "3. you can check if your model is correct by the following code : -\n",
        " - model = CustomResNet()\n",
        " - model.build((None,28,28,1))\n",
        " - model.summary()\n",
        "4. Summary must have all layers defined and the trainable paramaetrs should not be zero"
      ]
    },
    {
      "cell_type": "code",
      "metadata": {
        "id": "XYTxhj0pWmPO"
      },
      "source": [
        "#imports that you can use\n",
        "from tensorflow.keras.layers import Flatten, Dense, Conv2D, Dropout, BatchNormalization, Activation, Add, Input, MaxPool2D\n",
        "tf.config.run_functions_eagerly(True)"
      ],
      "execution_count": 39,
      "outputs": []
    },
    {
      "cell_type": "code",
      "metadata": {
        "id": "nY2ag3fdas_m"
      },
      "source": [
        "# load the mnist dataset here\n",
        "# make sure to resize the dataset to consider the 3rd image dimension as well\n",
        "# dataset shape must be (num_images, height, width, channel)\n",
        "# divide data into train and test\n",
        "\n",
        "# write code here\n",
        "(x_train, y_train) , (x_test, y_test) = mnist.load_data()\n",
        "x_train = np.expand_dims(x_train, axis = -1).astype(\"float32\")\n",
        "x_test = np.expand_dims(x_test, axis = -1).astype(\"float32\")"
      ],
      "execution_count": 47,
      "outputs": []
    },
    {
      "cell_type": "code",
      "metadata": {
        "colab": {
          "base_uri": "https://localhost:8080/"
        },
        "id": "tSJ18bXsgT6F",
        "outputId": "eebea303-1b39-4fef-a2f2-966a43cba6d4"
      },
      "source": [
        "x_train.shape\n"
      ],
      "execution_count": 48,
      "outputs": [
        {
          "output_type": "execute_result",
          "data": {
            "text/plain": [
              "(60000, 28, 28, 1)"
            ]
          },
          "metadata": {},
          "execution_count": 48
        }
      ]
    },
    {
      "cell_type": "code",
      "metadata": {
        "colab": {
          "base_uri": "https://localhost:8080/"
        },
        "id": "S7lkO0tsbpoO",
        "outputId": "cc3114fd-cd89-43aa-cf00-3e5f99f2015a"
      },
      "source": [
        "x_test.shape"
      ],
      "execution_count": 49,
      "outputs": [
        {
          "output_type": "execute_result",
          "data": {
            "text/plain": [
              "(10000, 28, 28, 1)"
            ]
          },
          "metadata": {},
          "execution_count": 49
        }
      ]
    },
    {
      "cell_type": "code",
      "metadata": {
        "id": "nvxmpl1OU67p"
      },
      "source": [
        "#make a class based model for Custom ResNet (refer instructions and notes above)\n",
        "# write code here\n",
        "class CustomResNet(keras.Model):\n",
        "\n",
        "  def __init__(self):\n",
        "    super(CustomResNet, self).__init__() #super is also an object oriented thing which allows us to call the init method of the parent class (keras.Model here)\n",
        "    self.filter1 = Conv2D(filters=8, kernel_size=(5,5), padding=\"valid\", activation=\"relu\")\n",
        "    self.batchnorm1 = BatchNormalization()\n",
        "    \n",
        "    #Resblock 1\n",
        "    self.filter2 = Conv2D(filters=16, kernel_size=(7,7), padding=\"valid\", activation=\"relu\")\n",
        "    self.batchnorm2 = BatchNormalization()\n",
        "    self.filter3 = Conv2D(filters=16, kernel_size=(8,8), padding=\"same\", activation=\"relu\")\n",
        "    self.batchnorm3 = BatchNormalization()\n",
        "    self.filter4 = Conv2D(filters=16, kernel_size=(10,10), padding=\"same\", activation=\"relu\")\n",
        "    self.batchnorm4 = BatchNormalization()\n",
        "\n",
        "    self.maxpool1 = MaxPool2D((2, 2))\n",
        "    self.batchnorm5 = BatchNormalization()\n",
        "\n",
        "    #Resblock 2\n",
        "    self.filter5 = Conv2D(filters=32, kernel_size=(6,6), padding=\"valid\", activation=\"relu\")\n",
        "    self.batchnorm6 = BatchNormalization()\n",
        "    self.filter6 = Conv2D(filters=32, kernel_size=(7,7), padding=\"same\", activation=\"relu\")\n",
        "    self.batchnorm7 = BatchNormalization()\n",
        "    self.filter7 = Conv2D(filters=32, kernel_size=(8,8), padding=\"same\", activation=\"relu\")\n",
        "    self.batchnorm8 = BatchNormalization()\n",
        "\n",
        "    self.maxpool2 = MaxPool2D((2, 2))\n",
        "    self.batchnorm9 = BatchNormalization()\n",
        "\n",
        "    self.flatten = Flatten()\n",
        "    self.batchnorm10 = BatchNormalization()\n",
        "\n",
        "    self.dense1 = MyDense(64)\n",
        "    self.batchnorm11 = BatchNormalization() \n",
        "    self.dense2 = MyDense(10)\n",
        "    self.batchnorm12 = BatchNormalization()\n",
        "\n",
        "    self.model_output = Dense(10,activation=\"softmax\")\n",
        "\n",
        "  def call(self, input_tensor):\n",
        "    x = tf.nn.relu(self.filter1(input_tensor))\n",
        "    x = self.batchnorm1(x)\n",
        "\n",
        "    #Resblock 1\n",
        "    x = self.filter2(x)\n",
        "    x = self.batchnorm2(x)\n",
        "    x = self.filter3(x)\n",
        "    x = self.batchnorm3(x)\n",
        "    x = self.filter4(x)\n",
        "    x = self.batchnorm4(x)\n",
        "\n",
        "    x = self.maxpool1(x)\n",
        "    x = self.batchnorm5(x)\n",
        "\n",
        "\n",
        "    #Resblock 2\n",
        "    x = self.filter5(x)\n",
        "    x = self.batchnorm6(x)\n",
        "    x = self.filter6(x)\n",
        "    x = self.batchnorm7(x)\n",
        "    x = self.filter7(x)\n",
        "    x = self.batchnorm8(x)\n",
        "    \n",
        "    x = self.maxpool2(x)\n",
        "    x = self.batchnorm9(x)\n",
        "\n",
        "    x = self.flatten(x)\n",
        "    x = self.batchnorm10(x)\n",
        "\n",
        "    x = self.dense1(x)\n",
        "    x = self.batchnorm11(x)\n",
        "    x = self.dense2(x)\n",
        "    x = self.batchnorm12(x)\n",
        "    x = self.model_output(x)\n",
        "    return x"
      ],
      "execution_count": 50,
      "outputs": []
    },
    {
      "cell_type": "code",
      "metadata": {
        "id": "WRWTnXtxaEEz",
        "colab": {
          "base_uri": "https://localhost:8080/"
        },
        "outputId": "b88328d8-04e9-46b7-f26b-474bc7531aca"
      },
      "source": [
        "#find summary of model\n",
        "# write code here\n",
        "model = CustomResNet()\n",
        "model.build((None,28,28,1))\n",
        "model.summary()"
      ],
      "execution_count": 51,
      "outputs": [
        {
          "output_type": "stream",
          "name": "stdout",
          "text": [
            "(None, 128)\n",
            "(None, 64)\n",
            "Model: \"custom_res_net_14\"\n",
            "_________________________________________________________________\n",
            " Layer (type)                Output Shape              Param #   \n",
            "=================================================================\n",
            " conv2d_89 (Conv2D)          multiple                  208       \n",
            "                                                                 \n",
            " batch_normalization_146 (Ba  multiple                 32        \n",
            " tchNormalization)                                               \n",
            "                                                                 \n",
            " conv2d_90 (Conv2D)          multiple                  6288      \n",
            "                                                                 \n",
            " batch_normalization_147 (Ba  multiple                 64        \n",
            " tchNormalization)                                               \n",
            "                                                                 \n",
            " conv2d_91 (Conv2D)          multiple                  16400     \n",
            "                                                                 \n",
            " batch_normalization_148 (Ba  multiple                 64        \n",
            " tchNormalization)                                               \n",
            "                                                                 \n",
            " conv2d_92 (Conv2D)          multiple                  25616     \n",
            "                                                                 \n",
            " batch_normalization_149 (Ba  multiple                 64        \n",
            " tchNormalization)                                               \n",
            "                                                                 \n",
            " max_pooling2d_24 (MaxPoolin  multiple                 0         \n",
            " g2D)                                                            \n",
            "                                                                 \n",
            " batch_normalization_150 (Ba  multiple                 64        \n",
            " tchNormalization)                                               \n",
            "                                                                 \n",
            " conv2d_93 (Conv2D)          multiple                  18464     \n",
            "                                                                 \n",
            " batch_normalization_151 (Ba  multiple                 128       \n",
            " tchNormalization)                                               \n",
            "                                                                 \n",
            " conv2d_94 (Conv2D)          multiple                  50208     \n",
            "                                                                 \n",
            " batch_normalization_152 (Ba  multiple                 128       \n",
            " tchNormalization)                                               \n",
            "                                                                 \n",
            " conv2d_95 (Conv2D)          multiple                  65568     \n",
            "                                                                 \n",
            " batch_normalization_153 (Ba  multiple                 128       \n",
            " tchNormalization)                                               \n",
            "                                                                 \n",
            " max_pooling2d_25 (MaxPoolin  multiple                 0         \n",
            " g2D)                                                            \n",
            "                                                                 \n",
            " batch_normalization_154 (Ba  multiple                 128       \n",
            " tchNormalization)                                               \n",
            "                                                                 \n",
            " flatten_12 (Flatten)        multiple                  0         \n",
            "                                                                 \n",
            " batch_normalization_155 (Ba  multiple                 512       \n",
            " tchNormalization)                                               \n",
            "                                                                 \n",
            " my_dense_22 (MyDense)       multiple                  8256      \n",
            "                                                                 \n",
            " batch_normalization_156 (Ba  multiple                 256       \n",
            " tchNormalization)                                               \n",
            "                                                                 \n",
            " my_dense_23 (MyDense)       multiple                  650       \n",
            "                                                                 \n",
            " batch_normalization_157 (Ba  multiple                 40        \n",
            " tchNormalization)                                               \n",
            "                                                                 \n",
            " dense_9 (Dense)             multiple                  110       \n",
            "                                                                 \n",
            "=================================================================\n",
            "Total params: 193,376\n",
            "Trainable params: 192,572\n",
            "Non-trainable params: 804\n",
            "_________________________________________________________________\n"
          ]
        }
      ]
    },
    {
      "cell_type": "code",
      "metadata": {
        "id": "DAo3M5HaaJ8D",
        "colab": {
          "base_uri": "https://localhost:8080/"
        },
        "outputId": "15ffaa13-ed25-4d36-c262-0d1771f10b09"
      },
      "source": [
        "#train model here\n",
        "model.compile(\n",
        "    loss = keras.losses.SparseCategoricalCrossentropy(from_logits=True),\n",
        "    optimizer = keras.optimizers.Adam(),\n",
        "    metrics = ['accuracy'],\n",
        ")\n",
        "\n",
        "model.fit(x_train, y_train, batch_size=32, epochs=5)"
      ],
      "execution_count": 54,
      "outputs": [
        {
          "output_type": "stream",
          "name": "stderr",
          "text": [
            "/usr/local/lib/python3.7/dist-packages/tensorflow/python/data/ops/dataset_ops.py:4527: UserWarning: Even though the `tf.config.experimental_run_functions_eagerly` option is set, this option does not apply to tf.data functions. To force eager execution of tf.data functions, please use `tf.data.experimental.enable_debug_mode()`.\n",
            "  \"Even though the `tf.config.experimental_run_functions_eagerly` \"\n"
          ]
        },
        {
          "output_type": "stream",
          "name": "stdout",
          "text": [
            "Epoch 1/5\n",
            "   2/1875 [..............................] - ETA: 2:27 - loss: 0.0162 - accuracy: 1.0000"
          ]
        },
        {
          "output_type": "stream",
          "name": "stderr",
          "text": [
            "/usr/local/lib/python3.7/dist-packages/tensorflow/python/util/dispatch.py:1096: UserWarning: \"`sparse_categorical_crossentropy` received `from_logits=True`, but the `output` argument was produced by a sigmoid or softmax activation and thus does not represent logits. Was this intended?\"\n",
            "  return dispatch_target(*args, **kwargs)\n"
          ]
        },
        {
          "output_type": "stream",
          "name": "stdout",
          "text": [
            "1875/1875 [==============================] - 145s 77ms/step - loss: 0.0516 - accuracy: 0.9857\n",
            "Epoch 2/5\n",
            "1875/1875 [==============================] - 145s 77ms/step - loss: 0.0415 - accuracy: 0.9882\n",
            "Epoch 3/5\n",
            "1875/1875 [==============================] - 145s 77ms/step - loss: 0.0332 - accuracy: 0.9906\n",
            "Epoch 4/5\n",
            "1875/1875 [==============================] - 145s 77ms/step - loss: 0.0283 - accuracy: 0.9918\n",
            "Epoch 5/5\n",
            "1875/1875 [==============================] - 146s 78ms/step - loss: 0.0252 - accuracy: 0.9929\n"
          ]
        },
        {
          "output_type": "execute_result",
          "data": {
            "text/plain": [
              "<keras.callbacks.History at 0x7fe73c3b8410>"
            ]
          },
          "metadata": {},
          "execution_count": 54
        }
      ]
    },
    {
      "cell_type": "code",
      "metadata": {
        "id": "Wvo7QLJNJLGA",
        "colab": {
          "base_uri": "https://localhost:8080/"
        },
        "outputId": "876d4937-4552-47a7-b617-c8ce07d381d6"
      },
      "source": [
        "#evaluate model here\n",
        "model.evaluate(x_test, y_test, batch_size=32)"
      ],
      "execution_count": 55,
      "outputs": [
        {
          "output_type": "stream",
          "name": "stdout",
          "text": [
            "  5/313 [..............................] - ETA: 8s - loss: 0.0232 - accuracy: 0.9875"
          ]
        },
        {
          "output_type": "stream",
          "name": "stderr",
          "text": [
            "/usr/local/lib/python3.7/dist-packages/tensorflow/python/data/ops/dataset_ops.py:4527: UserWarning: Even though the `tf.config.experimental_run_functions_eagerly` option is set, this option does not apply to tf.data functions. To force eager execution of tf.data functions, please use `tf.data.experimental.enable_debug_mode()`.\n",
            "  \"Even though the `tf.config.experimental_run_functions_eagerly` \"\n",
            "/usr/local/lib/python3.7/dist-packages/tensorflow/python/util/dispatch.py:1096: UserWarning: \"`sparse_categorical_crossentropy` received `from_logits=True`, but the `output` argument was produced by a sigmoid or softmax activation and thus does not represent logits. Was this intended?\"\n",
            "  return dispatch_target(*args, **kwargs)\n"
          ]
        },
        {
          "output_type": "stream",
          "name": "stdout",
          "text": [
            "313/313 [==============================] - 9s 28ms/step - loss: 0.0245 - accuracy: 0.9927\n"
          ]
        },
        {
          "output_type": "execute_result",
          "data": {
            "text/plain": [
              "[0.02445533499121666, 0.9926999807357788]"
            ]
          },
          "metadata": {},
          "execution_count": 55
        }
      ]
    },
    {
      "cell_type": "markdown",
      "metadata": {
        "id": "lzKdD3XAMrir"
      },
      "source": [
        "## Congratulations!\n",
        "#### Now you know how to build class based models and custom layers!"
      ]
    }
  ]
}