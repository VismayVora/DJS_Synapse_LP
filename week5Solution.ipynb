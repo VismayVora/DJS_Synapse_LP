{
 "cells": [
  {
   "cell_type": "code",
   "execution_count": null,
   "metadata": {
    "id": "4JjGrv5ysV8G"
   },
   "outputs": [],
   "source": []
  },
  {
   "cell_type": "markdown",
   "metadata": {
    "id": "jYysdyb-CaWM"
   },
   "source": [
    "# Intro to TensorFlow: Classify images of clothing"
   ]
  },
  {
   "cell_type": "code",
   "execution_count": 1,
   "metadata": {
    "colab": {
     "base_uri": "https://localhost:8080/"
    },
    "executionInfo": {
     "elapsed": 2165,
     "status": "ok",
     "timestamp": 1635847746833,
     "user": {
      "displayName": "Amay Gada",
      "photoUrl": "https://lh3.googleusercontent.com/a-/AOh14GhIegWflm0DVHy8h-sj9l7nvh_87WZPEby6oqxqjw=s64",
      "userId": "18318224108445437394"
     },
     "user_tz": -330
    },
    "id": "dzLKpmZICaWN",
    "outputId": "47ec9dca-fbfb-419e-d73b-c9d93f56788d"
   },
   "outputs": [
    {
     "name": "stdout",
     "output_type": "stream",
     "text": [
      "2.6.0\n"
     ]
    }
   ],
   "source": [
    "# import Tensorflow\n",
    "\n",
    "\n",
    "# import the other helper libraries required\n",
    "\n",
    "\n",
    "#SOLUTION:\n",
    "# TensorFlow and tf.keras\n",
    "import tensorflow as tf\n",
    "\n",
    "# Helper libraries\n",
    "import numpy as np\n",
    "import matplotlib.pyplot as plt\n",
    "\n",
    "print(tf.__version__)\n"
   ]
  },
  {
   "cell_type": "markdown",
   "metadata": {
    "id": "yR0EdgrLCaWR"
   },
   "source": [
    "## Import the Fashion MNIST dataset"
   ]
  },
  {
   "cell_type": "markdown",
   "metadata": {
    "id": "DLdCchMdCaWQ"
   },
   "source": [
    "This guide uses the [Fashion MNIST](https://github.com/zalandoresearch/fashion-mnist) dataset which contains 70,000 grayscale images in 10 categories. The images show individual articles of clothing at low resolution (28 by 28 pixels), as seen here:\n",
    "\n",
    "<table>\n",
    "  <tr><td>\n",
    "    <img src=\"https://tensorflow.org/images/fashion-mnist-sprite.png\"\n",
    "         alt=\"Fashion MNIST sprite\"  width=\"600\">\n",
    "  </td></tr>\n",
    "  <tr><td align=\"center\">\n",
    "    <b>Figure 1.</b> <a href=\"https://github.com/zalandoresearch/fashion-mnist\">Fashion-MNIST samples</a> (by Zalando, MIT License).<br/>&nbsp;\n",
    "  </td></tr>\n",
    "</table>\n",
    "\n",
    "Fashion MNIST is intended as a drop-in replacement for the classic [MNIST](http://yann.lecun.com/exdb/mnist/) dataset—often used as the \"Hello, World\" of machine learning programs for computer vision. The MNIST dataset contains images of handwritten digits (0, 1, 2, etc.) in a format identical to that of the articles of clothing you'll use here.\n",
    "\n",
    "This guide uses Fashion MNIST for variety, and because it's a slightly more challenging problem than regular MNIST. Both datasets are relatively small and are used to verify that an algorithm works as expected. They're good starting points to test and debug code.\n",
    "\n",
    "Here, 60,000 images are used to train the network and 10,000 images to evaluate how accurately the network learned to classify images. You can access the Fashion MNIST directly from TensorFlow. Import and [load the Fashion MNIST data](https://www.tensorflow.org/api_docs/python/tf/keras/datasets/fashion_mnist/load_data) directly from TensorFlow:"
   ]
  },
  {
   "cell_type": "code",
   "execution_count": 2,
   "metadata": {
    "colab": {
     "base_uri": "https://localhost:8080/"
    },
    "executionInfo": {
     "elapsed": 1260,
     "status": "ok",
     "timestamp": 1635847748091,
     "user": {
      "displayName": "Amay Gada",
      "photoUrl": "https://lh3.googleusercontent.com/a-/AOh14GhIegWflm0DVHy8h-sj9l7nvh_87WZPEby6oqxqjw=s64",
      "userId": "18318224108445437394"
     },
     "user_tz": -330
    },
    "id": "7MqDQO0KCaWS",
    "outputId": "895177a1-f66b-4645-9f40-6e8158a3e2e0"
   },
   "outputs": [
    {
     "name": "stdout",
     "output_type": "stream",
     "text": [
      "Downloading data from https://storage.googleapis.com/tensorflow/tf-keras-datasets/train-labels-idx1-ubyte.gz\n",
      "32768/29515 [=================================] - 0s 0us/step\n",
      "40960/29515 [=========================================] - 0s 0us/step\n",
      "Downloading data from https://storage.googleapis.com/tensorflow/tf-keras-datasets/train-images-idx3-ubyte.gz\n",
      "26427392/26421880 [==============================] - 0s 0us/step\n",
      "26435584/26421880 [==============================] - 0s 0us/step\n",
      "Downloading data from https://storage.googleapis.com/tensorflow/tf-keras-datasets/t10k-labels-idx1-ubyte.gz\n",
      "16384/5148 [===============================================================================================] - 0s 0us/step\n",
      "Downloading data from https://storage.googleapis.com/tensorflow/tf-keras-datasets/t10k-images-idx3-ubyte.gz\n",
      "4423680/4422102 [==============================] - 0s 0us/step\n",
      "4431872/4422102 [==============================] - 0s 0us/step\n"
     ]
    }
   ],
   "source": [
    "# #complete the code below:\n",
    "# fashion_mnist = \n",
    "\n",
    "# #load the data into train_images, train_labels, test_images, test_labels\n",
    "# (train_images, train_labels), (test_images, test_labels) = \n",
    "\n",
    "#SOLUTION:\n",
    "fashion_mnist = tf.keras.datasets.fashion_mnist\n",
    "\n",
    "(train_images, train_labels), (test_images, test_labels) = fashion_mnist.load_data()"
   ]
  },
  {
   "cell_type": "markdown",
   "metadata": {
    "id": "t9FDsUlxCaWW"
   },
   "source": [
    "Loading the dataset returns four NumPy arrays:\n",
    "\n",
    "* The `train_images` and `train_labels` arrays are the *training set*—the data the model uses to learn.\n",
    "* The model is tested against the *test set*, the `test_images`, and `test_labels` arrays.\n",
    "\n",
    "The images are 28x28 NumPy arrays, with pixel values ranging from 0 to 255. The *labels* are an array of integers, ranging from 0 to 9. These correspond to the *class* of clothing the image represents:\n",
    "\n",
    "<table>\n",
    "  <tr>\n",
    "    <th>Label</th>\n",
    "    <th>Class</th>\n",
    "  </tr>\n",
    "  <tr>\n",
    "    <td>0</td>\n",
    "    <td>T-shirt/top</td>\n",
    "  </tr>\n",
    "  <tr>\n",
    "    <td>1</td>\n",
    "    <td>Trouser</td>\n",
    "  </tr>\n",
    "    <tr>\n",
    "    <td>2</td>\n",
    "    <td>Pullover</td>\n",
    "  </tr>\n",
    "    <tr>\n",
    "    <td>3</td>\n",
    "    <td>Dress</td>\n",
    "  </tr>\n",
    "    <tr>\n",
    "    <td>4</td>\n",
    "    <td>Coat</td>\n",
    "  </tr>\n",
    "    <tr>\n",
    "    <td>5</td>\n",
    "    <td>Sandal</td>\n",
    "  </tr>\n",
    "    <tr>\n",
    "    <td>6</td>\n",
    "    <td>Shirt</td>\n",
    "  </tr>\n",
    "    <tr>\n",
    "    <td>7</td>\n",
    "    <td>Sneaker</td>\n",
    "  </tr>\n",
    "    <tr>\n",
    "    <td>8</td>\n",
    "    <td>Bag</td>\n",
    "  </tr>\n",
    "    <tr>\n",
    "    <td>9</td>\n",
    "    <td>Ankle boot</td>\n",
    "  </tr>\n",
    "</table>\n",
    "\n",
    "Each image is mapped to a single label. Since the *class names* are not included with the dataset, store them here to use later when plotting the images:"
   ]
  },
  {
   "cell_type": "code",
   "execution_count": 3,
   "metadata": {
    "executionInfo": {
     "elapsed": 19,
     "status": "ok",
     "timestamp": 1635847748092,
     "user": {
      "displayName": "Amay Gada",
      "photoUrl": "https://lh3.googleusercontent.com/a-/AOh14GhIegWflm0DVHy8h-sj9l7nvh_87WZPEby6oqxqjw=s64",
      "userId": "18318224108445437394"
     },
     "user_tz": -330
    },
    "id": "IjnLH5S2CaWx"
   },
   "outputs": [],
   "source": [
    "#store the class names in a list\n",
    "#complete the code below\n",
    "# class_names = \n",
    "\n",
    "\n",
    "#SOLUTION:\n",
    "\n",
    "class_names = ['T-shirt/top', 'Trouser', 'Pullover', 'Dress', 'Coat',\n",
    "               'Sandal', 'Shirt', 'Sneaker', 'Bag', 'Ankle boot']"
   ]
  },
  {
   "cell_type": "markdown",
   "metadata": {
    "id": "Brm0b_KACaWX"
   },
   "source": [
    "## Explore the data\n",
    "\n",
    "Let's explore the format of the dataset before training the model. The following shows there are 60,000 images in the training set, with each image represented as 28 x 28 pixels:"
   ]
  },
  {
   "cell_type": "code",
   "execution_count": 4,
   "metadata": {
    "colab": {
     "base_uri": "https://localhost:8080/"
    },
    "executionInfo": {
     "elapsed": 19,
     "status": "ok",
     "timestamp": 1635847748093,
     "user": {
      "displayName": "Amay Gada",
      "photoUrl": "https://lh3.googleusercontent.com/a-/AOh14GhIegWflm0DVHy8h-sj9l7nvh_87WZPEby6oqxqjw=s64",
      "userId": "18318224108445437394"
     },
     "user_tz": -330
    },
    "id": "zW5k_xz1CaWX",
    "outputId": "37d7d3d0-8ab2-452a-ec32-22cddfb9f209"
   },
   "outputs": [
    {
     "data": {
      "text/plain": [
       "(60000, 28, 28)"
      ]
     },
     "execution_count": 4,
     "metadata": {},
     "output_type": "execute_result"
    }
   ],
   "source": [
    "#check the dimensions of the training data\n",
    "\n",
    "\n",
    "#SOLUTION:\n",
    "train_images.shape"
   ]
  },
  {
   "cell_type": "markdown",
   "metadata": {
    "id": "cIAcvQqMCaWf"
   },
   "source": [
    "Likewise, there are 60,000 labels in the training set:"
   ]
  },
  {
   "cell_type": "code",
   "execution_count": 5,
   "metadata": {
    "colab": {
     "base_uri": "https://localhost:8080/"
    },
    "executionInfo": {
     "elapsed": 14,
     "status": "ok",
     "timestamp": 1635847748093,
     "user": {
      "displayName": "Amay Gada",
      "photoUrl": "https://lh3.googleusercontent.com/a-/AOh14GhIegWflm0DVHy8h-sj9l7nvh_87WZPEby6oqxqjw=s64",
      "userId": "18318224108445437394"
     },
     "user_tz": -330
    },
    "id": "TRFYHB2mCaWb",
    "outputId": "9def8bd4-964e-402e-bb1a-e4015378e8a5"
   },
   "outputs": [
    {
     "data": {
      "text/plain": [
       "60000"
      ]
     },
     "execution_count": 5,
     "metadata": {},
     "output_type": "execute_result"
    }
   ],
   "source": [
    "#verify the number of train_lables\n",
    "\n",
    "\n",
    "#SOLUTION:\n",
    "len(train_labels)\n"
   ]
  },
  {
   "cell_type": "markdown",
   "metadata": {
    "id": "TMPI88iZpO2T"
   },
   "source": [
    "There are 10,000 images in the test set. Again, each image is represented as 28 x 28 pixels:"
   ]
  },
  {
   "cell_type": "code",
   "execution_count": 6,
   "metadata": {
    "colab": {
     "base_uri": "https://localhost:8080/"
    },
    "executionInfo": {
     "elapsed": 12,
     "status": "ok",
     "timestamp": 1635847748094,
     "user": {
      "displayName": "Amay Gada",
      "photoUrl": "https://lh3.googleusercontent.com/a-/AOh14GhIegWflm0DVHy8h-sj9l7nvh_87WZPEby6oqxqjw=s64",
      "userId": "18318224108445437394"
     },
     "user_tz": -330
    },
    "id": "2KFnYlcwCaWl",
    "outputId": "bbc85990-faf2-4e21-a252-f1eb9b28923a"
   },
   "outputs": [
    {
     "data": {
      "text/plain": [
       "(10000, 28, 28)"
      ]
     },
     "execution_count": 6,
     "metadata": {},
     "output_type": "execute_result"
    }
   ],
   "source": [
    "#verify the number of images in test_images by checking the dimensions\n",
    "\n",
    "\n",
    "#SOLUTION:\n",
    "test_images.shape\n"
   ]
  },
  {
   "cell_type": "markdown",
   "metadata": {
    "id": "rd0A0Iu0CaWq"
   },
   "source": [
    "And the test set contains 10,000 images labels:"
   ]
  },
  {
   "cell_type": "code",
   "execution_count": 7,
   "metadata": {
    "colab": {
     "base_uri": "https://localhost:8080/"
    },
    "executionInfo": {
     "elapsed": 9,
     "status": "ok",
     "timestamp": 1635847748094,
     "user": {
      "displayName": "Amay Gada",
      "photoUrl": "https://lh3.googleusercontent.com/a-/AOh14GhIegWflm0DVHy8h-sj9l7nvh_87WZPEby6oqxqjw=s64",
      "userId": "18318224108445437394"
     },
     "user_tz": -330
    },
    "id": "iJmPr5-ACaWn",
    "outputId": "589c5418-494d-4bb9-e058-cec66d745bc1"
   },
   "outputs": [
    {
     "data": {
      "text/plain": [
       "10000"
      ]
     },
     "execution_count": 7,
     "metadata": {},
     "output_type": "execute_result"
    }
   ],
   "source": [
    "#verify the number of images in test_labels\n",
    "\n",
    "\n",
    "#SOLUTION:\n",
    "len(test_labels)"
   ]
  },
  {
   "cell_type": "markdown",
   "metadata": {
    "id": "ES6uQoLKCaWr"
   },
   "source": [
    "## Preprocess the data\n",
    "\n",
    "The data must be preprocessed before training the network. If you inspect the first image in the training set, you will see that the pixel values fall in the range of 0 to 255:"
   ]
  },
  {
   "cell_type": "code",
   "execution_count": 8,
   "metadata": {
    "colab": {
     "base_uri": "https://localhost:8080/",
     "height": 265
    },
    "executionInfo": {
     "elapsed": 2119,
     "status": "ok",
     "timestamp": 1635847750206,
     "user": {
      "displayName": "Amay Gada",
      "photoUrl": "https://lh3.googleusercontent.com/a-/AOh14GhIegWflm0DVHy8h-sj9l7nvh_87WZPEby6oqxqjw=s64",
      "userId": "18318224108445437394"
     },
     "user_tz": -330
    },
    "id": "m4VEw8Ud9Quh",
    "outputId": "2e57e299-a7ab-4f30-e2fb-a3a76a4ae47e"
   },
   "outputs": [
    {
     "data": {
      "image/png": "[encoded data removed]",
      "text/plain": [
       "<Figure size 432x288 with 2 Axes>"
      ]
     },
     "metadata": {
      "needs_background": "light"
     },
     "output_type": "display_data"
    }
   ],
   "source": [
    "#plot a figure using the imshow() function to view the first image in train_images (train_images[0])\n",
    "\n",
    "\n",
    "#SOLUTION:\n",
    "plt.figure()\n",
    "plt.imshow(train_images[0])\n",
    "plt.colorbar()\n",
    "plt.grid(False)\n",
    "plt.show()"
   ]
  },
  {
   "cell_type": "markdown",
   "metadata": {
    "id": "Wz7l27Lz9S1P"
   },
   "source": [
    "Scale these values to a range of 0 to 1 before feeding them to the neural network model. To do so, divide the values by 255. It's important that the *training set* and the *testing set* be preprocessed in the same way:"
   ]
  },
  {
   "cell_type": "code",
   "execution_count": 9,
   "metadata": {
    "executionInfo": {
     "elapsed": 27,
     "status": "ok",
     "timestamp": 1635847750208,
     "user": {
      "displayName": "Amay Gada",
      "photoUrl": "https://lh3.googleusercontent.com/a-/AOh14GhIegWflm0DVHy8h-sj9l7nvh_87WZPEby6oqxqjw=s64",
      "userId": "18318224108445437394"
     },
     "user_tz": -330
    },
    "id": "bW5WzIPlCaWv"
   },
   "outputs": [],
   "source": [
    "#complete the code below\n",
    "# train_images = \n",
    "\n",
    "# test_images = \n",
    "\n",
    "\n",
    "#SOLUTION:\n",
    "train_images = train_images / 255.0\n",
    "\n",
    "test_images = test_images / 255.0"
   ]
  },
  {
   "cell_type": "markdown",
   "metadata": {
    "id": "Ee638AlnCaWz"
   },
   "source": [
    "To verify that the data is in the correct format and that you're ready to build and train the network, display the first 25 images from the *training set* and display the class name below each image."
   ]
  },
  {
   "cell_type": "code",
   "execution_count": 10,
   "metadata": {
    "colab": {
     "base_uri": "https://localhost:8080/",
     "height": 589
    },
    "executionInfo": {
     "elapsed": 25,
     "status": "ok",
     "timestamp": 1635847750209,
     "user": {
      "displayName": "Amay Gada",
      "photoUrl": "https://lh3.googleusercontent.com/a-/AOh14GhIegWflm0DVHy8h-sj9l7nvh_87WZPEby6oqxqjw=s64",
      "userId": "18318224108445437394"
     },
     "user_tz": -330
    },
    "id": "oZTImqg_CaW1",
    "outputId": "724a31d1-d427-48bc-a81c-7a5b5e68a072"
   },
   "outputs": [
    {
     "data": {
      "image/png": "[encoded data removed]",
      "text/plain": [
       "<Figure size 720x720 with 25 Axes>"
      ]
     },
     "metadata": {},
     "output_type": "display_data"
    }
   ],
   "source": [
    "#write code below\n",
    "\n",
    "\n",
    "#SOLUTION:\n",
    "plt.figure(figsize=(10,10))\n",
    "for i in range(25):\n",
    "    plt.subplot(5,5,i+1)\n",
    "    plt.xticks([])\n",
    "    plt.yticks([])\n",
    "    plt.grid(False)\n",
    "    plt.imshow(train_images[i], cmap=plt.cm.binary)\n",
    "    plt.xlabel(class_names[train_labels[i]])\n",
    "plt.show()"
   ]
  },
  {
   "cell_type": "markdown",
   "metadata": {
    "id": "59veuiEZCaW4"
   },
   "source": [
    "## Build the model\n",
    "\n",
    "Building the neural network requires configuring the layers of the model, then compiling the model."
   ]
  },
  {
   "cell_type": "markdown",
   "metadata": {
    "id": "Gxg1XGm0eOBy"
   },
   "source": [
    "### Set up the layers\n",
    "\n",
    "The basic building block of a neural network is the [*layer*](https://www.tensorflow.org/api_docs/python/tf/keras/layers). Layers extract representations from the data fed into them. Hopefully, these representations are meaningful for the problem at hand.\n",
    "\n",
    "Most of deep learning consists of chaining together simple layers. Most layers, such as `tf.keras.layers.Dense`, have parameters that are learned during training."
   ]
  },
  {
   "cell_type": "code",
   "execution_count": 11,
   "metadata": {
    "executionInfo": {
     "elapsed": 18,
     "status": "ok",
     "timestamp": 1635847750209,
     "user": {
      "displayName": "Amay Gada",
      "photoUrl": "https://lh3.googleusercontent.com/a-/AOh14GhIegWflm0DVHy8h-sj9l7nvh_87WZPEby6oqxqjw=s64",
      "userId": "18318224108445437394"
     },
     "user_tz": -330
    },
    "id": "9ODch-OFCaW4"
   },
   "outputs": [],
   "source": [
    "#create a model having the layers defined below this cell\n",
    "\n",
    "# model = \n",
    "\n",
    "\n",
    "#SOLUTION:\n",
    "model = tf.keras.Sequential([\n",
    "    tf.keras.layers.Flatten(input_shape=(28, 28)),\n",
    "    tf.keras.layers.Dense(128, activation='relu'),\n",
    "    tf.keras.layers.Dense(10)\n",
    "])"
   ]
  },
  {
   "cell_type": "markdown",
   "metadata": {
    "id": "gut8A_7rCaW6"
   },
   "source": [
    "The first layer in this network, `tf.keras.layers.Flatten`, transforms the format of the images from a two-dimensional array (of 28 by 28 pixels) to a one-dimensional array (of 28 * 28 = 784 pixels). Think of this layer as unstacking rows of pixels in the image and lining them up. This layer has no parameters to learn; it only reformats the data.\n",
    "\n",
    "After the pixels are flattened, the network consists of a sequence of two `tf.keras.layers.Dense` layers with a 'BatchNormalization()' layer in between the 2 dense layers. These are densely connected, or fully connected, neural layers. The first `Dense` layer has 128 nodes (or neurons). The second (and last) layer returns a logits array with length of 10. Each node contains a score that indicates the current image belongs to one of the 10 classes. \n",
    "The Batch Normalization layer works by performing a series of operations on the incoming input data. The set of operations involves standardization, normalization, rescaling and shifting of offset of input values coming into the BN layer.\n",
    "\n",
    "### Compile the model\n",
    "\n",
    "Before the model is ready for training, it needs a few more settings. These are added during the model's [*compile*](https://www.tensorflow.org/api_docs/python/tf/keras/Model#compile) step:\n",
    "\n",
    "* [*Loss function*](https://www.tensorflow.org/api_docs/python/tf/keras/losses) —This measures how accurate the model is during training. You want to minimize this function to \"steer\" the model in the right direction.\n",
    "* [*Optimizer*](https://www.tensorflow.org/api_docs/python/tf/keras/optimizers) —This is how the model is updated based on the data it sees and its loss function.\n",
    "* [*Metrics*](https://www.tensorflow.org/api_docs/python/tf/keras/metrics) —Used to monitor the training and testing steps. The following example uses *accuracy*, the fraction of the images that are correctly classified."
   ]
  },
  {
   "cell_type": "code",
   "execution_count": 12,
   "metadata": {
    "executionInfo": {
     "elapsed": 17,
     "status": "ok",
     "timestamp": 1635847750210,
     "user": {
      "displayName": "Amay Gada",
      "photoUrl": "https://lh3.googleusercontent.com/a-/AOh14GhIegWflm0DVHy8h-sj9l7nvh_87WZPEby6oqxqjw=s64",
      "userId": "18318224108445437394"
     },
     "user_tz": -330
    },
    "id": "Lhan11blCaW7"
   },
   "outputs": [],
   "source": [
    "#compile the model using model.compile using the adam optimizer, SparseCategoricalCrossentropy loss and accuracy as metrics\n",
    "\n",
    "#SOLUTION:\n",
    "model.compile(optimizer='adam',\n",
    "              loss=tf.keras.losses.SparseCategoricalCrossentropy(from_logits=True),\n",
    "              metrics=['accuracy'])"
   ]
  },
  {
   "cell_type": "markdown",
   "metadata": {
    "id": "qKF6uW-BCaW-"
   },
   "source": [
    "## Train the model\n",
    "\n",
    "Training the neural network model requires the following steps:\n",
    "\n",
    "1. Feed the training data to the model. In this example, the training data is in the `train_images` and `train_labels` arrays.\n",
    "2. The model learns to associate images and labels.\n",
    "3. You ask the model to make predictions about a test set—in this example, the `test_images` array.\n",
    "4. Verify that the predictions match the labels from the `test_labels` array.\n"
   ]
  },
  {
   "cell_type": "markdown",
   "metadata": {
    "id": "Z4P4zIV7E28Z"
   },
   "source": [
    "### Feed the model\n",
    "\n",
    "To start training,  call the [`model.fit`](https://www.tensorflow.org/api_docs/python/tf/keras/Model#fit) method—so called because it \"fits\" the model to the training data:"
   ]
  },
  {
   "cell_type": "code",
   "execution_count": null,
   "metadata": {
    "colab": {
     "base_uri": "https://localhost:8080/"
    },
    "executionInfo": {
     "elapsed": 42392,
     "status": "ok",
     "timestamp": 1635756751292,
     "user": {
      "displayName": "Amay Gada",
      "photoUrl": "https://lh3.googleusercontent.com/a-/AOh14GhIegWflm0DVHy8h-sj9l7nvh_87WZPEby6oqxqjw=s64",
      "userId": "18318224108445437394"
     },
     "user_tz": -330
    },
    "id": "xvwvpA64CaW_",
    "outputId": "7c04252f-a98d-49d5-ca29-6564cf4c412b"
   },
   "outputs": [
    {
     "name": "stdout",
     "output_type": "stream",
     "text": [
      "Epoch 1/10\n",
      "1875/1875 [==============================] - 4s 2ms/step - loss: 0.4959 - accuracy: 0.8261\n",
      "Epoch 2/10\n",
      "1875/1875 [==============================] - 4s 2ms/step - loss: 0.3770 - accuracy: 0.8652\n",
      "Epoch 3/10\n",
      "1875/1875 [==============================] - 4s 2ms/step - loss: 0.3374 - accuracy: 0.8778\n",
      "Epoch 4/10\n",
      "1875/1875 [==============================] - 4s 2ms/step - loss: 0.3146 - accuracy: 0.8842\n",
      "Epoch 5/10\n",
      "1875/1875 [==============================] - 4s 2ms/step - loss: 0.2948 - accuracy: 0.8915\n",
      "Epoch 6/10\n",
      "1875/1875 [==============================] - 4s 2ms/step - loss: 0.2812 - accuracy: 0.8961\n",
      "Epoch 7/10\n",
      "1875/1875 [==============================] - 4s 2ms/step - loss: 0.2688 - accuracy: 0.9002\n",
      "Epoch 8/10\n",
      "1875/1875 [==============================] - 4s 2ms/step - loss: 0.2576 - accuracy: 0.9052\n",
      "Epoch 9/10\n",
      "1875/1875 [==============================] - 4s 2ms/step - loss: 0.2499 - accuracy: 0.9075\n",
      "Epoch 10/10\n",
      "1875/1875 [==============================] - 4s 2ms/step - loss: 0.2398 - accuracy: 0.9100\n"
     ]
    },
    {
     "data": {
      "text/plain": [
       "<keras.callbacks.History at 0x7f67f7b1f850>"
      ]
     },
     "execution_count": 16,
     "metadata": {},
     "output_type": "execute_result"
    }
   ],
   "source": [
    "#write code below setting epochs=10:\n",
    "\n",
    "#SOLUTION:\n",
    "model.fit(train_images, train_labels, epochs=10)"
   ]
  },
  {
   "cell_type": "markdown",
   "metadata": {
    "id": "W3ZVOhugCaXA"
   },
   "source": [
    "As the model trains, the loss and accuracy metrics are displayed. This model reaches an accuracy of about 0.91 (or 91%) on the training data."
   ]
  },
  {
   "cell_type": "markdown",
   "metadata": {
    "id": "wCpr6DGyE28h"
   },
   "source": [
    "### Evaluate accuracy\n",
    "\n",
    "Next, compare how the model performs on the test dataset using model.evaluate():"
   ]
  },
  {
   "cell_type": "code",
   "execution_count": null,
   "metadata": {
    "colab": {
     "base_uri": "https://localhost:8080/"
    },
    "executionInfo": {
     "elapsed": 1090,
     "status": "ok",
     "timestamp": 1635756801518,
     "user": {
      "displayName": "Amay Gada",
      "photoUrl": "https://lh3.googleusercontent.com/a-/AOh14GhIegWflm0DVHy8h-sj9l7nvh_87WZPEby6oqxqjw=s64",
      "userId": "18318224108445437394"
     },
     "user_tz": -330
    },
    "id": "VflXLEeECaXC",
    "outputId": "0053fb52-f018-49f8-aae2-3df579777745"
   },
   "outputs": [
    {
     "name": "stdout",
     "output_type": "stream",
     "text": [
      "313/313 - 0s - loss: 0.3426 - accuracy: 0.8788\n",
      "\n",
      "Test accuracy: 0.8787999749183655\n"
     ]
    }
   ],
   "source": [
    "#complete code below\n",
    "\n",
    "# test_loss, test_acc = \n",
    "\n",
    "# print('\\nTest accuracy:', test_acc)\n",
    "\n",
    "#SOLUTION:\n",
    "test_loss, test_acc = model.evaluate(test_images,  test_labels, verbose=2)\n",
    "\n",
    "print('\\nTest accuracy:', test_acc)"
   ]
  },
  {
   "cell_type": "markdown",
   "metadata": {
    "id": "yWfgsmVXCaXG"
   },
   "source": [
    "It turns out that the accuracy on the test dataset is a little less than the accuracy on the training dataset. This gap between training accuracy and test accuracy represents *overfitting*. Overfitting happens when a machine learning model performs worse on new, previously unseen inputs than it does on the training data. An overfitted model \"memorizes\" the noise and details in the training dataset to a point where it negatively impacts the performance of the model on the new data. For more information, see the following:\n",
    "*   [Demonstrate overfitting](https://www.tensorflow.org/tutorials/keras/overfit_and_underfit#demonstrate_overfitting)\n",
    "*   [Strategies to prevent overfitting](https://www.tensorflow.org/tutorials/keras/overfit_and_underfit#strategies_to_prevent_overfitting)"
   ]
  },
  {
   "cell_type": "markdown",
   "metadata": {
    "id": "v-PyD1SYE28q"
   },
   "source": [
    "### Make predictions\n",
    "\n",
    "With the model trained, you can use it to make predictions about some images.\n",
    "The model's linear outputs, [logits](https://developers.google.com/machine-learning/glossary#logits). Attach a softmax layer to convert the logits to probabilities, which are easier to interpret. "
   ]
  },
  {
   "cell_type": "code",
   "execution_count": null,
   "metadata": {
    "id": "DnfNA0CrQLSD"
   },
   "outputs": [],
   "source": [
    "# #complete code below\n",
    "# probability_model = \n",
    "\n",
    "#SOLUTION:\n",
    "probability_model = tf.keras.Sequential([model, \n",
    "                                         tf.keras.layers.Softmax()])"
   ]
  },
  {
   "cell_type": "code",
   "execution_count": null,
   "metadata": {
    "id": "Gl91RPhdCaXI"
   },
   "outputs": [],
   "source": [
    "#predict on the test_images using the probability_model\n",
    "# predictions = \n",
    "\n",
    "#SOLUTION:\n",
    "predictions = probability_model.predict(test_images)"
   ]
  },
  {
   "cell_type": "markdown",
   "metadata": {
    "id": "x9Kk1voUCaXJ"
   },
   "source": [
    "Here, the model has predicted the label for each image in the testing set. Let's take a look at the first prediction:"
   ]
  },
  {
   "cell_type": "code",
   "execution_count": null,
   "metadata": {
    "colab": {
     "base_uri": "https://localhost:8080/"
    },
    "executionInfo": {
     "elapsed": 391,
     "status": "ok",
     "timestamp": 1635756818751,
     "user": {
      "displayName": "Amay Gada",
      "photoUrl": "https://lh3.googleusercontent.com/a-/AOh14GhIegWflm0DVHy8h-sj9l7nvh_87WZPEby6oqxqjw=s64",
      "userId": "18318224108445437394"
     },
     "user_tz": -330
    },
    "id": "3DmJEUinCaXK",
    "outputId": "b444d4da-98b8-41ab-d229-48f790d9f2a2"
   },
   "outputs": [
    {
     "data": {
      "text/plain": [
       "array([3.7647580e-05, 2.1221340e-09, 7.1034981e-07, 4.7096154e-09,\n",
       "       6.6285554e-07, 3.2953043e-02, 1.1712600e-05, 1.3269046e-02,\n",
       "       1.8139357e-07, 9.5372689e-01], dtype=float32)"
      ]
     },
     "execution_count": 20,
     "metadata": {},
     "output_type": "execute_result"
    }
   ],
   "source": [
    "predictions[0]\n"
   ]
  },
  {
   "cell_type": "markdown",
   "metadata": {
    "id": "-hw1hgeSCaXN"
   },
   "source": [
    "A prediction is an array of 10 numbers. They represent the model's \"confidence\" that the image corresponds to each of the 10 different articles of clothing. You can see which label has the highest confidence value:"
   ]
  },
  {
   "cell_type": "code",
   "execution_count": null,
   "metadata": {
    "colab": {
     "base_uri": "https://localhost:8080/"
    },
    "executionInfo": {
     "elapsed": 528,
     "status": "ok",
     "timestamp": 1635756821787,
     "user": {
      "displayName": "Amay Gada",
      "photoUrl": "https://lh3.googleusercontent.com/a-/AOh14GhIegWflm0DVHy8h-sj9l7nvh_87WZPEby6oqxqjw=s64",
      "userId": "18318224108445437394"
     },
     "user_tz": -330
    },
    "id": "qsqenuPnCaXO",
    "outputId": "fb0ba587-2784-4c83-e44b-4aacf83ef6d5"
   },
   "outputs": [
    {
     "data": {
      "text/plain": [
       "9"
      ]
     },
     "execution_count": 21,
     "metadata": {},
     "output_type": "execute_result"
    }
   ],
   "source": [
    "#use np.argmax to find the highest confidence value\n",
    "\n",
    "\n",
    "#SOLUTION:\n",
    "np.argmax(predictions[0])"
   ]
  },
  {
   "cell_type": "markdown",
   "metadata": {
    "id": "E51yS7iCCaXO"
   },
   "source": [
    "So, the model is most confident that this image is an ankle boot, or `class_names[9]`. Examining the test label shows that this classification is correct:"
   ]
  },
  {
   "cell_type": "code",
   "execution_count": null,
   "metadata": {
    "colab": {
     "base_uri": "https://localhost:8080/"
    },
    "executionInfo": {
     "elapsed": 8,
     "status": "ok",
     "timestamp": 1635756823368,
     "user": {
      "displayName": "Amay Gada",
      "photoUrl": "https://lh3.googleusercontent.com/a-/AOh14GhIegWflm0DVHy8h-sj9l7nvh_87WZPEby6oqxqjw=s64",
      "userId": "18318224108445437394"
     },
     "user_tz": -330
    },
    "id": "Sd7Pgsu6CaXP",
    "outputId": "5496bdd2-c70f-452c-e4ec-956f58d2a4a0"
   },
   "outputs": [
    {
     "data": {
      "text/plain": [
       "9"
      ]
     },
     "execution_count": 22,
     "metadata": {},
     "output_type": "execute_result"
    }
   ],
   "source": [
    "test_labels[0]\n"
   ]
  },
  {
   "cell_type": "markdown",
   "metadata": {
    "id": "Zh9yABaME29S"
   },
   "source": [
    "### Verify predictions\n",
    "\n",
    "With the model trained, you can use it to make predictions about some images."
   ]
  },
  {
   "cell_type": "markdown",
   "metadata": {
    "id": "d4Ov9OFDMmOD"
   },
   "source": [
    "Let's look at the 0th image, predictions, and prediction array. Correct prediction labels are blue and incorrect prediction labels are red. The number gives the percentage (out of 100) for the predicted label.\n",
    "Plot should look like this:\n",
    "![image.png](data:image/png;base64,iVBORw0KGgoAAAANSUhEUgAAAakAAADjCAYAAAA/mOvlAAAgAElEQVR4Ae2dB9QcxZW2We/u77DJu2d3fbzedGDPrg0YG2OSYUFgwCQBAkQ2YHLOOSeJZDIYBBIgEQQIES0yskEmyWuyQASDRQ5CgEAGWcD9z9OtO6qp7vlqZvj6Y+abt8+5Z3q6uqur3+qpp2/VneqFTIsUkAJSQApIgQ5VYKEOLZeKJQWkgBSQAlLABCndBFJACkgBKdCxCghSHVs1KpgUkAJSQAoIUroHpIAUkAJSoGMVEKQ6tmpUMCkgBaSAFBCkdA9IASkgBaRAxyogSHVs1ahgUkAKSAEpIEjpHpACUkAKSIGOVUCQ6tiqUcGkgBSQAlJAkNI9IAWkgBSQAh2rgCDVsVWjgkkBKSAFpIAgpXtACkgBKSAFOlYBQapjq0YFkwJSQApIAUFK94AUkAJSQAp0rAKCVMdWjQomBaSAFJACgpTuASkgBaSAFOhYBQSpjq0aFUwKfD4FZs6cadOnT7fnn3/efv/738ukQeX3APca99zbb7/9+W7e4GhBKhBDq1JgMCkwZswYW3nllW3YsGE2fPhwmTSo/B7gXhsyZIhx7/XXIkj1l5LKRwp0mAJnnnmmLbvssjZixAgbNWqUTBqU3gPbbDPKFllklH3rW6Psm99M23/8xyhbbrlRNnJk8Z7iXltuueXsrLPO6rdfgyDVb1IqIynQWQpccMEF2ZMzXX1apEAjBU4+2ezrXzf78z83W2ihtH3ta2YrrGD29NPFHLnX8Np5KOqvRZDqLyWVjxToMAUEqQ6rkA4tzrHH5oD6sz9LAwqIfelLZkssYTZtWvGCBKmiJtoiBaRAAwUEqQbCaHOdAscc0xycQi9rscXMnnyyLpvsiyBV1ERbpIAUaKCAINVAGG2uU0CQqpNDX6SAFBgoBQSpgVK6u88jSCXqj/9yEK5IJBI/Kpk0GIh74Oyzz87uu/78P0fiVh/wZEFqwCXvyhMKUolq449f/JeDUFn9l0P/ZRmoe4AwWf7Pwf03WBdBarDWbP9elyCV0JN/KPMHMOLrGXSTSYOBuAe437jvuP8G6yJIDdaa7d/rEqQSelYRDZI4pZKlgF144YWD/j9EgpRu9GYUEKQSKglSCYGUXIkCglQlsirTLlRAkEpUmiCVEEjJlSggSFUiqzLtQgUEqUSlCVIJgZRciQKCVCWyKtMuVECQSlSaIJUQSMmVKCBIVSKrMu1CBQSpRKUJUgmBlFyJAoJUJbIq0y5UQJBKVJoglRBIyZUoIEhVIqsy7UIFBKlEpQlSCYGUXIkCglQlsirTLlRAkEpUmiCVEEjJlSggSFUiqzLtQgUEqUSlCVIJgZRciQKCVCWyKtMuVECQSlSaIJUQSMmVKCBIVSKrMu1CBQSpRKUJUgmBlFyJAoJUJbIq0y5UQJBKVJoglRBIyZUoIEhVIqsy7UIFBKlEpQlSCYGUXIkCglQlsirTLlRAkEpUmiCVEEjJlSggSFUiqzLtQgUEqUSlCVIJgZRciQKCVCWyKtMuVECQSlSaIJUQSMmVKCBIVSKrMu1CBQSpRKUJUgmBlFyJAoJUJbIq0y5UQJBKVJoglRBIyZUoIEhVIqsy7UIFBKlEpQlSCYGUXIkCglQlsirTLlRAkEpUmiCVEEjJlSggSFUiqzLtQgUEqUSlCVIJgZRciQKCVCWyKtMuVECQSlSaIJUQSMmVKCBIVSKrMu1CBQSpRKUJUgmBlFyJAoJUJbIq0y5UQJBKVJoglRBIyZUoIEhVIqsy7UIFBKlEpQlSCYGUXIkCglQlsirTLlRAkEpUmiCVEEjJlSggSFUiqzLtQgUEqUSlCVIJgZRciQKCVCWyKtMuVECQSlSaIJUQSMmVKCBIVSKrMu1CBQSpRKUJUgmBlFyJAoJUJbIq0y5UQJBKVJoglRBIyZUoIEhVIqsy7UIFBKlEpQlSCYGUXIkCglQlsirTLlRAkEpUmiCVEEjJlSggSFUiqzLtQgUEqUSlCVIJgZRciQKCVCWyKtMuVECQSlSaIJUQSMmVKCBIVSKrMu1CBQSpRKUJUgmBlFyJAoJUJbIq0y5UQJBKVJoglRCog5I/++wz+/TTTwvG9jJrtugc+8knn9i8efPqjG2kxQvb33vvPZs5c2bN/vjHP8a79fldkOpTHiX2kAKCVKKyBamEQB2UDKAARGxsL4NUGWDKLof95s6dax9//HGdsa0sD7b/4Q9/sGeffbZmAKuVRZBqRS3tO5gVEKQStStIJQTqoGRBqoMqo4miXHDBBTZ8+HDjN6ZFCjRSQJBqpMz87YJUQqAOShakOqgymiiKINWESNrFBKnETSBIJQTqoGRBqoMqo4miCFJNiKRdBKnUPSBIpRTqnHRBqnPqopmSCFLNqKR95Ekl7gFBKiFQkNwoOCHeHhxSWwUwH374ob3//vt19s4772TBB9OmTTO3119/PQtkIEAhNKLvyCe2+Pz+vXbyxAr7E4zRbHTf7NmzbfLkyXbjjTfWbPr06Ymz1CcrcKJeD33rXQUEqUTdC1IJgeYne8Mffsaw8O9lOf7pT3+yN99801555ZU6I0Ju0qRJNmHChJo98sgjGdCAWmgAqxOWt99+20aPHm0nnXRSzaZMmdJS0QSpluTSzoNYAUEqUbmCVEKg+ckhnHzdoRR/luUoSNWrIkjV66FvvauAIJWoe0EqIdD8ZAdT+BnDyb+X5ShI1asiSNXroW+9q4Aglah7QSoh0PzkEE6+7lCKP8tyFKTqVRGk6vXQt95VQJBK1L0glRBofrKDKfyM4eTfy3IUpOpVEaTq9dC33lVAkErUvSCVEGh+cgin1HpZjnPmzDECIu677746u+uuu+z888+30047rWZXXXWV3XvvvQWbMWNGWdafextwZe69MEiD9VmzZtlTTz1ljz76aJ1xDUDm9NNPr9kDDzzQUjkEqZbk0s6DWAFBKlG5glRCoPnJZWBq7sh8LyZkveWWW2z8+PF1dvHFF9uhhx5q++yzT82OOeYYO+usswr24IMPtnLKpvcl9JxQeKIPQ+PeuO6662zcuHF1dumll2ZgPe+888xt6tSpTZ+PHQWpluTSzoNYAUEqUbmCVEKg+cmC1AJQCVLN3TP6M29zOvX6XoJU4g4QpBICzU8WpASp5u6UBXsJUgu00FpjBQSpxtpkKYJUQqD5yUDKAyP45HvZQhqvvGCMJ7Q33njDrr/+esMLCW3UqFF2+OGH2wEHHFCzo48+2k499dSC0V340ksvFezll1+u+4Nw+Idh0tzYzmwWlCW0V199NRt7euKJJyy0hx56KCurd+n557nnnmtnnnmmnXHGGTXTmFTxbhCkippoS1EBQaqoSd0WQapOjoZfgE84bRDTCJWBCkAxi0TY2LN+//3329lnn20jRowo2PHHH2+hAa399tuvYIxb7bnnngUDcEcccUTBDjnkEDvwwANrxtjXKaecUgOLQwYgHnXUURksObfbwQcfbLvssovtsMMOdbbzzjtnQCV/tzvvvLOhdmUJGpMqU0XbelEBQSpR64JUQqD5yc1CCu8JKBFIENrdd9+deUbAIDSCJADXiSeeWDNgssceexRs6623tg022KBgm222mf3sZz8r2E9/+lPbfPPNa8bx+++/fw0sDhhABox23HHHOtt+++2zYzfddFMLbauttspAGYL0tttua07I+XsJUi3JpZ0HsQKCVKJyBamEQPOTBakFoBKkmrtn1N3XnE69vpcglbgDBKmEQPOTBSlBqrk7ZcFegtQCLbTWWAFBqrE2WYoglRBofrIgJUg1d6cs2EuQWqCF1horIEg11iZLEaQSAs1PBlIES4TGtth41xKRbswkERrvXuLVFuF4FOtE8p1wwgk2cuTImjFWtNtuuxWMMabPMybF8QRe7LvvvnW29957Z2NSO+20k4VGwARde1tssUWdMba111571eWhManifSRIFTXRlqICglRRk7otglSdHFnEXgwevsf/k2LbRx99VBdmTtAE4d5McwR4QiN6DygdeeSRdcY2gidCAyJlgRAESKy//voFY/u2225bMABDWmjDhw+3jTfeuM5IJ2iC4InYgFYcUEF0H5AKZ8m49dZb64VMfFPgREIgJfeMAoJUoqoFqXqB4v9DObDicHO2A6V4vrsXX3wxi+I76KCDLDTCuQkTjyHFd7yp0PBsttlmm4IRYVcGKbY3A6lNNtkkO37o0KEW2oYbbpiFmO+6664WWwwtvrMPkKKcboJU/X3EN3lSRU20paiAIFXUpG6LIFUnR5+eVLinICVIhfdD2bogVaaKtsUKCFKxItF3QapeEHlS9d6UPKn6+6OVb4JUK2r17r6CVKLuBal6gQQpQar+jmj/myDVvna9dKQglajtXoYUQCozH4cKP9kvXHiJIfPg+bx4/vnYY49lY1KHHXaYhcZUQwRHHHvssXXGtjiggvEeIuhiI8Bho402KhjRd82MSTF2RXRgPK5FngRIlEUUEiQRG94VM2KEUzRNmjSpEOmIfrFurqECJ1wJffa6AoJU4g7oFEiVwaJRA8clkRZCxNfjfBpdfl/HNzom3P7uu+9m71oaM2aMhUbjywsMTz755DpjzjwmZY3fE8W+BFT4FEV8AoEwIs/XCSHfbrvtmrZ4WiTyAVQEUIQG5HbfffdaEIQHQwAhwtDLzsmUSaFNnDixEOlIYAkwL1sEqTJVtK0XFRCkErXerZByKMWfMaT4XrZwXPifJ19nezPLzJkz7ZJLLrGf//znBQvfsuvrvMWW2cN9JnH/BFx4WWEkIF4NMIkNzyr8H5OvNwJJDCnm8XPghZ+EquMZhSHlPpkteZeFw8fbrrnmmkKkI5GPc+fOLZVTkCqVRRt7UAFBKlHpglTxD7oJybJkQap+QltBqnjXaEyqqIm2FBUQpIqa1G0RpAQpeVJ1P4l++yJI9ZuUgzojQSpRvYKUICVIJX4kbSYLUm0K12OHCVKJCu9WSPUV+FA2LhVvi8ey/HujMSxeZvjee+/VjJkleKsu8/GFRsBEWYAELzz8xS9+kU2ZxLRJbgRS8P4o3vPkRjRdPF8e3wlgKIvAY2wqDGLwdcawwrEnD5yIx7q23HLLhmNS5BWPP/E9nhHjyiuvtFmzZhWM4ImyRWNSZapoWy8qIEglar1qSMVwaASBRDHbTuZ8DqD4s5Wy8bZdwqzdJkyYYMcdd1xdVB6ReUxvRAM8duzYghFoERvg4uWB4XREQMqDIsJPou7CKEBfJ8ghDhPnOyAJgUREH/P2xWHswIvovrLACSAVh7eTbxyEAXSnTZtWsLfeequ07gSpUlm0sQcVEKQSlV4lpMog4NsSxeq3ZMDkkXvhJ9tbWR5//HHDW3C7+OKLs9BxXt0eGuHkhKRfccUVdXb55ZfbuHHjCuCicQcOIYwATAgtXwdmZa+JZ3vZzBDAJAw1Z3JZAMVcfaEBslYg5R5amDee4iOPPFIw/ktWtghSZapoWy8qIEglal2QSgg0P1mQWjDLuiDV3D2jManmdOr1vQSpxB0gSCUEmp8sSAlSzd0pC/YSpBZoobXGCghSjbXJUqqEFCfw7r3ws6xIYXq4Ho8j+fdwH19vlK8fE35yTNny2muv2cMPP1yw6667zvhDrht/4h0xYkQ2LsXYlNuJJ56YBUVcdNFFFhuBFrERZEFXWxicQPdePD7EdwIrDjzwwIIxVlXW3UegBUERbgRf0EVHt19ojC81mnGi0ZgU41hhdx/TPTFOFxvjVGWLuvvKVNG2XlRAkErUetWQSpy+lhwCJFyfN2+elRn7OJzCz1qGba4AqHCaI19nWiPeCeXGLBHMJhFPc8R3xmfKrGxfIgMZj2J2CDci+DwoIvwEUj5lUfjJbBE+bhV+MltEGPRQFvAAbAhB7wtSIUA9si+GFOUJoxx9fcqUKaU1IUiVyqKNPaiAIJWodEGqXiBBasGLDJm7rywEHdgJUvX3Tdk3dfeVqaJtsQKCVKxI9F2QqhdEkBKk6u+I9r8JUu1r10tHClKJ2hak6gUSpASp+jui/W+CVPva9dKRglSitgWpeoEEKUGq/o5o/5sg1b52vXSkIJWo7VYgFQYoDNR6GEQRrpedv+xSmc5o9uzZBeO6H3rooYIRxXfOOecUjKi+8B1Rp556qp1xxhnZFEhE6IXmEYDhJ9GAI0eOtBNOOKHOeOEhgROM87gRCBEGTPj6vvvuWzotEpF9ZTNOxK/ZIIiCIAmP9vNPzsv4UxxRyMsXyTv8ozHrO+64Y/ZCRvJyY+yqbMomZugoWxQ4UaaKtvWiAoJUotZbhVQIimbWy2BSdlyimG0nA6hXX321YHfddVcBRMAJsBDJFxtpo0ePrhmNLBF8IZxYB1wALD6e0HTe1OvRgf5JxB4Nf/hiQYDBfH6xEUEHIJo1wBHmS2QeoHIY+if7ACQgGBrQoixAMzRgFL/Dilkrhg4dWjBm6ChbBKkyVbStFxUQpBK1LkjVe02C1AJQCVKJH08iWd19CYGUnCkgSCVuBEFKkJInlfiRtJksSLUpXI8dJkglKlyQEqQEqcSPpM1kQapN4XrsMEEqUeGClCAlSCV+JG0mC1JtCtdjhwlSiQp3SPGDCgMaCHiIl7IgiP7aFp+L75SHl+Z9+OGHdUYwBK+AeOWVV+psxowZ9uSTT9pjjz1Ws9/85jd26623FoxXZ5RNU9RoG0ES5557bs34TrQfARGhEcHHPH7MZRca75k66KCDai829BccEqhA4ARBDm58D6c38nXSfeqk8JOAiGaCKQh2iIMpABTbCZyIo/safSeAg2jC8JxE+cXvqeI7rzR58803C8bYH/MHcv8N1kWQGqw127/XJUgl9HRI8V6j+H1LZaBKZNevyczZx9teeXFeaETr8e6iqVOn1hnzxF1zzTV22WWX1YyXCsaRdnxn3r04Mo/vgIjGJTagRBi5G3kcc8wxRgh5aEceeWQWxRdH5hHNx3uf4oYfOMQNPlF3TPoaGxF04cSwvg6wQmD4OrALJ57lPGzzdP9kexmkACjvyoontQWwzPXn8OQTUMbl5Tv6P/HEEwU7/vjjBal+/bUos25VQJBK1JwgVf8fJ0FqnxpIBanEjyeRLE8qIZCSMwUEqcSNIEgJUvKkEj+SNpMFqTaF67HDBKlEhQtSgpQglfiRtJksSLUpXI8dJkglKlyQEqQEqcSPpM1kQapN4XrsMEEqUeEOKX5Qqei+uXPn2gcffFCwmTNn1kXZedQd0XYvvPBCwZ5//nl75plnajZ9+nTjDa5E5oX26KOP2uTJk+3222+vs1tuucWuuuoqI0IvtHHjxmUD9eHcewRDECQRG9FlTGEUW1kwBduY6ojIPTfeykv0HsEToRFEwVx7RPLFRgACgQih+YsMCVxwI6DB58QLP5nSyCMAw0+i8xpZvB9BDmVz7JVtY1/KEubRaJ33S5VNi4RucYAL34l2VHRf4sep5J5QQJBKVLNDiteapxYA9cYbbxQMyJRN1kq0HZCJ7bbbbrObb765ZjfeeKNde+21WWQe0XluAAiIhBO7etg3gKChCw1YEP5N5Jgb+5eBh3wBVWw0qvH5+M7EsCGM/Fz+2nj/ZDtwCkHkEXLAK47647vP4+efRM75vHrhJ5F6RAjGxv5lkCLibuutt64Z35mDL3yrL+vMz0fUX5wH+wOSDTfcsM423njjDKJh3uuvv76tssoqBaOe7rnnnoIxj6EglfrFKb0XFBCkErUsSNWDSpBa4JUJUokfTyJZ3X0JgZScKSBIJW4EQUqQkieV+JG0mSxItSlcjx0mSCUqvBGkGJ+aM2dO3UwPdPUxnhQbY0d07cV29913G+NHsdG9N3HixJpNmDDBxo8fb7zWIbSxY8eWvjrjpJNOyrrzwhkdfN273fyT2SD8D7jhJx5T2Z982Z/xptjIL+7u45x+Hv+k+5Gxp7hLjrEntsfjVGXf6b7Di4mN7fEfa/lOF17ZWBFjWGGXHPmVdfcxFlb2Tiq6/xhr8j8N+yd/KmasLMyb7r4hQ4YUDI3uvffegh1++OHq7kv8NpXcGwoIUol6bgQpAAV87r///prdcccdNbCEkGE8CdDEBmR4moyNWQjC4IZwuqFw3d/vFMLF18sAA7yAhQOLTwIZjjjiiILRSJYZ40bxeBLf2TfMl/UYWnxnxgka/UaBCOEMEKyzH7NQhO9xwrMJZ3PwdcoRjsH5OuNKITDC9XD6JKBVBinOH0OV72wvC5xgKiXOEeZN0MSKK65YMDRhaqrYqBONSSV+nEruCQUEqUQ1N4IU8+UBqDvvvLNmvLUW8MTGNERXXHFFwXixXVnQAsEKcbQdgQzxvmyL9/PvDqvwE3DFHg+Nob/ZNvz0IIX4E48nnrqI7xzbDKQ4HyCIYUSYd7NTEgEpvKbY8LrcYws/gVQIjEbrfUHKgztCTw1QAUjKHRoeFgEd4XnWXXddW2GFFQoGpO67776CCVKJH6aSe0YBQSpR1YLUwXXRdYLUgbUuRUEq8eNJJGtMKiGQkjMFBKnEjSBICVJ4ivKkEj+UNpIFqTZE68FDBKlEpQtSgpQglfiRtJksSLUpXI8dJkglKpxIPd77w6sowtkkeF8TUXn+x1p/BcZFF11ksV1yySW1V2OEr8lgTIp8Y+OdTYw3uTEWxT5hMAXrbIvHqfy7Hxt+Ml7FjBD88dbNgxkIaAiNMZEy6ytwIhwHise+OA/WaEyKMSqCEOI/zDLWw9gT41hu7Bvvx3cCMuIxNL4z3kXEXcp4dQZRgOH4Euscz7kZCwuNoA4iAsNADA+YIC8i/9zWWWcd+9///d+C8afqsj96E9CiwInEj1PJPaGAIJWo5ueee84Y9GZQPhzgnjRpUtYg0oC5MajujX/4CSiYsSI2IBUDje9sD/fl+5gxY7IX5PGSvNBGjx7dMA+OC408iRw877zzagbo4lkl+E6ZHXjhJ8EX4bX5OiHpPiUSn3wHSuG7pFgnCpAG3yPy/NPBE4eKAwECEMLpj5jhYc011yzY2muvndUV9RXaGmusUZjpgdkfVl55ZVtppZVqxveyWSF+/OMfW1nebCOt7JjVV1/dOK8b38sMrZ9++umCoaEglfhxKrknFBCkEtX87LPPZg0UEWLhHHnMjQecNtlkk5rxZB03ynynYeelibE5fABQaDF4+H7ppZcWogbZhpcWQsvXw/x8nXw4ZwjAONzdvTVC3UOY+TqNKqHssYVv3/X/UpVBiul+ykLIgRSAInw7NCLutthii5pHgmcCgMrA0GgbICqLrFt++eVtueWWS9qPfvQjW3XVVW211VarM7aRL/mExv78JyosD8f+5Cc/KRheMw9CsaGhIJX4cSq5JxQQpBLVLEgt8LoAlSC1AFSCVOLHk0jWmFRCICVnCghSiRtBkBKk5EklfiRtJgtSbQrXY4cJUokKF6QEKUEq8SNpM1mQalO4HjtMkEpUOGMFRGbxP5lwjjXm1yOaLJxVgDGpsugyxmbKXm/B/Hh0n8Xms0b4J+mMFYVTIvm6jxXFn4w1xWNgfGd7aOQbBkb4OmMlZcb4mr/mI/z0yD2PCCRAAs34829ohHMz5hS+YoN1ouIYeyIqLjQi8hiDWmuttWrG+E4Y8ODrjAMRyBAb40ZLLbVUwZZcckn73ve+lzT2Y+wqHHfy8awf/OAHRnponAuwhdMgEZQRl4vv1G347jBfV+BE4oep5J5RQJBKVDUh6MOGDcuCH1577TVz4+WDTDlEIIAbkNpyyy0LRnDFBhtsUDDyLTNC3hk0d6OhpiGPJ1Ql0IAgBII6QmMmBGARB3EAEgIeAI0bA/QeodfMJ/Ah/9goW3gtTKgKWOJgASLcaMCbCVhgHxr/f/7nf7a/+7u/q9l//ud/1kHBAQEIwqg+XwdEf//3f1+wv/3bv7W/+qu/qrO//uu/tr/5m78pGPuGZfD1r3/96xbbP/7jP9oiiyxi//M//1OzJZZYwn74wx8WjFB95oCMje0KnEj8OJXcEwoIUolq9v9JEZL97rvv1ow/+eKFhPPVASleeBcbnhiD7M1aHAlGY0/YdZwv8Cr7Xw9h3YTDh3PxsQ5gAFEYicf38Bp8HaCVGaH44X+FfB3vx8Ot+XRvJ/QmWAdQ3//+941GO7Yyr4aG/itf+YottNBCNfvGN75ROJa88KjWW2+9gi222GL21a9+tWB/+Zd/aV/60pfq7C/+4i+sWeP4L3/5y1n5KKMboPv3f/93W3jhhWv2ne98J7turj00JsF9+OGHC0Y9CFKJH6eSe0IBQSpRzYJUPawEqQUQE6QSP55EssakEgIpOVNAkErcCIKUINXIsxKkEj+eRLIglRBIyZkCglTiRhCkBClBKvEjaTNZkGpTuB47TJBKVLhDiki32bNn1+yll17K3pIbRsoR7Ra+nM/XmU2BmRNiI8ginLHC1xmLiMefPIgi/OwroIL57ny8yD8JrqC7LhyrYuwqjL7z9Tgwwr8z7hZPXcR3yhtP+8O4VJmVRbkxjsV4Uhh8wTpTDxEYwbiSG2NP8X58J0LQ5/cLP4n6I5ghNoIfvva1r9UZARKxsR/BEXHwxT/8wz/YP/3TP2WBHQR3uP3Lv/yLMQb13e9+t2ZE/MXRgXxnfJAgnNgYK9SYVOLHqeSeUECQSlQzkKKxIHz7k08+qdncuXPtnXfesbfeeqtmRP4Br9jIY9q0aQWbPHmyMb1SbDxhhtMOEcBA2DYh2qEBKRp2AjNCo2EHDjEMCNxgktMwmIHwbIIZYiubRsj3LWtsAUcYGEJUH/PtxRGJwJMgFK4xtHHjxtlvf/vbgkboFjfg06dPNzSN7cUXX7QZM2YUjAeMsGy+vvTSS9ei7wjQWHTRRY1tceQh2jDFUawnUOaNu0QyhkYkJ/eMP3TwyQNJHHbP9yuvvNJmzZpVMMosSCV+nEruCQUEqUQ1N3pVR+KwumSAFs6g7utMLHrXXXcVDGiF/3vi/1TMEB6HtwMpgBRG1a+NEWEAACAASURBVHlkHQ1r3Ngus8wy2X+Cwif8xRdf3BpZuJ+vE0VXFoXHucK56pgAFrD6BLL+yX+nANLEiRPrjHkR3377bfvoo4/q7OOPP7bPPvusTs9WvwACYBIbYA2vhf88EcbuEPNPgM/DQPw3AiIuqZPwv3Ks49HhNYeAZpZ2POrYeJszb3mOjf/BCVKt1rT2H4wKCFKJWhWkFnRZASpBasH/3QSpxI8nkawxqYRASs4UEKQSN4IgJUjJk0r8SNpMFqTaFK7HDhOkEhXeH5BiLIsuv9jo3iL/2BiDmTp1as14j9VNN91U1z1Gd9mECRPs8ssvz7rP6EJzGzt2bPbqj7J3VZVNjRR2Lfp6GBASr5dNt8S5eHWIGy93ZOqoX/7yl3V2xx13ZLMrPPXUUxYa40tz5syxefPm1Rnafd7uvscffzwb+6HbLzReaxJeC68w4dUnfg3+ia4cN378+Dq7+uqrszqhyy62G264wUKj/m6++eaCoUF8X/Cdcqm7L/HjVHJPKCBIJaq5PyCVOIWSpUBBAd77JUgVZNGGHlRAkEpUuiCVEEjJlSggSFUiqzLtQgUEqUSlCVIJgZRciQKCVCWyKtMuVECQSlSaIJUQSMmVKCBIVSKrMu1CBQSpRKUJUgmBlFyJAoJUJbIq0y5UQJBKVJoglRBIyZUoIEhVIqsy7UIFBKlEpQlSCYGUXIkCglQlsirTLlRAkEpUmiCVEEjJlSggSFUiqzLtQgUEqUSlCVIJgZRciQKCVCWyKtMuVECQSlSaIJUQSMmVKCBIVSKrMu1CBQSpRKUJUgmBlFyJAoJUJbIq0y5UQJBKVJoglRBIyZUoIEhVIqsy7UIFBKlEpQlSCYGUXIkCglQlsirTLlRAkEpUmiCVEEjJlSggSFUiqzLtQgUEqUSlCVIJgZRciQKCVCWyKtMuVECQSlSaIJUQSMmVKCBIVSKrMu1CBQSpRKUJUgmBlFyJAoJUJbIq0y5UQJBKVJoglRBIyZUoIEhVIqsy7UIFBKlEpQlSCYGUXIkCglQlsirTLlRAkEpUmiCVEEjJlSggSFUiqzLtQgUEqUSlCVIJgZRciQKCVCWyKtMuVECQSlSaIJUQSMmVKCBIVSKrMu1CBQSpRKUJUgmBlFyJAoJUJbIq0y5UQJBKVJoglRBIyZUoIEhVIqsy7UIFBKlEpQlSCYGUXIkCglQlsirTLlRAkEpUmiCVEEjJlSggSFUiqzLtQgUEqUSlCVIJgZRciQKCVCWyKtMuVECQSlSaIJUQSMmVKCBIVSKrMu1CBQSpRKUJUgmBlFyJAoJUJbIq0y5UQJBKVJoglRBIyZUoIEhVIqsy7UIFBKlEpQlSCYGUXIkCglQlsirTLlRAkEpUmiCVEEjJlSggSFUiqzLtQgUEqUSlCVIJgZRciQKCVCWyKtMuVECQSlTa888/b8OGDbMRI0YYwJJJg4G4B7jfuO+4/wbrcsEFF9jw4cOz39RgvUZd1+dXQJBKaDh9+nQbMmSILbfcctkPih+VTBpUfQ8su+yy2X3H/TdYF0FqsNZs/16XIJXQ8+2337YxY8bYWWedZaNGjZJJgwG5B7jfuO+4/wbrIkgN1prt3+sSpPpXT+UmBaRAkwoIUk0K1eO7CVI9fgPo8qXAF6WAIPVFKd9d5xWkuqu+VFopMGgUEKQGTVVWeiGCVKXyKnMpIAUaKfCLX/zC1llnHfv1r3/dVNTsc889Z88++2wW8dhqhGU3HUtEJ9dJmVu9zm47tpl62X//39tXv1q0L3/5Oft//+9Z+8pXni+kf/e7v7c77ihGInOvrbvuusa911/LQv2VkfKRAlKgsxT4+c9/bossskgGqmaiJYcOHWprrrmmbbTRRi1H2HbTsVwf10mZm9El3Kfbjm2mXlZeebgtumjRFl54qP3bv61p3/72RoX0JZccbuutV4xCBlDcc9x7/bX0CSkCnx580Oz0080mTTKbNcvsk09aP/UDD5hdeqnZK6+Y/elP5cffe6/ZqFFmnzfYqr/yKS9l/dbXXzebNs1s5kyzuXPr08Jv8+bl10XZLrzQ7PzzzS6+2Ozmm83eeivX9LPPzD791Oypp8wmTMj342HkssvMnnjC7N13zdgH/R95xGzs2DyfG27I0//4x/yMs2eb/epXZv/3f3nenLuv5eOPzV54Id//t781+/DD+r3ZRpmvuiq/1vrU9LePPjJ7+mkzrv2ee8w++KB4DOecOjXfh2ubM6e4TzNb+iufZs5FPaD1jBlmzz5rxnWyoDf3A/rfdVe+TzP5VbHPb37zm6yx4Km2mcjZn/3sZ7biiivayJEjm9o/zLObjuX6uE7KHF5DM+vdduxA1wv3GoDi3uuvpU9IPfqo2Yknmi2yiNmuu5o99piZN4atFOCMM8xWWcXsoYcaN0AjRpj98Id5I91K3vG+/ZVPnG/Zd+A7ZkwOiffeK9sj30bDTCN93HFm66+f2/DhZvvsY0YewN8bt8svN/vpT8023NBsvfXy9QsuyM9BwwisLrnEbNiwPJ/ddsshAtzJA+AceWReLv6nCoT6Wjj3tdfmwLviCrN33sn3BoiA95xz8npZc00z0gFpKwvlvf56M+rlhBPMXnuteDSgPu+8fB/gTSPfztJf+TRzbrT5wx/MbrstB7jr5tsB+4EHmr34YnsPds2Uob/3oZHGa6ALrNWlm47l+rhOytzq0m3HflH10qqufe3fJ6Ruuslsq63MfvQjs222yb2hdhqQwQqp8ePNdtzR7I47zPCqGi08be+xh9kRR5ihKZ4Rnim6nHlmDiog98tf5iCjcQNe7Mc2tAdewA7P9qKLzE4+OYf+WWeZ7bRT3mACKh5gDjrIbOLEHFDApq+Fsu2+ew4jGl33CPl8+eUcHIstZvbf/2122mm5x9AKqAYrpPD2Hn44r0P0RisWhzs9B9ttZ4YnWuY99lUnX1TaF9WgDfR5uw003A/tlnmgta3i3i2FFD80uuV40FhjjfzJfK+9zPbe2+yll/JikE73HV1LdD3RYPMUTFcWXUN0W/kSQoofLKCjseYplO4yukpiD8gbAZ7CKQf5XnNN3jDHXVJ+Hj7J59vfzhvyK6/Mj6NcNBZ4gTSwlIEuGspJ3hheAl1NeB5cf1/7vP++2XPP5bostZQZ3sxJJ+X58TQfN+KcCx2JovEuT56wAQmQu/rqvGsOb4J96OYjHzRGn803zxtDznnnnXl58XDwSig76Tz8Arazz84fJvB6Uwt6cM1bbJHnQz142blG6gfvb5NNzFZdNdfW64u8HUBcB9DFw6PsfAJYwOv7hJ4U9c95qR+gCyi5HvZxT4qysZ3uTLZxnXitQLhRt7N7UoceanbYYbl3xn0D1KdMqffi8DLpbiUN3YEKnv6bby5Qra992I8HhI03Nltppbzs3Kv0PlB2Hi6AF/cY9d8NyxfVoA30edtt8KnDbjt2oLWt4j4vhRTdRvzgR440W311s1//Ou+qWXddsyefzLuVvP//8MPNhgzJnxq33NJs6FCzjTbKn/wdCg4pGlGe1un62nNPs2OPNbv9djMaxBBSPMXTQNHAsB9dY3Rvbb+92amn5l0ojca26FL613/NvQv2p8uMMtGgePfXM8/kYz14KHS/0bVGQ0y3GvDg/H3tQwM8eXJ+jm99K/c0117bDJBzDvQLF2beWXFFs+OPz+EHCGjkbrklb/wBC57YKafk+wB8uo/o3qMcQOToo/MGGu1oWLnO++/PPTE8KR4K8LYoA4DqC+ReNs4JiNxT8+18kkZXL2VGOxpc1ml0vWsLrTiW8tF1ideNDhtskHdBUqYQUgAP0AKDc8/N63PcuFwzNAghRf3zIEO+5A8MMPcgy67PIcVDA/fMppvm9Ut5gBb3MXXLWNJ115ntvHN+r3J/sC/nR9Nm9qFbFQ+Uh5SFFzajOxQ43nhjfs2MSXGNaMaDXDcs48aNsx122MH+wI+0xaWbjuX6uE7K3OrSbcd+UfXSqq597V8KKX7ENMI0hPvumz+lAwx+7HRt0Rg4pPihLr10Pq7x+OP5D3KzzfIfvD91AylARiOB18X4Fg0y3wEUjXEIKbw1GnAaFhpeGn6eRinDLruY3Xqr2auvll8WngiQAoB4HQzI09gCU/dQyJMy8nROo4+XxT6M5bCN6+trH8pBA00jtM46OTRo3Ci3e2Jh6fByaGAPPjj3dtDud7/L9cXrwwuj4eecNHSUlbzwRAg2oLt1hx3y6+G6gRhAIM/99suBgCaMg9Alh7fmHlFYjngd2OKdHHBA/uQfplNmGm4aWfSh8WWda/CuLYcUnhz1x353351DjfIy1hVCimsDDjz8AFbuJbxBgIiWIaTwznhAwZPC6+JeAqjsE3avhWV2SAE1Hmqofzwb8qCe0Ab4UedcC2VEX6DOPsCKexXtU/tw7XhiaMfDGfujO9fL/Yx+eP6AkECYblimTJlio0ePbmuqqG46lqmwuE7K3OrSbcd+UfXSqq597V8KqTfeyCP6+CEDFe+eo7uPhp5GwyHFj5QGgG000DQCNC48NQMhgMcP//vfzweSAQH5ksZ5fAkhRWNHww0UGcvhnBg/eM5FY0zEWNkCpP7rv/KuNBo/zk+U1VFH5d1yPMkTrbjaankZaFQAJQ0m+3C+1D5cHw0Z3Vo05DRWjaBJGRkrGj06ByceEV1bjEUBGIJSACReJ9DgOgE/EZys86BAdxLnpNEFXDTYdBHiUdGtREOLXgCWhhwDKhiNdKNxRI/cRDMeSnxBM7xevFDKyfF4DpQTMHJ+vEWHFGUDSHTDoTllosGnPA4pxtkAB/pS14AWQLnX7oETQJM8uGd4+OH+or7wtCgnDxdoDgTixSGFJ8XDFeXjnsSjAyR+3+ExUw9oRhnwnLgm9kFv9EztgzfIflwLD13c9+HCNfDgQFm5T7phee2112zatGn2R27GFpduOpbr4zopc6tLtx37RdVLq7r2tX8BUjyB47lsu23e1UJjSEPH0yBPwvwg6YZxSAEjnki9h4B6Zxs/XvajkaLBoTEmeg9PiDxp0MIlhBRdgOxH4/zjH+fdcXTJ0fDx1E6DH455hfngQS2+eP50zLXQAPHkz9M70ONaaGzJl640FvYBOmynIU3tQ0ONRs1CyssA8BlMp+ECUHhMlJUuTMbBeALniZwGlAaTrjTGrLhuAEpaPAhPPfCAQMNMA09jy3XQSOP1ADoG+MsWHiTRBSNvXwASY3R03ZGGTjwUHHJI7tUBNOrVIUV9UwbGESkPgOMhgG5ChxQPGDyocA8AvnBcyeHCPUDd0uCjwTe+kY/lUfdudM9yrTEUKLvng1Y8CPj4Eh4OZedauC50RyO8NcrHwj7oxXbGylL78GCC19gIUoCddMoLrLVIASnQngIFSPHkiSez/PJ5RBddTTTofH7ve3mjylOvQ4onT4DijQaQ4omVHy9dKA6pRRfNn8IBGiCJPY8YUjx5sx95AAQMD4cnaDwT/19KfNmdCCmP+KLhomHnGvCauLa11sq7MbkOD9hAG0DBvvfdl3sP6AMo4usGqMASTwP440UxbsMgPp4SDxWMI5UtdFHS7eper++Dl4vXTJ1R54xLAh2+f+c7uWdD+R1S3AN85wEcUHFeAi14OHFI7b9/vm3JJXMAAT6/FocL1wikeODhHlp22dx79Pr3e4B7DfDHi+cDpOg+/CIhxbnxzhmf5Zq0SAEp0J4CBUjRANB1wxMggQc0NBhdLnTV4d3wtMkYEZFWNCxhdweQotFiOw2lQ2qZZfKnW47Fi+Bp1T0Zis7+/j8pxpE4Hw0lDTlBEjTgAJSuKADZKHDCu/sY+6A7kf15ouXJnCdwQMf10PDSXUP3Gd19dKWxD11XqX0ITsDzYtwVj4fr5HujBY+OBtzLzLUwJsXTPh4P3WNso+uLffx68TYoI0Ed7Mt3D8pwPdCHp36uEW+IugM8DNbTqDM+06iRZCyGrlPGeBgDZCFf/kCM1wlYqBe/BxgjxCOiy479HVLsQ0CNQ4quMP4Xx3EOKe4dvEjyYJ3xIaBLXTpcyAdvkHsIb4s6Arqk+4In6f8J823+6fnQXco9Rvm4ZzgPY3jclwAYz4b7BJhzLoCHZ84+lAEdU/vwIIfHyP5hT4KXhXPjqfEbavSQ4PvqUwpIgcYKFCDFkzvdInR90O0WLgCMhp7GnIa1rLujEaT8z7w0OjQQwIAfL94FDS8/docUDT4NPwCgK4yndKBIo0rUFOWIu728nORN4AQNEuWjMaExomGk64uGjAAFug1poOny8jEwnsDZRiPYzD6AEC+S8QsaP8pNo0hDHy40gngHXAMGnGmMgR1dgDSQgIwGm2vjetnHG1S6/IBPuJAnDSGNKeM2nBsPDWjhheBVAbitt85hGh7r65QJnT0MnjLgCQE5PCE8IsrkC11i5E/XGzoBc7okqbsUpNgHfXkAoRuQsSU0JvIRzzEOnCDogC5nHlZ4gHAviq5LAE8548UhxX1DGRmL5J5hbI7IVPJCJyDE/cF1s+77+Bgc3cPcF33tw5gTZefe4l5C6zBwAg+XuuEBIv4dxeX+or9/+umnNmfOHHv99dezOe2Y1+6ll16yWbNm2Sf0QTdYZs+ene3H/tiMGTNsbpmLW3I852R85+WXX87CupljDnvllVfs3XffbXjezz77zN55553sGObRw1544YWs7B+GN2vJOeNNng8Re+/xtJpYZs6cWZvzz89NSDo69bVwrVwT+nAc1/niiy/a+++/b3/yJ9coA3TnevwYP98zzzyTleHNN9/sc+yQ4zknerq2nJM6po7QsdFSdmyqXhrl1R/bC5BiQJuGjUaIhidcaARokGnwaQjpl6fxacaTckjh3TB+wRgBIKSrClCFkPJGnYaLJ3caDw8V5ymeJ1ie0MsWGhYgxXE84XoIOk/mNHRABADgLdDAki/jUKkQ9LJ9aCwJcCAPuu0ahaC7NwFMGOdhXzTGq6Qs7mXR8AFS0mlUaWh9DJDGNVwAKXVEfXgYPw03DS7HcN1cE+OINKBlC/sDfa6NfPgOIIEJ426UDXD5gnZAAoChM9fv3kczkOKeAcKMm/G/JEBFHVNm6od7wP8nxX4AkYciyoJnxzU52Lln4sUhxTFcO/lTNxzb3yHotC20iYCI7nDKhtYAkfr2QBweRoh67eQFQP3ud7+zE0880dZee+1sXrv99tvPrr322j4b4Lvvvtv23Xdf+8lPfmKrr7667bHHHlmj2sy1fvDBB/boo4/awQcfbJtuumk2j956661nhxxyiN10001ZAxvnQ8NKA3vVVVfZJptsYhtuuKGtv/76tsUWW9hJJ51kD+HCN7kADvLh3DvuuKP9kqfuxEI49xprrGGUc9iwYdn5mbniGp6oGiycB9jceOONtttuu2XHMb/ddtttZ7fffnsGjbJDAcwDDzyQHcN1uq222mpZ/Zx55pmZfmXHso3jOSf6Ul6MKZJOOeWU7MGir4cPjqUODj300Nqx1Av5kTbQSwFSAISncBoO/z+MF4rGlO0MnPN0y5MkT6LUrz+I4OHQKLLdx1CASjh3H91reDn8AZRxEY5hf37wNL4sfi6e9Gm4MdIpGx4A6WUL+fDEzHEAl3BxGj6e4DmGRpfz4dHgyZEnxlM91+6eUDP70CiSL/kzTkd+bAsb9vBa6P5h7AijbH7t7MMDK12TaEfXHgaE8NYAlI/f+DVTPrpb8QJ5gqfR5Lw03jSURP7RQOKNkV62sD/eF1ADFqzjnVE3Hq0XHsfDF9fH9dKdSL5cE5ozBuPdlWynvql3ys19wD5cG+XGACDdpWzD+2Zf9vEADI7jugEV10H9U0baA6657KGZbdQHUXUE+vAARP2jBZ4R5/GFBxYeskhr58+85IN+QBs9gDz3HOXn+ujO5kEJ/f2e9nN30icN/6uvvmojRozIGrQTTjghm3vtgAMOsP33398ef/zxzMsqK/ODDz6Y7XvQQQdljRnA4Km9mQUv7Mknn8xmyz7ttNPsnHPOsTPOOMP6Oi9lnTdvXtZ4n3vuudmxfJ588sm2/fbb2yWXXGJvvPFGQ+/EywWUH3744eyagQ5gvoKImsRC+ZZccsms8ebNzueff342tdL/8aTXYMFDmzRpUnZtRxxxhJ1++ul29tlnZ2+Fpgx4c2ULZcRLo1ycB2NevI033tiWWGKJLIS+kdYff/yxTZ8+PXuAQE/Kik7UE6C89dZbszovOy9Apc4PPPDA7H4AhpT3qKOOsqOPPtqefvrpPj24sjw/77YCpD5vhjq+uxQAOg5yunppYLW0rwDgwiMF0oyNEQDDtk5d8Ewee+yxrKEGVHQH0Q130UUXZQ3iDTfckHXJlZUfuNFAP/LII1kj1gqkvHuR7qu33nrLvPuPRpEZymnYAU68ACq6yD766KPsGDwCGmQ8KxpSroXyN1o4D2HZ5513XtYQ40VtsMEGTUNqlVVWyTw2yp9aKCtdifvss48dc8wxdscdd2RdfJQB3fEmAUozC8ewP97uyiuvnE3gCujLFrZPmTLFhgwZknlO6MHxV199deZNATt0KlvQ5uabb84eOtCI8vFgACx5ELjtttvaCt0vO1ez2wSpZpUapPvxG+HhF0+Dp/4G9/0gvfr+vyw8WjxJvFw8Ou9h6P8z9U+OQIkn68022yx7ugcANGh33nmn8eSP99CoG4198RRoiI8//vis663R031cWs7hsKERZGEbXWpbbrll1oXGGErZQuPPvizkwX+eeIXGkUcemYQUDT0ezC677JLtz596OV+znlQrkPIHALr3mBkcrYAq5fdr4LOZxb0/6oQuRuDeqMvOIbXSSitlM9oz9kVZLr/8ctt6663tsssuy8a1ys4L8KkD9JkwYUKmM2XkfkBfvKrf0pUxgIsgNYBid+Kp/MmfrjDahCYf7DrxUjqiTHTbAib0BFYNxsU7oqwUggF5xmbwKMKxlalTp2aAomG6iwiUBguQYFAdL6wVTyrOjgaXxpVGEM+GRhEPq2yh0SSIgXLT+DN2AmgATqq7j7E33ljM2AyNNQ0xDXezkPrBD35ghx9+eNY9OXbs2MxjafSnYMZv7rnnHltrrbVszz33zM6FhwosGM+jq68RaOLr5novvfRSO+ywwzKvDC+20YL3Q7ccHtyuu+6aeZi8YoQy0N133333NRxr5IEDTfyhBS8MwDE+yTgaXYaUfSAXQWog1da5pECHKYAXwljO3nvvnQ2Me/HoDmJyUsY06HprtPQHpIAOHg5dh+4pPPHEE1njWHZe9qcxpcyrrrqqrbDCCllXFIP9NKikxwueF+MtAIIAj1/96lcGiGl8m4UUkCBwAYgSyEDABl2MkydPzroY3bvzc+Ol0nVG9yUA57w0/ltttVUGGzySZgIRuB6i/IAOgEwFMLA/sGYcizIC1uWXXz6DJQExTz31VNZd6uUMP4lUBKx4a3jHeJ3cI6eeemp2HTzM3OL/VwkPrHBdkKpQXGUtBTpdgU6AFKCj+2r33Xc3GtErr7wymz+wDDauJzAiTJ5BfkCwzTbbZF5YozB4AAWUCNAALISt0zXZCqTIm4g7usSAKOclOhAvhSCQeCwMbwevZPHFF8/GgvBAAASg5Drx5gg+SS3Aj3oighLPFkBz/Y0WPCnOg9dEUAll5qEDL5UIP7rz0LtswbOj3Hh8eF50owI6QI4nBWjpHh7IRZAaSLV1LinQYQp80d19NMB0wdGA0qjSOBLV1mxAAeNZAIduMMLQ6ZosCyiga238+PFZI4tXc9xxx2UN/rbbbmtLL710tp0uRsZvGi2UCdhRZsDKf8MIwQd6eJvxf63ooqNBX2qppbLyeVckHiNjfTT4eEWphW5PAhbwyAgsYXwq9trCPOh+5Lw77bRT1qUJPNGJwA10IoKTwIpGC0EpQA4I402PGTMmC9gg2pMIPzytgVwEqYFUW+eSAh2mQCpwgpDpRoETXMrn6e7jWJ7aiTZjTAlQ8d+pRgueFU/6mDfSbOMaGJui8cVLKQvrBhgeEEAXId12vEKecO5vfvObmZdCKHxZRCHl4XxufOe8wABviG4xxrTi8wITvDc8IHTkejkODw5vEc+EcbXUgiaEkOMFEaGXWhiPYrxs5513zjw5zsni44yMK/XlDbG/a8w6gANYhKXzEIH3OpCLIDWQautcUqDDFKDbiEaQwf1WQ9C5lM8DKYBA481YC94IT+99hXbTcOKtYO7R0IDi0TBWgpfgYd6xzOwHqOiyo6sLYywJMPLHXD7d04mPBU54F5TNw7m5brr9CMvmvHTlxR4cx1E2xqEY0yHAhOMIXEBruvyaGd9hrI2uNzxFuu5SC9dINyNRhR5GTln4wzLjeJybMjRaXGf3wPDkADjjcHhgzYyjNcq7ne2CVDuq6RgpMEgU4EmZxhMvhCdsPmlQ6dqhK4uxDIBQtjBOQoQcx/CH2MUWWyyLtJs4cWIGHBr2RgugocGjISVUmnEPzstgPx4P/72KPROAyjRKeAH8QZUGmDEmGm+8BqL7CFvva7wmLA/7NjMm5YCjKzE8L/9Z4rx0hzUaC+P9UxdeeGE2bkU5KS9dZuiL9wXoGi3UDVBDk6FDh9p1113X8D9rYR50WRKUQXcidUjXIuclCnKvvfbKYMV4XqMF3SkbxwBvvEXGwig/14keA7kIUgOpts4lBTpQATwExkkIAMCjYuwD74aQ9L7mpcNrIdiB/ZdZZplsNgaAw1Q8jTwav3y6yvAQmPGBY3yaIZ7W8Yquv/76LEDA9+cT+AAWugfZj2MYX6KrkIa01f/vAGfKSePd17RIgIIuRWDDOf28gJVuRrRrtDCOxZiZzxbBsQQh0EVIt19fY2/uwREyv/nmm2fBGs0CGNDQpYjnxIMA0yLh9eERAXq8pUYLujANEhF+HEc0I9fJA0scHNIoj/7cLkj1p5rKSwp0oQI0hoAKcNA9hTUzwSxP7DxZsz/j3SPhVgAAAUFJREFUIHhWeAY0cqT11RDS8NNtxLEc4xOo8kn0Gmlxg4xnwTa6n8L9251gljJQTsobBz2E1egeDV5RfF66CPvqouRYQESZCQjheECL1mwnva+FuvFjAURqf88LbwdQUY/AEENXyouGfeVDOppQXo6jzBznXZ1+joH6FKQGSmmdRwpIASkgBVpWQJBqWTIdIAWkgBSQAgOlgCA1UErrPFJACkgBKdCyAoJUy5LpACkgBaSAFBgoBQSpgVJa55ECUkAKSIGWFRCkWpZMB0gBKSAFpMBAKSBIDZTSOo8UkAJSQAq0rIAg1bJkOkAKSAEpIAUGSgFBaqCU1nmkgBSQAlKgZQUEqZYl0wFSQApIASkwUAoIUgOltM4jBaSAFJACLSsgSLUsmQ6QAlJACkiBgVJAkBoopXUeKSAFpIAUaFmB/w9lv9XJBCmtGAAAAABJRU5ErkJggg==)"
   ]
  },
  {
   "cell_type": "code",
   "execution_count": null,
   "metadata": {
    "colab": {
     "base_uri": "https://localhost:8080/",
     "height": 211
    },
    "executionInfo": {
     "elapsed": 424,
     "status": "ok",
     "timestamp": 1635756835752,
     "user": {
      "displayName": "Amay Gada",
      "photoUrl": "https://lh3.googleusercontent.com/a-/AOh14GhIegWflm0DVHy8h-sj9l7nvh_87WZPEby6oqxqjw=s64",
      "userId": "18318224108445437394"
     },
     "user_tz": -330
    },
    "id": "HV5jw-5HwSmO",
    "outputId": "02f9f2e4-b015-4914-ce3b-c675c062ab00"
   },
   "outputs": [
    {
     "data": {
      "image/png": "[encoded data removed]",
      "text/plain": [
       "<Figure size 432x216 with 2 Axes>"
      ]
     },
     "metadata": {
      "needs_background": "light"
     },
     "output_type": "display_data"
    }
   ],
   "source": [
    "#plot the 0th image and next to that plot a bar graph of the predicted values for that image\n",
    "#  if predicted_label is the same as the actual label of the image then the x_axis label should be in blue, whereas \n",
    "# if the predicted_label is not the same as the actual label of the image then the x_axis label should be in red\n",
    "\n",
    "#SOLUTION:\n",
    "def plot_image(i, predictions_array, true_label, img):\n",
    "  true_label, img = true_label[i], img[i]\n",
    "  plt.grid(False)\n",
    "  plt.xticks([])\n",
    "  plt.yticks([])\n",
    "\n",
    "  plt.imshow(img, cmap=plt.cm.binary)\n",
    "\n",
    "  predicted_label = np.argmax(predictions_array)\n",
    "  if predicted_label == true_label:\n",
    "    color = 'blue'\n",
    "  else:\n",
    "    color = 'red'\n",
    "\n",
    "  plt.xlabel(\"{} {:2.0f}% ({})\".format(class_names[predicted_label],\n",
    "                                100*np.max(predictions_array),\n",
    "                                class_names[true_label]),\n",
    "                                color=color)\n",
    "\n",
    "def plot_value_array(i, predictions_array, true_label):\n",
    "  true_label = true_label[i]\n",
    "  plt.grid(False)\n",
    "  plt.xticks(range(10))\n",
    "  plt.yticks([])\n",
    "  thisplot = plt.bar(range(10), predictions_array, color=\"#777777\")\n",
    "  plt.ylim([0, 1])\n",
    "  predicted_label = np.argmax(predictions_array)\n",
    "\n",
    "  thisplot[predicted_label].set_color('red')\n",
    "  thisplot[true_label].set_color('blue')\n",
    "\n",
    "#plot:\n",
    "i = 0\n",
    "plt.figure(figsize=(6,3))\n",
    "plt.subplot(1,2,1)\n",
    "plot_image(i, predictions[i], test_labels, test_images)\n",
    "plt.subplot(1,2,2)\n",
    "plot_value_array(i, predictions[i],  test_labels)\n",
    "plt.show()"
   ]
  },
  {
   "cell_type": "markdown",
   "metadata": {
    "id": "5wiMlS6wTeM0"
   },
   "source": [
    "Similarly plot the image and predicted values for another value in the test_images"
   ]
  },
  {
   "cell_type": "code",
   "execution_count": null,
   "metadata": {
    "colab": {
     "base_uri": "https://localhost:8080/",
     "height": 211
    },
    "executionInfo": {
     "elapsed": 416,
     "status": "ok",
     "timestamp": 1635756840072,
     "user": {
      "displayName": "Amay Gada",
      "photoUrl": "https://lh3.googleusercontent.com/a-/AOh14GhIegWflm0DVHy8h-sj9l7nvh_87WZPEby6oqxqjw=s64",
      "userId": "18318224108445437394"
     },
     "user_tz": -330
    },
    "id": "Ko-uzOufSCSe",
    "outputId": "dcd59e41-c67a-4438-e648-cd89b8dc42d3"
   },
   "outputs": [
    {
     "data": {
      "image/png": "[encoded data removed]",
      "text/plain": [
       "<Figure size 432x216 with 2 Axes>"
      ]
     },
     "metadata": {
      "needs_background": "light"
     },
     "output_type": "display_data"
    }
   ],
   "source": [
    "#write code below\n",
    "\n",
    "\n",
    "#SOLUTION:\n",
    "i = 12\n",
    "plt.figure(figsize=(6,3))\n",
    "plt.subplot(1,2,1)\n",
    "plot_image(i, predictions[i], test_labels, test_images)\n",
    "plt.subplot(1,2,2)\n",
    "plot_value_array(i, predictions[i],  test_labels)\n",
    "plt.show()"
   ]
  },
  {
   "cell_type": "markdown",
   "metadata": {
    "id": "kgdvGD52CaXR"
   },
   "source": [
    "plot several images with their predictions. Note that the model can be wrong even when very confident."
   ]
  },
  {
   "cell_type": "code",
   "execution_count": null,
   "metadata": {
    "colab": {
     "base_uri": "https://localhost:8080/",
     "height": 729
    },
    "executionInfo": {
     "elapsed": 2080,
     "status": "ok",
     "timestamp": 1635756847405,
     "user": {
      "displayName": "Amay Gada",
      "photoUrl": "https://lh3.googleusercontent.com/a-/AOh14GhIegWflm0DVHy8h-sj9l7nvh_87WZPEby6oqxqjw=s64",
      "userId": "18318224108445437394"
     },
     "user_tz": -330
    },
    "id": "hQlnbqaw2Qu_",
    "outputId": "be52b46a-b827-46a3-cf44-788f4ed33bac"
   },
   "outputs": [
    {
     "data": {
      "image/png": "[encoded data removed]",
      "text/plain": [
       "<Figure size 576x720 with 20 Axes>"
      ]
     },
     "metadata": {
      "needs_background": "light"
     },
     "output_type": "display_data"
    }
   ],
   "source": [
    "# Plot the first 10 test images, their predicted labels, and the true labels.\n",
    "# Color correct predictions in blue and incorrect predictions in red.\n",
    "\n",
    "\n",
    "#SOLUTION:\n",
    "num_rows = 5\n",
    "num_cols = 2\n",
    "num_images = num_rows*num_cols\n",
    "plt.figure(figsize=(2*2*num_cols, 2*num_rows))\n",
    "for i in range(num_images):\n",
    "  plt.subplot(num_rows, 2*num_cols, 2*i+1)\n",
    "  plot_image(i, predictions[i], test_labels, test_images)\n",
    "  plt.subplot(num_rows, 2*num_cols, 2*i+2)\n",
    "  plot_value_array(i, predictions[i], test_labels)\n",
    "plt.tight_layout()\n",
    "plt.show()"
   ]
  },
  {
   "cell_type": "markdown",
   "metadata": {
    "id": "R32zteKHCaXT"
   },
   "source": [
    "## Use the trained model\n",
    "\n",
    "Finally, use the trained model to make a prediction about a single image."
   ]
  },
  {
   "cell_type": "code",
   "execution_count": null,
   "metadata": {
    "colab": {
     "base_uri": "https://localhost:8080/"
    },
    "executionInfo": {
     "elapsed": 418,
     "status": "ok",
     "timestamp": 1635756858091,
     "user": {
      "displayName": "Amay Gada",
      "photoUrl": "https://lh3.googleusercontent.com/a-/AOh14GhIegWflm0DVHy8h-sj9l7nvh_87WZPEby6oqxqjw=s64",
      "userId": "18318224108445437394"
     },
     "user_tz": -330
    },
    "id": "yRJ7JU7JCaXT",
    "outputId": "5c0c4268-7105-4e2e-9da5-e41993964f0d"
   },
   "outputs": [
    {
     "name": "stdout",
     "output_type": "stream",
     "text": [
      "(28, 28)\n"
     ]
    }
   ],
   "source": [
    "# Grab an image from the test dataset.\n",
    "# img = \n",
    "\n",
    "#SOLUTION:\n",
    "img = test_images[1]\n",
    "\n",
    "print(img.shape)"
   ]
  },
  {
   "cell_type": "markdown",
   "metadata": {
    "id": "vz3bVp21CaXV"
   },
   "source": [
    "`tf.keras` models are optimized to make predictions on a *batch*, or collection, of examples at once. Accordingly, even though you're using a single image, you need to add it to a list:"
   ]
  },
  {
   "cell_type": "code",
   "execution_count": null,
   "metadata": {
    "colab": {
     "base_uri": "https://localhost:8080/"
    },
    "executionInfo": {
     "elapsed": 393,
     "status": "ok",
     "timestamp": 1635756862785,
     "user": {
      "displayName": "Amay Gada",
      "photoUrl": "https://lh3.googleusercontent.com/a-/AOh14GhIegWflm0DVHy8h-sj9l7nvh_87WZPEby6oqxqjw=s64",
      "userId": "18318224108445437394"
     },
     "user_tz": -330
    },
    "id": "lDFh5yF_CaXW",
    "outputId": "b6972fce-9e03-4dfc-ec26-c1149701c6e5"
   },
   "outputs": [
    {
     "name": "stdout",
     "output_type": "stream",
     "text": [
      "(28, 28)\n",
      "(1, 28, 28)\n"
     ]
    }
   ],
   "source": [
    "# Add the image to a batch where it's the only member.\n",
    "#hint: use np.expand_dims\n",
    "#complete code below\n",
    "# img = \n",
    "\n",
    "print(img.shape)\n",
    "\n",
    "#SOLUTION:\n",
    "img = (np.expand_dims(img,0))\n",
    "\n",
    "print(img.shape)"
   ]
  },
  {
   "cell_type": "markdown",
   "metadata": {
    "id": "EQ5wLTkcCaXY"
   },
   "source": [
    "Now predict the correct label for this image:"
   ]
  },
  {
   "cell_type": "code",
   "execution_count": null,
   "metadata": {
    "colab": {
     "base_uri": "https://localhost:8080/"
    },
    "executionInfo": {
     "elapsed": 404,
     "status": "ok",
     "timestamp": 1635756877704,
     "user": {
      "displayName": "Amay Gada",
      "photoUrl": "https://lh3.googleusercontent.com/a-/AOh14GhIegWflm0DVHy8h-sj9l7nvh_87WZPEby6oqxqjw=s64",
      "userId": "18318224108445437394"
     },
     "user_tz": -330
    },
    "id": "o_rzNSdrCaXY",
    "outputId": "c45702cf-82ad-478a-f8b0-5ccb1095f1a8"
   },
   "outputs": [
    {
     "name": "stdout",
     "output_type": "stream",
     "text": [
      "[[1.2431231e-06 1.8740623e-15 9.9962187e-01 8.2797430e-13 1.0861144e-04\n",
      "  1.1797271e-14 2.6829011e-04 3.3436149e-17 3.1772345e-11 1.5938646e-14]]\n"
     ]
    }
   ],
   "source": [
    "#complete code below\n",
    "# predictions_single = \n",
    "\n",
    "# print(predictions_single)\n",
    "\n",
    "\n",
    "#SOLUTION:\n",
    "predictions_single = probability_model.predict(img)\n",
    "\n",
    "print(predictions_single)"
   ]
  },
  {
   "cell_type": "markdown",
   "metadata": {
    "id": "cU1Y2OAMCaXb"
   },
   "source": [
    "`tf.keras.Model.predict` returns a list of lists—one list for each image in the batch of data. Grab the predictions for our (only) image in the batch:"
   ]
  },
  {
   "cell_type": "code",
   "execution_count": null,
   "metadata": {
    "colab": {
     "base_uri": "https://localhost:8080/"
    },
    "executionInfo": {
     "elapsed": 15,
     "status": "ok",
     "timestamp": 1635756881741,
     "user": {
      "displayName": "Amay Gada",
      "photoUrl": "https://lh3.googleusercontent.com/a-/AOh14GhIegWflm0DVHy8h-sj9l7nvh_87WZPEby6oqxqjw=s64",
      "userId": "18318224108445437394"
     },
     "user_tz": -330
    },
    "id": "2tRmdq_8CaXb",
    "outputId": "64dcbcf1-1e2e-45a8-a2ce-612287f6867d"
   },
   "outputs": [
    {
     "data": {
      "text/plain": [
       "2"
      ]
     },
     "execution_count": 32,
     "metadata": {},
     "output_type": "execute_result"
    }
   ],
   "source": [
    "#print the predicted class for the image\n",
    "\n",
    "\n",
    "#SOLUTION:\n",
    "np.argmax(predictions_single[0])"
   ]
  },
  {
   "cell_type": "markdown",
   "metadata": {
    "id": "x9OpvU94sV8k"
   },
   "source": [
    "# Regularization\n",
    "In mathematics, statistics, and computer science, particularly in machine learning and inverse problems, regularization is the process of adding information in order to solve an ill-posed problem or to prevent overfitting.\n",
    "\n",
    "In order to improve the performance of the model, we use different regularization techniques. There are several techniques, but we will discuss 4 main techniques.\n",
    "\n",
    "1. L1 Regularization\n",
    "2. L2 Regularization\n",
    "3. Dropout\n",
    "4. Batch Normalization"
   ]
  },
  {
   "cell_type": "code",
   "execution_count": null,
   "metadata": {
    "id": "2Zu4gnTesV8l"
   },
   "outputs": [],
   "source": [
    "#Basic pre-processing\n",
    "#we're importing the iris dataset from sklearn for our model\n",
    "from sklearn.datasets import load_iris\n",
    "from tensorflow.keras.models import Sequential\n",
    "from tensorflow.keras.utils import to_categorical\n",
    "from tensorflow.keras.layers import Dense\n",
    "from sklearn.preprocessing import StandardScaler\n",
    "from sklearn.model_selection import train_test_split\n",
    "iris = load_iris()\n",
    "X = iris.data\n",
    "y = iris.target\n",
    "y = to_categorical(y) #converting output to one-hot vector\n",
    "ss = StandardScaler() #standardizing the data\n",
    "X = ss.fit_transform(X)\n",
    "X_train, X_test, y_train, y_test = train_test_split(X,y, random_state=16)"
   ]
  },
  {
   "cell_type": "code",
   "execution_count": null,
   "metadata": {
    "id": "Kkkhi6tzsV8l"
   },
   "outputs": [],
   "source": [
    "#explore the data (X and y) however you like, (using info(), describe, graphs, etc.) and write any 4 lines on what you understood about the dataset\n",
    "\n",
    "#Solution can be anything\n"
   ]
  },
  {
   "cell_type": "markdown",
   "metadata": {
    "id": "YFc2HbEVCaXd"
   },
   "source": [
    "And the model predicts a label as expected."
   ]
  },
  {
   "cell_type": "code",
   "execution_count": null,
   "metadata": {
    "colab": {
     "base_uri": "https://localhost:8080/"
    },
    "executionInfo": {
     "elapsed": 10860,
     "status": "ok",
     "timestamp": 1635756904463,
     "user": {
      "displayName": "Amay Gada",
      "photoUrl": "https://lh3.googleusercontent.com/a-/AOh14GhIegWflm0DVHy8h-sj9l7nvh_87WZPEby6oqxqjw=s64",
      "userId": "18318224108445437394"
     },
     "user_tz": -330
    },
    "id": "Lje9pRcgsV8l",
    "outputId": "2606ed00-60f6-4bc5-c4c3-f690bdd669e3"
   },
   "outputs": [
    {
     "name": "stdout",
     "output_type": "stream",
     "text": [
      "Model: \"sequential_3\"\n",
      "_________________________________________________________________\n",
      "Layer (type)                 Output Shape              Param #   \n",
      "=================================================================\n",
      "dense_4 (Dense)              (None, 512)               2560      \n",
      "_________________________________________________________________\n",
      "dense_5 (Dense)              (None, 256)               131328    \n",
      "_________________________________________________________________\n",
      "dense_6 (Dense)              (None, 128)               32896     \n",
      "_________________________________________________________________\n",
      "dense_7 (Dense)              (None, 64)                8256      \n",
      "_________________________________________________________________\n",
      "dense_8 (Dense)              (None, 32)                2080      \n",
      "_________________________________________________________________\n",
      "dense_9 (Dense)              (None, 3)                 99        \n",
      "=================================================================\n",
      "Total params: 177,219\n",
      "Trainable params: 177,219\n",
      "Non-trainable params: 0\n",
      "_________________________________________________________________\n",
      "None\n",
      "Epoch 1/150\n",
      "1/1 [==============================] - 1s 617ms/step - loss: 1.1280 - acc: 0.0893 - mse: 0.2291 - val_loss: 1.0985 - val_acc: 0.2632 - val_mse: 0.2223\n",
      "Epoch 2/150\n",
      "1/1 [==============================] - 0s 29ms/step - loss: 1.0796 - acc: 0.3661 - mse: 0.2183 - val_loss: 1.0645 - val_acc: 0.6316 - val_mse: 0.2146\n",
      "Epoch 3/150\n",
      "1/1 [==============================] - 0s 27ms/step - loss: 1.0392 - acc: 0.7054 - mse: 0.2090 - val_loss: 1.0340 - val_acc: 0.7105 - val_mse: 0.2075\n",
      "Epoch 4/150\n",
      "1/1 [==============================] - 0s 49ms/step - loss: 1.0039 - acc: 0.8125 - mse: 0.2007 - val_loss: 1.0064 - val_acc: 0.7105 - val_mse: 0.2010\n",
      "Epoch 5/150\n",
      "1/1 [==============================] - 0s 28ms/step - loss: 0.9719 - acc: 0.8214 - mse: 0.1931 - val_loss: 0.9818 - val_acc: 0.7368 - val_mse: 0.1952\n",
      "Epoch 6/150\n",
      "1/1 [==============================] - 0s 29ms/step - loss: 0.9429 - acc: 0.8393 - mse: 0.1862 - val_loss: 0.9589 - val_acc: 0.7105 - val_mse: 0.1897\n",
      "Epoch 7/150\n",
      "1/1 [==============================] - 0s 36ms/step - loss: 0.9163 - acc: 0.8393 - mse: 0.1798 - val_loss: 0.9381 - val_acc: 0.7105 - val_mse: 0.1848\n",
      "Epoch 8/150\n",
      "1/1 [==============================] - 0s 28ms/step - loss: 0.8923 - acc: 0.8393 - mse: 0.1740 - val_loss: 0.9192 - val_acc: 0.7105 - val_mse: 0.1803\n",
      "Epoch 9/150\n",
      "1/1 [==============================] - 0s 31ms/step - loss: 0.8700 - acc: 0.8393 - mse: 0.1686 - val_loss: 0.9014 - val_acc: 0.7105 - val_mse: 0.1760\n",
      "Epoch 10/150\n",
      "1/1 [==============================] - 0s 34ms/step - loss: 0.8490 - acc: 0.8482 - mse: 0.1635 - val_loss: 0.8847 - val_acc: 0.7105 - val_mse: 0.1721\n",
      "Epoch 11/150\n",
      "1/1 [==============================] - 0s 39ms/step - loss: 0.8295 - acc: 0.8482 - mse: 0.1588 - val_loss: 0.8693 - val_acc: 0.7105 - val_mse: 0.1684\n",
      "Epoch 12/150\n",
      "1/1 [==============================] - 0s 31ms/step - loss: 0.8110 - acc: 0.8482 - mse: 0.1543 - val_loss: 0.8547 - val_acc: 0.7105 - val_mse: 0.1650\n",
      "Epoch 13/150\n",
      "1/1 [==============================] - 0s 32ms/step - loss: 0.7934 - acc: 0.8482 - mse: 0.1501 - val_loss: 0.8410 - val_acc: 0.7105 - val_mse: 0.1618\n",
      "Epoch 14/150\n",
      "1/1 [==============================] - 0s 28ms/step - loss: 0.7768 - acc: 0.8482 - mse: 0.1461 - val_loss: 0.8281 - val_acc: 0.7105 - val_mse: 0.1588\n",
      "Epoch 15/150\n",
      "1/1 [==============================] - 0s 32ms/step - loss: 0.7609 - acc: 0.8482 - mse: 0.1423 - val_loss: 0.8158 - val_acc: 0.7105 - val_mse: 0.1559\n",
      "Epoch 16/150\n",
      "1/1 [==============================] - 0s 33ms/step - loss: 0.7458 - acc: 0.8482 - mse: 0.1387 - val_loss: 0.8039 - val_acc: 0.7105 - val_mse: 0.1532\n",
      "Epoch 17/150\n",
      "1/1 [==============================] - 0s 43ms/step - loss: 0.7313 - acc: 0.8482 - mse: 0.1353 - val_loss: 0.7924 - val_acc: 0.7105 - val_mse: 0.1506\n",
      "Epoch 18/150\n",
      "1/1 [==============================] - 0s 35ms/step - loss: 0.7174 - acc: 0.8482 - mse: 0.1320 - val_loss: 0.7814 - val_acc: 0.7105 - val_mse: 0.1481\n",
      "Epoch 19/150\n",
      "1/1 [==============================] - 0s 28ms/step - loss: 0.7040 - acc: 0.8571 - mse: 0.1289 - val_loss: 0.7708 - val_acc: 0.7105 - val_mse: 0.1458\n",
      "Epoch 20/150\n",
      "1/1 [==============================] - 0s 34ms/step - loss: 0.6912 - acc: 0.8571 - mse: 0.1259 - val_loss: 0.7607 - val_acc: 0.7368 - val_mse: 0.1436\n",
      "Epoch 21/150\n",
      "1/1 [==============================] - 0s 31ms/step - loss: 0.6789 - acc: 0.8571 - mse: 0.1231 - val_loss: 0.7510 - val_acc: 0.7368 - val_mse: 0.1415\n",
      "Epoch 22/150\n",
      "1/1 [==============================] - 0s 33ms/step - loss: 0.6671 - acc: 0.8571 - mse: 0.1204 - val_loss: 0.7415 - val_acc: 0.7368 - val_mse: 0.1394\n",
      "Epoch 23/150\n",
      "1/1 [==============================] - 0s 30ms/step - loss: 0.6557 - acc: 0.8571 - mse: 0.1178 - val_loss: 0.7324 - val_acc: 0.7368 - val_mse: 0.1375\n",
      "Epoch 24/150\n",
      "1/1 [==============================] - 0s 32ms/step - loss: 0.6445 - acc: 0.8571 - mse: 0.1153 - val_loss: 0.7236 - val_acc: 0.7368 - val_mse: 0.1356\n",
      "Epoch 25/150\n",
      "1/1 [==============================] - 0s 33ms/step - loss: 0.6338 - acc: 0.8571 - mse: 0.1129 - val_loss: 0.7150 - val_acc: 0.7368 - val_mse: 0.1339\n",
      "Epoch 26/150\n",
      "1/1 [==============================] - 0s 28ms/step - loss: 0.6233 - acc: 0.8571 - mse: 0.1106 - val_loss: 0.7068 - val_acc: 0.7368 - val_mse: 0.1322\n",
      "Epoch 27/150\n",
      "1/1 [==============================] - 0s 32ms/step - loss: 0.6133 - acc: 0.8571 - mse: 0.1084 - val_loss: 0.6987 - val_acc: 0.7368 - val_mse: 0.1306\n",
      "Epoch 28/150\n",
      "1/1 [==============================] - 0s 34ms/step - loss: 0.6035 - acc: 0.8571 - mse: 0.1063 - val_loss: 0.6911 - val_acc: 0.7368 - val_mse: 0.1290\n",
      "Epoch 29/150\n",
      "1/1 [==============================] - 0s 37ms/step - loss: 0.5941 - acc: 0.8661 - mse: 0.1042 - val_loss: 0.6837 - val_acc: 0.7368 - val_mse: 0.1276\n",
      "Epoch 30/150\n",
      "1/1 [==============================] - 0s 32ms/step - loss: 0.5849 - acc: 0.8661 - mse: 0.1023 - val_loss: 0.6766 - val_acc: 0.7368 - val_mse: 0.1262\n",
      "Epoch 31/150\n",
      "1/1 [==============================] - 0s 31ms/step - loss: 0.5761 - acc: 0.8661 - mse: 0.1004 - val_loss: 0.6698 - val_acc: 0.7368 - val_mse: 0.1249\n",
      "Epoch 32/150\n",
      "1/1 [==============================] - 0s 30ms/step - loss: 0.5676 - acc: 0.8661 - mse: 0.0986 - val_loss: 0.6632 - val_acc: 0.7368 - val_mse: 0.1236\n",
      "Epoch 33/150\n",
      "1/1 [==============================] - 0s 32ms/step - loss: 0.5593 - acc: 0.8661 - mse: 0.0969 - val_loss: 0.6567 - val_acc: 0.7368 - val_mse: 0.1224\n",
      "Epoch 34/150\n",
      "1/1 [==============================] - 0s 29ms/step - loss: 0.5514 - acc: 0.8661 - mse: 0.0953 - val_loss: 0.6505 - val_acc: 0.7632 - val_mse: 0.1213\n",
      "Epoch 35/150\n",
      "1/1 [==============================] - 0s 31ms/step - loss: 0.5438 - acc: 0.8661 - mse: 0.0937 - val_loss: 0.6445 - val_acc: 0.7632 - val_mse: 0.1202\n",
      "Epoch 36/150\n",
      "1/1 [==============================] - 0s 32ms/step - loss: 0.5364 - acc: 0.8661 - mse: 0.0923 - val_loss: 0.6387 - val_acc: 0.7632 - val_mse: 0.1192\n",
      "Epoch 37/150\n",
      "1/1 [==============================] - 0s 32ms/step - loss: 0.5292 - acc: 0.8661 - mse: 0.0908 - val_loss: 0.6331 - val_acc: 0.7632 - val_mse: 0.1182\n",
      "Epoch 38/150\n",
      "1/1 [==============================] - 0s 29ms/step - loss: 0.5223 - acc: 0.8661 - mse: 0.0894 - val_loss: 0.6276 - val_acc: 0.7632 - val_mse: 0.1172\n",
      "Epoch 39/150\n",
      "1/1 [==============================] - 0s 39ms/step - loss: 0.5156 - acc: 0.8661 - mse: 0.0881 - val_loss: 0.6223 - val_acc: 0.7632 - val_mse: 0.1163\n",
      "Epoch 40/150\n",
      "1/1 [==============================] - 0s 33ms/step - loss: 0.5091 - acc: 0.8661 - mse: 0.0869 - val_loss: 0.6173 - val_acc: 0.7632 - val_mse: 0.1155\n",
      "Epoch 41/150\n",
      "1/1 [==============================] - 0s 37ms/step - loss: 0.5028 - acc: 0.8661 - mse: 0.0856 - val_loss: 0.6124 - val_acc: 0.7632 - val_mse: 0.1147\n",
      "Epoch 42/150\n",
      "1/1 [==============================] - 0s 35ms/step - loss: 0.4967 - acc: 0.8661 - mse: 0.0845 - val_loss: 0.6077 - val_acc: 0.7632 - val_mse: 0.1139\n",
      "Epoch 43/150\n",
      "1/1 [==============================] - 0s 36ms/step - loss: 0.4909 - acc: 0.8661 - mse: 0.0834 - val_loss: 0.6031 - val_acc: 0.7632 - val_mse: 0.1132\n",
      "Epoch 44/150\n",
      "1/1 [==============================] - 0s 32ms/step - loss: 0.4851 - acc: 0.8661 - mse: 0.0823 - val_loss: 0.5987 - val_acc: 0.7632 - val_mse: 0.1125\n",
      "Epoch 45/150\n",
      "1/1 [==============================] - 0s 34ms/step - loss: 0.4796 - acc: 0.8661 - mse: 0.0812 - val_loss: 0.5943 - val_acc: 0.7632 - val_mse: 0.1118\n",
      "Epoch 46/150\n",
      "1/1 [==============================] - 0s 34ms/step - loss: 0.4742 - acc: 0.8661 - mse: 0.0802 - val_loss: 0.5901 - val_acc: 0.7632 - val_mse: 0.1112\n",
      "Epoch 47/150\n",
      "1/1 [==============================] - 0s 41ms/step - loss: 0.4689 - acc: 0.8661 - mse: 0.0792 - val_loss: 0.5859 - val_acc: 0.7632 - val_mse: 0.1105\n",
      "Epoch 48/150\n",
      "1/1 [==============================] - 0s 34ms/step - loss: 0.4638 - acc: 0.8661 - mse: 0.0783 - val_loss: 0.5819 - val_acc: 0.7632 - val_mse: 0.1099\n",
      "Epoch 49/150\n",
      "1/1 [==============================] - 0s 34ms/step - loss: 0.4588 - acc: 0.8661 - mse: 0.0774 - val_loss: 0.5779 - val_acc: 0.7632 - val_mse: 0.1093\n",
      "Epoch 50/150\n",
      "1/1 [==============================] - 0s 33ms/step - loss: 0.4539 - acc: 0.8661 - mse: 0.0765 - val_loss: 0.5740 - val_acc: 0.7632 - val_mse: 0.1087\n",
      "Epoch 51/150\n",
      "1/1 [==============================] - 0s 35ms/step - loss: 0.4492 - acc: 0.8661 - mse: 0.0756 - val_loss: 0.5702 - val_acc: 0.7632 - val_mse: 0.1082\n",
      "Epoch 52/150\n",
      "1/1 [==============================] - 0s 34ms/step - loss: 0.4445 - acc: 0.8661 - mse: 0.0748 - val_loss: 0.5665 - val_acc: 0.7632 - val_mse: 0.1076\n",
      "Epoch 53/150\n",
      "1/1 [==============================] - 0s 29ms/step - loss: 0.4400 - acc: 0.8661 - mse: 0.0740 - val_loss: 0.5628 - val_acc: 0.7632 - val_mse: 0.1071\n",
      "Epoch 54/150\n",
      "1/1 [==============================] - 0s 27ms/step - loss: 0.4355 - acc: 0.8750 - mse: 0.0732 - val_loss: 0.5591 - val_acc: 0.7632 - val_mse: 0.1065\n",
      "Epoch 55/150\n",
      "1/1 [==============================] - 0s 36ms/step - loss: 0.4311 - acc: 0.8750 - mse: 0.0724 - val_loss: 0.5554 - val_acc: 0.7632 - val_mse: 0.1060\n",
      "Epoch 56/150\n",
      "1/1 [==============================] - 0s 30ms/step - loss: 0.4267 - acc: 0.8750 - mse: 0.0716 - val_loss: 0.5519 - val_acc: 0.7632 - val_mse: 0.1055\n",
      "Epoch 57/150\n",
      "1/1 [==============================] - 0s 33ms/step - loss: 0.4225 - acc: 0.8750 - mse: 0.0708 - val_loss: 0.5484 - val_acc: 0.7632 - val_mse: 0.1050\n",
      "Epoch 58/150\n",
      "1/1 [==============================] - 0s 34ms/step - loss: 0.4184 - acc: 0.8839 - mse: 0.0701 - val_loss: 0.5449 - val_acc: 0.7368 - val_mse: 0.1045\n",
      "Epoch 59/150\n",
      "1/1 [==============================] - 0s 27ms/step - loss: 0.4143 - acc: 0.8839 - mse: 0.0694 - val_loss: 0.5416 - val_acc: 0.7368 - val_mse: 0.1040\n",
      "Epoch 60/150\n",
      "1/1 [==============================] - 0s 32ms/step - loss: 0.4103 - acc: 0.8929 - mse: 0.0687 - val_loss: 0.5383 - val_acc: 0.7368 - val_mse: 0.1035\n",
      "Epoch 61/150\n",
      "1/1 [==============================] - 0s 39ms/step - loss: 0.4063 - acc: 0.8929 - mse: 0.0680 - val_loss: 0.5351 - val_acc: 0.7368 - val_mse: 0.1031\n",
      "Epoch 62/150\n",
      "1/1 [==============================] - 0s 32ms/step - loss: 0.4025 - acc: 0.8929 - mse: 0.0673 - val_loss: 0.5320 - val_acc: 0.7368 - val_mse: 0.1026\n",
      "Epoch 63/150\n",
      "1/1 [==============================] - 0s 30ms/step - loss: 0.3988 - acc: 0.8929 - mse: 0.0666 - val_loss: 0.5288 - val_acc: 0.7368 - val_mse: 0.1022\n",
      "Epoch 64/150\n",
      "1/1 [==============================] - 0s 38ms/step - loss: 0.3951 - acc: 0.8929 - mse: 0.0660 - val_loss: 0.5258 - val_acc: 0.7368 - val_mse: 0.1017\n",
      "Epoch 65/150\n",
      "1/1 [==============================] - 0s 44ms/step - loss: 0.3915 - acc: 0.8929 - mse: 0.0654 - val_loss: 0.5228 - val_acc: 0.7368 - val_mse: 0.1013\n",
      "Epoch 66/150\n",
      "1/1 [==============================] - 0s 34ms/step - loss: 0.3880 - acc: 0.8929 - mse: 0.0648 - val_loss: 0.5199 - val_acc: 0.7368 - val_mse: 0.1009\n",
      "Epoch 67/150\n",
      "1/1 [==============================] - 0s 34ms/step - loss: 0.3846 - acc: 0.8929 - mse: 0.0642 - val_loss: 0.5170 - val_acc: 0.7368 - val_mse: 0.1005\n",
      "Epoch 68/150\n",
      "1/1 [==============================] - 0s 38ms/step - loss: 0.3812 - acc: 0.8929 - mse: 0.0636 - val_loss: 0.5143 - val_acc: 0.7368 - val_mse: 0.1002\n",
      "Epoch 69/150\n",
      "1/1 [==============================] - 0s 31ms/step - loss: 0.3779 - acc: 0.8929 - mse: 0.0630 - val_loss: 0.5116 - val_acc: 0.7368 - val_mse: 0.0998\n",
      "Epoch 70/150\n",
      "1/1 [==============================] - 0s 37ms/step - loss: 0.3746 - acc: 0.8929 - mse: 0.0624 - val_loss: 0.5089 - val_acc: 0.7368 - val_mse: 0.0994\n",
      "Epoch 71/150\n",
      "1/1 [==============================] - 0s 33ms/step - loss: 0.3714 - acc: 0.8929 - mse: 0.0619 - val_loss: 0.5063 - val_acc: 0.7368 - val_mse: 0.0991\n",
      "Epoch 72/150\n",
      "1/1 [==============================] - 0s 42ms/step - loss: 0.3683 - acc: 0.8929 - mse: 0.0613 - val_loss: 0.5037 - val_acc: 0.7368 - val_mse: 0.0987\n",
      "Epoch 73/150\n",
      "1/1 [==============================] - 0s 34ms/step - loss: 0.3652 - acc: 0.8929 - mse: 0.0608 - val_loss: 0.5011 - val_acc: 0.7368 - val_mse: 0.0984\n",
      "Epoch 74/150\n",
      "1/1 [==============================] - 0s 48ms/step - loss: 0.3621 - acc: 0.8929 - mse: 0.0603 - val_loss: 0.4986 - val_acc: 0.7368 - val_mse: 0.0980\n",
      "Epoch 75/150\n",
      "1/1 [==============================] - 0s 29ms/step - loss: 0.3592 - acc: 0.9018 - mse: 0.0598 - val_loss: 0.4961 - val_acc: 0.7368 - val_mse: 0.0977\n",
      "Epoch 76/150\n",
      "1/1 [==============================] - 0s 30ms/step - loss: 0.3562 - acc: 0.9018 - mse: 0.0593 - val_loss: 0.4936 - val_acc: 0.7368 - val_mse: 0.0973\n",
      "Epoch 77/150\n",
      "1/1 [==============================] - 0s 34ms/step - loss: 0.3534 - acc: 0.9107 - mse: 0.0588 - val_loss: 0.4912 - val_acc: 0.7368 - val_mse: 0.0970\n",
      "Epoch 78/150\n",
      "1/1 [==============================] - 0s 36ms/step - loss: 0.3505 - acc: 0.9107 - mse: 0.0583 - val_loss: 0.4888 - val_acc: 0.7368 - val_mse: 0.0967\n",
      "Epoch 79/150\n",
      "1/1 [==============================] - 0s 41ms/step - loss: 0.3478 - acc: 0.9107 - mse: 0.0578 - val_loss: 0.4865 - val_acc: 0.7368 - val_mse: 0.0964\n",
      "Epoch 80/150\n",
      "1/1 [==============================] - 0s 37ms/step - loss: 0.3451 - acc: 0.9107 - mse: 0.0574 - val_loss: 0.4842 - val_acc: 0.7632 - val_mse: 0.0961\n",
      "Epoch 81/150\n",
      "1/1 [==============================] - 0s 46ms/step - loss: 0.3424 - acc: 0.9107 - mse: 0.0569 - val_loss: 0.4820 - val_acc: 0.7632 - val_mse: 0.0958\n",
      "Epoch 82/150\n",
      "1/1 [==============================] - 0s 38ms/step - loss: 0.3398 - acc: 0.9107 - mse: 0.0565 - val_loss: 0.4798 - val_acc: 0.7632 - val_mse: 0.0955\n",
      "Epoch 83/150\n",
      "1/1 [==============================] - 0s 35ms/step - loss: 0.3372 - acc: 0.9107 - mse: 0.0560 - val_loss: 0.4776 - val_acc: 0.7632 - val_mse: 0.0952\n",
      "Epoch 84/150\n",
      "1/1 [==============================] - 0s 41ms/step - loss: 0.3346 - acc: 0.9107 - mse: 0.0556 - val_loss: 0.4755 - val_acc: 0.7632 - val_mse: 0.0949\n",
      "Epoch 85/150\n",
      "1/1 [==============================] - 0s 34ms/step - loss: 0.3322 - acc: 0.9196 - mse: 0.0552 - val_loss: 0.4734 - val_acc: 0.7632 - val_mse: 0.0946\n",
      "Epoch 86/150\n",
      "1/1 [==============================] - 0s 34ms/step - loss: 0.3297 - acc: 0.9196 - mse: 0.0547 - val_loss: 0.4713 - val_acc: 0.7632 - val_mse: 0.0943\n",
      "Epoch 87/150\n",
      "1/1 [==============================] - 0s 37ms/step - loss: 0.3273 - acc: 0.9196 - mse: 0.0543 - val_loss: 0.4692 - val_acc: 0.7632 - val_mse: 0.0940\n",
      "Epoch 88/150\n",
      "1/1 [==============================] - 0s 31ms/step - loss: 0.3249 - acc: 0.9196 - mse: 0.0539 - val_loss: 0.4672 - val_acc: 0.7632 - val_mse: 0.0937\n",
      "Epoch 89/150\n",
      "1/1 [==============================] - 0s 34ms/step - loss: 0.3226 - acc: 0.9196 - mse: 0.0535 - val_loss: 0.4652 - val_acc: 0.7632 - val_mse: 0.0935\n",
      "Epoch 90/150\n",
      "1/1 [==============================] - 0s 44ms/step - loss: 0.3203 - acc: 0.9196 - mse: 0.0531 - val_loss: 0.4632 - val_acc: 0.7632 - val_mse: 0.0932\n",
      "Epoch 91/150\n",
      "1/1 [==============================] - 0s 35ms/step - loss: 0.3180 - acc: 0.9196 - mse: 0.0528 - val_loss: 0.4612 - val_acc: 0.7632 - val_mse: 0.0929\n",
      "Epoch 92/150\n",
      "1/1 [==============================] - 0s 32ms/step - loss: 0.3158 - acc: 0.9196 - mse: 0.0524 - val_loss: 0.4593 - val_acc: 0.7632 - val_mse: 0.0927\n",
      "Epoch 93/150\n",
      "1/1 [==============================] - 0s 37ms/step - loss: 0.3136 - acc: 0.9196 - mse: 0.0520 - val_loss: 0.4574 - val_acc: 0.7632 - val_mse: 0.0924\n",
      "Epoch 94/150\n",
      "1/1 [==============================] - 0s 44ms/step - loss: 0.3114 - acc: 0.9196 - mse: 0.0516 - val_loss: 0.4555 - val_acc: 0.7632 - val_mse: 0.0921\n",
      "Epoch 95/150\n",
      "1/1 [==============================] - 0s 37ms/step - loss: 0.3092 - acc: 0.9196 - mse: 0.0513 - val_loss: 0.4537 - val_acc: 0.7632 - val_mse: 0.0919\n",
      "Epoch 96/150\n",
      "1/1 [==============================] - 0s 35ms/step - loss: 0.3071 - acc: 0.9196 - mse: 0.0509 - val_loss: 0.4518 - val_acc: 0.7632 - val_mse: 0.0916\n",
      "Epoch 97/150\n",
      "1/1 [==============================] - 0s 36ms/step - loss: 0.3050 - acc: 0.9196 - mse: 0.0505 - val_loss: 0.4500 - val_acc: 0.7632 - val_mse: 0.0914\n",
      "Epoch 98/150\n",
      "1/1 [==============================] - 0s 39ms/step - loss: 0.3029 - acc: 0.9286 - mse: 0.0502 - val_loss: 0.4482 - val_acc: 0.7632 - val_mse: 0.0911\n",
      "Epoch 99/150\n",
      "1/1 [==============================] - 0s 35ms/step - loss: 0.3009 - acc: 0.9286 - mse: 0.0498 - val_loss: 0.4463 - val_acc: 0.7632 - val_mse: 0.0908\n",
      "Epoch 100/150\n",
      "1/1 [==============================] - 0s 39ms/step - loss: 0.2988 - acc: 0.9286 - mse: 0.0495 - val_loss: 0.4445 - val_acc: 0.7632 - val_mse: 0.0906\n",
      "Epoch 101/150\n",
      "1/1 [==============================] - 0s 40ms/step - loss: 0.2968 - acc: 0.9286 - mse: 0.0491 - val_loss: 0.4427 - val_acc: 0.7632 - val_mse: 0.0903\n",
      "Epoch 102/150\n",
      "1/1 [==============================] - 0s 37ms/step - loss: 0.2948 - acc: 0.9286 - mse: 0.0488 - val_loss: 0.4409 - val_acc: 0.7632 - val_mse: 0.0901\n",
      "Epoch 103/150\n",
      "1/1 [==============================] - 0s 34ms/step - loss: 0.2929 - acc: 0.9286 - mse: 0.0485 - val_loss: 0.4391 - val_acc: 0.7632 - val_mse: 0.0898\n",
      "Epoch 104/150\n",
      "1/1 [==============================] - 0s 31ms/step - loss: 0.2909 - acc: 0.9286 - mse: 0.0481 - val_loss: 0.4374 - val_acc: 0.7632 - val_mse: 0.0895\n",
      "Epoch 105/150\n",
      "1/1 [==============================] - 0s 33ms/step - loss: 0.2890 - acc: 0.9375 - mse: 0.0478 - val_loss: 0.4356 - val_acc: 0.7632 - val_mse: 0.0893\n",
      "Epoch 106/150\n",
      "1/1 [==============================] - 0s 42ms/step - loss: 0.2871 - acc: 0.9375 - mse: 0.0475 - val_loss: 0.4339 - val_acc: 0.7632 - val_mse: 0.0890\n",
      "Epoch 107/150\n",
      "1/1 [==============================] - 0s 37ms/step - loss: 0.2852 - acc: 0.9375 - mse: 0.0471 - val_loss: 0.4322 - val_acc: 0.7632 - val_mse: 0.0888\n",
      "Epoch 108/150\n",
      "1/1 [==============================] - 0s 36ms/step - loss: 0.2834 - acc: 0.9375 - mse: 0.0468 - val_loss: 0.4305 - val_acc: 0.7632 - val_mse: 0.0885\n",
      "Epoch 109/150\n",
      "1/1 [==============================] - 0s 30ms/step - loss: 0.2816 - acc: 0.9375 - mse: 0.0465 - val_loss: 0.4288 - val_acc: 0.7632 - val_mse: 0.0883\n",
      "Epoch 110/150\n",
      "1/1 [==============================] - 0s 35ms/step - loss: 0.2797 - acc: 0.9375 - mse: 0.0462 - val_loss: 0.4272 - val_acc: 0.7632 - val_mse: 0.0880\n",
      "Epoch 111/150\n",
      "1/1 [==============================] - 0s 35ms/step - loss: 0.2780 - acc: 0.9375 - mse: 0.0459 - val_loss: 0.4256 - val_acc: 0.7632 - val_mse: 0.0878\n",
      "Epoch 112/150\n",
      "1/1 [==============================] - 0s 35ms/step - loss: 0.2762 - acc: 0.9375 - mse: 0.0456 - val_loss: 0.4240 - val_acc: 0.7632 - val_mse: 0.0875\n",
      "Epoch 113/150\n",
      "1/1 [==============================] - 0s 36ms/step - loss: 0.2744 - acc: 0.9375 - mse: 0.0453 - val_loss: 0.4224 - val_acc: 0.7632 - val_mse: 0.0873\n",
      "Epoch 114/150\n",
      "1/1 [==============================] - 0s 49ms/step - loss: 0.2727 - acc: 0.9464 - mse: 0.0450 - val_loss: 0.4208 - val_acc: 0.7632 - val_mse: 0.0870\n",
      "Epoch 115/150\n",
      "1/1 [==============================] - 0s 41ms/step - loss: 0.2710 - acc: 0.9464 - mse: 0.0447 - val_loss: 0.4192 - val_acc: 0.7632 - val_mse: 0.0868\n",
      "Epoch 116/150\n",
      "1/1 [==============================] - 0s 36ms/step - loss: 0.2693 - acc: 0.9464 - mse: 0.0444 - val_loss: 0.4176 - val_acc: 0.7632 - val_mse: 0.0865\n",
      "Epoch 117/150\n",
      "1/1 [==============================] - 0s 30ms/step - loss: 0.2676 - acc: 0.9464 - mse: 0.0441 - val_loss: 0.4160 - val_acc: 0.7632 - val_mse: 0.0863\n",
      "Epoch 118/150\n",
      "1/1 [==============================] - 0s 35ms/step - loss: 0.2660 - acc: 0.9464 - mse: 0.0438 - val_loss: 0.4144 - val_acc: 0.7632 - val_mse: 0.0860\n",
      "Epoch 119/150\n",
      "1/1 [==============================] - 0s 32ms/step - loss: 0.2643 - acc: 0.9464 - mse: 0.0435 - val_loss: 0.4127 - val_acc: 0.7632 - val_mse: 0.0857\n",
      "Epoch 120/150\n",
      "1/1 [==============================] - 0s 39ms/step - loss: 0.2626 - acc: 0.9464 - mse: 0.0432 - val_loss: 0.4111 - val_acc: 0.7632 - val_mse: 0.0855\n",
      "Epoch 121/150\n",
      "1/1 [==============================] - 0s 34ms/step - loss: 0.2610 - acc: 0.9464 - mse: 0.0429 - val_loss: 0.4095 - val_acc: 0.7632 - val_mse: 0.0852\n",
      "Epoch 122/150\n",
      "1/1 [==============================] - 0s 35ms/step - loss: 0.2594 - acc: 0.9464 - mse: 0.0426 - val_loss: 0.4079 - val_acc: 0.7632 - val_mse: 0.0849\n",
      "Epoch 123/150\n",
      "1/1 [==============================] - 0s 37ms/step - loss: 0.2578 - acc: 0.9464 - mse: 0.0423 - val_loss: 0.4063 - val_acc: 0.7632 - val_mse: 0.0847\n",
      "Epoch 124/150\n",
      "1/1 [==============================] - 0s 39ms/step - loss: 0.2562 - acc: 0.9464 - mse: 0.0421 - val_loss: 0.4047 - val_acc: 0.7632 - val_mse: 0.0844\n",
      "Epoch 125/150\n",
      "1/1 [==============================] - 0s 36ms/step - loss: 0.2546 - acc: 0.9464 - mse: 0.0418 - val_loss: 0.4031 - val_acc: 0.7632 - val_mse: 0.0841\n",
      "Epoch 126/150\n",
      "1/1 [==============================] - 0s 43ms/step - loss: 0.2531 - acc: 0.9464 - mse: 0.0415 - val_loss: 0.4016 - val_acc: 0.7632 - val_mse: 0.0839\n",
      "Epoch 127/150\n",
      "1/1 [==============================] - 0s 40ms/step - loss: 0.2515 - acc: 0.9464 - mse: 0.0412 - val_loss: 0.4000 - val_acc: 0.7632 - val_mse: 0.0836\n",
      "Epoch 128/150\n",
      "1/1 [==============================] - 0s 29ms/step - loss: 0.2500 - acc: 0.9464 - mse: 0.0410 - val_loss: 0.3985 - val_acc: 0.7632 - val_mse: 0.0834\n",
      "Epoch 129/150\n",
      "1/1 [==============================] - 0s 32ms/step - loss: 0.2485 - acc: 0.9464 - mse: 0.0407 - val_loss: 0.3970 - val_acc: 0.7632 - val_mse: 0.0831\n",
      "Epoch 130/150\n",
      "1/1 [==============================] - 0s 38ms/step - loss: 0.2470 - acc: 0.9464 - mse: 0.0404 - val_loss: 0.3956 - val_acc: 0.7632 - val_mse: 0.0828\n",
      "Epoch 131/150\n",
      "1/1 [==============================] - 0s 36ms/step - loss: 0.2455 - acc: 0.9464 - mse: 0.0401 - val_loss: 0.3941 - val_acc: 0.7632 - val_mse: 0.0826\n",
      "Epoch 132/150\n",
      "1/1 [==============================] - 0s 34ms/step - loss: 0.2440 - acc: 0.9464 - mse: 0.0399 - val_loss: 0.3926 - val_acc: 0.7632 - val_mse: 0.0823\n",
      "Epoch 133/150\n",
      "1/1 [==============================] - 0s 35ms/step - loss: 0.2425 - acc: 0.9464 - mse: 0.0396 - val_loss: 0.3912 - val_acc: 0.7632 - val_mse: 0.0821\n",
      "Epoch 134/150\n",
      "1/1 [==============================] - 0s 38ms/step - loss: 0.2411 - acc: 0.9464 - mse: 0.0394 - val_loss: 0.3897 - val_acc: 0.7632 - val_mse: 0.0818\n",
      "Epoch 135/150\n",
      "1/1 [==============================] - 0s 31ms/step - loss: 0.2396 - acc: 0.9464 - mse: 0.0391 - val_loss: 0.3883 - val_acc: 0.7632 - val_mse: 0.0816\n",
      "Epoch 136/150\n",
      "1/1 [==============================] - 0s 40ms/step - loss: 0.2382 - acc: 0.9464 - mse: 0.0389 - val_loss: 0.3868 - val_acc: 0.7632 - val_mse: 0.0813\n",
      "Epoch 137/150\n",
      "1/1 [==============================] - 0s 35ms/step - loss: 0.2368 - acc: 0.9464 - mse: 0.0386 - val_loss: 0.3854 - val_acc: 0.7632 - val_mse: 0.0811\n",
      "Epoch 138/150\n",
      "1/1 [==============================] - 0s 53ms/step - loss: 0.2354 - acc: 0.9554 - mse: 0.0383 - val_loss: 0.3840 - val_acc: 0.7895 - val_mse: 0.0808\n",
      "Epoch 139/150\n",
      "1/1 [==============================] - 0s 38ms/step - loss: 0.2340 - acc: 0.9554 - mse: 0.0381 - val_loss: 0.3825 - val_acc: 0.7895 - val_mse: 0.0806\n",
      "Epoch 140/150\n",
      "1/1 [==============================] - 0s 38ms/step - loss: 0.2327 - acc: 0.9554 - mse: 0.0378 - val_loss: 0.3811 - val_acc: 0.7895 - val_mse: 0.0803\n",
      "Epoch 141/150\n",
      "1/1 [==============================] - 0s 29ms/step - loss: 0.2313 - acc: 0.9554 - mse: 0.0376 - val_loss: 0.3797 - val_acc: 0.7895 - val_mse: 0.0800\n",
      "Epoch 142/150\n",
      "1/1 [==============================] - 0s 32ms/step - loss: 0.2299 - acc: 0.9554 - mse: 0.0374 - val_loss: 0.3783 - val_acc: 0.7895 - val_mse: 0.0798\n",
      "Epoch 143/150\n",
      "1/1 [==============================] - 0s 33ms/step - loss: 0.2286 - acc: 0.9554 - mse: 0.0371 - val_loss: 0.3769 - val_acc: 0.7895 - val_mse: 0.0795\n",
      "Epoch 144/150\n",
      "1/1 [==============================] - 0s 34ms/step - loss: 0.2273 - acc: 0.9554 - mse: 0.0369 - val_loss: 0.3755 - val_acc: 0.7895 - val_mse: 0.0793\n",
      "Epoch 145/150\n",
      "1/1 [==============================] - 0s 39ms/step - loss: 0.2260 - acc: 0.9554 - mse: 0.0366 - val_loss: 0.3741 - val_acc: 0.7895 - val_mse: 0.0790\n",
      "Epoch 146/150\n",
      "1/1 [==============================] - 0s 36ms/step - loss: 0.2246 - acc: 0.9554 - mse: 0.0364 - val_loss: 0.3727 - val_acc: 0.7895 - val_mse: 0.0787\n",
      "Epoch 147/150\n",
      "1/1 [==============================] - 0s 42ms/step - loss: 0.2233 - acc: 0.9554 - mse: 0.0361 - val_loss: 0.3712 - val_acc: 0.7895 - val_mse: 0.0785\n",
      "Epoch 148/150\n",
      "1/1 [==============================] - 0s 35ms/step - loss: 0.2221 - acc: 0.9554 - mse: 0.0359 - val_loss: 0.3698 - val_acc: 0.7895 - val_mse: 0.0782\n",
      "Epoch 149/150\n",
      "1/1 [==============================] - 0s 42ms/step - loss: 0.2208 - acc: 0.9554 - mse: 0.0357 - val_loss: 0.3683 - val_acc: 0.7895 - val_mse: 0.0779\n",
      "Epoch 150/150\n",
      "1/1 [==============================] - 0s 33ms/step - loss: 0.2195 - acc: 0.9554 - mse: 0.0354 - val_loss: 0.3669 - val_acc: 0.8158 - val_mse: 0.0776\n"
     ]
    }
   ],
   "source": [
    "#model building\n",
    "\n",
    "#run the code given below and observe the performance of this simple model having no regularization\n",
    "\n",
    "model1 = Sequential([\n",
    "    Dense(512, activation='tanh', input_shape = X_train[0].shape),\n",
    "    Dense(512//2, activation='tanh'),\n",
    "    Dense(512//4, activation='tanh'),\n",
    "    Dense(512//8, activation='tanh'),\n",
    "    Dense(32, activation='relu'),\n",
    "    Dense(3, activation='softmax')\n",
    "])\n",
    "print(model1.summary())\n",
    "model1.compile(optimizer='sgd',loss='categorical_crossentropy', metrics=['acc', 'mse'])\n",
    "\n",
    "hist = model1.fit(X_train, y_train, epochs=150, batch_size=128, validation_data=(X_test,y_test))\n"
   ]
  },
  {
   "cell_type": "code",
   "execution_count": null,
   "metadata": {
    "colab": {
     "base_uri": "https://localhost:8080/"
    },
    "executionInfo": {
     "elapsed": 404,
     "status": "ok",
     "timestamp": 1635756924391,
     "user": {
      "displayName": "Amay Gada",
      "photoUrl": "https://lh3.googleusercontent.com/a-/AOh14GhIegWflm0DVHy8h-sj9l7nvh_87WZPEby6oqxqjw=s64",
      "userId": "18318224108445437394"
     },
     "user_tz": -330
    },
    "id": "BSCQ9zbtsV8m",
    "outputId": "0539b901-e8b3-46bc-b1c1-fd03797525eb"
   },
   "outputs": [
    {
     "name": "stdout",
     "output_type": "stream",
     "text": [
      "2/2 [==============================] - 0s 7ms/step - loss: 0.3669 - acc: 0.8158 - mse: 0.0776\n",
      "Loss is 0.3668859302997589,\n",
      "Accuracy is 81.57894611358643,\n",
      "MSE is 0.07764438539743423\n"
     ]
    }
   ],
   "source": [
    "#After training the model, evaluate the model and find the  loss, accuracy and mse on the test set using the evaluate() function\n",
    "#print the loss, accuracy and MSE\n",
    "\n",
    "\n",
    "#SOLUTION\n",
    "loss1, acc1, mse1 = model1.evaluate(X_test, y_test)\n",
    "print(f\"Loss is {loss1},\\nAccuracy is {acc1*100},\\nMSE is {mse1}\")"
   ]
  },
  {
   "cell_type": "code",
   "execution_count": null,
   "metadata": {
    "colab": {
     "base_uri": "https://localhost:8080/",
     "height": 581
    },
    "executionInfo": {
     "elapsed": 786,
     "status": "ok",
     "timestamp": 1635756929132,
     "user": {
      "displayName": "Amay Gada",
      "photoUrl": "https://lh3.googleusercontent.com/a-/AOh14GhIegWflm0DVHy8h-sj9l7nvh_87WZPEby6oqxqjw=s64",
      "userId": "18318224108445437394"
     },
     "user_tz": -330
    },
    "id": "R2ZWY1pesV8m",
    "outputId": "1a25e9e4-5b4a-4e11-ff4b-f8b268bf3ad6"
   },
   "outputs": [
    {
     "data": {
      "image/png": "[encoded data removed]",
      "text/plain": [
       "<Figure size 432x288 with 1 Axes>"
      ]
     },
     "metadata": {},
     "output_type": "display_data"
    },
    {
     "data": {
      "image/png": "[encoded data removed]",
      "text/plain": [
       "<Figure size 432x288 with 1 Axes>"
      ]
     },
     "metadata": {},
     "output_type": "display_data"
    }
   ],
   "source": [
    "#Observe the plots for Validation Loss and Training Loss.\n",
    "\n",
    "import matplotlib.pyplot as plt\n",
    "plt.style.use('ggplot')\n",
    "plt.plot(hist.history['loss'], label = 'loss')\n",
    "plt.plot(hist.history['val_loss'], label='val loss')\n",
    "plt.title(\"Train Loss vs Val_Loss\")\n",
    "plt.xlabel(\"Epochs\")\n",
    "plt.ylabel(\"Loss\")\n",
    "plt.legend()\n",
    "plt.show()\n",
    "\n",
    "# we observe that validation loss is increasing as compared to training loss. \n",
    "# This increase in training loss shows that our model is overfitted.\n",
    "\n",
    "#similarly we plot for model accuracy \n",
    "plt.plot(hist.history['acc'], label = 'train acc')\n",
    "plt.plot(hist.history['val_acc'], label='val acc')\n",
    "plt.title(\"train acc vs Val_acc\")\n",
    "plt.xlabel(\"Epochs\")\n",
    "plt.ylabel(\"acc\")\n",
    "plt.legend()\n",
    "plt.show()\n",
    "\n",
    "#This again shows that validation accuracy is low as compared to training accuracy, which again shows signs of overfitting. \n"
   ]
  },
  {
   "cell_type": "markdown",
   "metadata": {
    "id": "YbiL-XTssV8n"
   },
   "source": [
    "\n",
    "\n",
    "## L1 Regularization:\n",
    " \n"
   ]
  },
  {
   "cell_type": "code",
   "execution_count": null,
   "metadata": {
    "colab": {
     "base_uri": "https://localhost:8080/"
    },
    "executionInfo": {
     "elapsed": 6856,
     "status": "ok",
     "timestamp": 1635756941632,
     "user": {
      "displayName": "Amay Gada",
      "photoUrl": "https://lh3.googleusercontent.com/a-/AOh14GhIegWflm0DVHy8h-sj9l7nvh_87WZPEby6oqxqjw=s64",
      "userId": "18318224108445437394"
     },
     "user_tz": -330
    },
    "id": "ychbsXyysV8n",
    "outputId": "1b92c680-010a-490a-eff2-138040e5018f"
   },
   "outputs": [
    {
     "name": "stdout",
     "output_type": "stream",
     "text": [
      "Epoch 1/150\n",
      "1/1 [==============================] - 1s 615ms/step - loss: 2.2944 - acc: 0.1607 - mse: 0.2353 - val_loss: 2.2371 - val_acc: 0.2632 - val_mse: 0.2230\n",
      "Epoch 2/150\n",
      "1/1 [==============================] - 0s 27ms/step - loss: 2.2209 - acc: 0.3839 - mse: 0.2195 - val_loss: 2.1755 - val_acc: 0.7105 - val_mse: 0.2094\n",
      "Epoch 3/150\n",
      "1/1 [==============================] - 0s 31ms/step - loss: 2.1552 - acc: 0.8214 - mse: 0.2049 - val_loss: 2.1159 - val_acc: 0.7368 - val_mse: 0.1957\n",
      "Epoch 4/150\n",
      "1/1 [==============================] - 0s 28ms/step - loss: 2.0925 - acc: 0.8393 - mse: 0.1905 - val_loss: 2.0565 - val_acc: 0.7368 - val_mse: 0.1816\n",
      "Epoch 5/150\n",
      "1/1 [==============================] - 0s 28ms/step - loss: 2.0299 - acc: 0.8393 - mse: 0.1758 - val_loss: 2.0060 - val_acc: 0.7368 - val_mse: 0.1696\n",
      "Epoch 6/150\n",
      "1/1 [==============================] - 0s 30ms/step - loss: 1.9751 - acc: 0.8482 - mse: 0.1627 - val_loss: 1.9660 - val_acc: 0.7368 - val_mse: 0.1603\n",
      "Epoch 7/150\n",
      "1/1 [==============================] - 0s 33ms/step - loss: 1.9310 - acc: 0.8571 - mse: 0.1524 - val_loss: 1.9335 - val_acc: 0.7368 - val_mse: 0.1531\n",
      "Epoch 8/150\n",
      "1/1 [==============================] - 0s 28ms/step - loss: 1.8941 - acc: 0.8482 - mse: 0.1440 - val_loss: 1.9064 - val_acc: 0.7368 - val_mse: 0.1473\n",
      "Epoch 9/150\n",
      "1/1 [==============================] - 0s 29ms/step - loss: 1.8630 - acc: 0.8661 - mse: 0.1371 - val_loss: 1.8832 - val_acc: 0.7368 - val_mse: 0.1427\n",
      "Epoch 10/150\n",
      "1/1 [==============================] - 0s 26ms/step - loss: 1.8366 - acc: 0.8571 - mse: 0.1315 - val_loss: 1.8633 - val_acc: 0.7368 - val_mse: 0.1388\n",
      "Epoch 11/150\n",
      "1/1 [==============================] - 0s 29ms/step - loss: 1.8137 - acc: 0.8571 - mse: 0.1268 - val_loss: 1.8457 - val_acc: 0.7368 - val_mse: 0.1356\n",
      "Epoch 12/150\n",
      "1/1 [==============================] - 0s 32ms/step - loss: 1.7936 - acc: 0.8571 - mse: 0.1228 - val_loss: 1.8303 - val_acc: 0.7368 - val_mse: 0.1329\n",
      "Epoch 13/150\n",
      "1/1 [==============================] - 0s 33ms/step - loss: 1.7756 - acc: 0.8571 - mse: 0.1194 - val_loss: 1.8166 - val_acc: 0.7368 - val_mse: 0.1306\n",
      "Epoch 14/150\n",
      "1/1 [==============================] - 0s 33ms/step - loss: 1.7595 - acc: 0.8571 - mse: 0.1164 - val_loss: 1.8040 - val_acc: 0.7368 - val_mse: 0.1285\n",
      "Epoch 15/150\n",
      "1/1 [==============================] - 0s 29ms/step - loss: 1.7444 - acc: 0.8571 - mse: 0.1137 - val_loss: 1.7921 - val_acc: 0.7632 - val_mse: 0.1266\n",
      "Epoch 16/150\n",
      "1/1 [==============================] - 0s 31ms/step - loss: 1.7303 - acc: 0.8571 - mse: 0.1111 - val_loss: 1.7809 - val_acc: 0.7632 - val_mse: 0.1250\n",
      "Epoch 17/150\n",
      "1/1 [==============================] - 0s 36ms/step - loss: 1.7168 - acc: 0.8571 - mse: 0.1088 - val_loss: 1.7706 - val_acc: 0.7632 - val_mse: 0.1234\n",
      "Epoch 18/150\n",
      "1/1 [==============================] - 0s 32ms/step - loss: 1.7042 - acc: 0.8482 - mse: 0.1067 - val_loss: 1.7609 - val_acc: 0.7632 - val_mse: 0.1221\n",
      "Epoch 19/150\n",
      "1/1 [==============================] - 0s 30ms/step - loss: 1.6922 - acc: 0.8482 - mse: 0.1047 - val_loss: 1.7518 - val_acc: 0.7632 - val_mse: 0.1208\n",
      "Epoch 20/150\n",
      "1/1 [==============================] - 0s 33ms/step - loss: 1.6810 - acc: 0.8482 - mse: 0.1028 - val_loss: 1.7433 - val_acc: 0.7632 - val_mse: 0.1197\n",
      "Epoch 21/150\n",
      "1/1 [==============================] - 0s 37ms/step - loss: 1.6703 - acc: 0.8482 - mse: 0.1011 - val_loss: 1.7353 - val_acc: 0.7632 - val_mse: 0.1187\n",
      "Epoch 22/150\n",
      "1/1 [==============================] - 0s 35ms/step - loss: 1.6602 - acc: 0.8482 - mse: 0.0995 - val_loss: 1.7277 - val_acc: 0.7632 - val_mse: 0.1178\n",
      "Epoch 23/150\n",
      "1/1 [==============================] - 0s 31ms/step - loss: 1.6506 - acc: 0.8482 - mse: 0.0980 - val_loss: 1.7206 - val_acc: 0.7632 - val_mse: 0.1169\n",
      "Epoch 24/150\n",
      "1/1 [==============================] - 0s 33ms/step - loss: 1.6414 - acc: 0.8482 - mse: 0.0966 - val_loss: 1.7137 - val_acc: 0.7632 - val_mse: 0.1161\n",
      "Epoch 25/150\n",
      "1/1 [==============================] - 0s 32ms/step - loss: 1.6325 - acc: 0.8482 - mse: 0.0953 - val_loss: 1.7071 - val_acc: 0.7632 - val_mse: 0.1154\n",
      "Epoch 26/150\n",
      "1/1 [==============================] - 0s 40ms/step - loss: 1.6240 - acc: 0.8482 - mse: 0.0940 - val_loss: 1.7007 - val_acc: 0.7632 - val_mse: 0.1147\n",
      "Epoch 27/150\n",
      "1/1 [==============================] - 0s 37ms/step - loss: 1.6157 - acc: 0.8482 - mse: 0.0928 - val_loss: 1.6945 - val_acc: 0.7632 - val_mse: 0.1140\n",
      "Epoch 28/150\n",
      "1/1 [==============================] - 0s 29ms/step - loss: 1.6077 - acc: 0.8571 - mse: 0.0917 - val_loss: 1.6885 - val_acc: 0.7632 - val_mse: 0.1134\n",
      "Epoch 29/150\n",
      "1/1 [==============================] - 0s 32ms/step - loss: 1.5999 - acc: 0.8571 - mse: 0.0906 - val_loss: 1.6827 - val_acc: 0.7632 - val_mse: 0.1128\n",
      "Epoch 30/150\n",
      "1/1 [==============================] - 0s 31ms/step - loss: 1.5924 - acc: 0.8571 - mse: 0.0895 - val_loss: 1.6770 - val_acc: 0.7632 - val_mse: 0.1122\n",
      "Epoch 31/150\n",
      "1/1 [==============================] - 0s 32ms/step - loss: 1.5850 - acc: 0.8571 - mse: 0.0885 - val_loss: 1.6714 - val_acc: 0.7632 - val_mse: 0.1117\n",
      "Epoch 32/150\n",
      "1/1 [==============================] - 0s 37ms/step - loss: 1.5779 - acc: 0.8571 - mse: 0.0875 - val_loss: 1.6660 - val_acc: 0.7368 - val_mse: 0.1111\n",
      "Epoch 33/150\n",
      "1/1 [==============================] - 0s 30ms/step - loss: 1.5709 - acc: 0.8661 - mse: 0.0865 - val_loss: 1.6606 - val_acc: 0.7368 - val_mse: 0.1106\n",
      "Epoch 34/150\n",
      "1/1 [==============================] - 0s 26ms/step - loss: 1.5641 - acc: 0.8661 - mse: 0.0856 - val_loss: 1.6553 - val_acc: 0.7368 - val_mse: 0.1101\n",
      "Epoch 35/150\n",
      "1/1 [==============================] - 0s 28ms/step - loss: 1.5574 - acc: 0.8661 - mse: 0.0847 - val_loss: 1.6501 - val_acc: 0.7368 - val_mse: 0.1096\n",
      "Epoch 36/150\n",
      "1/1 [==============================] - 0s 30ms/step - loss: 1.5509 - acc: 0.8661 - mse: 0.0838 - val_loss: 1.6450 - val_acc: 0.7368 - val_mse: 0.1091\n",
      "Epoch 37/150\n",
      "1/1 [==============================] - 0s 36ms/step - loss: 1.5445 - acc: 0.8661 - mse: 0.0830 - val_loss: 1.6400 - val_acc: 0.7368 - val_mse: 0.1086\n",
      "Epoch 38/150\n",
      "1/1 [==============================] - 0s 34ms/step - loss: 1.5381 - acc: 0.8661 - mse: 0.0821 - val_loss: 1.6350 - val_acc: 0.7368 - val_mse: 0.1081\n",
      "Epoch 39/150\n",
      "1/1 [==============================] - 0s 31ms/step - loss: 1.5318 - acc: 0.8661 - mse: 0.0813 - val_loss: 1.6301 - val_acc: 0.7368 - val_mse: 0.1077\n",
      "Epoch 40/150\n",
      "1/1 [==============================] - 0s 42ms/step - loss: 1.5257 - acc: 0.8661 - mse: 0.0805 - val_loss: 1.6252 - val_acc: 0.7368 - val_mse: 0.1072\n",
      "Epoch 41/150\n",
      "1/1 [==============================] - 0s 32ms/step - loss: 1.5196 - acc: 0.8661 - mse: 0.0797 - val_loss: 1.6204 - val_acc: 0.7368 - val_mse: 0.1068\n",
      "Epoch 42/150\n",
      "1/1 [==============================] - 0s 33ms/step - loss: 1.5136 - acc: 0.8661 - mse: 0.0789 - val_loss: 1.6157 - val_acc: 0.7368 - val_mse: 0.1063\n",
      "Epoch 43/150\n",
      "1/1 [==============================] - 0s 34ms/step - loss: 1.5077 - acc: 0.8661 - mse: 0.0781 - val_loss: 1.6110 - val_acc: 0.7368 - val_mse: 0.1059\n",
      "Epoch 44/150\n",
      "1/1 [==============================] - 0s 31ms/step - loss: 1.5018 - acc: 0.8661 - mse: 0.0773 - val_loss: 1.6063 - val_acc: 0.7368 - val_mse: 0.1055\n",
      "Epoch 45/150\n",
      "1/1 [==============================] - 0s 30ms/step - loss: 1.4961 - acc: 0.8661 - mse: 0.0766 - val_loss: 1.6016 - val_acc: 0.7368 - val_mse: 0.1051\n",
      "Epoch 46/150\n",
      "1/1 [==============================] - 0s 28ms/step - loss: 1.4904 - acc: 0.8661 - mse: 0.0759 - val_loss: 1.5970 - val_acc: 0.7368 - val_mse: 0.1046\n",
      "Epoch 47/150\n",
      "1/1 [==============================] - 0s 30ms/step - loss: 1.4849 - acc: 0.8750 - mse: 0.0752 - val_loss: 1.5925 - val_acc: 0.7632 - val_mse: 0.1042\n",
      "Epoch 48/150\n",
      "1/1 [==============================] - 0s 26ms/step - loss: 1.4794 - acc: 0.8750 - mse: 0.0745 - val_loss: 1.5881 - val_acc: 0.7632 - val_mse: 0.1038\n",
      "Epoch 49/150\n",
      "1/1 [==============================] - 0s 57ms/step - loss: 1.4741 - acc: 0.8750 - mse: 0.0739 - val_loss: 1.5837 - val_acc: 0.7632 - val_mse: 0.1035\n",
      "Epoch 50/150\n",
      "1/1 [==============================] - 0s 32ms/step - loss: 1.4689 - acc: 0.8750 - mse: 0.0732 - val_loss: 1.5794 - val_acc: 0.7632 - val_mse: 0.1031\n",
      "Epoch 51/150\n",
      "1/1 [==============================] - 0s 32ms/step - loss: 1.4637 - acc: 0.8750 - mse: 0.0726 - val_loss: 1.5752 - val_acc: 0.7632 - val_mse: 0.1027\n",
      "Epoch 52/150\n",
      "1/1 [==============================] - 0s 33ms/step - loss: 1.4586 - acc: 0.8750 - mse: 0.0720 - val_loss: 1.5710 - val_acc: 0.7632 - val_mse: 0.1024\n",
      "Epoch 53/150\n",
      "1/1 [==============================] - 0s 32ms/step - loss: 1.4536 - acc: 0.8750 - mse: 0.0714 - val_loss: 1.5669 - val_acc: 0.7632 - val_mse: 0.1021\n",
      "Epoch 54/150\n",
      "1/1 [==============================] - 0s 31ms/step - loss: 1.4487 - acc: 0.8750 - mse: 0.0708 - val_loss: 1.5628 - val_acc: 0.7632 - val_mse: 0.1017\n",
      "Epoch 55/150\n",
      "1/1 [==============================] - 0s 38ms/step - loss: 1.4438 - acc: 0.8750 - mse: 0.0702 - val_loss: 1.5588 - val_acc: 0.7632 - val_mse: 0.1014\n",
      "Epoch 56/150\n",
      "1/1 [==============================] - 0s 35ms/step - loss: 1.4390 - acc: 0.8750 - mse: 0.0697 - val_loss: 1.5548 - val_acc: 0.7632 - val_mse: 0.1011\n",
      "Epoch 57/150\n",
      "1/1 [==============================] - 0s 37ms/step - loss: 1.4342 - acc: 0.8750 - mse: 0.0692 - val_loss: 1.5509 - val_acc: 0.7632 - val_mse: 0.1008\n",
      "Epoch 58/150\n",
      "1/1 [==============================] - 0s 43ms/step - loss: 1.4295 - acc: 0.8750 - mse: 0.0686 - val_loss: 1.5470 - val_acc: 0.7632 - val_mse: 0.1005\n",
      "Epoch 59/150\n",
      "1/1 [==============================] - 0s 32ms/step - loss: 1.4249 - acc: 0.8750 - mse: 0.0681 - val_loss: 1.5431 - val_acc: 0.7632 - val_mse: 0.1002\n",
      "Epoch 60/150\n",
      "1/1 [==============================] - 0s 30ms/step - loss: 1.4203 - acc: 0.8750 - mse: 0.0676 - val_loss: 1.5393 - val_acc: 0.7632 - val_mse: 0.0999\n",
      "Epoch 61/150\n",
      "1/1 [==============================] - 0s 34ms/step - loss: 1.4158 - acc: 0.8750 - mse: 0.0671 - val_loss: 1.5355 - val_acc: 0.7632 - val_mse: 0.0996\n",
      "Epoch 62/150\n",
      "1/1 [==============================] - 0s 31ms/step - loss: 1.4113 - acc: 0.8750 - mse: 0.0666 - val_loss: 1.5317 - val_acc: 0.7632 - val_mse: 0.0994\n",
      "Epoch 63/150\n",
      "1/1 [==============================] - 0s 54ms/step - loss: 1.4069 - acc: 0.8750 - mse: 0.0661 - val_loss: 1.5279 - val_acc: 0.7632 - val_mse: 0.0991\n",
      "Epoch 64/150\n",
      "1/1 [==============================] - 0s 28ms/step - loss: 1.4025 - acc: 0.8750 - mse: 0.0656 - val_loss: 1.5241 - val_acc: 0.7632 - val_mse: 0.0988\n",
      "Epoch 65/150\n",
      "1/1 [==============================] - 0s 31ms/step - loss: 1.3982 - acc: 0.8839 - mse: 0.0652 - val_loss: 1.5204 - val_acc: 0.7632 - val_mse: 0.0985\n",
      "Epoch 66/150\n",
      "1/1 [==============================] - 0s 28ms/step - loss: 1.3939 - acc: 0.8839 - mse: 0.0647 - val_loss: 1.5167 - val_acc: 0.7632 - val_mse: 0.0982\n",
      "Epoch 67/150\n",
      "1/1 [==============================] - 0s 28ms/step - loss: 1.3897 - acc: 0.8839 - mse: 0.0643 - val_loss: 1.5131 - val_acc: 0.7632 - val_mse: 0.0980\n",
      "Epoch 68/150\n",
      "1/1 [==============================] - 0s 33ms/step - loss: 1.3855 - acc: 0.8839 - mse: 0.0638 - val_loss: 1.5095 - val_acc: 0.7632 - val_mse: 0.0977\n",
      "Epoch 69/150\n",
      "1/1 [==============================] - 0s 28ms/step - loss: 1.3814 - acc: 0.8839 - mse: 0.0634 - val_loss: 1.5059 - val_acc: 0.7632 - val_mse: 0.0974\n",
      "Epoch 70/150\n",
      "1/1 [==============================] - 0s 28ms/step - loss: 1.3773 - acc: 0.8839 - mse: 0.0630 - val_loss: 1.5022 - val_acc: 0.7632 - val_mse: 0.0972\n",
      "Epoch 71/150\n",
      "1/1 [==============================] - 0s 34ms/step - loss: 1.3733 - acc: 0.8929 - mse: 0.0626 - val_loss: 1.4986 - val_acc: 0.7632 - val_mse: 0.0969\n",
      "Epoch 72/150\n",
      "1/1 [==============================] - 0s 28ms/step - loss: 1.3692 - acc: 0.8929 - mse: 0.0621 - val_loss: 1.4950 - val_acc: 0.7632 - val_mse: 0.0966\n",
      "Epoch 73/150\n",
      "1/1 [==============================] - 0s 33ms/step - loss: 1.3652 - acc: 0.8929 - mse: 0.0617 - val_loss: 1.4914 - val_acc: 0.7632 - val_mse: 0.0963\n",
      "Epoch 74/150\n",
      "1/1 [==============================] - 0s 30ms/step - loss: 1.3612 - acc: 0.8929 - mse: 0.0613 - val_loss: 1.4878 - val_acc: 0.7632 - val_mse: 0.0961\n",
      "Epoch 75/150\n",
      "1/1 [==============================] - 0s 34ms/step - loss: 1.3573 - acc: 0.8929 - mse: 0.0609 - val_loss: 1.4843 - val_acc: 0.7632 - val_mse: 0.0958\n",
      "Epoch 76/150\n",
      "1/1 [==============================] - 0s 29ms/step - loss: 1.3533 - acc: 0.8929 - mse: 0.0605 - val_loss: 1.4807 - val_acc: 0.7632 - val_mse: 0.0955\n",
      "Epoch 77/150\n",
      "1/1 [==============================] - 0s 29ms/step - loss: 1.3494 - acc: 0.8929 - mse: 0.0601 - val_loss: 1.4772 - val_acc: 0.7632 - val_mse: 0.0952\n",
      "Epoch 78/150\n",
      "1/1 [==============================] - 0s 29ms/step - loss: 1.3455 - acc: 0.8929 - mse: 0.0597 - val_loss: 1.4737 - val_acc: 0.7632 - val_mse: 0.0950\n",
      "Epoch 79/150\n",
      "1/1 [==============================] - 0s 33ms/step - loss: 1.3417 - acc: 0.8929 - mse: 0.0594 - val_loss: 1.4702 - val_acc: 0.7632 - val_mse: 0.0947\n",
      "Epoch 80/150\n",
      "1/1 [==============================] - 0s 33ms/step - loss: 1.3379 - acc: 0.8929 - mse: 0.0590 - val_loss: 1.4668 - val_acc: 0.7632 - val_mse: 0.0945\n",
      "Epoch 81/150\n",
      "1/1 [==============================] - 0s 34ms/step - loss: 1.3341 - acc: 0.8929 - mse: 0.0586 - val_loss: 1.4633 - val_acc: 0.7632 - val_mse: 0.0942\n",
      "Epoch 82/150\n",
      "1/1 [==============================] - 0s 33ms/step - loss: 1.3303 - acc: 0.8929 - mse: 0.0583 - val_loss: 1.4599 - val_acc: 0.7632 - val_mse: 0.0940\n",
      "Epoch 83/150\n",
      "1/1 [==============================] - 0s 29ms/step - loss: 1.3266 - acc: 0.8929 - mse: 0.0579 - val_loss: 1.4565 - val_acc: 0.7632 - val_mse: 0.0937\n",
      "Epoch 84/150\n",
      "1/1 [==============================] - 0s 28ms/step - loss: 1.3229 - acc: 0.8929 - mse: 0.0575 - val_loss: 1.4531 - val_acc: 0.7632 - val_mse: 0.0935\n",
      "Epoch 85/150\n",
      "1/1 [==============================] - 0s 28ms/step - loss: 1.3193 - acc: 0.8929 - mse: 0.0572 - val_loss: 1.4498 - val_acc: 0.7632 - val_mse: 0.0932\n",
      "Epoch 86/150\n",
      "1/1 [==============================] - 0s 30ms/step - loss: 1.3156 - acc: 0.8929 - mse: 0.0569 - val_loss: 1.4464 - val_acc: 0.7632 - val_mse: 0.0930\n",
      "Epoch 87/150\n",
      "1/1 [==============================] - 0s 31ms/step - loss: 1.3120 - acc: 0.8929 - mse: 0.0565 - val_loss: 1.4431 - val_acc: 0.7632 - val_mse: 0.0927\n",
      "Epoch 88/150\n",
      "1/1 [==============================] - 0s 28ms/step - loss: 1.3084 - acc: 0.9107 - mse: 0.0562 - val_loss: 1.4398 - val_acc: 0.7632 - val_mse: 0.0925\n",
      "Epoch 89/150\n",
      "1/1 [==============================] - 0s 32ms/step - loss: 1.3048 - acc: 0.9107 - mse: 0.0558 - val_loss: 1.4364 - val_acc: 0.7632 - val_mse: 0.0922\n",
      "Epoch 90/150\n",
      "1/1 [==============================] - 0s 32ms/step - loss: 1.3012 - acc: 0.9107 - mse: 0.0555 - val_loss: 1.4330 - val_acc: 0.7632 - val_mse: 0.0920\n",
      "Epoch 91/150\n",
      "1/1 [==============================] - 0s 29ms/step - loss: 1.2976 - acc: 0.9107 - mse: 0.0552 - val_loss: 1.4296 - val_acc: 0.7895 - val_mse: 0.0917\n",
      "Epoch 92/150\n",
      "1/1 [==============================] - 0s 29ms/step - loss: 1.2941 - acc: 0.9196 - mse: 0.0548 - val_loss: 1.4262 - val_acc: 0.7895 - val_mse: 0.0914\n",
      "Epoch 93/150\n",
      "1/1 [==============================] - 0s 29ms/step - loss: 1.2905 - acc: 0.9196 - mse: 0.0545 - val_loss: 1.4228 - val_acc: 0.7895 - val_mse: 0.0912\n",
      "Epoch 94/150\n",
      "1/1 [==============================] - 0s 34ms/step - loss: 1.2870 - acc: 0.9196 - mse: 0.0542 - val_loss: 1.4195 - val_acc: 0.7895 - val_mse: 0.0909\n",
      "Epoch 95/150\n",
      "1/1 [==============================] - 0s 34ms/step - loss: 1.2835 - acc: 0.9196 - mse: 0.0539 - val_loss: 1.4162 - val_acc: 0.7895 - val_mse: 0.0907\n",
      "Epoch 96/150\n",
      "1/1 [==============================] - 0s 40ms/step - loss: 1.2800 - acc: 0.9196 - mse: 0.0535 - val_loss: 1.4129 - val_acc: 0.7895 - val_mse: 0.0904\n",
      "Epoch 97/150\n",
      "1/1 [==============================] - 0s 48ms/step - loss: 1.2766 - acc: 0.9196 - mse: 0.0532 - val_loss: 1.4096 - val_acc: 0.7895 - val_mse: 0.0902\n",
      "Epoch 98/150\n",
      "1/1 [==============================] - 0s 32ms/step - loss: 1.2732 - acc: 0.9196 - mse: 0.0529 - val_loss: 1.4064 - val_acc: 0.7895 - val_mse: 0.0899\n",
      "Epoch 99/150\n",
      "1/1 [==============================] - 0s 41ms/step - loss: 1.2698 - acc: 0.9196 - mse: 0.0526 - val_loss: 1.4032 - val_acc: 0.7895 - val_mse: 0.0897\n",
      "Epoch 100/150\n",
      "1/1 [==============================] - 0s 30ms/step - loss: 1.2664 - acc: 0.9196 - mse: 0.0523 - val_loss: 1.4000 - val_acc: 0.7895 - val_mse: 0.0895\n",
      "Epoch 101/150\n",
      "1/1 [==============================] - 0s 28ms/step - loss: 1.2630 - acc: 0.9286 - mse: 0.0520 - val_loss: 1.3968 - val_acc: 0.7895 - val_mse: 0.0892\n",
      "Epoch 102/150\n",
      "1/1 [==============================] - 0s 35ms/step - loss: 1.2596 - acc: 0.9286 - mse: 0.0517 - val_loss: 1.3936 - val_acc: 0.7895 - val_mse: 0.0890\n",
      "Epoch 103/150\n",
      "1/1 [==============================] - 0s 36ms/step - loss: 1.2563 - acc: 0.9286 - mse: 0.0514 - val_loss: 1.3904 - val_acc: 0.7895 - val_mse: 0.0887\n",
      "Epoch 104/150\n",
      "1/1 [==============================] - 0s 31ms/step - loss: 1.2529 - acc: 0.9286 - mse: 0.0511 - val_loss: 1.3872 - val_acc: 0.7895 - val_mse: 0.0885\n",
      "Epoch 105/150\n",
      "1/1 [==============================] - 0s 33ms/step - loss: 1.2496 - acc: 0.9286 - mse: 0.0508 - val_loss: 1.3840 - val_acc: 0.7895 - val_mse: 0.0883\n",
      "Epoch 106/150\n",
      "1/1 [==============================] - 0s 34ms/step - loss: 1.2463 - acc: 0.9286 - mse: 0.0505 - val_loss: 1.3808 - val_acc: 0.7895 - val_mse: 0.0880\n",
      "Epoch 107/150\n",
      "1/1 [==============================] - 0s 38ms/step - loss: 1.2430 - acc: 0.9286 - mse: 0.0502 - val_loss: 1.3777 - val_acc: 0.7895 - val_mse: 0.0878\n",
      "Epoch 108/150\n",
      "1/1 [==============================] - 0s 35ms/step - loss: 1.2398 - acc: 0.9286 - mse: 0.0500 - val_loss: 1.3744 - val_acc: 0.7895 - val_mse: 0.0875\n",
      "Epoch 109/150\n",
      "1/1 [==============================] - 0s 40ms/step - loss: 1.2365 - acc: 0.9286 - mse: 0.0497 - val_loss: 1.3712 - val_acc: 0.7632 - val_mse: 0.0873\n",
      "Epoch 110/150\n",
      "1/1 [==============================] - 0s 33ms/step - loss: 1.2333 - acc: 0.9286 - mse: 0.0494 - val_loss: 1.3681 - val_acc: 0.7632 - val_mse: 0.0870\n",
      "Epoch 111/150\n",
      "1/1 [==============================] - 0s 32ms/step - loss: 1.2301 - acc: 0.9286 - mse: 0.0491 - val_loss: 1.3649 - val_acc: 0.7632 - val_mse: 0.0868\n",
      "Epoch 112/150\n",
      "1/1 [==============================] - 0s 34ms/step - loss: 1.2269 - acc: 0.9286 - mse: 0.0489 - val_loss: 1.3618 - val_acc: 0.7632 - val_mse: 0.0865\n",
      "Epoch 113/150\n",
      "1/1 [==============================] - 0s 36ms/step - loss: 1.2237 - acc: 0.9286 - mse: 0.0486 - val_loss: 1.3586 - val_acc: 0.7632 - val_mse: 0.0863\n",
      "Epoch 114/150\n",
      "1/1 [==============================] - 0s 33ms/step - loss: 1.2206 - acc: 0.9286 - mse: 0.0483 - val_loss: 1.3555 - val_acc: 0.7632 - val_mse: 0.0860\n",
      "Epoch 115/150\n",
      "1/1 [==============================] - 0s 43ms/step - loss: 1.2174 - acc: 0.9286 - mse: 0.0480 - val_loss: 1.3524 - val_acc: 0.7632 - val_mse: 0.0858\n",
      "Epoch 116/150\n",
      "1/1 [==============================] - 0s 35ms/step - loss: 1.2143 - acc: 0.9286 - mse: 0.0478 - val_loss: 1.3493 - val_acc: 0.7632 - val_mse: 0.0856\n",
      "Epoch 117/150\n",
      "1/1 [==============================] - 0s 34ms/step - loss: 1.2111 - acc: 0.9286 - mse: 0.0475 - val_loss: 1.3462 - val_acc: 0.7632 - val_mse: 0.0853\n",
      "Epoch 118/150\n",
      "1/1 [==============================] - 0s 54ms/step - loss: 1.2080 - acc: 0.9286 - mse: 0.0473 - val_loss: 1.3431 - val_acc: 0.7632 - val_mse: 0.0851\n",
      "Epoch 119/150\n",
      "1/1 [==============================] - 0s 32ms/step - loss: 1.2049 - acc: 0.9286 - mse: 0.0470 - val_loss: 1.3400 - val_acc: 0.7632 - val_mse: 0.0848\n",
      "Epoch 120/150\n",
      "1/1 [==============================] - 0s 29ms/step - loss: 1.2018 - acc: 0.9286 - mse: 0.0467 - val_loss: 1.3370 - val_acc: 0.7632 - val_mse: 0.0846\n",
      "Epoch 121/150\n",
      "1/1 [==============================] - 0s 41ms/step - loss: 1.1988 - acc: 0.9286 - mse: 0.0465 - val_loss: 1.3339 - val_acc: 0.7632 - val_mse: 0.0844\n",
      "Epoch 122/150\n",
      "1/1 [==============================] - 0s 38ms/step - loss: 1.1957 - acc: 0.9286 - mse: 0.0462 - val_loss: 1.3308 - val_acc: 0.7632 - val_mse: 0.0841\n",
      "Epoch 123/150\n",
      "1/1 [==============================] - 0s 32ms/step - loss: 1.1926 - acc: 0.9286 - mse: 0.0460 - val_loss: 1.3277 - val_acc: 0.7632 - val_mse: 0.0839\n",
      "Epoch 124/150\n",
      "1/1 [==============================] - 0s 35ms/step - loss: 1.1896 - acc: 0.9286 - mse: 0.0457 - val_loss: 1.3247 - val_acc: 0.7632 - val_mse: 0.0836\n",
      "Epoch 125/150\n",
      "1/1 [==============================] - 0s 33ms/step - loss: 1.1866 - acc: 0.9286 - mse: 0.0455 - val_loss: 1.3216 - val_acc: 0.7632 - val_mse: 0.0834\n",
      "Epoch 126/150\n",
      "1/1 [==============================] - 0s 39ms/step - loss: 1.1836 - acc: 0.9286 - mse: 0.0452 - val_loss: 1.3186 - val_acc: 0.7632 - val_mse: 0.0831\n",
      "Epoch 127/150\n",
      "1/1 [==============================] - 0s 28ms/step - loss: 1.1806 - acc: 0.9286 - mse: 0.0450 - val_loss: 1.3155 - val_acc: 0.7632 - val_mse: 0.0829\n",
      "Epoch 128/150\n",
      "1/1 [==============================] - 0s 36ms/step - loss: 1.1776 - acc: 0.9286 - mse: 0.0448 - val_loss: 1.3125 - val_acc: 0.7632 - val_mse: 0.0826\n",
      "Epoch 129/150\n",
      "1/1 [==============================] - 0s 36ms/step - loss: 1.1746 - acc: 0.9286 - mse: 0.0445 - val_loss: 1.3094 - val_acc: 0.7632 - val_mse: 0.0824\n",
      "Epoch 130/150\n",
      "1/1 [==============================] - 0s 33ms/step - loss: 1.1716 - acc: 0.9375 - mse: 0.0443 - val_loss: 1.3064 - val_acc: 0.7632 - val_mse: 0.0822\n",
      "Epoch 131/150\n",
      "1/1 [==============================] - 0s 38ms/step - loss: 1.1686 - acc: 0.9375 - mse: 0.0440 - val_loss: 1.3034 - val_acc: 0.7632 - val_mse: 0.0819\n",
      "Epoch 132/150\n",
      "1/1 [==============================] - 0s 34ms/step - loss: 1.1657 - acc: 0.9375 - mse: 0.0438 - val_loss: 1.3004 - val_acc: 0.7632 - val_mse: 0.0817\n",
      "Epoch 133/150\n",
      "1/1 [==============================] - 0s 53ms/step - loss: 1.1628 - acc: 0.9375 - mse: 0.0436 - val_loss: 1.2974 - val_acc: 0.7632 - val_mse: 0.0814\n",
      "Epoch 134/150\n",
      "1/1 [==============================] - 0s 29ms/step - loss: 1.1598 - acc: 0.9375 - mse: 0.0433 - val_loss: 1.2944 - val_acc: 0.7632 - val_mse: 0.0812\n",
      "Epoch 135/150\n",
      "1/1 [==============================] - 0s 40ms/step - loss: 1.1569 - acc: 0.9375 - mse: 0.0431 - val_loss: 1.2913 - val_acc: 0.7632 - val_mse: 0.0809\n",
      "Epoch 136/150\n",
      "1/1 [==============================] - 0s 32ms/step - loss: 1.1540 - acc: 0.9375 - mse: 0.0429 - val_loss: 1.2884 - val_acc: 0.7632 - val_mse: 0.0807\n",
      "Epoch 137/150\n",
      "1/1 [==============================] - 0s 38ms/step - loss: 1.1511 - acc: 0.9375 - mse: 0.0426 - val_loss: 1.2853 - val_acc: 0.7632 - val_mse: 0.0804\n",
      "Epoch 138/150\n",
      "1/1 [==============================] - 0s 33ms/step - loss: 1.1482 - acc: 0.9375 - mse: 0.0424 - val_loss: 1.2824 - val_acc: 0.7632 - val_mse: 0.0802\n",
      "Epoch 139/150\n",
      "1/1 [==============================] - 0s 34ms/step - loss: 1.1454 - acc: 0.9375 - mse: 0.0422 - val_loss: 1.2794 - val_acc: 0.7632 - val_mse: 0.0799\n",
      "Epoch 140/150\n",
      "1/1 [==============================] - 0s 38ms/step - loss: 1.1425 - acc: 0.9375 - mse: 0.0420 - val_loss: 1.2764 - val_acc: 0.7632 - val_mse: 0.0797\n",
      "Epoch 141/150\n",
      "1/1 [==============================] - 0s 37ms/step - loss: 1.1396 - acc: 0.9375 - mse: 0.0417 - val_loss: 1.2735 - val_acc: 0.7632 - val_mse: 0.0794\n",
      "Epoch 142/150\n",
      "1/1 [==============================] - 0s 39ms/step - loss: 1.1368 - acc: 0.9375 - mse: 0.0415 - val_loss: 1.2706 - val_acc: 0.7632 - val_mse: 0.0792\n",
      "Epoch 143/150\n",
      "1/1 [==============================] - 0s 38ms/step - loss: 1.1340 - acc: 0.9375 - mse: 0.0413 - val_loss: 1.2676 - val_acc: 0.7632 - val_mse: 0.0790\n",
      "Epoch 144/150\n",
      "1/1 [==============================] - 0s 30ms/step - loss: 1.1311 - acc: 0.9375 - mse: 0.0411 - val_loss: 1.2646 - val_acc: 0.7632 - val_mse: 0.0787\n",
      "Epoch 145/150\n",
      "1/1 [==============================] - 0s 55ms/step - loss: 1.1283 - acc: 0.9375 - mse: 0.0409 - val_loss: 1.2617 - val_acc: 0.7632 - val_mse: 0.0785\n",
      "Epoch 146/150\n",
      "1/1 [==============================] - 0s 32ms/step - loss: 1.1255 - acc: 0.9375 - mse: 0.0406 - val_loss: 1.2587 - val_acc: 0.7632 - val_mse: 0.0782\n",
      "Epoch 147/150\n",
      "1/1 [==============================] - 0s 31ms/step - loss: 1.1227 - acc: 0.9375 - mse: 0.0404 - val_loss: 1.2558 - val_acc: 0.7632 - val_mse: 0.0780\n",
      "Epoch 148/150\n",
      "1/1 [==============================] - 0s 49ms/step - loss: 1.1199 - acc: 0.9375 - mse: 0.0402 - val_loss: 1.2529 - val_acc: 0.7632 - val_mse: 0.0777\n",
      "Epoch 149/150\n",
      "1/1 [==============================] - 0s 36ms/step - loss: 1.1171 - acc: 0.9375 - mse: 0.0400 - val_loss: 1.2500 - val_acc: 0.7632 - val_mse: 0.0775\n",
      "Epoch 150/150\n",
      "1/1 [==============================] - 0s 31ms/step - loss: 1.1143 - acc: 0.9375 - mse: 0.0398 - val_loss: 1.2470 - val_acc: 0.7632 - val_mse: 0.0772\n"
     ]
    }
   ],
   "source": [
    "\n",
    "#A commonly used Regularization technique is L1 regularization, also known as Lasso Regularization.\n",
    "\n",
    "#The main concept of L1 Regularization is that we have to penalize our weights by adding absolute values of weight in our loss function, multiplied by a regularization parameter lambda λ, where λ is manually tuned to be greater than 0.\n",
    "\n",
    "\n",
    "\n",
    "#to implement L1 regularization, create another model called model2 similar to model1, this time add an extra parameter kernel_regularizer, which we set it to ‘l1’ for L1 Regularization in the first Dense layer.\n",
    "\n",
    "#SOLUTION\n",
    "\n",
    "model2 = Sequential([\n",
    "    Dense(512, activation='tanh', input_shape = X_train[0].shape, kernel_regularizer='l1'), #Only change is here where we add kernel_regularizer\n",
    "    Dense(512//2, activation='tanh'),\n",
    "    Dense(512//4, activation='tanh'),\n",
    "    Dense(512//8, activation='tanh'),\n",
    "    Dense(32, activation='relu'),\n",
    "    Dense(3, activation='softmax')\n",
    "])\n",
    "\n",
    "model2.compile(optimizer='sgd',loss='categorical_crossentropy', metrics=['acc', 'mse'])\n",
    "hist2 = model2.fit(X_train, y_train, epochs=150, batch_size=128, validation_data=(X_test,y_test))\n",
    "\n"
   ]
  },
  {
   "cell_type": "code",
   "execution_count": null,
   "metadata": {
    "colab": {
     "base_uri": "https://localhost:8080/"
    },
    "executionInfo": {
     "elapsed": 10,
     "status": "ok",
     "timestamp": 1635756947854,
     "user": {
      "displayName": "Amay Gada",
      "photoUrl": "https://lh3.googleusercontent.com/a-/AOh14GhIegWflm0DVHy8h-sj9l7nvh_87WZPEby6oqxqjw=s64",
      "userId": "18318224108445437394"
     },
     "user_tz": -330
    },
    "id": "4xS9_xSmsV8n",
    "outputId": "1dc3fd0c-39eb-47bf-f496-f431cc60a771"
   },
   "outputs": [
    {
     "name": "stdout",
     "output_type": "stream",
     "text": [
      "2/2 [==============================] - 0s 6ms/step - loss: 1.2470 - acc: 0.7632 - mse: 0.0772\n",
      "Loss is 1.247044563293457,\n",
      "Accuracy is 76.31579041481018,\n",
      "MSE is 0.07724769413471222\n"
     ]
    }
   ],
   "source": [
    "\n",
    "\n",
    "#just how we used evaluate() in the basic model previously, use it again to find the loss, accuracy and MSE on the test set\n",
    "\n",
    "#SOLUTION\n",
    "loss2, acc2, mse2 = model2.evaluate(X_test, y_test)\n",
    "print(f\"Loss is {loss2},\\nAccuracy is {acc2 * 100},\\nMSE is {mse2}\")\n",
    "\n",
    " \n"
   ]
  },
  {
   "cell_type": "code",
   "execution_count": null,
   "metadata": {
    "colab": {
     "base_uri": "https://localhost:8080/",
     "height": 581
    },
    "executionInfo": {
     "elapsed": 688,
     "status": "ok",
     "timestamp": 1635756953067,
     "user": {
      "displayName": "Amay Gada",
      "photoUrl": "https://lh3.googleusercontent.com/a-/AOh14GhIegWflm0DVHy8h-sj9l7nvh_87WZPEby6oqxqjw=s64",
      "userId": "18318224108445437394"
     },
     "user_tz": -330
    },
    "id": "yOPINy7vsV8o",
    "outputId": "ca9c9990-19d7-4a29-e888-5e84d3b31d10"
   },
   "outputs": [
    {
     "data": {
      "image/png": "[encoded data removed]",
      "text/plain": [
       "<Figure size 432x288 with 1 Axes>"
      ]
     },
     "metadata": {},
     "output_type": "display_data"
    },
    {
     "data": {
      "image/png": "[encoded data removed]",
      "text/plain": [
       "<Figure size 432x288 with 1 Axes>"
      ]
     },
     "metadata": {},
     "output_type": "display_data"
    }
   ],
   "source": [
    "# Plot the train loss vs validation loss and train accuracy vs validation accuracy graphs just like we did before\n",
    "\n",
    "\n",
    "#SOLUTION:\n",
    "plt.plot(hist2.history['loss'], label = 'loss')\n",
    "plt.plot(hist2.history['val_loss'], label='val loss')\n",
    "plt.title('Loss vs Val_Loss')\n",
    "plt.xlabel('Epochs')\n",
    "plt.ylabel('Loss')\n",
    "plt.legend()\n",
    "plt.show()\n",
    "\n",
    "plt.plot(hist2.history['acc'], label = 'acc')\n",
    "plt.plot(hist2.history['val_acc'], label='val acc')\n",
    "plt.title(\"acc vs Val_acc\")\n",
    "plt.xlabel('Epochs')\n",
    "plt.ylabel('acc')\n",
    "plt.legend()\n",
    "plt.show()\n",
    "\n",
    " \n"
   ]
  },
  {
   "cell_type": "code",
   "execution_count": null,
   "metadata": {
    "colab": {
     "base_uri": "https://localhost:8080/"
    },
    "executionInfo": {
     "elapsed": 6268,
     "status": "ok",
     "timestamp": 1635756976940,
     "user": {
      "displayName": "Amay Gada",
      "photoUrl": "https://lh3.googleusercontent.com/a-/AOh14GhIegWflm0DVHy8h-sj9l7nvh_87WZPEby6oqxqjw=s64",
      "userId": "18318224108445437394"
     },
     "user_tz": -330
    },
    "id": "hhWDeo-ZsV8o",
    "outputId": "f3577819-538f-457e-c21f-22fd4355816d"
   },
   "outputs": [
    {
     "name": "stdout",
     "output_type": "stream",
     "text": [
      "Epoch 1/150\n",
      "1/1 - 1s - loss: 90.4061 - acc: 0.1518 - mse: 0.2329 - val_loss: 90.1544 - val_acc: 0.3421 - val_mse: 0.2160\n",
      "Epoch 2/150\n",
      "1/1 - 0s - loss: 90.1876 - acc: 0.2321 - mse: 0.2233 - val_loss: 89.9520 - val_acc: 0.5000 - val_mse: 0.2097\n",
      "Epoch 3/150\n",
      "1/1 - 0s - loss: 89.9796 - acc: 0.3214 - mse: 0.2160 - val_loss: 89.7535 - val_acc: 0.6579 - val_mse: 0.2042\n",
      "Epoch 4/150\n",
      "1/1 - 0s - loss: 89.7767 - acc: 0.5000 - mse: 0.2097 - val_loss: 89.5562 - val_acc: 0.7105 - val_mse: 0.1989\n",
      "Epoch 5/150\n",
      "1/1 - 0s - loss: 89.5760 - acc: 0.5893 - mse: 0.2039 - val_loss: 89.3597 - val_acc: 0.7105 - val_mse: 0.1937\n",
      "Epoch 6/150\n",
      "1/1 - 0s - loss: 89.3766 - acc: 0.6161 - mse: 0.1982 - val_loss: 89.1622 - val_acc: 0.7105 - val_mse: 0.1882\n",
      "Epoch 7/150\n",
      "1/1 - 0s - loss: 89.1766 - acc: 0.6250 - mse: 0.1923 - val_loss: 88.9629 - val_acc: 0.7368 - val_mse: 0.1822\n",
      "Epoch 8/150\n",
      "1/1 - 0s - loss: 88.9758 - acc: 0.6429 - mse: 0.1860 - val_loss: 88.7656 - val_acc: 0.7368 - val_mse: 0.1765\n",
      "Epoch 9/150\n",
      "1/1 - 0s - loss: 88.7773 - acc: 0.6429 - mse: 0.1802 - val_loss: 88.5706 - val_acc: 0.7368 - val_mse: 0.1714\n",
      "Epoch 10/150\n",
      "1/1 - 0s - loss: 88.5811 - acc: 0.6429 - mse: 0.1748 - val_loss: 88.3772 - val_acc: 0.7368 - val_mse: 0.1667\n",
      "Epoch 11/150\n",
      "1/1 - 0s - loss: 88.3868 - acc: 0.6339 - mse: 0.1699 - val_loss: 88.1854 - val_acc: 0.7105 - val_mse: 0.1623\n",
      "Epoch 12/150\n",
      "1/1 - 0s - loss: 88.1943 - acc: 0.6518 - mse: 0.1654 - val_loss: 87.9951 - val_acc: 0.7632 - val_mse: 0.1582\n",
      "Epoch 13/150\n",
      "1/1 - 0s - loss: 88.0033 - acc: 0.6696 - mse: 0.1612 - val_loss: 87.8062 - val_acc: 0.7895 - val_mse: 0.1545\n",
      "Epoch 14/150\n",
      "1/1 - 0s - loss: 87.8136 - acc: 0.7054 - mse: 0.1573 - val_loss: 87.6186 - val_acc: 0.8158 - val_mse: 0.1511\n",
      "Epoch 15/150\n",
      "1/1 - 0s - loss: 87.6250 - acc: 0.7321 - mse: 0.1537 - val_loss: 87.4321 - val_acc: 0.8158 - val_mse: 0.1479\n",
      "Epoch 16/150\n",
      "1/1 - 0s - loss: 87.4374 - acc: 0.7589 - mse: 0.1502 - val_loss: 87.2466 - val_acc: 0.8158 - val_mse: 0.1449\n",
      "Epoch 17/150\n",
      "1/1 - 0s - loss: 87.2507 - acc: 0.8036 - mse: 0.1469 - val_loss: 87.0621 - val_acc: 0.8421 - val_mse: 0.1421\n",
      "Epoch 18/150\n",
      "1/1 - 0s - loss: 87.0650 - acc: 0.8125 - mse: 0.1438 - val_loss: 86.8784 - val_acc: 0.8421 - val_mse: 0.1395\n",
      "Epoch 19/150\n",
      "1/1 - 0s - loss: 86.8800 - acc: 0.8214 - mse: 0.1409 - val_loss: 86.6956 - val_acc: 0.8158 - val_mse: 0.1371\n",
      "Epoch 20/150\n",
      "1/1 - 0s - loss: 86.6958 - acc: 0.8304 - mse: 0.1381 - val_loss: 86.5136 - val_acc: 0.8158 - val_mse: 0.1349\n",
      "Epoch 21/150\n",
      "1/1 - 0s - loss: 86.5124 - acc: 0.8304 - mse: 0.1355 - val_loss: 86.3322 - val_acc: 0.8158 - val_mse: 0.1327\n",
      "Epoch 22/150\n",
      "1/1 - 0s - loss: 86.3294 - acc: 0.8393 - mse: 0.1329 - val_loss: 86.1513 - val_acc: 0.8158 - val_mse: 0.1306\n",
      "Epoch 23/150\n",
      "1/1 - 0s - loss: 86.1468 - acc: 0.8393 - mse: 0.1303 - val_loss: 85.9708 - val_acc: 0.8158 - val_mse: 0.1286\n",
      "Epoch 24/150\n",
      "1/1 - 0s - loss: 85.9641 - acc: 0.8482 - mse: 0.1277 - val_loss: 85.7912 - val_acc: 0.8158 - val_mse: 0.1268\n",
      "Epoch 25/150\n",
      "1/1 - 0s - loss: 85.7816 - acc: 0.8482 - mse: 0.1250 - val_loss: 85.6125 - val_acc: 0.7895 - val_mse: 0.1251\n",
      "Epoch 26/150\n",
      "1/1 - 0s - loss: 85.5995 - acc: 0.8482 - mse: 0.1224 - val_loss: 85.4343 - val_acc: 0.7895 - val_mse: 0.1235\n",
      "Epoch 27/150\n",
      "1/1 - 0s - loss: 85.4175 - acc: 0.8571 - mse: 0.1198 - val_loss: 85.2568 - val_acc: 0.7895 - val_mse: 0.1221\n",
      "Epoch 28/150\n",
      "1/1 - 0s - loss: 85.2363 - acc: 0.8571 - mse: 0.1173 - val_loss: 85.0799 - val_acc: 0.7895 - val_mse: 0.1207\n",
      "Epoch 29/150\n",
      "1/1 - 0s - loss: 85.0560 - acc: 0.8661 - mse: 0.1149 - val_loss: 84.9034 - val_acc: 0.7895 - val_mse: 0.1194\n",
      "Epoch 30/150\n",
      "1/1 - 0s - loss: 84.8764 - acc: 0.8661 - mse: 0.1127 - val_loss: 84.7274 - val_acc: 0.7632 - val_mse: 0.1181\n",
      "Epoch 31/150\n",
      "1/1 - 0s - loss: 84.6974 - acc: 0.8750 - mse: 0.1106 - val_loss: 84.5519 - val_acc: 0.7632 - val_mse: 0.1170\n",
      "Epoch 32/150\n",
      "1/1 - 0s - loss: 84.5191 - acc: 0.8661 - mse: 0.1086 - val_loss: 84.3768 - val_acc: 0.7368 - val_mse: 0.1159\n",
      "Epoch 33/150\n",
      "1/1 - 0s - loss: 84.3413 - acc: 0.8661 - mse: 0.1067 - val_loss: 84.2022 - val_acc: 0.7368 - val_mse: 0.1148\n",
      "Epoch 34/150\n",
      "1/1 - 0s - loss: 84.1640 - acc: 0.9018 - mse: 0.1049 - val_loss: 84.0280 - val_acc: 0.7368 - val_mse: 0.1139\n",
      "Epoch 35/150\n",
      "1/1 - 0s - loss: 83.9873 - acc: 0.9018 - mse: 0.1032 - val_loss: 83.8543 - val_acc: 0.7368 - val_mse: 0.1130\n",
      "Epoch 36/150\n",
      "1/1 - 0s - loss: 83.8111 - acc: 0.8929 - mse: 0.1016 - val_loss: 83.6810 - val_acc: 0.7368 - val_mse: 0.1121\n",
      "Epoch 37/150\n",
      "1/1 - 0s - loss: 83.6354 - acc: 0.8929 - mse: 0.1000 - val_loss: 83.5081 - val_acc: 0.7368 - val_mse: 0.1113\n",
      "Epoch 38/150\n",
      "1/1 - 0s - loss: 83.4601 - acc: 0.8750 - mse: 0.0985 - val_loss: 83.3356 - val_acc: 0.7368 - val_mse: 0.1105\n",
      "Epoch 39/150\n",
      "1/1 - 0s - loss: 83.2853 - acc: 0.8750 - mse: 0.0970 - val_loss: 83.1634 - val_acc: 0.7368 - val_mse: 0.1098\n",
      "Epoch 40/150\n",
      "1/1 - 0s - loss: 83.1109 - acc: 0.8750 - mse: 0.0956 - val_loss: 82.9916 - val_acc: 0.7368 - val_mse: 0.1091\n",
      "Epoch 41/150\n",
      "1/1 - 0s - loss: 82.9369 - acc: 0.8750 - mse: 0.0943 - val_loss: 82.8201 - val_acc: 0.7368 - val_mse: 0.1084\n",
      "Epoch 42/150\n",
      "1/1 - 0s - loss: 82.7633 - acc: 0.8750 - mse: 0.0930 - val_loss: 82.6489 - val_acc: 0.7368 - val_mse: 0.1078\n",
      "Epoch 43/150\n",
      "1/1 - 0s - loss: 82.5901 - acc: 0.8750 - mse: 0.0917 - val_loss: 82.4782 - val_acc: 0.7368 - val_mse: 0.1072\n",
      "Epoch 44/150\n",
      "1/1 - 0s - loss: 82.4173 - acc: 0.8750 - mse: 0.0905 - val_loss: 82.3077 - val_acc: 0.7368 - val_mse: 0.1066\n",
      "Epoch 45/150\n",
      "1/1 - 0s - loss: 82.2448 - acc: 0.8750 - mse: 0.0894 - val_loss: 82.1375 - val_acc: 0.7368 - val_mse: 0.1061\n",
      "Epoch 46/150\n",
      "1/1 - 0s - loss: 82.0728 - acc: 0.8750 - mse: 0.0883 - val_loss: 81.9677 - val_acc: 0.7368 - val_mse: 0.1056\n",
      "Epoch 47/150\n",
      "1/1 - 0s - loss: 81.9010 - acc: 0.8750 - mse: 0.0872 - val_loss: 81.7982 - val_acc: 0.7632 - val_mse: 0.1051\n",
      "Epoch 48/150\n",
      "1/1 - 0s - loss: 81.7296 - acc: 0.8750 - mse: 0.0861 - val_loss: 81.6289 - val_acc: 0.7632 - val_mse: 0.1046\n",
      "Epoch 49/150\n",
      "1/1 - 0s - loss: 81.5586 - acc: 0.8750 - mse: 0.0851 - val_loss: 81.4599 - val_acc: 0.7632 - val_mse: 0.1041\n",
      "Epoch 50/150\n",
      "1/1 - 0s - loss: 81.3879 - acc: 0.8750 - mse: 0.0842 - val_loss: 81.2912 - val_acc: 0.7632 - val_mse: 0.1037\n",
      "Epoch 51/150\n",
      "1/1 - 0s - loss: 81.2176 - acc: 0.8750 - mse: 0.0832 - val_loss: 81.1227 - val_acc: 0.7632 - val_mse: 0.1033\n",
      "Epoch 52/150\n",
      "1/1 - 0s - loss: 81.0476 - acc: 0.8750 - mse: 0.0824 - val_loss: 80.9545 - val_acc: 0.7632 - val_mse: 0.1029\n",
      "Epoch 53/150\n",
      "1/1 - 0s - loss: 80.8779 - acc: 0.8750 - mse: 0.0815 - val_loss: 80.7866 - val_acc: 0.7632 - val_mse: 0.1025\n",
      "Epoch 54/150\n",
      "1/1 - 0s - loss: 80.7085 - acc: 0.8750 - mse: 0.0807 - val_loss: 80.6189 - val_acc: 0.7632 - val_mse: 0.1021\n",
      "Epoch 55/150\n",
      "1/1 - 0s - loss: 80.5394 - acc: 0.8839 - mse: 0.0799 - val_loss: 80.4516 - val_acc: 0.7632 - val_mse: 0.1017\n",
      "Epoch 56/150\n",
      "1/1 - 0s - loss: 80.3707 - acc: 0.8839 - mse: 0.0791 - val_loss: 80.2844 - val_acc: 0.7632 - val_mse: 0.1014\n",
      "Epoch 57/150\n",
      "1/1 - 0s - loss: 80.2022 - acc: 0.8839 - mse: 0.0784 - val_loss: 80.1175 - val_acc: 0.7632 - val_mse: 0.1010\n",
      "Epoch 58/150\n",
      "1/1 - 0s - loss: 80.0341 - acc: 0.8839 - mse: 0.0777 - val_loss: 79.9509 - val_acc: 0.7632 - val_mse: 0.1007\n",
      "Epoch 59/150\n",
      "1/1 - 0s - loss: 79.8662 - acc: 0.8839 - mse: 0.0770 - val_loss: 79.7846 - val_acc: 0.7632 - val_mse: 0.1004\n",
      "Epoch 60/150\n",
      "1/1 - 0s - loss: 79.6987 - acc: 0.8839 - mse: 0.0763 - val_loss: 79.6184 - val_acc: 0.7632 - val_mse: 0.1001\n",
      "Epoch 61/150\n",
      "1/1 - 0s - loss: 79.5313 - acc: 0.8839 - mse: 0.0757 - val_loss: 79.4526 - val_acc: 0.7632 - val_mse: 0.0999\n",
      "Epoch 62/150\n",
      "1/1 - 0s - loss: 79.3644 - acc: 0.8839 - mse: 0.0750 - val_loss: 79.2870 - val_acc: 0.7632 - val_mse: 0.0996\n",
      "Epoch 63/150\n",
      "1/1 - 0s - loss: 79.1975 - acc: 0.8839 - mse: 0.0744 - val_loss: 79.1217 - val_acc: 0.7632 - val_mse: 0.0993\n",
      "Epoch 64/150\n",
      "1/1 - 0s - loss: 79.0311 - acc: 0.8929 - mse: 0.0738 - val_loss: 78.9564 - val_acc: 0.7632 - val_mse: 0.0991\n",
      "Epoch 65/150\n",
      "1/1 - 0s - loss: 78.8648 - acc: 0.8929 - mse: 0.0733 - val_loss: 78.7916 - val_acc: 0.7632 - val_mse: 0.0988\n",
      "Epoch 66/150\n",
      "1/1 - 0s - loss: 78.6990 - acc: 0.8929 - mse: 0.0727 - val_loss: 78.6268 - val_acc: 0.7632 - val_mse: 0.0986\n",
      "Epoch 67/150\n",
      "1/1 - 0s - loss: 78.5331 - acc: 0.8929 - mse: 0.0722 - val_loss: 78.4623 - val_acc: 0.7632 - val_mse: 0.0984\n",
      "Epoch 68/150\n",
      "1/1 - 0s - loss: 78.3677 - acc: 0.8929 - mse: 0.0717 - val_loss: 78.2981 - val_acc: 0.7632 - val_mse: 0.0981\n",
      "Epoch 69/150\n",
      "1/1 - 0s - loss: 78.2025 - acc: 0.8929 - mse: 0.0712 - val_loss: 78.1340 - val_acc: 0.7632 - val_mse: 0.0979\n",
      "Epoch 70/150\n",
      "1/1 - 0s - loss: 78.0375 - acc: 0.8929 - mse: 0.0707 - val_loss: 77.9701 - val_acc: 0.7632 - val_mse: 0.0977\n",
      "Epoch 71/150\n",
      "1/1 - 0s - loss: 77.8729 - acc: 0.8929 - mse: 0.0702 - val_loss: 77.8064 - val_acc: 0.7632 - val_mse: 0.0974\n",
      "Epoch 72/150\n",
      "1/1 - 0s - loss: 77.7083 - acc: 0.8929 - mse: 0.0697 - val_loss: 77.6430 - val_acc: 0.7632 - val_mse: 0.0972\n",
      "Epoch 73/150\n",
      "1/1 - 0s - loss: 77.5442 - acc: 0.9018 - mse: 0.0693 - val_loss: 77.4797 - val_acc: 0.7632 - val_mse: 0.0970\n",
      "Epoch 74/150\n",
      "1/1 - 0s - loss: 77.3801 - acc: 0.9018 - mse: 0.0688 - val_loss: 77.3167 - val_acc: 0.7632 - val_mse: 0.0967\n",
      "Epoch 75/150\n",
      "1/1 - 0s - loss: 77.2163 - acc: 0.9018 - mse: 0.0684 - val_loss: 77.1538 - val_acc: 0.7632 - val_mse: 0.0965\n",
      "Epoch 76/150\n",
      "1/1 - 0s - loss: 77.0527 - acc: 0.9107 - mse: 0.0679 - val_loss: 76.9912 - val_acc: 0.7632 - val_mse: 0.0963\n",
      "Epoch 77/150\n",
      "1/1 - 0s - loss: 76.8894 - acc: 0.9107 - mse: 0.0675 - val_loss: 76.8288 - val_acc: 0.7632 - val_mse: 0.0961\n",
      "Epoch 78/150\n",
      "1/1 - 0s - loss: 76.7263 - acc: 0.9107 - mse: 0.0671 - val_loss: 76.6666 - val_acc: 0.7632 - val_mse: 0.0959\n",
      "Epoch 79/150\n",
      "1/1 - 0s - loss: 76.5634 - acc: 0.9107 - mse: 0.0667 - val_loss: 76.5046 - val_acc: 0.7632 - val_mse: 0.0957\n",
      "Epoch 80/150\n",
      "1/1 - 0s - loss: 76.4008 - acc: 0.9107 - mse: 0.0663 - val_loss: 76.3428 - val_acc: 0.7632 - val_mse: 0.0955\n",
      "Epoch 81/150\n",
      "1/1 - 0s - loss: 76.2383 - acc: 0.9107 - mse: 0.0659 - val_loss: 76.1813 - val_acc: 0.7632 - val_mse: 0.0953\n",
      "Epoch 82/150\n",
      "1/1 - 0s - loss: 76.0761 - acc: 0.9107 - mse: 0.0655 - val_loss: 76.0199 - val_acc: 0.7632 - val_mse: 0.0951\n",
      "Epoch 83/150\n",
      "1/1 - 0s - loss: 75.9141 - acc: 0.9107 - mse: 0.0652 - val_loss: 75.8587 - val_acc: 0.7632 - val_mse: 0.0950\n",
      "Epoch 84/150\n",
      "1/1 - 0s - loss: 75.7523 - acc: 0.9107 - mse: 0.0648 - val_loss: 75.6978 - val_acc: 0.7632 - val_mse: 0.0948\n",
      "Epoch 85/150\n",
      "1/1 - 0s - loss: 75.5907 - acc: 0.9107 - mse: 0.0644 - val_loss: 75.5370 - val_acc: 0.7632 - val_mse: 0.0946\n",
      "Epoch 86/150\n",
      "1/1 - 0s - loss: 75.4293 - acc: 0.9107 - mse: 0.0641 - val_loss: 75.3765 - val_acc: 0.7632 - val_mse: 0.0944\n",
      "Epoch 87/150\n",
      "1/1 - 0s - loss: 75.2682 - acc: 0.9107 - mse: 0.0637 - val_loss: 75.2161 - val_acc: 0.7632 - val_mse: 0.0942\n",
      "Epoch 88/150\n",
      "1/1 - 0s - loss: 75.1072 - acc: 0.9107 - mse: 0.0633 - val_loss: 75.0559 - val_acc: 0.7632 - val_mse: 0.0941\n",
      "Epoch 89/150\n",
      "1/1 - 0s - loss: 74.9464 - acc: 0.9107 - mse: 0.0630 - val_loss: 74.8959 - val_acc: 0.7632 - val_mse: 0.0939\n",
      "Epoch 90/150\n",
      "1/1 - 0s - loss: 74.7859 - acc: 0.9107 - mse: 0.0626 - val_loss: 74.7361 - val_acc: 0.7632 - val_mse: 0.0937\n",
      "Epoch 91/150\n",
      "1/1 - 0s - loss: 74.6256 - acc: 0.9107 - mse: 0.0623 - val_loss: 74.5766 - val_acc: 0.7632 - val_mse: 0.0935\n",
      "Epoch 92/150\n",
      "1/1 - 0s - loss: 74.4656 - acc: 0.9107 - mse: 0.0620 - val_loss: 74.4171 - val_acc: 0.7632 - val_mse: 0.0933\n",
      "Epoch 93/150\n",
      "1/1 - 0s - loss: 74.3057 - acc: 0.9196 - mse: 0.0617 - val_loss: 74.2580 - val_acc: 0.7632 - val_mse: 0.0931\n",
      "Epoch 94/150\n",
      "1/1 - 0s - loss: 74.1462 - acc: 0.9196 - mse: 0.0614 - val_loss: 74.0990 - val_acc: 0.7632 - val_mse: 0.0929\n",
      "Epoch 95/150\n",
      "1/1 - 0s - loss: 73.9868 - acc: 0.9196 - mse: 0.0611 - val_loss: 73.9402 - val_acc: 0.7632 - val_mse: 0.0928\n",
      "Epoch 96/150\n",
      "1/1 - 0s - loss: 73.8276 - acc: 0.9196 - mse: 0.0608 - val_loss: 73.7817 - val_acc: 0.7632 - val_mse: 0.0926\n",
      "Epoch 97/150\n",
      "1/1 - 0s - loss: 73.6687 - acc: 0.9196 - mse: 0.0605 - val_loss: 73.6232 - val_acc: 0.7632 - val_mse: 0.0924\n",
      "Epoch 98/150\n",
      "1/1 - 0s - loss: 73.5099 - acc: 0.9196 - mse: 0.0602 - val_loss: 73.4651 - val_acc: 0.7632 - val_mse: 0.0922\n",
      "Epoch 99/150\n",
      "1/1 - 0s - loss: 73.3515 - acc: 0.9196 - mse: 0.0599 - val_loss: 73.3070 - val_acc: 0.7632 - val_mse: 0.0920\n",
      "Epoch 100/150\n",
      "1/1 - 0s - loss: 73.1930 - acc: 0.9196 - mse: 0.0596 - val_loss: 73.1492 - val_acc: 0.7632 - val_mse: 0.0919\n",
      "Epoch 101/150\n",
      "1/1 - 0s - loss: 73.0350 - acc: 0.9196 - mse: 0.0594 - val_loss: 72.9915 - val_acc: 0.7632 - val_mse: 0.0917\n",
      "Epoch 102/150\n",
      "1/1 - 0s - loss: 72.8770 - acc: 0.9196 - mse: 0.0591 - val_loss: 72.8342 - val_acc: 0.7632 - val_mse: 0.0915\n",
      "Epoch 103/150\n",
      "1/1 - 0s - loss: 72.7194 - acc: 0.9196 - mse: 0.0588 - val_loss: 72.6769 - val_acc: 0.7632 - val_mse: 0.0913\n",
      "Epoch 104/150\n",
      "1/1 - 0s - loss: 72.5619 - acc: 0.9196 - mse: 0.0586 - val_loss: 72.5199 - val_acc: 0.7632 - val_mse: 0.0911\n",
      "Epoch 105/150\n",
      "1/1 - 0s - loss: 72.4047 - acc: 0.9196 - mse: 0.0583 - val_loss: 72.3630 - val_acc: 0.7895 - val_mse: 0.0910\n",
      "Epoch 106/150\n",
      "1/1 - 0s - loss: 72.2475 - acc: 0.9196 - mse: 0.0581 - val_loss: 72.2062 - val_acc: 0.7895 - val_mse: 0.0908\n",
      "Epoch 107/150\n",
      "1/1 - 0s - loss: 72.0906 - acc: 0.9196 - mse: 0.0578 - val_loss: 72.0496 - val_acc: 0.7632 - val_mse: 0.0906\n",
      "Epoch 108/150\n",
      "1/1 - 0s - loss: 71.9338 - acc: 0.9196 - mse: 0.0576 - val_loss: 71.8933 - val_acc: 0.7632 - val_mse: 0.0904\n",
      "Epoch 109/150\n",
      "1/1 - 0s - loss: 71.7773 - acc: 0.9196 - mse: 0.0573 - val_loss: 71.7371 - val_acc: 0.7632 - val_mse: 0.0902\n",
      "Epoch 110/150\n",
      "1/1 - 0s - loss: 71.6209 - acc: 0.9196 - mse: 0.0571 - val_loss: 71.5811 - val_acc: 0.7632 - val_mse: 0.0900\n",
      "Epoch 111/150\n",
      "1/1 - 0s - loss: 71.4647 - acc: 0.9196 - mse: 0.0569 - val_loss: 71.4254 - val_acc: 0.7632 - val_mse: 0.0898\n",
      "Epoch 112/150\n",
      "1/1 - 0s - loss: 71.3088 - acc: 0.9196 - mse: 0.0566 - val_loss: 71.2697 - val_acc: 0.7632 - val_mse: 0.0897\n",
      "Epoch 113/150\n",
      "1/1 - 0s - loss: 71.1530 - acc: 0.9196 - mse: 0.0564 - val_loss: 71.1145 - val_acc: 0.7632 - val_mse: 0.0895\n",
      "Epoch 114/150\n",
      "1/1 - 0s - loss: 70.9976 - acc: 0.9196 - mse: 0.0562 - val_loss: 70.9593 - val_acc: 0.7632 - val_mse: 0.0893\n",
      "Epoch 115/150\n",
      "1/1 - 0s - loss: 70.8422 - acc: 0.9196 - mse: 0.0559 - val_loss: 70.8044 - val_acc: 0.7632 - val_mse: 0.0891\n",
      "Epoch 116/150\n",
      "1/1 - 0s - loss: 70.6872 - acc: 0.9196 - mse: 0.0557 - val_loss: 70.6495 - val_acc: 0.7632 - val_mse: 0.0890\n",
      "Epoch 117/150\n",
      "1/1 - 0s - loss: 70.5323 - acc: 0.9196 - mse: 0.0555 - val_loss: 70.4951 - val_acc: 0.7632 - val_mse: 0.0888\n",
      "Epoch 118/150\n",
      "1/1 - 0s - loss: 70.3777 - acc: 0.9196 - mse: 0.0553 - val_loss: 70.3407 - val_acc: 0.7632 - val_mse: 0.0886\n",
      "Epoch 119/150\n",
      "1/1 - 0s - loss: 70.2232 - acc: 0.9286 - mse: 0.0551 - val_loss: 70.1866 - val_acc: 0.7632 - val_mse: 0.0885\n",
      "Epoch 120/150\n",
      "1/1 - 0s - loss: 70.0690 - acc: 0.9286 - mse: 0.0549 - val_loss: 70.0325 - val_acc: 0.7632 - val_mse: 0.0883\n",
      "Epoch 121/150\n",
      "1/1 - 0s - loss: 69.9148 - acc: 0.9286 - mse: 0.0547 - val_loss: 69.8788 - val_acc: 0.7632 - val_mse: 0.0881\n",
      "Epoch 122/150\n",
      "1/1 - 0s - loss: 69.7611 - acc: 0.9286 - mse: 0.0545 - val_loss: 69.7251 - val_acc: 0.7632 - val_mse: 0.0880\n",
      "Epoch 123/150\n",
      "1/1 - 0s - loss: 69.6073 - acc: 0.9286 - mse: 0.0543 - val_loss: 69.5717 - val_acc: 0.7632 - val_mse: 0.0878\n",
      "Epoch 124/150\n",
      "1/1 - 0s - loss: 69.4539 - acc: 0.9286 - mse: 0.0541 - val_loss: 69.4184 - val_acc: 0.7632 - val_mse: 0.0876\n",
      "Epoch 125/150\n",
      "1/1 - 0s - loss: 69.3005 - acc: 0.9286 - mse: 0.0540 - val_loss: 69.2653 - val_acc: 0.7632 - val_mse: 0.0875\n",
      "Epoch 126/150\n",
      "1/1 - 0s - loss: 69.1475 - acc: 0.9286 - mse: 0.0538 - val_loss: 69.1124 - val_acc: 0.7632 - val_mse: 0.0873\n",
      "Epoch 127/150\n",
      "1/1 - 0s - loss: 68.9945 - acc: 0.9286 - mse: 0.0536 - val_loss: 68.9598 - val_acc: 0.7632 - val_mse: 0.0871\n",
      "Epoch 128/150\n",
      "1/1 - 0s - loss: 68.8419 - acc: 0.9286 - mse: 0.0534 - val_loss: 68.8071 - val_acc: 0.7632 - val_mse: 0.0869\n",
      "Epoch 129/150\n",
      "1/1 - 0s - loss: 68.6893 - acc: 0.9286 - mse: 0.0533 - val_loss: 68.6548 - val_acc: 0.7632 - val_mse: 0.0867\n",
      "Epoch 130/150\n",
      "1/1 - 0s - loss: 68.5370 - acc: 0.9286 - mse: 0.0531 - val_loss: 68.5026 - val_acc: 0.7632 - val_mse: 0.0866\n",
      "Epoch 131/150\n",
      "1/1 - 0s - loss: 68.3849 - acc: 0.9286 - mse: 0.0529 - val_loss: 68.3507 - val_acc: 0.7632 - val_mse: 0.0864\n",
      "Epoch 132/150\n",
      "1/1 - 0s - loss: 68.2330 - acc: 0.9286 - mse: 0.0527 - val_loss: 68.1988 - val_acc: 0.7632 - val_mse: 0.0862\n",
      "Epoch 133/150\n",
      "1/1 - 0s - loss: 68.0812 - acc: 0.9286 - mse: 0.0526 - val_loss: 68.0473 - val_acc: 0.7632 - val_mse: 0.0860\n",
      "Epoch 134/150\n",
      "1/1 - 0s - loss: 67.9298 - acc: 0.9286 - mse: 0.0524 - val_loss: 67.8958 - val_acc: 0.7632 - val_mse: 0.0858\n",
      "Epoch 135/150\n",
      "1/1 - 0s - loss: 67.7783 - acc: 0.9286 - mse: 0.0522 - val_loss: 67.7447 - val_acc: 0.7632 - val_mse: 0.0857\n",
      "Epoch 136/150\n",
      "1/1 - 0s - loss: 67.6273 - acc: 0.9286 - mse: 0.0521 - val_loss: 67.5936 - val_acc: 0.7632 - val_mse: 0.0855\n",
      "Epoch 137/150\n",
      "1/1 - 0s - loss: 67.4762 - acc: 0.9286 - mse: 0.0519 - val_loss: 67.4428 - val_acc: 0.7632 - val_mse: 0.0853\n",
      "Epoch 138/150\n",
      "1/1 - 0s - loss: 67.3254 - acc: 0.9286 - mse: 0.0518 - val_loss: 67.2920 - val_acc: 0.7632 - val_mse: 0.0852\n",
      "Epoch 139/150\n",
      "1/1 - 0s - loss: 67.1748 - acc: 0.9286 - mse: 0.0516 - val_loss: 67.1416 - val_acc: 0.7632 - val_mse: 0.0850\n",
      "Epoch 140/150\n",
      "1/1 - 0s - loss: 67.0244 - acc: 0.9286 - mse: 0.0514 - val_loss: 66.9912 - val_acc: 0.7632 - val_mse: 0.0848\n",
      "Epoch 141/150\n",
      "1/1 - 0s - loss: 66.8741 - acc: 0.9375 - mse: 0.0513 - val_loss: 66.8411 - val_acc: 0.7632 - val_mse: 0.0846\n",
      "Epoch 142/150\n",
      "1/1 - 0s - loss: 66.7240 - acc: 0.9375 - mse: 0.0511 - val_loss: 66.6911 - val_acc: 0.7632 - val_mse: 0.0845\n",
      "Epoch 143/150\n",
      "1/1 - 0s - loss: 66.5741 - acc: 0.9375 - mse: 0.0510 - val_loss: 66.5412 - val_acc: 0.7632 - val_mse: 0.0843\n",
      "Epoch 144/150\n",
      "1/1 - 0s - loss: 66.4244 - acc: 0.9375 - mse: 0.0508 - val_loss: 66.3916 - val_acc: 0.7632 - val_mse: 0.0841\n",
      "Epoch 145/150\n",
      "1/1 - 0s - loss: 66.2748 - acc: 0.9375 - mse: 0.0507 - val_loss: 66.2422 - val_acc: 0.7632 - val_mse: 0.0839\n",
      "Epoch 146/150\n",
      "1/1 - 0s - loss: 66.1255 - acc: 0.9375 - mse: 0.0505 - val_loss: 66.0929 - val_acc: 0.7632 - val_mse: 0.0837\n",
      "Epoch 147/150\n",
      "1/1 - 0s - loss: 65.9763 - acc: 0.9375 - mse: 0.0504 - val_loss: 65.9438 - val_acc: 0.7632 - val_mse: 0.0836\n",
      "Epoch 148/150\n",
      "1/1 - 0s - loss: 65.8274 - acc: 0.9375 - mse: 0.0502 - val_loss: 65.7950 - val_acc: 0.7632 - val_mse: 0.0834\n",
      "Epoch 149/150\n",
      "1/1 - 0s - loss: 65.6786 - acc: 0.9375 - mse: 0.0501 - val_loss: 65.6462 - val_acc: 0.7632 - val_mse: 0.0832\n",
      "Epoch 150/150\n",
      "1/1 - 0s - loss: 65.5300 - acc: 0.9375 - mse: 0.0499 - val_loss: 65.4978 - val_acc: 0.7632 - val_mse: 0.0830\n"
     ]
    }
   ],
   "source": [
    "\n",
    "# create a new model model3, similar to model1 and model2 and add l1 in more layers to check if it improves the model or not.\n",
    "\n",
    "#SOLUTION:\n",
    "model3 = Sequential([\n",
    "    Dense(512, activation='tanh', input_shape = X_train[0].shape, kernel_regularizer='l1'),\n",
    "    Dense(512//2, activation='tanh', kernel_regularizer='l1'),\n",
    "    Dense(512//4, activation='tanh', kernel_regularizer='l1'),\n",
    "    Dense(512//8, activation='tanh', kernel_regularizer='l1'),\n",
    "    Dense(32, activation='relu', kernel_regularizer='l1'),\n",
    "    Dense(3, activation='softmax')\n",
    "])\n",
    "model3.compile(optimizer='sgd',loss='categorical_crossentropy', metrics=['acc', 'mse'])\n",
    "hist3 = model3.fit(X_train, y_train, epochs=150, batch_size=128, validation_data=(X_test,y_test), verbose=2)"
   ]
  },
  {
   "cell_type": "code",
   "execution_count": null,
   "metadata": {
    "colab": {
     "base_uri": "https://localhost:8080/"
    },
    "executionInfo": {
     "elapsed": 390,
     "status": "ok",
     "timestamp": 1635756991724,
     "user": {
      "displayName": "Amay Gada",
      "photoUrl": "https://lh3.googleusercontent.com/a-/AOh14GhIegWflm0DVHy8h-sj9l7nvh_87WZPEby6oqxqjw=s64",
      "userId": "18318224108445437394"
     },
     "user_tz": -330
    },
    "id": "BtQaG7VksV8o",
    "outputId": "20c7d6d2-73d3-4c13-d985-1e5be8442a33"
   },
   "outputs": [
    {
     "name": "stdout",
     "output_type": "stream",
     "text": [
      "2/2 [==============================] - 0s 7ms/step - loss: 65.4978 - acc: 0.7632 - mse: 0.0830\n",
      "Loss is 65.49781799316406,\n",
      "Accuracy is 76.31579041481018,\n",
      "MSE is 0.08301640301942825\n"
     ]
    }
   ],
   "source": [
    "#just how we used evaluate() in the basic model previously, use it again to find the loss, accuracy and MSE on the test set\n",
    "\n",
    "#SOLUTION:\n",
    "loss3, acc3, mse3 = model3.evaluate(X_test, y_test)\n",
    "print(f\"Loss is {loss3},\\nAccuracy is {acc3 * 100},\\nMSE is {mse3}\")"
   ]
  },
  {
   "cell_type": "code",
   "execution_count": null,
   "metadata": {
    "colab": {
     "base_uri": "https://localhost:8080/",
     "height": 581
    },
    "executionInfo": {
     "elapsed": 1306,
     "status": "ok",
     "timestamp": 1635757007667,
     "user": {
      "displayName": "Amay Gada",
      "photoUrl": "https://lh3.googleusercontent.com/a-/AOh14GhIegWflm0DVHy8h-sj9l7nvh_87WZPEby6oqxqjw=s64",
      "userId": "18318224108445437394"
     },
     "user_tz": -330
    },
    "id": "0yLzet42sV8p",
    "outputId": "62998362-e2dc-414e-a52f-235b2b3caea8"
   },
   "outputs": [
    {
     "data": {
      "image/png": "[encoded data removed]",
      "text/plain": [
       "<Figure size 432x288 with 1 Axes>"
      ]
     },
     "metadata": {},
     "output_type": "display_data"
    },
    {
     "data": {
      "image/png": "[encoded data removed]",
      "text/plain": [
       "<Figure size 432x288 with 1 Axes>"
      ]
     },
     "metadata": {},
     "output_type": "display_data"
    }
   ],
   "source": [
    "# Plot the train loss vs validation loss and train accuracy vs validation accuracy graphs just like we did before\n",
    "\n",
    "\n",
    "#SOLUTION:\n",
    "plt.plot(hist3.history['loss'], label = 'loss')\n",
    "plt.plot(hist3.history['val_loss'], label='val loss')\n",
    "plt.title(\"Loss vs Val_Loss\")\n",
    "plt.xlabel(\"Epochs\")\n",
    "plt.ylabel(\"Loss\")\n",
    "plt.legend()\n",
    "plt.show()\n",
    "\n",
    "\n",
    "plt.plot(hist3.history['acc'], label = 'ACC')\n",
    "plt.plot(hist3.history['val_acc'], label='val acc')\n",
    "plt.title(\"acc vs Val_acc\")\n",
    "plt.xlabel(\"Epochs\")\n",
    "plt.ylabel(\"acc\")\n",
    "plt.legend()\n",
    "plt.show()\n",
    "\n",
    "#Now, both lines are approximately overlapping, which means that our model is performing just as same on the test set as it was performing on the training set.\n",
    " \n"
   ]
  },
  {
   "cell_type": "markdown",
   "metadata": {
    "id": "j1smNL9fsV8p"
   },
   "source": [
    "\n",
    "## L2 Regularization\n"
   ]
  },
  {
   "cell_type": "code",
   "execution_count": null,
   "metadata": {
    "colab": {
     "base_uri": "https://localhost:8080/"
    },
    "executionInfo": {
     "elapsed": 6688,
     "status": "ok",
     "timestamp": 1635757023024,
     "user": {
      "displayName": "Amay Gada",
      "photoUrl": "https://lh3.googleusercontent.com/a-/AOh14GhIegWflm0DVHy8h-sj9l7nvh_87WZPEby6oqxqjw=s64",
      "userId": "18318224108445437394"
     },
     "user_tz": -330
    },
    "id": "0FcIxVPTsV8p",
    "outputId": "786efad1-c5de-49dd-9682-534c3b63b25c"
   },
   "outputs": [
    {
     "name": "stdout",
     "output_type": "stream",
     "text": [
      "Epoch 1/150\n",
      "1/1 - 1s - loss: 1.1731 - acc: 0.3125 - mse: 0.2227 - val_loss: 1.1483 - val_acc: 0.3421 - val_mse: 0.2183\n",
      "Epoch 2/150\n",
      "1/1 - 0s - loss: 1.1235 - acc: 0.4464 - mse: 0.2122 - val_loss: 1.1042 - val_acc: 0.2895 - val_mse: 0.2088\n",
      "Epoch 3/150\n",
      "1/1 - 0s - loss: 1.0788 - acc: 0.5089 - mse: 0.2024 - val_loss: 1.0650 - val_acc: 0.4211 - val_mse: 0.2000\n",
      "Epoch 4/150\n",
      "1/1 - 0s - loss: 1.0369 - acc: 0.6161 - mse: 0.1929 - val_loss: 1.0311 - val_acc: 0.5789 - val_mse: 0.1923\n",
      "Epoch 5/150\n",
      "1/1 - 0s - loss: 1.0004 - acc: 0.7500 - mse: 0.1844 - val_loss: 1.0003 - val_acc: 0.6579 - val_mse: 0.1851\n",
      "Epoch 6/150\n",
      "1/1 - 0s - loss: 0.9679 - acc: 0.7857 - mse: 0.1768 - val_loss: 0.9726 - val_acc: 0.7105 - val_mse: 0.1786\n",
      "Epoch 7/150\n",
      "1/1 - 0s - loss: 0.9381 - acc: 0.8214 - mse: 0.1697 - val_loss: 0.9472 - val_acc: 0.7368 - val_mse: 0.1726\n",
      "Epoch 8/150\n",
      "1/1 - 0s - loss: 0.9105 - acc: 0.8393 - mse: 0.1631 - val_loss: 0.9236 - val_acc: 0.7368 - val_mse: 0.1670\n",
      "Epoch 9/150\n",
      "1/1 - 0s - loss: 0.8848 - acc: 0.8393 - mse: 0.1569 - val_loss: 0.9023 - val_acc: 0.7368 - val_mse: 0.1619\n",
      "Epoch 10/150\n",
      "1/1 - 0s - loss: 0.8612 - acc: 0.8393 - mse: 0.1512 - val_loss: 0.8824 - val_acc: 0.7368 - val_mse: 0.1571\n",
      "Epoch 11/150\n",
      "1/1 - 0s - loss: 0.8391 - acc: 0.8393 - mse: 0.1459 - val_loss: 0.8637 - val_acc: 0.7368 - val_mse: 0.1527\n",
      "Epoch 12/150\n",
      "1/1 - 0s - loss: 0.8183 - acc: 0.8393 - mse: 0.1409 - val_loss: 0.8463 - val_acc: 0.7368 - val_mse: 0.1486\n",
      "Epoch 13/150\n",
      "1/1 - 0s - loss: 0.7988 - acc: 0.8393 - mse: 0.1363 - val_loss: 0.8301 - val_acc: 0.7368 - val_mse: 0.1449\n",
      "Epoch 14/150\n",
      "1/1 - 0s - loss: 0.7804 - acc: 0.8571 - mse: 0.1319 - val_loss: 0.8147 - val_acc: 0.7368 - val_mse: 0.1413\n",
      "Epoch 15/150\n",
      "1/1 - 0s - loss: 0.7630 - acc: 0.8661 - mse: 0.1278 - val_loss: 0.8005 - val_acc: 0.7368 - val_mse: 0.1381\n",
      "Epoch 16/150\n",
      "1/1 - 0s - loss: 0.7465 - acc: 0.8661 - mse: 0.1239 - val_loss: 0.7871 - val_acc: 0.7368 - val_mse: 0.1351\n",
      "Epoch 17/150\n",
      "1/1 - 0s - loss: 0.7309 - acc: 0.8661 - mse: 0.1202 - val_loss: 0.7747 - val_acc: 0.7368 - val_mse: 0.1324\n",
      "Epoch 18/150\n",
      "1/1 - 0s - loss: 0.7161 - acc: 0.8750 - mse: 0.1168 - val_loss: 0.7628 - val_acc: 0.7368 - val_mse: 0.1298\n",
      "Epoch 19/150\n",
      "1/1 - 0s - loss: 0.7020 - acc: 0.8750 - mse: 0.1136 - val_loss: 0.7516 - val_acc: 0.7632 - val_mse: 0.1274\n",
      "Epoch 20/150\n",
      "1/1 - 0s - loss: 0.6885 - acc: 0.8750 - mse: 0.1105 - val_loss: 0.7409 - val_acc: 0.7632 - val_mse: 0.1252\n",
      "Epoch 21/150\n",
      "1/1 - 0s - loss: 0.6758 - acc: 0.8750 - mse: 0.1076 - val_loss: 0.7309 - val_acc: 0.7632 - val_mse: 0.1231\n",
      "Epoch 22/150\n",
      "1/1 - 0s - loss: 0.6636 - acc: 0.8750 - mse: 0.1049 - val_loss: 0.7213 - val_acc: 0.7632 - val_mse: 0.1212\n",
      "Epoch 23/150\n",
      "1/1 - 0s - loss: 0.6519 - acc: 0.8750 - mse: 0.1023 - val_loss: 0.7122 - val_acc: 0.7632 - val_mse: 0.1193\n",
      "Epoch 24/150\n",
      "1/1 - 0s - loss: 0.6408 - acc: 0.8750 - mse: 0.0999 - val_loss: 0.7035 - val_acc: 0.7632 - val_mse: 0.1177\n",
      "Epoch 25/150\n",
      "1/1 - 0s - loss: 0.6303 - acc: 0.8750 - mse: 0.0976 - val_loss: 0.6953 - val_acc: 0.7632 - val_mse: 0.1161\n",
      "Epoch 26/150\n",
      "1/1 - 0s - loss: 0.6202 - acc: 0.8750 - mse: 0.0955 - val_loss: 0.6875 - val_acc: 0.7632 - val_mse: 0.1146\n",
      "Epoch 27/150\n",
      "1/1 - 0s - loss: 0.6106 - acc: 0.8750 - mse: 0.0934 - val_loss: 0.6801 - val_acc: 0.7632 - val_mse: 0.1133\n",
      "Epoch 28/150\n",
      "1/1 - 0s - loss: 0.6013 - acc: 0.8750 - mse: 0.0915 - val_loss: 0.6731 - val_acc: 0.7632 - val_mse: 0.1120\n",
      "Epoch 29/150\n",
      "1/1 - 0s - loss: 0.5926 - acc: 0.8750 - mse: 0.0897 - val_loss: 0.6665 - val_acc: 0.7632 - val_mse: 0.1109\n",
      "Epoch 30/150\n",
      "1/1 - 0s - loss: 0.5841 - acc: 0.8750 - mse: 0.0880 - val_loss: 0.6602 - val_acc: 0.7632 - val_mse: 0.1098\n",
      "Epoch 31/150\n",
      "1/1 - 0s - loss: 0.5760 - acc: 0.8750 - mse: 0.0863 - val_loss: 0.6541 - val_acc: 0.7632 - val_mse: 0.1088\n",
      "Epoch 32/150\n",
      "1/1 - 0s - loss: 0.5683 - acc: 0.8750 - mse: 0.0848 - val_loss: 0.6483 - val_acc: 0.7632 - val_mse: 0.1078\n",
      "Epoch 33/150\n",
      "1/1 - 0s - loss: 0.5608 - acc: 0.8750 - mse: 0.0833 - val_loss: 0.6427 - val_acc: 0.7632 - val_mse: 0.1069\n",
      "Epoch 34/150\n",
      "1/1 - 0s - loss: 0.5536 - acc: 0.8750 - mse: 0.0819 - val_loss: 0.6373 - val_acc: 0.7632 - val_mse: 0.1061\n",
      "Epoch 35/150\n",
      "1/1 - 0s - loss: 0.5467 - acc: 0.8750 - mse: 0.0805 - val_loss: 0.6322 - val_acc: 0.7632 - val_mse: 0.1053\n",
      "Epoch 36/150\n",
      "1/1 - 0s - loss: 0.5401 - acc: 0.8750 - mse: 0.0793 - val_loss: 0.6273 - val_acc: 0.7632 - val_mse: 0.1045\n",
      "Epoch 37/150\n",
      "1/1 - 0s - loss: 0.5337 - acc: 0.8839 - mse: 0.0780 - val_loss: 0.6225 - val_acc: 0.7632 - val_mse: 0.1038\n",
      "Epoch 38/150\n",
      "1/1 - 0s - loss: 0.5275 - acc: 0.8839 - mse: 0.0769 - val_loss: 0.6181 - val_acc: 0.7632 - val_mse: 0.1032\n",
      "Epoch 39/150\n",
      "1/1 - 0s - loss: 0.5216 - acc: 0.8839 - mse: 0.0758 - val_loss: 0.6137 - val_acc: 0.7632 - val_mse: 0.1025\n",
      "Epoch 40/150\n",
      "1/1 - 0s - loss: 0.5158 - acc: 0.8839 - mse: 0.0747 - val_loss: 0.6095 - val_acc: 0.7632 - val_mse: 0.1019\n",
      "Epoch 41/150\n",
      "1/1 - 0s - loss: 0.5103 - acc: 0.8839 - mse: 0.0737 - val_loss: 0.6055 - val_acc: 0.7632 - val_mse: 0.1014\n",
      "Epoch 42/150\n",
      "1/1 - 0s - loss: 0.5049 - acc: 0.8839 - mse: 0.0727 - val_loss: 0.6017 - val_acc: 0.7632 - val_mse: 0.1009\n",
      "Epoch 43/150\n",
      "1/1 - 0s - loss: 0.4997 - acc: 0.8839 - mse: 0.0718 - val_loss: 0.5980 - val_acc: 0.7632 - val_mse: 0.1004\n",
      "Epoch 44/150\n",
      "1/1 - 0s - loss: 0.4947 - acc: 0.8839 - mse: 0.0709 - val_loss: 0.5944 - val_acc: 0.7632 - val_mse: 0.0999\n",
      "Epoch 45/150\n",
      "1/1 - 0s - loss: 0.4899 - acc: 0.8839 - mse: 0.0700 - val_loss: 0.5910 - val_acc: 0.7632 - val_mse: 0.0995\n",
      "Epoch 46/150\n",
      "1/1 - 0s - loss: 0.4852 - acc: 0.8929 - mse: 0.0691 - val_loss: 0.5877 - val_acc: 0.7632 - val_mse: 0.0990\n",
      "Epoch 47/150\n",
      "1/1 - 0s - loss: 0.4806 - acc: 0.8929 - mse: 0.0683 - val_loss: 0.5845 - val_acc: 0.7632 - val_mse: 0.0986\n",
      "Epoch 48/150\n",
      "1/1 - 0s - loss: 0.4762 - acc: 0.8929 - mse: 0.0676 - val_loss: 0.5815 - val_acc: 0.7632 - val_mse: 0.0983\n",
      "Epoch 49/150\n",
      "1/1 - 0s - loss: 0.4719 - acc: 0.8929 - mse: 0.0668 - val_loss: 0.5784 - val_acc: 0.7632 - val_mse: 0.0979\n",
      "Epoch 50/150\n",
      "1/1 - 0s - loss: 0.4678 - acc: 0.8929 - mse: 0.0661 - val_loss: 0.5755 - val_acc: 0.7632 - val_mse: 0.0975\n",
      "Epoch 51/150\n",
      "1/1 - 0s - loss: 0.4637 - acc: 0.8929 - mse: 0.0654 - val_loss: 0.5726 - val_acc: 0.7632 - val_mse: 0.0972\n",
      "Epoch 52/150\n",
      "1/1 - 0s - loss: 0.4598 - acc: 0.9018 - mse: 0.0647 - val_loss: 0.5697 - val_acc: 0.7632 - val_mse: 0.0968\n",
      "Epoch 53/150\n",
      "1/1 - 0s - loss: 0.4560 - acc: 0.9018 - mse: 0.0641 - val_loss: 0.5669 - val_acc: 0.7632 - val_mse: 0.0965\n",
      "Epoch 54/150\n",
      "1/1 - 0s - loss: 0.4523 - acc: 0.9018 - mse: 0.0634 - val_loss: 0.5642 - val_acc: 0.7632 - val_mse: 0.0961\n",
      "Epoch 55/150\n",
      "1/1 - 0s - loss: 0.4487 - acc: 0.9018 - mse: 0.0628 - val_loss: 0.5616 - val_acc: 0.7632 - val_mse: 0.0958\n",
      "Epoch 56/150\n",
      "1/1 - 0s - loss: 0.4452 - acc: 0.9018 - mse: 0.0622 - val_loss: 0.5590 - val_acc: 0.7632 - val_mse: 0.0955\n",
      "Epoch 57/150\n",
      "1/1 - 0s - loss: 0.4418 - acc: 0.9018 - mse: 0.0616 - val_loss: 0.5565 - val_acc: 0.7632 - val_mse: 0.0952\n",
      "Epoch 58/150\n",
      "1/1 - 0s - loss: 0.4384 - acc: 0.9018 - mse: 0.0611 - val_loss: 0.5540 - val_acc: 0.7632 - val_mse: 0.0949\n",
      "Epoch 59/150\n",
      "1/1 - 0s - loss: 0.4352 - acc: 0.9018 - mse: 0.0605 - val_loss: 0.5517 - val_acc: 0.7632 - val_mse: 0.0946\n",
      "Epoch 60/150\n",
      "1/1 - 0s - loss: 0.4320 - acc: 0.9196 - mse: 0.0600 - val_loss: 0.5494 - val_acc: 0.7632 - val_mse: 0.0943\n",
      "Epoch 61/150\n",
      "1/1 - 0s - loss: 0.4289 - acc: 0.9196 - mse: 0.0594 - val_loss: 0.5471 - val_acc: 0.7632 - val_mse: 0.0940\n",
      "Epoch 62/150\n",
      "1/1 - 0s - loss: 0.4259 - acc: 0.9196 - mse: 0.0589 - val_loss: 0.5449 - val_acc: 0.7368 - val_mse: 0.0938\n",
      "Epoch 63/150\n",
      "1/1 - 0s - loss: 0.4229 - acc: 0.9196 - mse: 0.0584 - val_loss: 0.5427 - val_acc: 0.7368 - val_mse: 0.0935\n",
      "Epoch 64/150\n",
      "1/1 - 0s - loss: 0.4200 - acc: 0.9196 - mse: 0.0579 - val_loss: 0.5404 - val_acc: 0.7368 - val_mse: 0.0932\n",
      "Epoch 65/150\n",
      "1/1 - 0s - loss: 0.4171 - acc: 0.9196 - mse: 0.0575 - val_loss: 0.5381 - val_acc: 0.7368 - val_mse: 0.0929\n",
      "Epoch 66/150\n",
      "1/1 - 0s - loss: 0.4143 - acc: 0.9196 - mse: 0.0570 - val_loss: 0.5359 - val_acc: 0.7368 - val_mse: 0.0926\n",
      "Epoch 67/150\n",
      "1/1 - 0s - loss: 0.4115 - acc: 0.9196 - mse: 0.0565 - val_loss: 0.5337 - val_acc: 0.7632 - val_mse: 0.0923\n",
      "Epoch 68/150\n",
      "1/1 - 0s - loss: 0.4088 - acc: 0.9196 - mse: 0.0560 - val_loss: 0.5314 - val_acc: 0.7632 - val_mse: 0.0920\n",
      "Epoch 69/150\n",
      "1/1 - 0s - loss: 0.4061 - acc: 0.9196 - mse: 0.0556 - val_loss: 0.5291 - val_acc: 0.7632 - val_mse: 0.0916\n",
      "Epoch 70/150\n",
      "1/1 - 0s - loss: 0.4035 - acc: 0.9196 - mse: 0.0551 - val_loss: 0.5269 - val_acc: 0.7632 - val_mse: 0.0913\n",
      "Epoch 71/150\n",
      "1/1 - 0s - loss: 0.4009 - acc: 0.9196 - mse: 0.0547 - val_loss: 0.5249 - val_acc: 0.7632 - val_mse: 0.0910\n",
      "Epoch 72/150\n",
      "1/1 - 0s - loss: 0.3984 - acc: 0.9196 - mse: 0.0543 - val_loss: 0.5229 - val_acc: 0.7632 - val_mse: 0.0908\n",
      "Epoch 73/150\n",
      "1/1 - 0s - loss: 0.3960 - acc: 0.9196 - mse: 0.0539 - val_loss: 0.5209 - val_acc: 0.7632 - val_mse: 0.0905\n",
      "Epoch 74/150\n",
      "1/1 - 0s - loss: 0.3936 - acc: 0.9196 - mse: 0.0534 - val_loss: 0.5188 - val_acc: 0.7632 - val_mse: 0.0902\n",
      "Epoch 75/150\n",
      "1/1 - 0s - loss: 0.3911 - acc: 0.9196 - mse: 0.0530 - val_loss: 0.5168 - val_acc: 0.7632 - val_mse: 0.0899\n",
      "Epoch 76/150\n",
      "1/1 - 0s - loss: 0.3887 - acc: 0.9196 - mse: 0.0526 - val_loss: 0.5147 - val_acc: 0.7632 - val_mse: 0.0896\n",
      "Epoch 77/150\n",
      "1/1 - 0s - loss: 0.3864 - acc: 0.9196 - mse: 0.0522 - val_loss: 0.5128 - val_acc: 0.7632 - val_mse: 0.0893\n",
      "Epoch 78/150\n",
      "1/1 - 0s - loss: 0.3841 - acc: 0.9196 - mse: 0.0518 - val_loss: 0.5108 - val_acc: 0.7632 - val_mse: 0.0890\n",
      "Epoch 79/150\n",
      "1/1 - 0s - loss: 0.3818 - acc: 0.9196 - mse: 0.0514 - val_loss: 0.5089 - val_acc: 0.7632 - val_mse: 0.0887\n",
      "Epoch 80/150\n",
      "1/1 - 0s - loss: 0.3796 - acc: 0.9196 - mse: 0.0510 - val_loss: 0.5069 - val_acc: 0.7632 - val_mse: 0.0884\n",
      "Epoch 81/150\n",
      "1/1 - 0s - loss: 0.3774 - acc: 0.9286 - mse: 0.0506 - val_loss: 0.5049 - val_acc: 0.7632 - val_mse: 0.0881\n",
      "Epoch 82/150\n",
      "1/1 - 0s - loss: 0.3752 - acc: 0.9286 - mse: 0.0502 - val_loss: 0.5029 - val_acc: 0.7632 - val_mse: 0.0878\n",
      "Epoch 83/150\n",
      "1/1 - 0s - loss: 0.3730 - acc: 0.9286 - mse: 0.0499 - val_loss: 0.5010 - val_acc: 0.7632 - val_mse: 0.0874\n",
      "Epoch 84/150\n",
      "1/1 - 0s - loss: 0.3709 - acc: 0.9286 - mse: 0.0495 - val_loss: 0.4991 - val_acc: 0.7632 - val_mse: 0.0872\n",
      "Epoch 85/150\n",
      "1/1 - 0s - loss: 0.3689 - acc: 0.9286 - mse: 0.0491 - val_loss: 0.4972 - val_acc: 0.7632 - val_mse: 0.0868\n",
      "Epoch 86/150\n",
      "1/1 - 0s - loss: 0.3668 - acc: 0.9286 - mse: 0.0488 - val_loss: 0.4953 - val_acc: 0.7632 - val_mse: 0.0865\n",
      "Epoch 87/150\n",
      "1/1 - 0s - loss: 0.3648 - acc: 0.9286 - mse: 0.0484 - val_loss: 0.4935 - val_acc: 0.7632 - val_mse: 0.0863\n",
      "Epoch 88/150\n",
      "1/1 - 0s - loss: 0.3628 - acc: 0.9286 - mse: 0.0481 - val_loss: 0.4918 - val_acc: 0.7632 - val_mse: 0.0860\n",
      "Epoch 89/150\n",
      "1/1 - 0s - loss: 0.3609 - acc: 0.9286 - mse: 0.0477 - val_loss: 0.4898 - val_acc: 0.7632 - val_mse: 0.0856\n",
      "Epoch 90/150\n",
      "1/1 - 0s - loss: 0.3589 - acc: 0.9375 - mse: 0.0474 - val_loss: 0.4879 - val_acc: 0.7632 - val_mse: 0.0853\n",
      "Epoch 91/150\n",
      "1/1 - 0s - loss: 0.3569 - acc: 0.9375 - mse: 0.0470 - val_loss: 0.4861 - val_acc: 0.7632 - val_mse: 0.0850\n",
      "Epoch 92/150\n",
      "1/1 - 0s - loss: 0.3550 - acc: 0.9375 - mse: 0.0467 - val_loss: 0.4843 - val_acc: 0.7632 - val_mse: 0.0847\n",
      "Epoch 93/150\n",
      "1/1 - 0s - loss: 0.3531 - acc: 0.9375 - mse: 0.0463 - val_loss: 0.4825 - val_acc: 0.7632 - val_mse: 0.0844\n",
      "Epoch 94/150\n",
      "1/1 - 0s - loss: 0.3512 - acc: 0.9375 - mse: 0.0460 - val_loss: 0.4807 - val_acc: 0.7632 - val_mse: 0.0841\n",
      "Epoch 95/150\n",
      "1/1 - 0s - loss: 0.3494 - acc: 0.9375 - mse: 0.0457 - val_loss: 0.4789 - val_acc: 0.7632 - val_mse: 0.0838\n",
      "Epoch 96/150\n",
      "1/1 - 0s - loss: 0.3476 - acc: 0.9375 - mse: 0.0453 - val_loss: 0.4772 - val_acc: 0.7632 - val_mse: 0.0835\n",
      "Epoch 97/150\n",
      "1/1 - 0s - loss: 0.3458 - acc: 0.9375 - mse: 0.0450 - val_loss: 0.4754 - val_acc: 0.7632 - val_mse: 0.0831\n",
      "Epoch 98/150\n",
      "1/1 - 0s - loss: 0.3440 - acc: 0.9375 - mse: 0.0447 - val_loss: 0.4736 - val_acc: 0.7632 - val_mse: 0.0828\n",
      "Epoch 99/150\n",
      "1/1 - 0s - loss: 0.3422 - acc: 0.9375 - mse: 0.0444 - val_loss: 0.4719 - val_acc: 0.7632 - val_mse: 0.0825\n",
      "Epoch 100/150\n",
      "1/1 - 0s - loss: 0.3405 - acc: 0.9375 - mse: 0.0441 - val_loss: 0.4701 - val_acc: 0.7632 - val_mse: 0.0822\n",
      "Epoch 101/150\n",
      "1/1 - 0s - loss: 0.3388 - acc: 0.9375 - mse: 0.0437 - val_loss: 0.4684 - val_acc: 0.7632 - val_mse: 0.0819\n",
      "Epoch 102/150\n",
      "1/1 - 0s - loss: 0.3371 - acc: 0.9375 - mse: 0.0434 - val_loss: 0.4666 - val_acc: 0.7632 - val_mse: 0.0816\n",
      "Epoch 103/150\n",
      "1/1 - 0s - loss: 0.3354 - acc: 0.9375 - mse: 0.0431 - val_loss: 0.4649 - val_acc: 0.7632 - val_mse: 0.0812\n",
      "Epoch 104/150\n",
      "1/1 - 0s - loss: 0.3337 - acc: 0.9375 - mse: 0.0428 - val_loss: 0.4632 - val_acc: 0.7632 - val_mse: 0.0809\n",
      "Epoch 105/150\n",
      "1/1 - 0s - loss: 0.3321 - acc: 0.9375 - mse: 0.0425 - val_loss: 0.4616 - val_acc: 0.7632 - val_mse: 0.0806\n",
      "Epoch 106/150\n",
      "1/1 - 0s - loss: 0.3304 - acc: 0.9375 - mse: 0.0422 - val_loss: 0.4599 - val_acc: 0.7632 - val_mse: 0.0803\n",
      "Epoch 107/150\n",
      "1/1 - 0s - loss: 0.3288 - acc: 0.9464 - mse: 0.0419 - val_loss: 0.4582 - val_acc: 0.7632 - val_mse: 0.0800\n",
      "Epoch 108/150\n",
      "1/1 - 0s - loss: 0.3272 - acc: 0.9464 - mse: 0.0416 - val_loss: 0.4565 - val_acc: 0.7632 - val_mse: 0.0797\n",
      "Epoch 109/150\n",
      "1/1 - 0s - loss: 0.3256 - acc: 0.9464 - mse: 0.0413 - val_loss: 0.4549 - val_acc: 0.7632 - val_mse: 0.0794\n",
      "Epoch 110/150\n",
      "1/1 - 0s - loss: 0.3241 - acc: 0.9464 - mse: 0.0410 - val_loss: 0.4532 - val_acc: 0.7632 - val_mse: 0.0790\n",
      "Epoch 111/150\n",
      "1/1 - 0s - loss: 0.3225 - acc: 0.9464 - mse: 0.0408 - val_loss: 0.4516 - val_acc: 0.7632 - val_mse: 0.0787\n",
      "Epoch 112/150\n",
      "1/1 - 0s - loss: 0.3210 - acc: 0.9464 - mse: 0.0405 - val_loss: 0.4500 - val_acc: 0.7632 - val_mse: 0.0784\n",
      "Epoch 113/150\n",
      "1/1 - 0s - loss: 0.3195 - acc: 0.9464 - mse: 0.0402 - val_loss: 0.4484 - val_acc: 0.7895 - val_mse: 0.0781\n",
      "Epoch 114/150\n",
      "1/1 - 0s - loss: 0.3180 - acc: 0.9554 - mse: 0.0399 - val_loss: 0.4468 - val_acc: 0.7895 - val_mse: 0.0778\n",
      "Epoch 115/150\n",
      "1/1 - 0s - loss: 0.3165 - acc: 0.9554 - mse: 0.0396 - val_loss: 0.4453 - val_acc: 0.7895 - val_mse: 0.0775\n",
      "Epoch 116/150\n",
      "1/1 - 0s - loss: 0.3151 - acc: 0.9554 - mse: 0.0394 - val_loss: 0.4437 - val_acc: 0.7895 - val_mse: 0.0772\n",
      "Epoch 117/150\n",
      "1/1 - 0s - loss: 0.3136 - acc: 0.9554 - mse: 0.0391 - val_loss: 0.4422 - val_acc: 0.7895 - val_mse: 0.0769\n",
      "Epoch 118/150\n",
      "1/1 - 0s - loss: 0.3122 - acc: 0.9554 - mse: 0.0388 - val_loss: 0.4406 - val_acc: 0.7895 - val_mse: 0.0766\n",
      "Epoch 119/150\n",
      "1/1 - 0s - loss: 0.3108 - acc: 0.9554 - mse: 0.0386 - val_loss: 0.4391 - val_acc: 0.7895 - val_mse: 0.0763\n",
      "Epoch 120/150\n",
      "1/1 - 0s - loss: 0.3093 - acc: 0.9554 - mse: 0.0383 - val_loss: 0.4376 - val_acc: 0.7895 - val_mse: 0.0760\n",
      "Epoch 121/150\n",
      "1/1 - 0s - loss: 0.3079 - acc: 0.9554 - mse: 0.0380 - val_loss: 0.4361 - val_acc: 0.7895 - val_mse: 0.0757\n",
      "Epoch 122/150\n",
      "1/1 - 0s - loss: 0.3066 - acc: 0.9554 - mse: 0.0378 - val_loss: 0.4346 - val_acc: 0.7895 - val_mse: 0.0754\n",
      "Epoch 123/150\n",
      "1/1 - 0s - loss: 0.3052 - acc: 0.9554 - mse: 0.0375 - val_loss: 0.4332 - val_acc: 0.7895 - val_mse: 0.0751\n",
      "Epoch 124/150\n",
      "1/1 - 0s - loss: 0.3038 - acc: 0.9554 - mse: 0.0373 - val_loss: 0.4317 - val_acc: 0.7895 - val_mse: 0.0749\n",
      "Epoch 125/150\n",
      "1/1 - 0s - loss: 0.3025 - acc: 0.9554 - mse: 0.0370 - val_loss: 0.4303 - val_acc: 0.7895 - val_mse: 0.0746\n",
      "Epoch 126/150\n",
      "1/1 - 0s - loss: 0.3012 - acc: 0.9554 - mse: 0.0368 - val_loss: 0.4288 - val_acc: 0.7895 - val_mse: 0.0743\n",
      "Epoch 127/150\n",
      "1/1 - 0s - loss: 0.2998 - acc: 0.9554 - mse: 0.0365 - val_loss: 0.4274 - val_acc: 0.7895 - val_mse: 0.0740\n",
      "Epoch 128/150\n",
      "1/1 - 0s - loss: 0.2985 - acc: 0.9554 - mse: 0.0363 - val_loss: 0.4259 - val_acc: 0.7895 - val_mse: 0.0737\n",
      "Epoch 129/150\n",
      "1/1 - 0s - loss: 0.2972 - acc: 0.9554 - mse: 0.0360 - val_loss: 0.4245 - val_acc: 0.7895 - val_mse: 0.0734\n",
      "Epoch 130/150\n",
      "1/1 - 0s - loss: 0.2959 - acc: 0.9554 - mse: 0.0358 - val_loss: 0.4230 - val_acc: 0.7895 - val_mse: 0.0731\n",
      "Epoch 131/150\n",
      "1/1 - 0s - loss: 0.2947 - acc: 0.9554 - mse: 0.0356 - val_loss: 0.4216 - val_acc: 0.7895 - val_mse: 0.0728\n",
      "Epoch 132/150\n",
      "1/1 - 0s - loss: 0.2934 - acc: 0.9554 - mse: 0.0353 - val_loss: 0.4202 - val_acc: 0.8158 - val_mse: 0.0725\n",
      "Epoch 133/150\n",
      "1/1 - 0s - loss: 0.2921 - acc: 0.9554 - mse: 0.0351 - val_loss: 0.4187 - val_acc: 0.8158 - val_mse: 0.0722\n",
      "Epoch 134/150\n",
      "1/1 - 0s - loss: 0.2909 - acc: 0.9554 - mse: 0.0349 - val_loss: 0.4173 - val_acc: 0.8158 - val_mse: 0.0719\n",
      "Epoch 135/150\n",
      "1/1 - 0s - loss: 0.2897 - acc: 0.9554 - mse: 0.0346 - val_loss: 0.4158 - val_acc: 0.8158 - val_mse: 0.0716\n",
      "Epoch 136/150\n",
      "1/1 - 0s - loss: 0.2885 - acc: 0.9643 - mse: 0.0344 - val_loss: 0.4145 - val_acc: 0.8158 - val_mse: 0.0713\n",
      "Epoch 137/150\n",
      "1/1 - 0s - loss: 0.2872 - acc: 0.9643 - mse: 0.0342 - val_loss: 0.4131 - val_acc: 0.8158 - val_mse: 0.0710\n",
      "Epoch 138/150\n",
      "1/1 - 0s - loss: 0.2860 - acc: 0.9643 - mse: 0.0339 - val_loss: 0.4117 - val_acc: 0.8158 - val_mse: 0.0708\n",
      "Epoch 139/150\n",
      "1/1 - 0s - loss: 0.2849 - acc: 0.9643 - mse: 0.0337 - val_loss: 0.4103 - val_acc: 0.8158 - val_mse: 0.0705\n",
      "Epoch 140/150\n",
      "1/1 - 0s - loss: 0.2837 - acc: 0.9643 - mse: 0.0335 - val_loss: 0.4089 - val_acc: 0.8158 - val_mse: 0.0702\n",
      "Epoch 141/150\n",
      "1/1 - 0s - loss: 0.2825 - acc: 0.9643 - mse: 0.0333 - val_loss: 0.4075 - val_acc: 0.8158 - val_mse: 0.0699\n",
      "Epoch 142/150\n",
      "1/1 - 0s - loss: 0.2814 - acc: 0.9643 - mse: 0.0330 - val_loss: 0.4062 - val_acc: 0.8158 - val_mse: 0.0696\n",
      "Epoch 143/150\n",
      "1/1 - 0s - loss: 0.2802 - acc: 0.9643 - mse: 0.0328 - val_loss: 0.4048 - val_acc: 0.8158 - val_mse: 0.0693\n",
      "Epoch 144/150\n",
      "1/1 - 0s - loss: 0.2791 - acc: 0.9643 - mse: 0.0326 - val_loss: 0.4035 - val_acc: 0.8158 - val_mse: 0.0690\n",
      "Epoch 145/150\n",
      "1/1 - 0s - loss: 0.2779 - acc: 0.9643 - mse: 0.0324 - val_loss: 0.4021 - val_acc: 0.8158 - val_mse: 0.0687\n",
      "Epoch 146/150\n",
      "1/1 - 0s - loss: 0.2768 - acc: 0.9643 - mse: 0.0322 - val_loss: 0.4008 - val_acc: 0.8158 - val_mse: 0.0684\n",
      "Epoch 147/150\n",
      "1/1 - 0s - loss: 0.2757 - acc: 0.9643 - mse: 0.0320 - val_loss: 0.3994 - val_acc: 0.8158 - val_mse: 0.0682\n",
      "Epoch 148/150\n",
      "1/1 - 0s - loss: 0.2746 - acc: 0.9643 - mse: 0.0318 - val_loss: 0.3981 - val_acc: 0.8158 - val_mse: 0.0679\n",
      "Epoch 149/150\n",
      "1/1 - 0s - loss: 0.2735 - acc: 0.9643 - mse: 0.0316 - val_loss: 0.3967 - val_acc: 0.8158 - val_mse: 0.0676\n",
      "Epoch 150/150\n",
      "1/1 - 0s - loss: 0.2724 - acc: 0.9643 - mse: 0.0313 - val_loss: 0.3954 - val_acc: 0.8158 - val_mse: 0.0673\n"
     ]
    }
   ],
   "source": [
    "# L2 Regularization is another regularization technique which is also known as Ridge regularization. In L2 regularization we add the squared magnitude of weights to penalize our lost function.\n",
    "\n",
    "#to implement L2 regularization, create another model called model4 similar to our initial basic model, this time add an extra parameter kernel_regularizer, which we set to ‘l2’ for L1 Regularization in the first Dense layer.\n",
    "#compile and run the model\n",
    "\n",
    "#SOLUTION:\n",
    "model4 = Sequential([\n",
    "    Dense(512, activation='tanh', input_shape = X_train[0].shape, kernel_regularizer='l2'),\n",
    "    Dense(512//2, activation='tanh'),\n",
    "    Dense(512//4, activation='tanh'),\n",
    "    Dense(512//8, activation='tanh'),\n",
    "    Dense(32, activation='relu'),\n",
    "    Dense(3, activation='softmax')\n",
    "])\n",
    "model4.compile(optimizer='sgd',loss='categorical_crossentropy', metrics=['acc', 'mse'])\n",
    "hist4 = model4.fit(X_train, y_train, epochs=150, batch_size=128, validation_data=(X_test,y_test), verbose=2)\n",
    "\n",
    " \n"
   ]
  },
  {
   "cell_type": "code",
   "execution_count": null,
   "metadata": {
    "colab": {
     "base_uri": "https://localhost:8080/"
    },
    "executionInfo": {
     "elapsed": 481,
     "status": "ok",
     "timestamp": 1635757028924,
     "user": {
      "displayName": "Amay Gada",
      "photoUrl": "https://lh3.googleusercontent.com/a-/AOh14GhIegWflm0DVHy8h-sj9l7nvh_87WZPEby6oqxqjw=s64",
      "userId": "18318224108445437394"
     },
     "user_tz": -330
    },
    "id": "SlfjicuZsV8q",
    "outputId": "590b386c-a9ab-490d-da9d-d6257b0aeb10"
   },
   "outputs": [
    {
     "name": "stdout",
     "output_type": "stream",
     "text": [
      "2/2 [==============================] - 0s 7ms/step - loss: 0.3954 - acc: 0.8158 - mse: 0.0673\n",
      "Loss is 0.39543044567108154,\n",
      "Accuracy is 81.57894611358643,\n",
      "MSE is 0.06729625910520554\n"
     ]
    }
   ],
   "source": [
    "\n",
    "#just how we used evaluate() in the basic model previously, use it again to find the loss, accuracy and MSE on the test set\n",
    "\n",
    "#SOLUTION:\n",
    "loss4, acc4, mse4 = model4.evaluate(X_test, y_test)\n",
    "print(f\"Loss is {loss4},\\nAccuracy is {acc4 * 100},\\nMSE is {mse4}\")\n"
   ]
  },
  {
   "cell_type": "code",
   "execution_count": null,
   "metadata": {
    "colab": {
     "base_uri": "https://localhost:8080/",
     "height": 581
    },
    "executionInfo": {
     "elapsed": 1099,
     "status": "ok",
     "timestamp": 1635757030411,
     "user": {
      "displayName": "Amay Gada",
      "photoUrl": "https://lh3.googleusercontent.com/a-/AOh14GhIegWflm0DVHy8h-sj9l7nvh_87WZPEby6oqxqjw=s64",
      "userId": "18318224108445437394"
     },
     "user_tz": -330
    },
    "id": "aRuGo7Y-sV8q",
    "outputId": "5d0a1b1e-55d3-479c-b088-46dd920e222d"
   },
   "outputs": [
    {
     "data": {
      "image/png": "[encoded data removed]",
      "text/plain": [
       "<Figure size 432x288 with 1 Axes>"
      ]
     },
     "metadata": {},
     "output_type": "display_data"
    },
    {
     "data": {
      "image/png": "[encoded data removed]",
      "text/plain": [
       "<Figure size 432x288 with 1 Axes>"
      ]
     },
     "metadata": {},
     "output_type": "display_data"
    }
   ],
   "source": [
    "\n",
    "# Plot the train loss vs validation loss and train accuracy vs validation accuracy graphs just like we did before\n",
    "\n",
    "\n",
    "#SOLUTION:\n",
    "plt.plot(hist4.history['loss'], label = 'loss')\n",
    "plt.plot(hist4.history['val_loss'], label='val loss')\n",
    "plt.title(\"Loss vs Val_Loss\")\n",
    "plt.xlabel(\"Epochs\")\n",
    "plt.ylabel(\"Loss\")\n",
    "plt.legend()\n",
    "plt.show()\n",
    "\n",
    "plt.plot(hist4.history['acc'], label = 'ACC')\n",
    "plt.plot(hist4.history['val_acc'], label='val acc')\n",
    "plt.title(\"acc vs Val_acc\")\n",
    "plt.xlabel(\"Epochs\")\n",
    "plt.ylabel(\"acc\")\n",
    "plt.legend()\n",
    "plt.show()"
   ]
  },
  {
   "cell_type": "code",
   "execution_count": null,
   "metadata": {
    "colab": {
     "base_uri": "https://localhost:8080/"
    },
    "executionInfo": {
     "elapsed": 6232,
     "status": "ok",
     "timestamp": 1635757042703,
     "user": {
      "displayName": "Amay Gada",
      "photoUrl": "https://lh3.googleusercontent.com/a-/AOh14GhIegWflm0DVHy8h-sj9l7nvh_87WZPEby6oqxqjw=s64",
      "userId": "18318224108445437394"
     },
     "user_tz": -330
    },
    "id": "4KkOqTUasV8q",
    "outputId": "5cd76329-d178-45bd-fec0-0b18396fbed7"
   },
   "outputs": [
    {
     "name": "stdout",
     "output_type": "stream",
     "text": [
      "Epoch 1/150\n",
      "1/1 - 1s - loss: 7.5534 - acc: 0.2857 - mse: 0.2213 - val_loss: 7.5112 - val_acc: 0.5000 - val_mse: 0.2118\n",
      "Epoch 2/150\n",
      "1/1 - 0s - loss: 7.4814 - acc: 0.5625 - mse: 0.2053 - val_loss: 7.4577 - val_acc: 0.7105 - val_mse: 0.1999\n",
      "Epoch 3/150\n",
      "1/1 - 0s - loss: 7.4213 - acc: 0.8036 - mse: 0.1916 - val_loss: 7.4117 - val_acc: 0.7368 - val_mse: 0.1895\n",
      "Epoch 4/150\n",
      "1/1 - 0s - loss: 7.3725 - acc: 0.8661 - mse: 0.1804 - val_loss: 7.3741 - val_acc: 0.7368 - val_mse: 0.1811\n",
      "Epoch 5/150\n",
      "1/1 - 0s - loss: 7.3338 - acc: 0.8661 - mse: 0.1715 - val_loss: 7.3434 - val_acc: 0.7368 - val_mse: 0.1742\n",
      "Epoch 6/150\n",
      "1/1 - 0s - loss: 7.3027 - acc: 0.8661 - mse: 0.1646 - val_loss: 7.3149 - val_acc: 0.7368 - val_mse: 0.1680\n",
      "Epoch 7/150\n",
      "1/1 - 0s - loss: 7.2729 - acc: 0.8571 - mse: 0.1579 - val_loss: 7.2866 - val_acc: 0.7368 - val_mse: 0.1618\n",
      "Epoch 8/150\n",
      "1/1 - 0s - loss: 7.2443 - acc: 0.8571 - mse: 0.1516 - val_loss: 7.2595 - val_acc: 0.7368 - val_mse: 0.1559\n",
      "Epoch 9/150\n",
      "1/1 - 0s - loss: 7.2172 - acc: 0.8661 - mse: 0.1457 - val_loss: 7.2346 - val_acc: 0.7368 - val_mse: 0.1507\n",
      "Epoch 10/150\n",
      "1/1 - 0s - loss: 7.1919 - acc: 0.8661 - mse: 0.1403 - val_loss: 7.2121 - val_acc: 0.7368 - val_mse: 0.1460\n",
      "Epoch 11/150\n",
      "1/1 - 0s - loss: 7.1685 - acc: 0.8661 - mse: 0.1355 - val_loss: 7.1912 - val_acc: 0.7368 - val_mse: 0.1418\n",
      "Epoch 12/150\n",
      "1/1 - 0s - loss: 7.1469 - acc: 0.8750 - mse: 0.1311 - val_loss: 7.1719 - val_acc: 0.7368 - val_mse: 0.1381\n",
      "Epoch 13/150\n",
      "1/1 - 0s - loss: 7.1265 - acc: 0.8750 - mse: 0.1270 - val_loss: 7.1536 - val_acc: 0.7368 - val_mse: 0.1346\n",
      "Epoch 14/150\n",
      "1/1 - 0s - loss: 7.1068 - acc: 0.8661 - mse: 0.1231 - val_loss: 7.1367 - val_acc: 0.7368 - val_mse: 0.1315\n",
      "Epoch 15/150\n",
      "1/1 - 0s - loss: 7.0885 - acc: 0.8661 - mse: 0.1196 - val_loss: 7.1211 - val_acc: 0.7368 - val_mse: 0.1288\n",
      "Epoch 16/150\n",
      "1/1 - 0s - loss: 7.0715 - acc: 0.8661 - mse: 0.1164 - val_loss: 7.1069 - val_acc: 0.7368 - val_mse: 0.1263\n",
      "Epoch 17/150\n",
      "1/1 - 0s - loss: 7.0555 - acc: 0.8750 - mse: 0.1134 - val_loss: 7.0938 - val_acc: 0.7368 - val_mse: 0.1242\n",
      "Epoch 18/150\n",
      "1/1 - 0s - loss: 7.0408 - acc: 0.8750 - mse: 0.1108 - val_loss: 7.0818 - val_acc: 0.7368 - val_mse: 0.1223\n",
      "Epoch 19/150\n",
      "1/1 - 0s - loss: 7.0270 - acc: 0.8750 - mse: 0.1084 - val_loss: 7.0704 - val_acc: 0.7368 - val_mse: 0.1206\n",
      "Epoch 20/150\n",
      "1/1 - 0s - loss: 7.0140 - acc: 0.8750 - mse: 0.1061 - val_loss: 7.0597 - val_acc: 0.7368 - val_mse: 0.1191\n",
      "Epoch 21/150\n",
      "1/1 - 0s - loss: 7.0016 - acc: 0.8750 - mse: 0.1040 - val_loss: 7.0496 - val_acc: 0.7368 - val_mse: 0.1177\n",
      "Epoch 22/150\n",
      "1/1 - 0s - loss: 6.9898 - acc: 0.8750 - mse: 0.1021 - val_loss: 7.0400 - val_acc: 0.7368 - val_mse: 0.1164\n",
      "Epoch 23/150\n",
      "1/1 - 0s - loss: 6.9785 - acc: 0.8750 - mse: 0.1003 - val_loss: 7.0308 - val_acc: 0.7368 - val_mse: 0.1152\n",
      "Epoch 24/150\n",
      "1/1 - 0s - loss: 6.9677 - acc: 0.8750 - mse: 0.0986 - val_loss: 7.0220 - val_acc: 0.7368 - val_mse: 0.1141\n",
      "Epoch 25/150\n",
      "1/1 - 0s - loss: 6.9574 - acc: 0.8750 - mse: 0.0970 - val_loss: 7.0135 - val_acc: 0.7368 - val_mse: 0.1130\n",
      "Epoch 26/150\n",
      "1/1 - 0s - loss: 6.9472 - acc: 0.8750 - mse: 0.0955 - val_loss: 7.0053 - val_acc: 0.7368 - val_mse: 0.1121\n",
      "Epoch 27/150\n",
      "1/1 - 0s - loss: 6.9374 - acc: 0.8750 - mse: 0.0940 - val_loss: 6.9974 - val_acc: 0.7368 - val_mse: 0.1112\n",
      "Epoch 28/150\n",
      "1/1 - 0s - loss: 6.9279 - acc: 0.8750 - mse: 0.0926 - val_loss: 6.9898 - val_acc: 0.7368 - val_mse: 0.1103\n",
      "Epoch 29/150\n",
      "1/1 - 0s - loss: 6.9187 - acc: 0.8750 - mse: 0.0913 - val_loss: 6.9825 - val_acc: 0.7368 - val_mse: 0.1095\n",
      "Epoch 30/150\n",
      "1/1 - 0s - loss: 6.9098 - acc: 0.8750 - mse: 0.0900 - val_loss: 6.9754 - val_acc: 0.7368 - val_mse: 0.1088\n",
      "Epoch 31/150\n",
      "1/1 - 0s - loss: 6.9012 - acc: 0.8750 - mse: 0.0888 - val_loss: 6.9685 - val_acc: 0.7368 - val_mse: 0.1081\n",
      "Epoch 32/150\n",
      "1/1 - 0s - loss: 6.8928 - acc: 0.8750 - mse: 0.0876 - val_loss: 6.9618 - val_acc: 0.7368 - val_mse: 0.1075\n",
      "Epoch 33/150\n",
      "1/1 - 0s - loss: 6.8847 - acc: 0.8750 - mse: 0.0865 - val_loss: 6.9553 - val_acc: 0.7368 - val_mse: 0.1069\n",
      "Epoch 34/150\n",
      "1/1 - 0s - loss: 6.8768 - acc: 0.8750 - mse: 0.0855 - val_loss: 6.9490 - val_acc: 0.7368 - val_mse: 0.1063\n",
      "Epoch 35/150\n",
      "1/1 - 0s - loss: 6.8690 - acc: 0.8750 - mse: 0.0845 - val_loss: 6.9428 - val_acc: 0.7368 - val_mse: 0.1058\n",
      "Epoch 36/150\n",
      "1/1 - 0s - loss: 6.8615 - acc: 0.8750 - mse: 0.0835 - val_loss: 6.9368 - val_acc: 0.7368 - val_mse: 0.1052\n",
      "Epoch 37/150\n",
      "1/1 - 0s - loss: 6.8541 - acc: 0.8750 - mse: 0.0826 - val_loss: 6.9309 - val_acc: 0.7368 - val_mse: 0.1048\n",
      "Epoch 38/150\n",
      "1/1 - 0s - loss: 6.8469 - acc: 0.8750 - mse: 0.0817 - val_loss: 6.9251 - val_acc: 0.7368 - val_mse: 0.1043\n",
      "Epoch 39/150\n",
      "1/1 - 0s - loss: 6.8398 - acc: 0.8750 - mse: 0.0808 - val_loss: 6.9194 - val_acc: 0.7368 - val_mse: 0.1038\n",
      "Epoch 40/150\n",
      "1/1 - 0s - loss: 6.8329 - acc: 0.8750 - mse: 0.0800 - val_loss: 6.9138 - val_acc: 0.7368 - val_mse: 0.1034\n",
      "Epoch 41/150\n",
      "1/1 - 0s - loss: 6.8261 - acc: 0.8750 - mse: 0.0792 - val_loss: 6.9083 - val_acc: 0.7368 - val_mse: 0.1030\n",
      "Epoch 42/150\n",
      "1/1 - 0s - loss: 6.8195 - acc: 0.8750 - mse: 0.0784 - val_loss: 6.9030 - val_acc: 0.7368 - val_mse: 0.1026\n",
      "Epoch 43/150\n",
      "1/1 - 0s - loss: 6.8130 - acc: 0.8750 - mse: 0.0777 - val_loss: 6.8977 - val_acc: 0.7368 - val_mse: 0.1022\n",
      "Epoch 44/150\n",
      "1/1 - 0s - loss: 6.8066 - acc: 0.8750 - mse: 0.0769 - val_loss: 6.8925 - val_acc: 0.7368 - val_mse: 0.1019\n",
      "Epoch 45/150\n",
      "1/1 - 0s - loss: 6.8003 - acc: 0.8750 - mse: 0.0762 - val_loss: 6.8873 - val_acc: 0.7368 - val_mse: 0.1015\n",
      "Epoch 46/150\n",
      "1/1 - 0s - loss: 6.7941 - acc: 0.8750 - mse: 0.0755 - val_loss: 6.8822 - val_acc: 0.7368 - val_mse: 0.1012\n",
      "Epoch 47/150\n",
      "1/1 - 0s - loss: 6.7880 - acc: 0.8750 - mse: 0.0749 - val_loss: 6.8773 - val_acc: 0.7368 - val_mse: 0.1009\n",
      "Epoch 48/150\n",
      "1/1 - 0s - loss: 6.7820 - acc: 0.8750 - mse: 0.0742 - val_loss: 6.8723 - val_acc: 0.7368 - val_mse: 0.1006\n",
      "Epoch 49/150\n",
      "1/1 - 0s - loss: 6.7761 - acc: 0.8750 - mse: 0.0736 - val_loss: 6.8674 - val_acc: 0.7368 - val_mse: 0.1003\n",
      "Epoch 50/150\n",
      "1/1 - 0s - loss: 6.7703 - acc: 0.8750 - mse: 0.0730 - val_loss: 6.8626 - val_acc: 0.7368 - val_mse: 0.1000\n",
      "Epoch 51/150\n",
      "1/1 - 0s - loss: 6.7645 - acc: 0.8750 - mse: 0.0724 - val_loss: 6.8579 - val_acc: 0.7368 - val_mse: 0.0997\n",
      "Epoch 52/150\n",
      "1/1 - 0s - loss: 6.7589 - acc: 0.8750 - mse: 0.0718 - val_loss: 6.8532 - val_acc: 0.7368 - val_mse: 0.0994\n",
      "Epoch 53/150\n",
      "1/1 - 0s - loss: 6.7533 - acc: 0.8750 - mse: 0.0712 - val_loss: 6.8486 - val_acc: 0.7368 - val_mse: 0.0991\n",
      "Epoch 54/150\n",
      "1/1 - 0s - loss: 6.7478 - acc: 0.8839 - mse: 0.0707 - val_loss: 6.8440 - val_acc: 0.7368 - val_mse: 0.0989\n",
      "Epoch 55/150\n",
      "1/1 - 0s - loss: 6.7423 - acc: 0.8839 - mse: 0.0701 - val_loss: 6.8396 - val_acc: 0.7368 - val_mse: 0.0986\n",
      "Epoch 56/150\n",
      "1/1 - 0s - loss: 6.7370 - acc: 0.8839 - mse: 0.0696 - val_loss: 6.8351 - val_acc: 0.7368 - val_mse: 0.0984\n",
      "Epoch 57/150\n",
      "1/1 - 0s - loss: 6.7316 - acc: 0.8839 - mse: 0.0691 - val_loss: 6.8307 - val_acc: 0.7368 - val_mse: 0.0982\n",
      "Epoch 58/150\n",
      "1/1 - 0s - loss: 6.7264 - acc: 0.8839 - mse: 0.0686 - val_loss: 6.8264 - val_acc: 0.7368 - val_mse: 0.0979\n",
      "Epoch 59/150\n",
      "1/1 - 0s - loss: 6.7212 - acc: 0.8839 - mse: 0.0681 - val_loss: 6.8220 - val_acc: 0.7368 - val_mse: 0.0977\n",
      "Epoch 60/150\n",
      "1/1 - 0s - loss: 6.7161 - acc: 0.8929 - mse: 0.0676 - val_loss: 6.8177 - val_acc: 0.7368 - val_mse: 0.0975\n",
      "Epoch 61/150\n",
      "1/1 - 0s - loss: 6.7110 - acc: 0.8929 - mse: 0.0672 - val_loss: 6.8135 - val_acc: 0.7368 - val_mse: 0.0973\n",
      "Epoch 62/150\n",
      "1/1 - 0s - loss: 6.7060 - acc: 0.8929 - mse: 0.0667 - val_loss: 6.8092 - val_acc: 0.7368 - val_mse: 0.0971\n",
      "Epoch 63/150\n",
      "1/1 - 0s - loss: 6.7010 - acc: 0.8929 - mse: 0.0663 - val_loss: 6.8050 - val_acc: 0.7368 - val_mse: 0.0969\n",
      "Epoch 64/150\n",
      "1/1 - 0s - loss: 6.6961 - acc: 0.8929 - mse: 0.0658 - val_loss: 6.8009 - val_acc: 0.7368 - val_mse: 0.0966\n",
      "Epoch 65/150\n",
      "1/1 - 0s - loss: 6.6913 - acc: 0.8929 - mse: 0.0654 - val_loss: 6.7967 - val_acc: 0.7368 - val_mse: 0.0964\n",
      "Epoch 66/150\n",
      "1/1 - 0s - loss: 6.6865 - acc: 0.8929 - mse: 0.0650 - val_loss: 6.7925 - val_acc: 0.7368 - val_mse: 0.0962\n",
      "Epoch 67/150\n",
      "1/1 - 0s - loss: 6.6817 - acc: 0.8929 - mse: 0.0645 - val_loss: 6.7884 - val_acc: 0.7368 - val_mse: 0.0960\n",
      "Epoch 68/150\n",
      "1/1 - 0s - loss: 6.6769 - acc: 0.8929 - mse: 0.0641 - val_loss: 6.7843 - val_acc: 0.7368 - val_mse: 0.0958\n",
      "Epoch 69/150\n",
      "1/1 - 0s - loss: 6.6722 - acc: 0.8929 - mse: 0.0637 - val_loss: 6.7802 - val_acc: 0.7368 - val_mse: 0.0956\n",
      "Epoch 70/150\n",
      "1/1 - 0s - loss: 6.6676 - acc: 0.8929 - mse: 0.0633 - val_loss: 6.7762 - val_acc: 0.7368 - val_mse: 0.0954\n",
      "Epoch 71/150\n",
      "1/1 - 0s - loss: 6.6629 - acc: 0.8929 - mse: 0.0629 - val_loss: 6.7722 - val_acc: 0.7368 - val_mse: 0.0952\n",
      "Epoch 72/150\n",
      "1/1 - 0s - loss: 6.6584 - acc: 0.8929 - mse: 0.0626 - val_loss: 6.7682 - val_acc: 0.7368 - val_mse: 0.0950\n",
      "Epoch 73/150\n",
      "1/1 - 0s - loss: 6.6538 - acc: 0.8929 - mse: 0.0622 - val_loss: 6.7641 - val_acc: 0.7368 - val_mse: 0.0948\n",
      "Epoch 74/150\n",
      "1/1 - 0s - loss: 6.6493 - acc: 0.8929 - mse: 0.0618 - val_loss: 6.7601 - val_acc: 0.7368 - val_mse: 0.0946\n",
      "Epoch 75/150\n",
      "1/1 - 0s - loss: 6.6447 - acc: 0.8929 - mse: 0.0614 - val_loss: 6.7561 - val_acc: 0.7368 - val_mse: 0.0944\n",
      "Epoch 76/150\n",
      "1/1 - 0s - loss: 6.6403 - acc: 0.8929 - mse: 0.0611 - val_loss: 6.7522 - val_acc: 0.7368 - val_mse: 0.0942\n",
      "Epoch 77/150\n",
      "1/1 - 0s - loss: 6.6359 - acc: 0.8929 - mse: 0.0607 - val_loss: 6.7483 - val_acc: 0.7368 - val_mse: 0.0940\n",
      "Epoch 78/150\n",
      "1/1 - 0s - loss: 6.6315 - acc: 0.8929 - mse: 0.0604 - val_loss: 6.7444 - val_acc: 0.7368 - val_mse: 0.0939\n",
      "Epoch 79/150\n",
      "1/1 - 0s - loss: 6.6271 - acc: 0.9018 - mse: 0.0600 - val_loss: 6.7406 - val_acc: 0.7368 - val_mse: 0.0937\n",
      "Epoch 80/150\n",
      "1/1 - 0s - loss: 6.6228 - acc: 0.9018 - mse: 0.0597 - val_loss: 6.7367 - val_acc: 0.7368 - val_mse: 0.0935\n",
      "Epoch 81/150\n",
      "1/1 - 0s - loss: 6.6184 - acc: 0.9018 - mse: 0.0593 - val_loss: 6.7329 - val_acc: 0.7368 - val_mse: 0.0933\n",
      "Epoch 82/150\n",
      "1/1 - 0s - loss: 6.6141 - acc: 0.9018 - mse: 0.0590 - val_loss: 6.7291 - val_acc: 0.7368 - val_mse: 0.0931\n",
      "Epoch 83/150\n",
      "1/1 - 0s - loss: 6.6099 - acc: 0.9018 - mse: 0.0587 - val_loss: 6.7253 - val_acc: 0.7368 - val_mse: 0.0929\n",
      "Epoch 84/150\n",
      "1/1 - 0s - loss: 6.6057 - acc: 0.9018 - mse: 0.0583 - val_loss: 6.7216 - val_acc: 0.7368 - val_mse: 0.0928\n",
      "Epoch 85/150\n",
      "1/1 - 0s - loss: 6.6015 - acc: 0.9018 - mse: 0.0580 - val_loss: 6.7179 - val_acc: 0.7368 - val_mse: 0.0926\n",
      "Epoch 86/150\n",
      "1/1 - 0s - loss: 6.5973 - acc: 0.9018 - mse: 0.0577 - val_loss: 6.7142 - val_acc: 0.7368 - val_mse: 0.0924\n",
      "Epoch 87/150\n",
      "1/1 - 0s - loss: 6.5931 - acc: 0.9018 - mse: 0.0574 - val_loss: 6.7105 - val_acc: 0.7368 - val_mse: 0.0923\n",
      "Epoch 88/150\n",
      "1/1 - 0s - loss: 6.5890 - acc: 0.9018 - mse: 0.0571 - val_loss: 6.7068 - val_acc: 0.7368 - val_mse: 0.0921\n",
      "Epoch 89/150\n",
      "1/1 - 0s - loss: 6.5849 - acc: 0.9018 - mse: 0.0568 - val_loss: 6.7032 - val_acc: 0.7368 - val_mse: 0.0919\n",
      "Epoch 90/150\n",
      "1/1 - 0s - loss: 6.5808 - acc: 0.9018 - mse: 0.0564 - val_loss: 6.6995 - val_acc: 0.7368 - val_mse: 0.0918\n",
      "Epoch 91/150\n",
      "1/1 - 0s - loss: 6.5767 - acc: 0.9018 - mse: 0.0561 - val_loss: 6.6959 - val_acc: 0.7632 - val_mse: 0.0916\n",
      "Epoch 92/150\n",
      "1/1 - 0s - loss: 6.5727 - acc: 0.9107 - mse: 0.0559 - val_loss: 6.6923 - val_acc: 0.7632 - val_mse: 0.0915\n",
      "Epoch 93/150\n",
      "1/1 - 0s - loss: 6.5687 - acc: 0.9107 - mse: 0.0556 - val_loss: 6.6888 - val_acc: 0.7632 - val_mse: 0.0913\n",
      "Epoch 94/150\n",
      "1/1 - 0s - loss: 6.5647 - acc: 0.9107 - mse: 0.0553 - val_loss: 6.6852 - val_acc: 0.7632 - val_mse: 0.0911\n",
      "Epoch 95/150\n",
      "1/1 - 0s - loss: 6.5607 - acc: 0.9107 - mse: 0.0550 - val_loss: 6.6817 - val_acc: 0.7632 - val_mse: 0.0910\n",
      "Epoch 96/150\n",
      "1/1 - 0s - loss: 6.5568 - acc: 0.9107 - mse: 0.0547 - val_loss: 6.6782 - val_acc: 0.7632 - val_mse: 0.0908\n",
      "Epoch 97/150\n",
      "1/1 - 0s - loss: 6.5529 - acc: 0.9107 - mse: 0.0544 - val_loss: 6.6747 - val_acc: 0.7632 - val_mse: 0.0907\n",
      "Epoch 98/150\n",
      "1/1 - 0s - loss: 6.5489 - acc: 0.9107 - mse: 0.0541 - val_loss: 6.6712 - val_acc: 0.7632 - val_mse: 0.0905\n",
      "Epoch 99/150\n",
      "1/1 - 0s - loss: 6.5451 - acc: 0.9196 - mse: 0.0539 - val_loss: 6.6677 - val_acc: 0.7632 - val_mse: 0.0904\n",
      "Epoch 100/150\n",
      "1/1 - 0s - loss: 6.5412 - acc: 0.9196 - mse: 0.0536 - val_loss: 6.6642 - val_acc: 0.7632 - val_mse: 0.0902\n",
      "Epoch 101/150\n",
      "1/1 - 0s - loss: 6.5373 - acc: 0.9196 - mse: 0.0533 - val_loss: 6.6607 - val_acc: 0.7632 - val_mse: 0.0901\n",
      "Epoch 102/150\n",
      "1/1 - 0s - loss: 6.5335 - acc: 0.9196 - mse: 0.0531 - val_loss: 6.6573 - val_acc: 0.7632 - val_mse: 0.0899\n",
      "Epoch 103/150\n",
      "1/1 - 0s - loss: 6.5297 - acc: 0.9196 - mse: 0.0528 - val_loss: 6.6538 - val_acc: 0.7632 - val_mse: 0.0898\n",
      "Epoch 104/150\n",
      "1/1 - 0s - loss: 6.5259 - acc: 0.9196 - mse: 0.0525 - val_loss: 6.6504 - val_acc: 0.7632 - val_mse: 0.0897\n",
      "Epoch 105/150\n",
      "1/1 - 0s - loss: 6.5221 - acc: 0.9196 - mse: 0.0523 - val_loss: 6.6470 - val_acc: 0.7632 - val_mse: 0.0895\n",
      "Epoch 106/150\n",
      "1/1 - 0s - loss: 6.5183 - acc: 0.9196 - mse: 0.0520 - val_loss: 6.6435 - val_acc: 0.7632 - val_mse: 0.0894\n",
      "Epoch 107/150\n",
      "1/1 - 0s - loss: 6.5145 - acc: 0.9196 - mse: 0.0518 - val_loss: 6.6401 - val_acc: 0.7632 - val_mse: 0.0892\n",
      "Epoch 108/150\n",
      "1/1 - 0s - loss: 6.5108 - acc: 0.9196 - mse: 0.0515 - val_loss: 6.6367 - val_acc: 0.7632 - val_mse: 0.0891\n",
      "Epoch 109/150\n",
      "1/1 - 0s - loss: 6.5071 - acc: 0.9196 - mse: 0.0513 - val_loss: 6.6333 - val_acc: 0.7632 - val_mse: 0.0889\n",
      "Epoch 110/150\n",
      "1/1 - 0s - loss: 6.5034 - acc: 0.9196 - mse: 0.0510 - val_loss: 6.6299 - val_acc: 0.7632 - val_mse: 0.0887\n",
      "Epoch 111/150\n",
      "1/1 - 0s - loss: 6.4997 - acc: 0.9196 - mse: 0.0508 - val_loss: 6.6265 - val_acc: 0.7632 - val_mse: 0.0886\n",
      "Epoch 112/150\n",
      "1/1 - 0s - loss: 6.4960 - acc: 0.9196 - mse: 0.0505 - val_loss: 6.6231 - val_acc: 0.7632 - val_mse: 0.0884\n",
      "Epoch 113/150\n",
      "1/1 - 0s - loss: 6.4923 - acc: 0.9196 - mse: 0.0503 - val_loss: 6.6197 - val_acc: 0.7632 - val_mse: 0.0883\n",
      "Epoch 114/150\n",
      "1/1 - 0s - loss: 6.4886 - acc: 0.9196 - mse: 0.0501 - val_loss: 6.6163 - val_acc: 0.7632 - val_mse: 0.0881\n",
      "Epoch 115/150\n",
      "1/1 - 0s - loss: 6.4850 - acc: 0.9196 - mse: 0.0498 - val_loss: 6.6129 - val_acc: 0.7632 - val_mse: 0.0880\n",
      "Epoch 116/150\n",
      "1/1 - 0s - loss: 6.4814 - acc: 0.9286 - mse: 0.0496 - val_loss: 6.6095 - val_acc: 0.7632 - val_mse: 0.0878\n",
      "Epoch 117/150\n",
      "1/1 - 0s - loss: 6.4778 - acc: 0.9286 - mse: 0.0494 - val_loss: 6.6061 - val_acc: 0.7632 - val_mse: 0.0877\n",
      "Epoch 118/150\n",
      "1/1 - 0s - loss: 6.4741 - acc: 0.9286 - mse: 0.0491 - val_loss: 6.6027 - val_acc: 0.7632 - val_mse: 0.0875\n",
      "Epoch 119/150\n",
      "1/1 - 0s - loss: 6.4705 - acc: 0.9375 - mse: 0.0489 - val_loss: 6.5993 - val_acc: 0.7632 - val_mse: 0.0873\n",
      "Epoch 120/150\n",
      "1/1 - 0s - loss: 6.4670 - acc: 0.9375 - mse: 0.0487 - val_loss: 6.5959 - val_acc: 0.7632 - val_mse: 0.0872\n",
      "Epoch 121/150\n",
      "1/1 - 0s - loss: 6.4634 - acc: 0.9375 - mse: 0.0485 - val_loss: 6.5926 - val_acc: 0.7632 - val_mse: 0.0870\n",
      "Epoch 122/150\n",
      "1/1 - 0s - loss: 6.4598 - acc: 0.9375 - mse: 0.0482 - val_loss: 6.5892 - val_acc: 0.7632 - val_mse: 0.0868\n",
      "Epoch 123/150\n",
      "1/1 - 0s - loss: 6.4563 - acc: 0.9375 - mse: 0.0480 - val_loss: 6.5858 - val_acc: 0.7632 - val_mse: 0.0867\n",
      "Epoch 124/150\n",
      "1/1 - 0s - loss: 6.4527 - acc: 0.9375 - mse: 0.0478 - val_loss: 6.5825 - val_acc: 0.7632 - val_mse: 0.0865\n",
      "Epoch 125/150\n",
      "1/1 - 0s - loss: 6.4492 - acc: 0.9375 - mse: 0.0476 - val_loss: 6.5791 - val_acc: 0.7632 - val_mse: 0.0864\n",
      "Epoch 126/150\n",
      "1/1 - 0s - loss: 6.4457 - acc: 0.9375 - mse: 0.0474 - val_loss: 6.5758 - val_acc: 0.7632 - val_mse: 0.0862\n",
      "Epoch 127/150\n",
      "1/1 - 0s - loss: 6.4422 - acc: 0.9375 - mse: 0.0471 - val_loss: 6.5724 - val_acc: 0.7632 - val_mse: 0.0860\n",
      "Epoch 128/150\n",
      "1/1 - 0s - loss: 6.4387 - acc: 0.9375 - mse: 0.0469 - val_loss: 6.5691 - val_acc: 0.7632 - val_mse: 0.0859\n",
      "Epoch 129/150\n",
      "1/1 - 0s - loss: 6.4352 - acc: 0.9375 - mse: 0.0467 - val_loss: 6.5657 - val_acc: 0.7632 - val_mse: 0.0857\n",
      "Epoch 130/150\n",
      "1/1 - 0s - loss: 6.4317 - acc: 0.9375 - mse: 0.0465 - val_loss: 6.5624 - val_acc: 0.7632 - val_mse: 0.0855\n",
      "Epoch 131/150\n",
      "1/1 - 0s - loss: 6.4282 - acc: 0.9375 - mse: 0.0463 - val_loss: 6.5590 - val_acc: 0.7632 - val_mse: 0.0853\n",
      "Epoch 132/150\n",
      "1/1 - 0s - loss: 6.4247 - acc: 0.9375 - mse: 0.0461 - val_loss: 6.5556 - val_acc: 0.7632 - val_mse: 0.0852\n",
      "Epoch 133/150\n",
      "1/1 - 0s - loss: 6.4213 - acc: 0.9375 - mse: 0.0459 - val_loss: 6.5523 - val_acc: 0.7632 - val_mse: 0.0850\n",
      "Epoch 134/150\n",
      "1/1 - 0s - loss: 6.4178 - acc: 0.9464 - mse: 0.0456 - val_loss: 6.5490 - val_acc: 0.7632 - val_mse: 0.0848\n",
      "Epoch 135/150\n",
      "1/1 - 0s - loss: 6.4144 - acc: 0.9464 - mse: 0.0454 - val_loss: 6.5456 - val_acc: 0.7632 - val_mse: 0.0847\n",
      "Epoch 136/150\n",
      "1/1 - 0s - loss: 6.4109 - acc: 0.9464 - mse: 0.0452 - val_loss: 6.5422 - val_acc: 0.7632 - val_mse: 0.0845\n",
      "Epoch 137/150\n",
      "1/1 - 0s - loss: 6.4075 - acc: 0.9464 - mse: 0.0450 - val_loss: 6.5389 - val_acc: 0.7632 - val_mse: 0.0843\n",
      "Epoch 138/150\n",
      "1/1 - 0s - loss: 6.4041 - acc: 0.9464 - mse: 0.0448 - val_loss: 6.5356 - val_acc: 0.7632 - val_mse: 0.0841\n",
      "Epoch 139/150\n",
      "1/1 - 0s - loss: 6.4007 - acc: 0.9464 - mse: 0.0446 - val_loss: 6.5322 - val_acc: 0.7632 - val_mse: 0.0839\n",
      "Epoch 140/150\n",
      "1/1 - 0s - loss: 6.3972 - acc: 0.9464 - mse: 0.0444 - val_loss: 6.5289 - val_acc: 0.7632 - val_mse: 0.0838\n",
      "Epoch 141/150\n",
      "1/1 - 0s - loss: 6.3938 - acc: 0.9464 - mse: 0.0442 - val_loss: 6.5256 - val_acc: 0.7632 - val_mse: 0.0836\n",
      "Epoch 142/150\n",
      "1/1 - 0s - loss: 6.3905 - acc: 0.9464 - mse: 0.0440 - val_loss: 6.5223 - val_acc: 0.7632 - val_mse: 0.0834\n",
      "Epoch 143/150\n",
      "1/1 - 0s - loss: 6.3871 - acc: 0.9464 - mse: 0.0438 - val_loss: 6.5190 - val_acc: 0.7632 - val_mse: 0.0832\n",
      "Epoch 144/150\n",
      "1/1 - 0s - loss: 6.3837 - acc: 0.9464 - mse: 0.0436 - val_loss: 6.5157 - val_acc: 0.7632 - val_mse: 0.0831\n",
      "Epoch 145/150\n",
      "1/1 - 0s - loss: 6.3803 - acc: 0.9464 - mse: 0.0434 - val_loss: 6.5124 - val_acc: 0.7632 - val_mse: 0.0829\n",
      "Epoch 146/150\n",
      "1/1 - 0s - loss: 6.3770 - acc: 0.9464 - mse: 0.0432 - val_loss: 6.5091 - val_acc: 0.7632 - val_mse: 0.0827\n",
      "Epoch 147/150\n",
      "1/1 - 0s - loss: 6.3736 - acc: 0.9464 - mse: 0.0430 - val_loss: 6.5058 - val_acc: 0.7632 - val_mse: 0.0826\n",
      "Epoch 148/150\n",
      "1/1 - 0s - loss: 6.3703 - acc: 0.9464 - mse: 0.0428 - val_loss: 6.5026 - val_acc: 0.7632 - val_mse: 0.0824\n",
      "Epoch 149/150\n",
      "1/1 - 0s - loss: 6.3670 - acc: 0.9464 - mse: 0.0426 - val_loss: 6.4993 - val_acc: 0.7632 - val_mse: 0.0822\n",
      "Epoch 150/150\n",
      "1/1 - 0s - loss: 6.3636 - acc: 0.9464 - mse: 0.0424 - val_loss: 6.4960 - val_acc: 0.7632 - val_mse: 0.0820\n"
     ]
    }
   ],
   "source": [
    "\n",
    "\n",
    "# Now create model5 having similar to the above models having L2 in all other layers.\n",
    "\n",
    "#SOLUTION:\n",
    "model5 = Sequential([\n",
    "    Dense(512, activation='tanh', input_shape = X_train[0].shape, kernel_regularizer='l2'),\n",
    "    Dense(512//2, activation='tanh', kernel_regularizer='l2'),\n",
    "    Dense(512//4, activation='tanh', kernel_regularizer='l2'),\n",
    "    Dense(512//8, activation='tanh', kernel_regularizer='l2'),\n",
    "    Dense(32, activation='relu', kernel_regularizer='l2'),\n",
    "    Dense(3, activation='softmax')\n",
    "])\n",
    "model5.compile(optimizer='sgd',loss='categorical_crossentropy', metrics=['acc', 'mse'])\n",
    "hist5 = model5.fit(X_train, y_train, epochs=150, batch_size=128, validation_data=(X_test,y_test), verbose=2)\n",
    " \n"
   ]
  },
  {
   "cell_type": "code",
   "execution_count": null,
   "metadata": {
    "colab": {
     "base_uri": "https://localhost:8080/"
    },
    "executionInfo": {
     "elapsed": 399,
     "status": "ok",
     "timestamp": 1635757050545,
     "user": {
      "displayName": "Amay Gada",
      "photoUrl": "https://lh3.googleusercontent.com/a-/AOh14GhIegWflm0DVHy8h-sj9l7nvh_87WZPEby6oqxqjw=s64",
      "userId": "18318224108445437394"
     },
     "user_tz": -330
    },
    "id": "7vTSfYCbsV8r",
    "outputId": "10864699-a670-4f5a-d8ca-6ce04da74fab"
   },
   "outputs": [
    {
     "name": "stdout",
     "output_type": "stream",
     "text": [
      "2/2 [==============================] - 0s 9ms/step - loss: 6.4960 - acc: 0.7632 - mse: 0.0820\n",
      "Loss is 6.496037483215332,\n",
      "Accuracy is 76.31579041481018,\n",
      "MSE is 0.08203773200511932\n"
     ]
    }
   ],
   "source": [
    "\n",
    "#just how we used evaluate() in the basic model previously, use it again to find the loss, accuracy and MSE on the test set\n",
    "\n",
    "#SOLUTION:\n",
    "loss5, acc5, mse5 = model5.evaluate(X_test, y_test)\n",
    "print(f\"Loss is {loss5},\\nAccuracy is {acc5 * 100},\\nMSE is {mse5}\")"
   ]
  },
  {
   "cell_type": "code",
   "execution_count": null,
   "metadata": {
    "colab": {
     "base_uri": "https://localhost:8080/",
     "height": 581
    },
    "executionInfo": {
     "elapsed": 1456,
     "status": "ok",
     "timestamp": 1635757063727,
     "user": {
      "displayName": "Amay Gada",
      "photoUrl": "https://lh3.googleusercontent.com/a-/AOh14GhIegWflm0DVHy8h-sj9l7nvh_87WZPEby6oqxqjw=s64",
      "userId": "18318224108445437394"
     },
     "user_tz": -330
    },
    "id": "qqQdhWxKsV8r",
    "outputId": "20cdba3f-07b2-4ba5-add5-3182d1e3ed7f"
   },
   "outputs": [
    {
     "data": {
      "image/png": "[encoded data removed]",
      "text/plain": [
       "<Figure size 432x288 with 1 Axes>"
      ]
     },
     "metadata": {},
     "output_type": "display_data"
    },
    {
     "data": {
      "image/png": "[encoded data removed]",
      "text/plain": [
       "<Figure size 432x288 with 1 Axes>"
      ]
     },
     "metadata": {},
     "output_type": "display_data"
    }
   ],
   "source": [
    "# Plot the train loss vs validation loss and train accuracy vs validation accuracy graphs just like we did before\n",
    "\n",
    "#SOLUTION:\n",
    "plt.plot(hist5.history['loss'], label = 'loss')\n",
    "plt.plot(hist5.history['val_loss'], label='val loss')\n",
    "plt.title(\"Loss vs Val_Loss\")\n",
    "plt.xlabel(\"Epochs\")\n",
    "plt.ylabel(\"Loss\")\n",
    "plt.legend()\n",
    "plt.show()\n",
    "\n",
    "\n",
    "plt.plot(hist5.history['acc'], label = 'ACC')\n",
    "plt.plot(hist5.history['val_acc'], label='val acc')\n",
    "plt.title(\"acc vs Val_acc\")\n",
    "plt.xlabel(\"Epochs\")\n",
    "plt.ylabel(\"acc\")\n",
    "plt.legend()\n",
    "plt.show()"
   ]
  },
  {
   "cell_type": "markdown",
   "metadata": {
    "id": "dWzlF1e_sV8r"
   },
   "source": [
    "\n",
    " \n",
    "\n",
    "## Dropout\n",
    " \n"
   ]
  },
  {
   "cell_type": "code",
   "execution_count": null,
   "metadata": {
    "colab": {
     "base_uri": "https://localhost:8080/"
    },
    "executionInfo": {
     "elapsed": 11086,
     "status": "ok",
     "timestamp": 1635757122320,
     "user": {
      "displayName": "Amay Gada",
      "photoUrl": "https://lh3.googleusercontent.com/a-/AOh14GhIegWflm0DVHy8h-sj9l7nvh_87WZPEby6oqxqjw=s64",
      "userId": "18318224108445437394"
     },
     "user_tz": -330
    },
    "id": "S-_9DD8TsV8s",
    "outputId": "38b02915-8f59-40fd-b2be-b83aace8ced6"
   },
   "outputs": [
    {
     "name": "stdout",
     "output_type": "stream",
     "text": [
      "Epoch 1/150\n",
      "1/1 - 1s - loss: 1.0992 - acc: 0.3304 - mse: 0.2241 - val_loss: 1.0926 - val_acc: 0.2895 - val_mse: 0.2238\n",
      "Epoch 2/150\n",
      "1/1 - 0s - loss: 1.0702 - acc: 0.4375 - mse: 0.2176 - val_loss: 1.0355 - val_acc: 0.2895 - val_mse: 0.2108\n",
      "Epoch 3/150\n",
      "1/1 - 0s - loss: 1.0159 - acc: 0.4821 - mse: 0.2056 - val_loss: 0.9879 - val_acc: 0.5526 - val_mse: 0.1996\n",
      "Epoch 4/150\n",
      "1/1 - 0s - loss: 0.9751 - acc: 0.5536 - mse: 0.1961 - val_loss: 0.9443 - val_acc: 0.6842 - val_mse: 0.1892\n",
      "Epoch 5/150\n",
      "1/1 - 0s - loss: 0.9484 - acc: 0.6071 - mse: 0.1901 - val_loss: 0.9028 - val_acc: 0.7368 - val_mse: 0.1792\n",
      "Epoch 6/150\n",
      "1/1 - 0s - loss: 0.9318 - acc: 0.6607 - mse: 0.1859 - val_loss: 0.8689 - val_acc: 0.7368 - val_mse: 0.1711\n",
      "Epoch 7/150\n",
      "1/1 - 0s - loss: 0.8752 - acc: 0.7321 - mse: 0.1726 - val_loss: 0.8390 - val_acc: 0.7368 - val_mse: 0.1640\n",
      "Epoch 8/150\n",
      "1/1 - 0s - loss: 0.8379 - acc: 0.7946 - mse: 0.1637 - val_loss: 0.8119 - val_acc: 0.7368 - val_mse: 0.1578\n",
      "Epoch 9/150\n",
      "1/1 - 0s - loss: 0.8064 - acc: 0.7857 - mse: 0.1564 - val_loss: 0.7877 - val_acc: 0.7368 - val_mse: 0.1523\n",
      "Epoch 10/150\n",
      "1/1 - 0s - loss: 0.8071 - acc: 0.7500 - mse: 0.1574 - val_loss: 0.7651 - val_acc: 0.7105 - val_mse: 0.1473\n",
      "Epoch 11/150\n",
      "1/1 - 0s - loss: 0.7547 - acc: 0.8036 - mse: 0.1451 - val_loss: 0.7445 - val_acc: 0.7105 - val_mse: 0.1428\n",
      "Epoch 12/150\n",
      "1/1 - 0s - loss: 0.7310 - acc: 0.8304 - mse: 0.1390 - val_loss: 0.7263 - val_acc: 0.7105 - val_mse: 0.1389\n",
      "Epoch 13/150\n",
      "1/1 - 0s - loss: 0.7122 - acc: 0.8571 - mse: 0.1354 - val_loss: 0.7091 - val_acc: 0.7105 - val_mse: 0.1353\n",
      "Epoch 14/150\n",
      "1/1 - 0s - loss: 0.7177 - acc: 0.7946 - mse: 0.1380 - val_loss: 0.6934 - val_acc: 0.7105 - val_mse: 0.1321\n",
      "Epoch 15/150\n",
      "1/1 - 0s - loss: 0.7006 - acc: 0.7768 - mse: 0.1341 - val_loss: 0.6791 - val_acc: 0.7105 - val_mse: 0.1293\n",
      "Epoch 16/150\n",
      "1/1 - 0s - loss: 0.6851 - acc: 0.8036 - mse: 0.1305 - val_loss: 0.6654 - val_acc: 0.7105 - val_mse: 0.1266\n",
      "Epoch 17/150\n",
      "1/1 - 0s - loss: 0.6592 - acc: 0.8571 - mse: 0.1243 - val_loss: 0.6531 - val_acc: 0.7105 - val_mse: 0.1243\n",
      "Epoch 18/150\n",
      "1/1 - 0s - loss: 0.6481 - acc: 0.8125 - mse: 0.1216 - val_loss: 0.6415 - val_acc: 0.7368 - val_mse: 0.1222\n",
      "Epoch 19/150\n",
      "1/1 - 0s - loss: 0.6285 - acc: 0.8393 - mse: 0.1179 - val_loss: 0.6307 - val_acc: 0.7368 - val_mse: 0.1203\n",
      "Epoch 20/150\n",
      "1/1 - 0s - loss: 0.6034 - acc: 0.8304 - mse: 0.1114 - val_loss: 0.6209 - val_acc: 0.7368 - val_mse: 0.1186\n",
      "Epoch 21/150\n",
      "1/1 - 0s - loss: 0.6037 - acc: 0.8304 - mse: 0.1127 - val_loss: 0.6110 - val_acc: 0.7368 - val_mse: 0.1169\n",
      "Epoch 22/150\n",
      "1/1 - 0s - loss: 0.5934 - acc: 0.8482 - mse: 0.1104 - val_loss: 0.6018 - val_acc: 0.7368 - val_mse: 0.1154\n",
      "Epoch 23/150\n",
      "1/1 - 0s - loss: 0.5726 - acc: 0.8393 - mse: 0.1059 - val_loss: 0.5933 - val_acc: 0.7368 - val_mse: 0.1140\n",
      "Epoch 24/150\n",
      "1/1 - 0s - loss: 0.5618 - acc: 0.8214 - mse: 0.1033 - val_loss: 0.5855 - val_acc: 0.7368 - val_mse: 0.1128\n",
      "Epoch 25/150\n",
      "1/1 - 0s - loss: 0.5551 - acc: 0.8661 - mse: 0.1019 - val_loss: 0.5780 - val_acc: 0.7368 - val_mse: 0.1117\n",
      "Epoch 26/150\n",
      "1/1 - 0s - loss: 0.5405 - acc: 0.8571 - mse: 0.0990 - val_loss: 0.5712 - val_acc: 0.7368 - val_mse: 0.1107\n",
      "Epoch 27/150\n",
      "1/1 - 0s - loss: 0.5306 - acc: 0.8661 - mse: 0.0978 - val_loss: 0.5649 - val_acc: 0.7368 - val_mse: 0.1098\n",
      "Epoch 28/150\n",
      "1/1 - 0s - loss: 0.5165 - acc: 0.8393 - mse: 0.0948 - val_loss: 0.5585 - val_acc: 0.7368 - val_mse: 0.1089\n",
      "Epoch 29/150\n",
      "1/1 - 0s - loss: 0.5113 - acc: 0.8482 - mse: 0.0929 - val_loss: 0.5529 - val_acc: 0.7368 - val_mse: 0.1082\n",
      "Epoch 30/150\n",
      "1/1 - 0s - loss: 0.5106 - acc: 0.8393 - mse: 0.0934 - val_loss: 0.5474 - val_acc: 0.7368 - val_mse: 0.1075\n",
      "Epoch 31/150\n",
      "1/1 - 0s - loss: 0.4814 - acc: 0.8661 - mse: 0.0864 - val_loss: 0.5422 - val_acc: 0.7368 - val_mse: 0.1069\n",
      "Epoch 32/150\n",
      "1/1 - 0s - loss: 0.4770 - acc: 0.8214 - mse: 0.0864 - val_loss: 0.5377 - val_acc: 0.7368 - val_mse: 0.1063\n",
      "Epoch 33/150\n",
      "1/1 - 0s - loss: 0.4745 - acc: 0.8571 - mse: 0.0860 - val_loss: 0.5330 - val_acc: 0.7368 - val_mse: 0.1058\n",
      "Epoch 34/150\n",
      "1/1 - 0s - loss: 0.4752 - acc: 0.8393 - mse: 0.0866 - val_loss: 0.5287 - val_acc: 0.7368 - val_mse: 0.1053\n",
      "Epoch 35/150\n",
      "1/1 - 0s - loss: 0.4607 - acc: 0.8661 - mse: 0.0830 - val_loss: 0.5244 - val_acc: 0.7368 - val_mse: 0.1047\n",
      "Epoch 36/150\n",
      "1/1 - 0s - loss: 0.4595 - acc: 0.8661 - mse: 0.0829 - val_loss: 0.5206 - val_acc: 0.7368 - val_mse: 0.1043\n",
      "Epoch 37/150\n",
      "1/1 - 0s - loss: 0.4498 - acc: 0.8839 - mse: 0.0807 - val_loss: 0.5169 - val_acc: 0.7368 - val_mse: 0.1039\n",
      "Epoch 38/150\n",
      "1/1 - 0s - loss: 0.4423 - acc: 0.8571 - mse: 0.0798 - val_loss: 0.5135 - val_acc: 0.7368 - val_mse: 0.1036\n",
      "Epoch 39/150\n",
      "1/1 - 0s - loss: 0.4477 - acc: 0.8661 - mse: 0.0812 - val_loss: 0.5103 - val_acc: 0.7368 - val_mse: 0.1033\n",
      "Epoch 40/150\n",
      "1/1 - 0s - loss: 0.4364 - acc: 0.8750 - mse: 0.0788 - val_loss: 0.5072 - val_acc: 0.7368 - val_mse: 0.1030\n",
      "Epoch 41/150\n",
      "1/1 - 0s - loss: 0.4358 - acc: 0.8571 - mse: 0.0800 - val_loss: 0.5043 - val_acc: 0.7632 - val_mse: 0.1028\n",
      "Epoch 42/150\n",
      "1/1 - 0s - loss: 0.4229 - acc: 0.8661 - mse: 0.0757 - val_loss: 0.5018 - val_acc: 0.7632 - val_mse: 0.1026\n",
      "Epoch 43/150\n",
      "1/1 - 0s - loss: 0.4199 - acc: 0.8482 - mse: 0.0769 - val_loss: 0.4991 - val_acc: 0.7632 - val_mse: 0.1023\n",
      "Epoch 44/150\n",
      "1/1 - 0s - loss: 0.4158 - acc: 0.8839 - mse: 0.0746 - val_loss: 0.4966 - val_acc: 0.7632 - val_mse: 0.1021\n",
      "Epoch 45/150\n",
      "1/1 - 0s - loss: 0.4098 - acc: 0.8839 - mse: 0.0739 - val_loss: 0.4948 - val_acc: 0.7632 - val_mse: 0.1020\n",
      "Epoch 46/150\n",
      "1/1 - 0s - loss: 0.3983 - acc: 0.8750 - mse: 0.0711 - val_loss: 0.4922 - val_acc: 0.7632 - val_mse: 0.1018\n",
      "Epoch 47/150\n",
      "1/1 - 0s - loss: 0.4181 - acc: 0.8304 - mse: 0.0772 - val_loss: 0.4901 - val_acc: 0.7632 - val_mse: 0.1016\n",
      "Epoch 48/150\n",
      "1/1 - 0s - loss: 0.4045 - acc: 0.8661 - mse: 0.0734 - val_loss: 0.4877 - val_acc: 0.7632 - val_mse: 0.1014\n",
      "Epoch 49/150\n",
      "1/1 - 0s - loss: 0.4071 - acc: 0.8750 - mse: 0.0753 - val_loss: 0.4855 - val_acc: 0.7632 - val_mse: 0.1012\n",
      "Epoch 50/150\n",
      "1/1 - 0s - loss: 0.3876 - acc: 0.8661 - mse: 0.0703 - val_loss: 0.4835 - val_acc: 0.7632 - val_mse: 0.1010\n",
      "Epoch 51/150\n",
      "1/1 - 0s - loss: 0.3878 - acc: 0.8750 - mse: 0.0703 - val_loss: 0.4812 - val_acc: 0.7632 - val_mse: 0.1008\n",
      "Epoch 52/150\n",
      "1/1 - 0s - loss: 0.3745 - acc: 0.8661 - mse: 0.0672 - val_loss: 0.4792 - val_acc: 0.7632 - val_mse: 0.1006\n",
      "Epoch 53/150\n",
      "1/1 - 0s - loss: 0.3736 - acc: 0.8929 - mse: 0.0675 - val_loss: 0.4772 - val_acc: 0.7632 - val_mse: 0.1004\n",
      "Epoch 54/150\n",
      "1/1 - 0s - loss: 0.3856 - acc: 0.8839 - mse: 0.0709 - val_loss: 0.4754 - val_acc: 0.7632 - val_mse: 0.1002\n",
      "Epoch 55/150\n",
      "1/1 - 0s - loss: 0.3783 - acc: 0.8571 - mse: 0.0694 - val_loss: 0.4738 - val_acc: 0.7632 - val_mse: 0.1001\n",
      "Epoch 56/150\n",
      "1/1 - 0s - loss: 0.3700 - acc: 0.8482 - mse: 0.0673 - val_loss: 0.4720 - val_acc: 0.7632 - val_mse: 0.1000\n",
      "Epoch 57/150\n",
      "1/1 - 0s - loss: 0.3727 - acc: 0.8482 - mse: 0.0682 - val_loss: 0.4701 - val_acc: 0.7632 - val_mse: 0.0998\n",
      "Epoch 58/150\n",
      "1/1 - 0s - loss: 0.3570 - acc: 0.8750 - mse: 0.0647 - val_loss: 0.4685 - val_acc: 0.7632 - val_mse: 0.0996\n",
      "Epoch 59/150\n",
      "1/1 - 0s - loss: 0.3573 - acc: 0.8750 - mse: 0.0652 - val_loss: 0.4667 - val_acc: 0.7632 - val_mse: 0.0994\n",
      "Epoch 60/150\n",
      "1/1 - 0s - loss: 0.3534 - acc: 0.8750 - mse: 0.0641 - val_loss: 0.4652 - val_acc: 0.7632 - val_mse: 0.0993\n",
      "Epoch 61/150\n",
      "1/1 - 0s - loss: 0.3541 - acc: 0.8839 - mse: 0.0645 - val_loss: 0.4635 - val_acc: 0.7632 - val_mse: 0.0991\n",
      "Epoch 62/150\n",
      "1/1 - 0s - loss: 0.3595 - acc: 0.8750 - mse: 0.0658 - val_loss: 0.4621 - val_acc: 0.7632 - val_mse: 0.0989\n",
      "Epoch 63/150\n",
      "1/1 - 0s - loss: 0.3447 - acc: 0.8929 - mse: 0.0616 - val_loss: 0.4605 - val_acc: 0.7632 - val_mse: 0.0987\n",
      "Epoch 64/150\n",
      "1/1 - 0s - loss: 0.3358 - acc: 0.8929 - mse: 0.0602 - val_loss: 0.4593 - val_acc: 0.7632 - val_mse: 0.0986\n",
      "Epoch 65/150\n",
      "1/1 - 0s - loss: 0.3383 - acc: 0.8929 - mse: 0.0608 - val_loss: 0.4578 - val_acc: 0.7632 - val_mse: 0.0985\n",
      "Epoch 66/150\n",
      "1/1 - 0s - loss: 0.3455 - acc: 0.8929 - mse: 0.0632 - val_loss: 0.4566 - val_acc: 0.7632 - val_mse: 0.0984\n",
      "Epoch 67/150\n",
      "1/1 - 0s - loss: 0.3314 - acc: 0.8661 - mse: 0.0602 - val_loss: 0.4554 - val_acc: 0.7632 - val_mse: 0.0983\n",
      "Epoch 68/150\n",
      "1/1 - 0s - loss: 0.3383 - acc: 0.8929 - mse: 0.0613 - val_loss: 0.4541 - val_acc: 0.7632 - val_mse: 0.0981\n",
      "Epoch 69/150\n",
      "1/1 - 0s - loss: 0.3253 - acc: 0.9018 - mse: 0.0585 - val_loss: 0.4527 - val_acc: 0.7632 - val_mse: 0.0980\n",
      "Epoch 70/150\n",
      "1/1 - 0s - loss: 0.3262 - acc: 0.8839 - mse: 0.0587 - val_loss: 0.4516 - val_acc: 0.7632 - val_mse: 0.0978\n",
      "Epoch 71/150\n",
      "1/1 - 0s - loss: 0.3258 - acc: 0.9196 - mse: 0.0588 - val_loss: 0.4503 - val_acc: 0.7632 - val_mse: 0.0977\n",
      "Epoch 72/150\n",
      "1/1 - 0s - loss: 0.3141 - acc: 0.8839 - mse: 0.0564 - val_loss: 0.4487 - val_acc: 0.7632 - val_mse: 0.0974\n",
      "Epoch 73/150\n",
      "1/1 - 0s - loss: 0.3178 - acc: 0.8929 - mse: 0.0582 - val_loss: 0.4477 - val_acc: 0.7632 - val_mse: 0.0973\n",
      "Epoch 74/150\n",
      "1/1 - 0s - loss: 0.3213 - acc: 0.8750 - mse: 0.0578 - val_loss: 0.4467 - val_acc: 0.7632 - val_mse: 0.0972\n",
      "Epoch 75/150\n",
      "1/1 - 0s - loss: 0.3126 - acc: 0.9018 - mse: 0.0567 - val_loss: 0.4456 - val_acc: 0.7632 - val_mse: 0.0971\n",
      "Epoch 76/150\n",
      "1/1 - 0s - loss: 0.3115 - acc: 0.9196 - mse: 0.0562 - val_loss: 0.4444 - val_acc: 0.7632 - val_mse: 0.0969\n",
      "Epoch 77/150\n",
      "1/1 - 0s - loss: 0.3109 - acc: 0.9107 - mse: 0.0562 - val_loss: 0.4435 - val_acc: 0.7632 - val_mse: 0.0968\n",
      "Epoch 78/150\n",
      "1/1 - 0s - loss: 0.3090 - acc: 0.9107 - mse: 0.0556 - val_loss: 0.4425 - val_acc: 0.7632 - val_mse: 0.0967\n",
      "Epoch 79/150\n",
      "1/1 - 0s - loss: 0.3059 - acc: 0.9018 - mse: 0.0546 - val_loss: 0.4417 - val_acc: 0.7632 - val_mse: 0.0967\n",
      "Epoch 80/150\n",
      "1/1 - 0s - loss: 0.3098 - acc: 0.8929 - mse: 0.0568 - val_loss: 0.4409 - val_acc: 0.7632 - val_mse: 0.0966\n",
      "Epoch 81/150\n",
      "1/1 - 0s - loss: 0.3051 - acc: 0.8839 - mse: 0.0549 - val_loss: 0.4400 - val_acc: 0.7632 - val_mse: 0.0965\n",
      "Epoch 82/150\n",
      "1/1 - 0s - loss: 0.3098 - acc: 0.8661 - mse: 0.0576 - val_loss: 0.4387 - val_acc: 0.7632 - val_mse: 0.0964\n",
      "Epoch 83/150\n",
      "1/1 - 0s - loss: 0.2925 - acc: 0.9018 - mse: 0.0531 - val_loss: 0.4380 - val_acc: 0.7632 - val_mse: 0.0963\n",
      "Epoch 84/150\n",
      "1/1 - 0s - loss: 0.2934 - acc: 0.9107 - mse: 0.0525 - val_loss: 0.4372 - val_acc: 0.7632 - val_mse: 0.0962\n",
      "Epoch 85/150\n",
      "1/1 - 0s - loss: 0.2879 - acc: 0.9196 - mse: 0.0512 - val_loss: 0.4363 - val_acc: 0.7632 - val_mse: 0.0961\n",
      "Epoch 86/150\n",
      "1/1 - 0s - loss: 0.2861 - acc: 0.9107 - mse: 0.0512 - val_loss: 0.4355 - val_acc: 0.7632 - val_mse: 0.0960\n",
      "Epoch 87/150\n",
      "1/1 - 0s - loss: 0.2968 - acc: 0.9107 - mse: 0.0541 - val_loss: 0.4345 - val_acc: 0.7632 - val_mse: 0.0959\n",
      "Epoch 88/150\n",
      "1/1 - 0s - loss: 0.2898 - acc: 0.9018 - mse: 0.0525 - val_loss: 0.4336 - val_acc: 0.7632 - val_mse: 0.0957\n",
      "Epoch 89/150\n",
      "1/1 - 0s - loss: 0.2878 - acc: 0.9286 - mse: 0.0522 - val_loss: 0.4326 - val_acc: 0.7632 - val_mse: 0.0956\n",
      "Epoch 90/150\n",
      "1/1 - 0s - loss: 0.2926 - acc: 0.8929 - mse: 0.0540 - val_loss: 0.4312 - val_acc: 0.7632 - val_mse: 0.0953\n",
      "Epoch 91/150\n",
      "1/1 - 0s - loss: 0.2875 - acc: 0.9107 - mse: 0.0520 - val_loss: 0.4302 - val_acc: 0.7632 - val_mse: 0.0952\n",
      "Epoch 92/150\n",
      "1/1 - 0s - loss: 0.2957 - acc: 0.9107 - mse: 0.0543 - val_loss: 0.4292 - val_acc: 0.7632 - val_mse: 0.0951\n",
      "Epoch 93/150\n",
      "1/1 - 0s - loss: 0.2813 - acc: 0.9018 - mse: 0.0509 - val_loss: 0.4281 - val_acc: 0.7632 - val_mse: 0.0949\n",
      "Epoch 94/150\n",
      "1/1 - 0s - loss: 0.2875 - acc: 0.8929 - mse: 0.0528 - val_loss: 0.4268 - val_acc: 0.7632 - val_mse: 0.0947\n",
      "Epoch 95/150\n",
      "1/1 - 0s - loss: 0.2737 - acc: 0.9018 - mse: 0.0489 - val_loss: 0.4256 - val_acc: 0.7632 - val_mse: 0.0944\n",
      "Epoch 96/150\n",
      "1/1 - 0s - loss: 0.2835 - acc: 0.8929 - mse: 0.0524 - val_loss: 0.4246 - val_acc: 0.7632 - val_mse: 0.0943\n",
      "Epoch 97/150\n",
      "1/1 - 0s - loss: 0.2732 - acc: 0.9107 - mse: 0.0495 - val_loss: 0.4233 - val_acc: 0.7632 - val_mse: 0.0941\n",
      "Epoch 98/150\n",
      "1/1 - 0s - loss: 0.2724 - acc: 0.9375 - mse: 0.0491 - val_loss: 0.4220 - val_acc: 0.7632 - val_mse: 0.0938\n",
      "Epoch 99/150\n",
      "1/1 - 0s - loss: 0.2735 - acc: 0.9107 - mse: 0.0496 - val_loss: 0.4210 - val_acc: 0.7632 - val_mse: 0.0936\n",
      "Epoch 100/150\n",
      "1/1 - 0s - loss: 0.2711 - acc: 0.9107 - mse: 0.0489 - val_loss: 0.4197 - val_acc: 0.7632 - val_mse: 0.0934\n",
      "Epoch 101/150\n",
      "1/1 - 0s - loss: 0.2663 - acc: 0.9107 - mse: 0.0479 - val_loss: 0.4182 - val_acc: 0.7632 - val_mse: 0.0931\n",
      "Epoch 102/150\n",
      "1/1 - 0s - loss: 0.2637 - acc: 0.9107 - mse: 0.0474 - val_loss: 0.4172 - val_acc: 0.7632 - val_mse: 0.0929\n",
      "Epoch 103/150\n",
      "1/1 - 0s - loss: 0.2753 - acc: 0.9196 - mse: 0.0498 - val_loss: 0.4161 - val_acc: 0.7632 - val_mse: 0.0927\n",
      "Epoch 104/150\n",
      "1/1 - 0s - loss: 0.2701 - acc: 0.9107 - mse: 0.0494 - val_loss: 0.4148 - val_acc: 0.7632 - val_mse: 0.0925\n",
      "Epoch 105/150\n",
      "1/1 - 0s - loss: 0.2689 - acc: 0.9018 - mse: 0.0492 - val_loss: 0.4141 - val_acc: 0.7632 - val_mse: 0.0924\n",
      "Epoch 106/150\n",
      "1/1 - 0s - loss: 0.2680 - acc: 0.9196 - mse: 0.0490 - val_loss: 0.4128 - val_acc: 0.7632 - val_mse: 0.0921\n",
      "Epoch 107/150\n",
      "1/1 - 0s - loss: 0.2633 - acc: 0.9018 - mse: 0.0480 - val_loss: 0.4115 - val_acc: 0.7632 - val_mse: 0.0919\n",
      "Epoch 108/150\n",
      "1/1 - 0s - loss: 0.2612 - acc: 0.9196 - mse: 0.0478 - val_loss: 0.4103 - val_acc: 0.7632 - val_mse: 0.0917\n",
      "Epoch 109/150\n",
      "1/1 - 0s - loss: 0.2558 - acc: 0.9196 - mse: 0.0458 - val_loss: 0.4098 - val_acc: 0.7632 - val_mse: 0.0916\n",
      "Epoch 110/150\n",
      "1/1 - 0s - loss: 0.2586 - acc: 0.9107 - mse: 0.0470 - val_loss: 0.4088 - val_acc: 0.7632 - val_mse: 0.0914\n",
      "Epoch 111/150\n",
      "1/1 - 0s - loss: 0.2492 - acc: 0.9286 - mse: 0.0439 - val_loss: 0.4079 - val_acc: 0.7632 - val_mse: 0.0913\n",
      "Epoch 112/150\n",
      "1/1 - 0s - loss: 0.2520 - acc: 0.9107 - mse: 0.0453 - val_loss: 0.4070 - val_acc: 0.7632 - val_mse: 0.0912\n",
      "Epoch 113/150\n",
      "1/1 - 0s - loss: 0.2539 - acc: 0.9286 - mse: 0.0454 - val_loss: 0.4059 - val_acc: 0.7632 - val_mse: 0.0909\n",
      "Epoch 114/150\n",
      "1/1 - 0s - loss: 0.2595 - acc: 0.9196 - mse: 0.0476 - val_loss: 0.4046 - val_acc: 0.7632 - val_mse: 0.0907\n",
      "Epoch 115/150\n",
      "1/1 - 0s - loss: 0.2458 - acc: 0.9196 - mse: 0.0444 - val_loss: 0.4031 - val_acc: 0.7632 - val_mse: 0.0903\n",
      "Epoch 116/150\n",
      "1/1 - 0s - loss: 0.2502 - acc: 0.9286 - mse: 0.0453 - val_loss: 0.4021 - val_acc: 0.7632 - val_mse: 0.0902\n",
      "Epoch 117/150\n",
      "1/1 - 0s - loss: 0.2460 - acc: 0.9286 - mse: 0.0440 - val_loss: 0.4013 - val_acc: 0.7632 - val_mse: 0.0901\n",
      "Epoch 118/150\n",
      "1/1 - 0s - loss: 0.2396 - acc: 0.9286 - mse: 0.0420 - val_loss: 0.4002 - val_acc: 0.7632 - val_mse: 0.0899\n",
      "Epoch 119/150\n",
      "1/1 - 0s - loss: 0.2419 - acc: 0.9286 - mse: 0.0435 - val_loss: 0.3982 - val_acc: 0.7632 - val_mse: 0.0894\n",
      "Epoch 120/150\n",
      "1/1 - 0s - loss: 0.2459 - acc: 0.8839 - mse: 0.0448 - val_loss: 0.3968 - val_acc: 0.7632 - val_mse: 0.0891\n",
      "Epoch 121/150\n",
      "1/1 - 0s - loss: 0.2596 - acc: 0.9107 - mse: 0.0483 - val_loss: 0.3960 - val_acc: 0.7632 - val_mse: 0.0890\n",
      "Epoch 122/150\n",
      "1/1 - 0s - loss: 0.2283 - acc: 0.9286 - mse: 0.0396 - val_loss: 0.3944 - val_acc: 0.7632 - val_mse: 0.0886\n",
      "Epoch 123/150\n",
      "1/1 - 0s - loss: 0.2418 - acc: 0.9286 - mse: 0.0438 - val_loss: 0.3932 - val_acc: 0.7632 - val_mse: 0.0883\n",
      "Epoch 124/150\n",
      "1/1 - 0s - loss: 0.2377 - acc: 0.9464 - mse: 0.0418 - val_loss: 0.3924 - val_acc: 0.7632 - val_mse: 0.0882\n",
      "Epoch 125/150\n",
      "1/1 - 0s - loss: 0.2542 - acc: 0.9196 - mse: 0.0476 - val_loss: 0.3909 - val_acc: 0.7632 - val_mse: 0.0879\n",
      "Epoch 126/150\n",
      "1/1 - 0s - loss: 0.2390 - acc: 0.9107 - mse: 0.0437 - val_loss: 0.3892 - val_acc: 0.7632 - val_mse: 0.0875\n",
      "Epoch 127/150\n",
      "1/1 - 0s - loss: 0.2421 - acc: 0.8929 - mse: 0.0446 - val_loss: 0.3875 - val_acc: 0.7632 - val_mse: 0.0871\n",
      "Epoch 128/150\n",
      "1/1 - 0s - loss: 0.2331 - acc: 0.9196 - mse: 0.0418 - val_loss: 0.3867 - val_acc: 0.7632 - val_mse: 0.0870\n",
      "Epoch 129/150\n",
      "1/1 - 0s - loss: 0.2406 - acc: 0.9196 - mse: 0.0441 - val_loss: 0.3857 - val_acc: 0.7632 - val_mse: 0.0868\n",
      "Epoch 130/150\n",
      "1/1 - 0s - loss: 0.2376 - acc: 0.9286 - mse: 0.0432 - val_loss: 0.3843 - val_acc: 0.7632 - val_mse: 0.0865\n",
      "Epoch 131/150\n",
      "1/1 - 0s - loss: 0.2468 - acc: 0.9018 - mse: 0.0462 - val_loss: 0.3833 - val_acc: 0.7632 - val_mse: 0.0864\n",
      "Epoch 132/150\n",
      "1/1 - 0s - loss: 0.2278 - acc: 0.9286 - mse: 0.0411 - val_loss: 0.3820 - val_acc: 0.7632 - val_mse: 0.0861\n",
      "Epoch 133/150\n",
      "1/1 - 0s - loss: 0.2375 - acc: 0.9107 - mse: 0.0436 - val_loss: 0.3809 - val_acc: 0.7632 - val_mse: 0.0859\n",
      "Epoch 134/150\n",
      "1/1 - 0s - loss: 0.2394 - acc: 0.9286 - mse: 0.0437 - val_loss: 0.3795 - val_acc: 0.7632 - val_mse: 0.0856\n",
      "Epoch 135/150\n",
      "1/1 - 0s - loss: 0.2140 - acc: 0.9375 - mse: 0.0368 - val_loss: 0.3792 - val_acc: 0.7632 - val_mse: 0.0856\n",
      "Epoch 136/150\n",
      "1/1 - 0s - loss: 0.2213 - acc: 0.9196 - mse: 0.0391 - val_loss: 0.3777 - val_acc: 0.7632 - val_mse: 0.0853\n",
      "Epoch 137/150\n",
      "1/1 - 0s - loss: 0.2222 - acc: 0.9196 - mse: 0.0394 - val_loss: 0.3761 - val_acc: 0.7632 - val_mse: 0.0849\n",
      "Epoch 138/150\n",
      "1/1 - 0s - loss: 0.2199 - acc: 0.9375 - mse: 0.0389 - val_loss: 0.3747 - val_acc: 0.7632 - val_mse: 0.0846\n",
      "Epoch 139/150\n",
      "1/1 - 0s - loss: 0.2325 - acc: 0.9196 - mse: 0.0425 - val_loss: 0.3739 - val_acc: 0.7632 - val_mse: 0.0844\n",
      "Epoch 140/150\n",
      "1/1 - 0s - loss: 0.2185 - acc: 0.9375 - mse: 0.0388 - val_loss: 0.3723 - val_acc: 0.7632 - val_mse: 0.0841\n",
      "Epoch 141/150\n",
      "1/1 - 0s - loss: 0.2284 - acc: 0.9375 - mse: 0.0411 - val_loss: 0.3707 - val_acc: 0.7632 - val_mse: 0.0837\n",
      "Epoch 142/150\n",
      "1/1 - 0s - loss: 0.2104 - acc: 0.9196 - mse: 0.0370 - val_loss: 0.3687 - val_acc: 0.7632 - val_mse: 0.0832\n",
      "Epoch 143/150\n",
      "1/1 - 0s - loss: 0.2015 - acc: 0.9286 - mse: 0.0348 - val_loss: 0.3674 - val_acc: 0.7632 - val_mse: 0.0829\n",
      "Epoch 144/150\n",
      "1/1 - 0s - loss: 0.2245 - acc: 0.9286 - mse: 0.0402 - val_loss: 0.3658 - val_acc: 0.7632 - val_mse: 0.0826\n",
      "Epoch 145/150\n",
      "1/1 - 0s - loss: 0.2211 - acc: 0.9196 - mse: 0.0401 - val_loss: 0.3645 - val_acc: 0.7632 - val_mse: 0.0823\n",
      "Epoch 146/150\n",
      "1/1 - 0s - loss: 0.2172 - acc: 0.9464 - mse: 0.0383 - val_loss: 0.3627 - val_acc: 0.7632 - val_mse: 0.0818\n",
      "Epoch 147/150\n",
      "1/1 - 0s - loss: 0.2030 - acc: 0.9375 - mse: 0.0348 - val_loss: 0.3613 - val_acc: 0.7632 - val_mse: 0.0816\n",
      "Epoch 148/150\n",
      "1/1 - 0s - loss: 0.2367 - acc: 0.8929 - mse: 0.0448 - val_loss: 0.3600 - val_acc: 0.7632 - val_mse: 0.0813\n",
      "Epoch 149/150\n",
      "1/1 - 0s - loss: 0.2167 - acc: 0.9286 - mse: 0.0382 - val_loss: 0.3589 - val_acc: 0.7632 - val_mse: 0.0810\n",
      "Epoch 150/150\n",
      "1/1 - 0s - loss: 0.2013 - acc: 0.9464 - mse: 0.0344 - val_loss: 0.3578 - val_acc: 0.7632 - val_mse: 0.0808\n"
     ]
    }
   ],
   "source": [
    "\n",
    "#Another common way to avoid regularization is by using the Dropout technique. The main idea behind using dropout is that we randomly turn off some neurons in our layer based on some probability.\n",
    "\n",
    "# Create a model6 having same layers as the basic model. Add a dropout layer in this model, lets say after the 1st dense layer, and set dropout rate as 50%\n",
    "import tensorflow as tf\n",
    "\n",
    "\n",
    "# SOLUTION:\n",
    "model6 = Sequential([\n",
    "    Dense(512, activation='tanh', input_shape = X_train[0].shape),\n",
    "    tf.keras.layers.Dropout(0.5), #dropout with 50% rate\n",
    "    Dense(512//2, activation='tanh'),\n",
    "    \n",
    "    Dense(512//4, activation='tanh'),\n",
    "    Dense(512//8, activation='tanh'),\n",
    "    Dense(32, activation='relu'),\n",
    "    Dense(3, activation='softmax')\n",
    "])\n",
    "model6.compile(optimizer='sgd',loss='categorical_crossentropy', metrics=['acc', 'mse'])\n",
    "hist6 = model6.fit(X_train, y_train, epochs=150, batch_size=128, validation_data=(X_test,y_test), verbose=2)\n"
   ]
  },
  {
   "cell_type": "code",
   "execution_count": null,
   "metadata": {
    "colab": {
     "base_uri": "https://localhost:8080/"
    },
    "executionInfo": {
     "elapsed": 412,
     "status": "ok",
     "timestamp": 1635757177376,
     "user": {
      "displayName": "Amay Gada",
      "photoUrl": "https://lh3.googleusercontent.com/a-/AOh14GhIegWflm0DVHy8h-sj9l7nvh_87WZPEby6oqxqjw=s64",
      "userId": "18318224108445437394"
     },
     "user_tz": -330
    },
    "id": "nRa4-N75sV8s",
    "outputId": "972e24a9-6378-4e83-f193-4d0ec73169da"
   },
   "outputs": [
    {
     "name": "stdout",
     "output_type": "stream",
     "text": [
      "2/2 [==============================] - 0s 5ms/step - loss: 0.3578 - acc: 0.7632 - mse: 0.0808\n",
      "Loss is 0.3578391671180725,\n",
      "Accuracy is 76.31579041481018,\n",
      "MSE is 0.08083246648311615\n"
     ]
    }
   ],
   "source": [
    "#just how we used evaluate() in the basic model previously, use it again to find the loss, accuracy and MSE on the test set\n",
    "\n",
    "#SOLUTION:\n",
    "loss6, acc6, mse6 = model6.evaluate(X_test, y_test)\n",
    "print(f\"Loss is {loss6},\\nAccuracy is {acc6 * 100},\\nMSE is {mse6}\")\n",
    "\n",
    " \n"
   ]
  },
  {
   "cell_type": "code",
   "execution_count": null,
   "metadata": {
    "colab": {
     "base_uri": "https://localhost:8080/",
     "height": 581
    },
    "executionInfo": {
     "elapsed": 1739,
     "status": "ok",
     "timestamp": 1635757185166,
     "user": {
      "displayName": "Amay Gada",
      "photoUrl": "https://lh3.googleusercontent.com/a-/AOh14GhIegWflm0DVHy8h-sj9l7nvh_87WZPEby6oqxqjw=s64",
      "userId": "18318224108445437394"
     },
     "user_tz": -330
    },
    "id": "iSBI9_vksV8t",
    "outputId": "a1128b06-3f7d-41c0-c5d6-589885ecbf49"
   },
   "outputs": [
    {
     "data": {
      "image/png": "[encoded data removed]",
      "text/plain": [
       "<Figure size 432x288 with 1 Axes>"
      ]
     },
     "metadata": {},
     "output_type": "display_data"
    },
    {
     "data": {
      "image/png": "[encoded data removed]",
      "text/plain": [
       "<Figure size 432x288 with 1 Axes>"
      ]
     },
     "metadata": {},
     "output_type": "display_data"
    }
   ],
   "source": [
    "\n",
    "# Plot the train loss vs validation loss and train accuracy vs validation accuracy graphs just like we did before\n",
    "\n",
    "#SOLUTION:\n",
    "plt.plot(hist6.history['loss'], label = 'loss')\n",
    "plt.plot(hist6.history['val_loss'], label='val loss')\n",
    "plt.title(\"Loss vs Val_Loss\")\n",
    "plt.xlabel(\"Epochs\")\n",
    "plt.ylabel(\"Loss\")\n",
    "plt.legend()\n",
    "plt.show()\n",
    "\n",
    "plt.plot(hist6.history['acc'], label = 'ACC')\n",
    "plt.plot(hist6.history['val_acc'], label='val acc')\n",
    "plt.title(\"acc vs Val_acc\")\n",
    "plt.xlabel(\"Epochs\")\n",
    "plt.ylabel(\"acc\")\n",
    "plt.legend()\n",
    "plt.show()\n"
   ]
  },
  {
   "cell_type": "code",
   "execution_count": null,
   "metadata": {
    "colab": {
     "base_uri": "https://localhost:8080/"
    },
    "executionInfo": {
     "elapsed": 6025,
     "status": "ok",
     "timestamp": 1635757227224,
     "user": {
      "displayName": "Amay Gada",
      "photoUrl": "https://lh3.googleusercontent.com/a-/AOh14GhIegWflm0DVHy8h-sj9l7nvh_87WZPEby6oqxqjw=s64",
      "userId": "18318224108445437394"
     },
     "user_tz": -330
    },
    "id": "GQKhsze3sV8t",
    "outputId": "34322e91-c0be-4f01-984e-bae8cd0bf838"
   },
   "outputs": [
    {
     "name": "stdout",
     "output_type": "stream",
     "text": [
      "Epoch 1/150\n",
      "1/1 - 1s - loss: 1.2246 - acc: 0.3571 - mse: 0.2434 - val_loss: 1.0990 - val_acc: 0.5526 - val_mse: 0.2217\n",
      "Epoch 2/150\n",
      "1/1 - 0s - loss: 1.2363 - acc: 0.3304 - mse: 0.2463 - val_loss: 1.0721 - val_acc: 0.5789 - val_mse: 0.2158\n",
      "Epoch 3/150\n",
      "1/1 - 0s - loss: 1.2344 - acc: 0.3482 - mse: 0.2451 - val_loss: 1.0463 - val_acc: 0.6053 - val_mse: 0.2101\n",
      "Epoch 4/150\n",
      "1/1 - 0s - loss: 1.2330 - acc: 0.3036 - mse: 0.2475 - val_loss: 1.0220 - val_acc: 0.6053 - val_mse: 0.2046\n",
      "Epoch 5/150\n",
      "1/1 - 0s - loss: 1.1521 - acc: 0.4018 - mse: 0.2287 - val_loss: 0.9988 - val_acc: 0.6842 - val_mse: 0.1992\n",
      "Epoch 6/150\n",
      "1/1 - 0s - loss: 1.0904 - acc: 0.4286 - mse: 0.2174 - val_loss: 0.9809 - val_acc: 0.6842 - val_mse: 0.1951\n",
      "Epoch 7/150\n",
      "1/1 - 0s - loss: 1.0909 - acc: 0.4375 - mse: 0.2168 - val_loss: 0.9617 - val_acc: 0.7105 - val_mse: 0.1906\n",
      "Epoch 8/150\n",
      "1/1 - 0s - loss: 1.0824 - acc: 0.3839 - mse: 0.2152 - val_loss: 0.9439 - val_acc: 0.7105 - val_mse: 0.1865\n",
      "Epoch 9/150\n",
      "1/1 - 0s - loss: 1.1162 - acc: 0.4375 - mse: 0.2218 - val_loss: 0.9263 - val_acc: 0.6842 - val_mse: 0.1824\n",
      "Epoch 10/150\n",
      "1/1 - 0s - loss: 1.0275 - acc: 0.5268 - mse: 0.2038 - val_loss: 0.9106 - val_acc: 0.6842 - val_mse: 0.1787\n",
      "Epoch 11/150\n",
      "1/1 - 0s - loss: 1.0482 - acc: 0.4821 - mse: 0.2083 - val_loss: 0.8949 - val_acc: 0.6316 - val_mse: 0.1750\n",
      "Epoch 12/150\n",
      "1/1 - 0s - loss: 0.9597 - acc: 0.5179 - mse: 0.1906 - val_loss: 0.8787 - val_acc: 0.6579 - val_mse: 0.1712\n",
      "Epoch 13/150\n",
      "1/1 - 0s - loss: 0.9808 - acc: 0.4821 - mse: 0.1950 - val_loss: 0.8645 - val_acc: 0.7105 - val_mse: 0.1678\n",
      "Epoch 14/150\n",
      "1/1 - 0s - loss: 0.9957 - acc: 0.5268 - mse: 0.1969 - val_loss: 0.8499 - val_acc: 0.7105 - val_mse: 0.1644\n",
      "Epoch 15/150\n",
      "1/1 - 0s - loss: 0.9639 - acc: 0.5357 - mse: 0.1903 - val_loss: 0.8366 - val_acc: 0.7368 - val_mse: 0.1614\n",
      "Epoch 16/150\n",
      "1/1 - 0s - loss: 0.9433 - acc: 0.5714 - mse: 0.1882 - val_loss: 0.8235 - val_acc: 0.7105 - val_mse: 0.1583\n",
      "Epoch 17/150\n",
      "1/1 - 0s - loss: 0.9232 - acc: 0.5625 - mse: 0.1828 - val_loss: 0.8113 - val_acc: 0.7105 - val_mse: 0.1556\n",
      "Epoch 18/150\n",
      "1/1 - 0s - loss: 0.8972 - acc: 0.6250 - mse: 0.1756 - val_loss: 0.7999 - val_acc: 0.6842 - val_mse: 0.1530\n",
      "Epoch 19/150\n",
      "1/1 - 0s - loss: 0.8998 - acc: 0.5982 - mse: 0.1766 - val_loss: 0.7901 - val_acc: 0.7105 - val_mse: 0.1509\n",
      "Epoch 20/150\n",
      "1/1 - 0s - loss: 0.8960 - acc: 0.5804 - mse: 0.1795 - val_loss: 0.7802 - val_acc: 0.7105 - val_mse: 0.1486\n",
      "Epoch 21/150\n",
      "1/1 - 0s - loss: 0.8893 - acc: 0.6161 - mse: 0.1767 - val_loss: 0.7701 - val_acc: 0.7105 - val_mse: 0.1464\n",
      "Epoch 22/150\n",
      "1/1 - 0s - loss: 0.8984 - acc: 0.6071 - mse: 0.1776 - val_loss: 0.7611 - val_acc: 0.6842 - val_mse: 0.1445\n",
      "Epoch 23/150\n",
      "1/1 - 0s - loss: 0.8412 - acc: 0.6161 - mse: 0.1650 - val_loss: 0.7521 - val_acc: 0.6842 - val_mse: 0.1426\n",
      "Epoch 24/150\n",
      "1/1 - 0s - loss: 0.8653 - acc: 0.5982 - mse: 0.1697 - val_loss: 0.7438 - val_acc: 0.6842 - val_mse: 0.1409\n",
      "Epoch 25/150\n",
      "1/1 - 0s - loss: 0.9060 - acc: 0.5893 - mse: 0.1803 - val_loss: 0.7357 - val_acc: 0.6842 - val_mse: 0.1393\n",
      "Epoch 26/150\n",
      "1/1 - 0s - loss: 0.8201 - acc: 0.6339 - mse: 0.1609 - val_loss: 0.7275 - val_acc: 0.6842 - val_mse: 0.1376\n",
      "Epoch 27/150\n",
      "1/1 - 0s - loss: 0.8605 - acc: 0.5893 - mse: 0.1698 - val_loss: 0.7203 - val_acc: 0.6842 - val_mse: 0.1362\n",
      "Epoch 28/150\n",
      "1/1 - 0s - loss: 0.7934 - acc: 0.6339 - mse: 0.1555 - val_loss: 0.7129 - val_acc: 0.6842 - val_mse: 0.1348\n",
      "Epoch 29/150\n",
      "1/1 - 0s - loss: 0.7872 - acc: 0.7143 - mse: 0.1516 - val_loss: 0.7061 - val_acc: 0.6842 - val_mse: 0.1335\n",
      "Epoch 30/150\n",
      "1/1 - 0s - loss: 0.7761 - acc: 0.7054 - mse: 0.1514 - val_loss: 0.6996 - val_acc: 0.6842 - val_mse: 0.1322\n",
      "Epoch 31/150\n",
      "1/1 - 0s - loss: 0.8030 - acc: 0.6429 - mse: 0.1567 - val_loss: 0.6929 - val_acc: 0.6842 - val_mse: 0.1310\n",
      "Epoch 32/150\n",
      "1/1 - 0s - loss: 0.7445 - acc: 0.7143 - mse: 0.1427 - val_loss: 0.6868 - val_acc: 0.6842 - val_mse: 0.1299\n",
      "Epoch 33/150\n",
      "1/1 - 0s - loss: 0.7523 - acc: 0.6518 - mse: 0.1460 - val_loss: 0.6809 - val_acc: 0.6842 - val_mse: 0.1288\n",
      "Epoch 34/150\n",
      "1/1 - 0s - loss: 0.7667 - acc: 0.6875 - mse: 0.1482 - val_loss: 0.6750 - val_acc: 0.6842 - val_mse: 0.1278\n",
      "Epoch 35/150\n",
      "1/1 - 0s - loss: 0.7747 - acc: 0.6875 - mse: 0.1505 - val_loss: 0.6693 - val_acc: 0.6842 - val_mse: 0.1268\n",
      "Epoch 36/150\n",
      "1/1 - 0s - loss: 0.7564 - acc: 0.6875 - mse: 0.1470 - val_loss: 0.6637 - val_acc: 0.6842 - val_mse: 0.1259\n",
      "Epoch 37/150\n",
      "1/1 - 0s - loss: 0.6978 - acc: 0.7679 - mse: 0.1328 - val_loss: 0.6590 - val_acc: 0.6842 - val_mse: 0.1252\n",
      "Epoch 38/150\n",
      "1/1 - 0s - loss: 0.7212 - acc: 0.7054 - mse: 0.1384 - val_loss: 0.6544 - val_acc: 0.6842 - val_mse: 0.1245\n",
      "Epoch 39/150\n",
      "1/1 - 0s - loss: 0.7401 - acc: 0.7411 - mse: 0.1413 - val_loss: 0.6493 - val_acc: 0.6842 - val_mse: 0.1237\n",
      "Epoch 40/150\n",
      "1/1 - 0s - loss: 0.7048 - acc: 0.7500 - mse: 0.1353 - val_loss: 0.6450 - val_acc: 0.6842 - val_mse: 0.1231\n",
      "Epoch 41/150\n",
      "1/1 - 0s - loss: 0.7229 - acc: 0.6786 - mse: 0.1400 - val_loss: 0.6413 - val_acc: 0.6842 - val_mse: 0.1226\n",
      "Epoch 42/150\n",
      "1/1 - 0s - loss: 0.6771 - acc: 0.7500 - mse: 0.1277 - val_loss: 0.6369 - val_acc: 0.6842 - val_mse: 0.1219\n",
      "Epoch 43/150\n",
      "1/1 - 0s - loss: 0.6869 - acc: 0.7143 - mse: 0.1323 - val_loss: 0.6328 - val_acc: 0.6842 - val_mse: 0.1214\n",
      "Epoch 44/150\n",
      "1/1 - 0s - loss: 0.6624 - acc: 0.7321 - mse: 0.1258 - val_loss: 0.6290 - val_acc: 0.6842 - val_mse: 0.1209\n",
      "Epoch 45/150\n",
      "1/1 - 0s - loss: 0.6544 - acc: 0.7679 - mse: 0.1229 - val_loss: 0.6255 - val_acc: 0.6842 - val_mse: 0.1205\n",
      "Epoch 46/150\n",
      "1/1 - 0s - loss: 0.6642 - acc: 0.6964 - mse: 0.1268 - val_loss: 0.6227 - val_acc: 0.6842 - val_mse: 0.1202\n",
      "Epoch 47/150\n",
      "1/1 - 0s - loss: 0.6793 - acc: 0.7143 - mse: 0.1289 - val_loss: 0.6188 - val_acc: 0.6842 - val_mse: 0.1197\n",
      "Epoch 48/150\n",
      "1/1 - 0s - loss: 0.6414 - acc: 0.7321 - mse: 0.1225 - val_loss: 0.6155 - val_acc: 0.6842 - val_mse: 0.1193\n",
      "Epoch 49/150\n",
      "1/1 - 0s - loss: 0.6608 - acc: 0.7500 - mse: 0.1270 - val_loss: 0.6120 - val_acc: 0.6842 - val_mse: 0.1189\n",
      "Epoch 50/150\n",
      "1/1 - 0s - loss: 0.6334 - acc: 0.7857 - mse: 0.1199 - val_loss: 0.6095 - val_acc: 0.6842 - val_mse: 0.1187\n",
      "Epoch 51/150\n",
      "1/1 - 0s - loss: 0.6241 - acc: 0.7679 - mse: 0.1191 - val_loss: 0.6067 - val_acc: 0.6842 - val_mse: 0.1185\n",
      "Epoch 52/150\n",
      "1/1 - 0s - loss: 0.6449 - acc: 0.7143 - mse: 0.1231 - val_loss: 0.6044 - val_acc: 0.6842 - val_mse: 0.1183\n",
      "Epoch 53/150\n",
      "1/1 - 0s - loss: 0.5967 - acc: 0.8214 - mse: 0.1107 - val_loss: 0.6013 - val_acc: 0.7105 - val_mse: 0.1179\n",
      "Epoch 54/150\n",
      "1/1 - 0s - loss: 0.6240 - acc: 0.7946 - mse: 0.1186 - val_loss: 0.5991 - val_acc: 0.7105 - val_mse: 0.1178\n",
      "Epoch 55/150\n",
      "1/1 - 0s - loss: 0.6517 - acc: 0.7500 - mse: 0.1257 - val_loss: 0.5969 - val_acc: 0.7105 - val_mse: 0.1177\n",
      "Epoch 56/150\n",
      "1/1 - 0s - loss: 0.6220 - acc: 0.7589 - mse: 0.1178 - val_loss: 0.5940 - val_acc: 0.7105 - val_mse: 0.1174\n",
      "Epoch 57/150\n",
      "1/1 - 0s - loss: 0.5920 - acc: 0.7857 - mse: 0.1121 - val_loss: 0.5915 - val_acc: 0.7105 - val_mse: 0.1172\n",
      "Epoch 58/150\n",
      "1/1 - 0s - loss: 0.6334 - acc: 0.7232 - mse: 0.1212 - val_loss: 0.5892 - val_acc: 0.7105 - val_mse: 0.1171\n",
      "Epoch 59/150\n",
      "1/1 - 0s - loss: 0.6102 - acc: 0.7589 - mse: 0.1160 - val_loss: 0.5872 - val_acc: 0.7105 - val_mse: 0.1171\n",
      "Epoch 60/150\n",
      "1/1 - 0s - loss: 0.6167 - acc: 0.7232 - mse: 0.1179 - val_loss: 0.5850 - val_acc: 0.7105 - val_mse: 0.1169\n",
      "Epoch 61/150\n",
      "1/1 - 0s - loss: 0.6152 - acc: 0.7768 - mse: 0.1159 - val_loss: 0.5834 - val_acc: 0.7105 - val_mse: 0.1169\n",
      "Epoch 62/150\n",
      "1/1 - 0s - loss: 0.5930 - acc: 0.7500 - mse: 0.1129 - val_loss: 0.5809 - val_acc: 0.7105 - val_mse: 0.1166\n",
      "Epoch 63/150\n",
      "1/1 - 0s - loss: 0.5850 - acc: 0.7589 - mse: 0.1121 - val_loss: 0.5789 - val_acc: 0.7105 - val_mse: 0.1165\n",
      "Epoch 64/150\n",
      "1/1 - 0s - loss: 0.6011 - acc: 0.6964 - mse: 0.1146 - val_loss: 0.5773 - val_acc: 0.7105 - val_mse: 0.1164\n",
      "Epoch 65/150\n",
      "1/1 - 0s - loss: 0.5655 - acc: 0.7946 - mse: 0.1069 - val_loss: 0.5758 - val_acc: 0.7105 - val_mse: 0.1164\n",
      "Epoch 66/150\n",
      "1/1 - 0s - loss: 0.5853 - acc: 0.7768 - mse: 0.1114 - val_loss: 0.5743 - val_acc: 0.7105 - val_mse: 0.1164\n",
      "Epoch 67/150\n",
      "1/1 - 0s - loss: 0.5604 - acc: 0.7679 - mse: 0.1057 - val_loss: 0.5717 - val_acc: 0.7105 - val_mse: 0.1161\n",
      "Epoch 68/150\n",
      "1/1 - 0s - loss: 0.5860 - acc: 0.7768 - mse: 0.1117 - val_loss: 0.5705 - val_acc: 0.7105 - val_mse: 0.1162\n",
      "Epoch 69/150\n",
      "1/1 - 0s - loss: 0.5393 - acc: 0.8482 - mse: 0.0998 - val_loss: 0.5686 - val_acc: 0.7105 - val_mse: 0.1161\n",
      "Epoch 70/150\n",
      "1/1 - 0s - loss: 0.5379 - acc: 0.7589 - mse: 0.1009 - val_loss: 0.5670 - val_acc: 0.7105 - val_mse: 0.1160\n",
      "Epoch 71/150\n",
      "1/1 - 0s - loss: 0.5587 - acc: 0.8482 - mse: 0.1054 - val_loss: 0.5655 - val_acc: 0.7105 - val_mse: 0.1159\n",
      "Epoch 72/150\n",
      "1/1 - 0s - loss: 0.5857 - acc: 0.7321 - mse: 0.1143 - val_loss: 0.5641 - val_acc: 0.7105 - val_mse: 0.1159\n",
      "Epoch 73/150\n",
      "1/1 - 0s - loss: 0.5745 - acc: 0.8036 - mse: 0.1087 - val_loss: 0.5627 - val_acc: 0.7105 - val_mse: 0.1159\n",
      "Epoch 74/150\n",
      "1/1 - 0s - loss: 0.5271 - acc: 0.8304 - mse: 0.0985 - val_loss: 0.5608 - val_acc: 0.7105 - val_mse: 0.1157\n",
      "Epoch 75/150\n",
      "1/1 - 0s - loss: 0.5950 - acc: 0.7768 - mse: 0.1148 - val_loss: 0.5593 - val_acc: 0.7105 - val_mse: 0.1156\n",
      "Epoch 76/150\n",
      "1/1 - 0s - loss: 0.5599 - acc: 0.7679 - mse: 0.1070 - val_loss: 0.5584 - val_acc: 0.7105 - val_mse: 0.1157\n",
      "Epoch 77/150\n",
      "1/1 - 0s - loss: 0.5557 - acc: 0.7946 - mse: 0.1066 - val_loss: 0.5574 - val_acc: 0.7105 - val_mse: 0.1157\n",
      "Epoch 78/150\n",
      "1/1 - 0s - loss: 0.5671 - acc: 0.7679 - mse: 0.1093 - val_loss: 0.5566 - val_acc: 0.7105 - val_mse: 0.1158\n",
      "Epoch 79/150\n",
      "1/1 - 0s - loss: 0.5113 - acc: 0.7946 - mse: 0.0950 - val_loss: 0.5550 - val_acc: 0.7105 - val_mse: 0.1157\n",
      "Epoch 80/150\n",
      "1/1 - 0s - loss: 0.5243 - acc: 0.7946 - mse: 0.1000 - val_loss: 0.5537 - val_acc: 0.7105 - val_mse: 0.1156\n",
      "Epoch 81/150\n",
      "1/1 - 0s - loss: 0.5306 - acc: 0.7679 - mse: 0.1009 - val_loss: 0.5524 - val_acc: 0.7105 - val_mse: 0.1155\n",
      "Epoch 82/150\n",
      "1/1 - 0s - loss: 0.5248 - acc: 0.7679 - mse: 0.1009 - val_loss: 0.5509 - val_acc: 0.7105 - val_mse: 0.1153\n",
      "Epoch 83/150\n",
      "1/1 - 0s - loss: 0.5194 - acc: 0.7857 - mse: 0.0983 - val_loss: 0.5489 - val_acc: 0.7105 - val_mse: 0.1151\n",
      "Epoch 84/150\n",
      "1/1 - 0s - loss: 0.5524 - acc: 0.8125 - mse: 0.1060 - val_loss: 0.5486 - val_acc: 0.7105 - val_mse: 0.1153\n",
      "Epoch 85/150\n",
      "1/1 - 0s - loss: 0.5135 - acc: 0.7857 - mse: 0.0983 - val_loss: 0.5474 - val_acc: 0.7105 - val_mse: 0.1152\n",
      "Epoch 86/150\n",
      "1/1 - 0s - loss: 0.4984 - acc: 0.8036 - mse: 0.0942 - val_loss: 0.5466 - val_acc: 0.7105 - val_mse: 0.1153\n",
      "Epoch 87/150\n",
      "1/1 - 0s - loss: 0.5042 - acc: 0.7768 - mse: 0.0968 - val_loss: 0.5448 - val_acc: 0.7105 - val_mse: 0.1150\n",
      "Epoch 88/150\n",
      "1/1 - 0s - loss: 0.4662 - acc: 0.8393 - mse: 0.0860 - val_loss: 0.5434 - val_acc: 0.7105 - val_mse: 0.1149\n",
      "Epoch 89/150\n",
      "1/1 - 0s - loss: 0.4939 - acc: 0.8393 - mse: 0.0920 - val_loss: 0.5421 - val_acc: 0.7105 - val_mse: 0.1148\n",
      "Epoch 90/150\n",
      "1/1 - 0s - loss: 0.5126 - acc: 0.8125 - mse: 0.0983 - val_loss: 0.5405 - val_acc: 0.7105 - val_mse: 0.1146\n",
      "Epoch 91/150\n",
      "1/1 - 0s - loss: 0.4913 - acc: 0.8304 - mse: 0.0916 - val_loss: 0.5401 - val_acc: 0.7105 - val_mse: 0.1148\n",
      "Epoch 92/150\n",
      "1/1 - 0s - loss: 0.5025 - acc: 0.7946 - mse: 0.0957 - val_loss: 0.5386 - val_acc: 0.7105 - val_mse: 0.1146\n",
      "Epoch 93/150\n",
      "1/1 - 0s - loss: 0.4797 - acc: 0.8482 - mse: 0.0918 - val_loss: 0.5372 - val_acc: 0.7105 - val_mse: 0.1144\n",
      "Epoch 94/150\n",
      "1/1 - 0s - loss: 0.5118 - acc: 0.8125 - mse: 0.0969 - val_loss: 0.5363 - val_acc: 0.7105 - val_mse: 0.1144\n",
      "Epoch 95/150\n",
      "1/1 - 0s - loss: 0.4957 - acc: 0.7946 - mse: 0.0965 - val_loss: 0.5355 - val_acc: 0.7105 - val_mse: 0.1144\n",
      "Epoch 96/150\n",
      "1/1 - 0s - loss: 0.4940 - acc: 0.8036 - mse: 0.0933 - val_loss: 0.5345 - val_acc: 0.7105 - val_mse: 0.1143\n",
      "Epoch 97/150\n",
      "1/1 - 0s - loss: 0.4619 - acc: 0.8393 - mse: 0.0859 - val_loss: 0.5341 - val_acc: 0.7105 - val_mse: 0.1144\n",
      "Epoch 98/150\n",
      "1/1 - 0s - loss: 0.4419 - acc: 0.8661 - mse: 0.0796 - val_loss: 0.5328 - val_acc: 0.7105 - val_mse: 0.1143\n",
      "Epoch 99/150\n",
      "1/1 - 0s - loss: 0.4597 - acc: 0.8304 - mse: 0.0871 - val_loss: 0.5319 - val_acc: 0.7105 - val_mse: 0.1142\n",
      "Epoch 100/150\n",
      "1/1 - 0s - loss: 0.4705 - acc: 0.8214 - mse: 0.0873 - val_loss: 0.5295 - val_acc: 0.7105 - val_mse: 0.1138\n",
      "Epoch 101/150\n",
      "1/1 - 0s - loss: 0.5169 - acc: 0.8125 - mse: 0.0997 - val_loss: 0.5294 - val_acc: 0.7105 - val_mse: 0.1139\n",
      "Epoch 102/150\n",
      "1/1 - 0s - loss: 0.4854 - acc: 0.8304 - mse: 0.0915 - val_loss: 0.5282 - val_acc: 0.7368 - val_mse: 0.1138\n",
      "Epoch 103/150\n",
      "1/1 - 0s - loss: 0.4655 - acc: 0.8304 - mse: 0.0891 - val_loss: 0.5273 - val_acc: 0.7368 - val_mse: 0.1137\n",
      "Epoch 104/150\n",
      "1/1 - 0s - loss: 0.4924 - acc: 0.8214 - mse: 0.0944 - val_loss: 0.5255 - val_acc: 0.7368 - val_mse: 0.1135\n",
      "Epoch 105/150\n",
      "1/1 - 0s - loss: 0.4508 - acc: 0.8036 - mse: 0.0855 - val_loss: 0.5251 - val_acc: 0.7368 - val_mse: 0.1135\n",
      "Epoch 106/150\n",
      "1/1 - 0s - loss: 0.4891 - acc: 0.8482 - mse: 0.0942 - val_loss: 0.5250 - val_acc: 0.7368 - val_mse: 0.1137\n",
      "Epoch 107/150\n",
      "1/1 - 0s - loss: 0.4646 - acc: 0.8214 - mse: 0.0869 - val_loss: 0.5236 - val_acc: 0.7368 - val_mse: 0.1135\n",
      "Epoch 108/150\n",
      "1/1 - 0s - loss: 0.4294 - acc: 0.8482 - mse: 0.0783 - val_loss: 0.5231 - val_acc: 0.7368 - val_mse: 0.1136\n",
      "Epoch 109/150\n",
      "1/1 - 0s - loss: 0.4663 - acc: 0.8036 - mse: 0.0890 - val_loss: 0.5213 - val_acc: 0.7368 - val_mse: 0.1133\n",
      "Epoch 110/150\n",
      "1/1 - 0s - loss: 0.4368 - acc: 0.8482 - mse: 0.0817 - val_loss: 0.5203 - val_acc: 0.7368 - val_mse: 0.1131\n",
      "Epoch 111/150\n",
      "1/1 - 0s - loss: 0.4182 - acc: 0.8839 - mse: 0.0771 - val_loss: 0.5186 - val_acc: 0.7368 - val_mse: 0.1128\n",
      "Epoch 112/150\n",
      "1/1 - 0s - loss: 0.4509 - acc: 0.7857 - mse: 0.0879 - val_loss: 0.5182 - val_acc: 0.7368 - val_mse: 0.1129\n",
      "Epoch 113/150\n",
      "1/1 - 0s - loss: 0.4642 - acc: 0.8304 - mse: 0.0900 - val_loss: 0.5179 - val_acc: 0.7368 - val_mse: 0.1130\n",
      "Epoch 114/150\n",
      "1/1 - 0s - loss: 0.4374 - acc: 0.8214 - mse: 0.0833 - val_loss: 0.5174 - val_acc: 0.7368 - val_mse: 0.1130\n",
      "Epoch 115/150\n",
      "1/1 - 0s - loss: 0.4720 - acc: 0.8393 - mse: 0.0897 - val_loss: 0.5165 - val_acc: 0.7368 - val_mse: 0.1129\n",
      "Epoch 116/150\n",
      "1/1 - 0s - loss: 0.4691 - acc: 0.8125 - mse: 0.0912 - val_loss: 0.5149 - val_acc: 0.7368 - val_mse: 0.1126\n",
      "Epoch 117/150\n",
      "1/1 - 0s - loss: 0.4961 - acc: 0.8125 - mse: 0.0978 - val_loss: 0.5136 - val_acc: 0.7368 - val_mse: 0.1124\n",
      "Epoch 118/150\n",
      "1/1 - 0s - loss: 0.4630 - acc: 0.8214 - mse: 0.0890 - val_loss: 0.5123 - val_acc: 0.7368 - val_mse: 0.1122\n",
      "Epoch 119/150\n",
      "1/1 - 0s - loss: 0.4578 - acc: 0.8393 - mse: 0.0867 - val_loss: 0.5118 - val_acc: 0.7368 - val_mse: 0.1122\n",
      "Epoch 120/150\n",
      "1/1 - 0s - loss: 0.4559 - acc: 0.8482 - mse: 0.0875 - val_loss: 0.5112 - val_acc: 0.7368 - val_mse: 0.1122\n",
      "Epoch 121/150\n",
      "1/1 - 0s - loss: 0.4136 - acc: 0.8661 - mse: 0.0761 - val_loss: 0.5091 - val_acc: 0.7368 - val_mse: 0.1118\n",
      "Epoch 122/150\n",
      "1/1 - 0s - loss: 0.4508 - acc: 0.7857 - mse: 0.0876 - val_loss: 0.5074 - val_acc: 0.7632 - val_mse: 0.1115\n",
      "Epoch 123/150\n",
      "1/1 - 0s - loss: 0.4188 - acc: 0.8393 - mse: 0.0789 - val_loss: 0.5064 - val_acc: 0.7632 - val_mse: 0.1114\n",
      "Epoch 124/150\n",
      "1/1 - 0s - loss: 0.4507 - acc: 0.8214 - mse: 0.0860 - val_loss: 0.5049 - val_acc: 0.7632 - val_mse: 0.1111\n",
      "Epoch 125/150\n",
      "1/1 - 0s - loss: 0.4202 - acc: 0.8393 - mse: 0.0795 - val_loss: 0.5043 - val_acc: 0.7632 - val_mse: 0.1111\n",
      "Epoch 126/150\n",
      "1/1 - 0s - loss: 0.4338 - acc: 0.8482 - mse: 0.0834 - val_loss: 0.5033 - val_acc: 0.7632 - val_mse: 0.1109\n",
      "Epoch 127/150\n",
      "1/1 - 0s - loss: 0.4184 - acc: 0.8750 - mse: 0.0783 - val_loss: 0.5019 - val_acc: 0.7632 - val_mse: 0.1106\n",
      "Epoch 128/150\n",
      "1/1 - 0s - loss: 0.3960 - acc: 0.8661 - mse: 0.0738 - val_loss: 0.5015 - val_acc: 0.7632 - val_mse: 0.1106\n",
      "Epoch 129/150\n",
      "1/1 - 0s - loss: 0.4194 - acc: 0.8571 - mse: 0.0790 - val_loss: 0.5013 - val_acc: 0.7632 - val_mse: 0.1107\n",
      "Epoch 130/150\n",
      "1/1 - 0s - loss: 0.4169 - acc: 0.8571 - mse: 0.0786 - val_loss: 0.5011 - val_acc: 0.7632 - val_mse: 0.1108\n",
      "Epoch 131/150\n",
      "1/1 - 0s - loss: 0.4350 - acc: 0.8304 - mse: 0.0829 - val_loss: 0.4992 - val_acc: 0.7632 - val_mse: 0.1104\n",
      "Epoch 132/150\n",
      "1/1 - 0s - loss: 0.4008 - acc: 0.8571 - mse: 0.0746 - val_loss: 0.4977 - val_acc: 0.7368 - val_mse: 0.1101\n",
      "Epoch 133/150\n",
      "1/1 - 0s - loss: 0.4226 - acc: 0.8482 - mse: 0.0809 - val_loss: 0.4974 - val_acc: 0.7368 - val_mse: 0.1101\n",
      "Epoch 134/150\n",
      "1/1 - 0s - loss: 0.4033 - acc: 0.8393 - mse: 0.0759 - val_loss: 0.4952 - val_acc: 0.7368 - val_mse: 0.1096\n",
      "Epoch 135/150\n",
      "1/1 - 0s - loss: 0.4047 - acc: 0.8393 - mse: 0.0771 - val_loss: 0.4949 - val_acc: 0.7368 - val_mse: 0.1096\n",
      "Epoch 136/150\n",
      "1/1 - 0s - loss: 0.4489 - acc: 0.8482 - mse: 0.0860 - val_loss: 0.4951 - val_acc: 0.7368 - val_mse: 0.1098\n",
      "Epoch 137/150\n",
      "1/1 - 0s - loss: 0.3960 - acc: 0.8571 - mse: 0.0751 - val_loss: 0.4944 - val_acc: 0.7368 - val_mse: 0.1097\n",
      "Epoch 138/150\n",
      "1/1 - 0s - loss: 0.4073 - acc: 0.8393 - mse: 0.0778 - val_loss: 0.4938 - val_acc: 0.7368 - val_mse: 0.1097\n",
      "Epoch 139/150\n",
      "1/1 - 0s - loss: 0.3920 - acc: 0.8661 - mse: 0.0743 - val_loss: 0.4926 - val_acc: 0.7368 - val_mse: 0.1095\n",
      "Epoch 140/150\n",
      "1/1 - 0s - loss: 0.4163 - acc: 0.8304 - mse: 0.0811 - val_loss: 0.4928 - val_acc: 0.7368 - val_mse: 0.1096\n",
      "Epoch 141/150\n",
      "1/1 - 0s - loss: 0.3910 - acc: 0.8571 - mse: 0.0740 - val_loss: 0.4919 - val_acc: 0.7368 - val_mse: 0.1095\n",
      "Epoch 142/150\n",
      "1/1 - 0s - loss: 0.4116 - acc: 0.8571 - mse: 0.0785 - val_loss: 0.4908 - val_acc: 0.7368 - val_mse: 0.1093\n",
      "Epoch 143/150\n",
      "1/1 - 0s - loss: 0.4183 - acc: 0.8304 - mse: 0.0806 - val_loss: 0.4900 - val_acc: 0.7368 - val_mse: 0.1092\n",
      "Epoch 144/150\n",
      "1/1 - 0s - loss: 0.3949 - acc: 0.8839 - mse: 0.0746 - val_loss: 0.4900 - val_acc: 0.7368 - val_mse: 0.1092\n",
      "Epoch 145/150\n",
      "1/1 - 0s - loss: 0.4105 - acc: 0.8304 - mse: 0.0789 - val_loss: 0.4888 - val_acc: 0.7368 - val_mse: 0.1090\n",
      "Epoch 146/150\n",
      "1/1 - 0s - loss: 0.3625 - acc: 0.8839 - mse: 0.0662 - val_loss: 0.4895 - val_acc: 0.7368 - val_mse: 0.1092\n",
      "Epoch 147/150\n",
      "1/1 - 0s - loss: 0.3837 - acc: 0.8750 - mse: 0.0727 - val_loss: 0.4889 - val_acc: 0.7368 - val_mse: 0.1092\n",
      "Epoch 148/150\n",
      "1/1 - 0s - loss: 0.3767 - acc: 0.8750 - mse: 0.0709 - val_loss: 0.4889 - val_acc: 0.7368 - val_mse: 0.1092\n",
      "Epoch 149/150\n",
      "1/1 - 0s - loss: 0.3779 - acc: 0.8750 - mse: 0.0715 - val_loss: 0.4893 - val_acc: 0.7368 - val_mse: 0.1094\n",
      "Epoch 150/150\n",
      "1/1 - 0s - loss: 0.4104 - acc: 0.8571 - mse: 0.0799 - val_loss: 0.4891 - val_acc: 0.7368 - val_mse: 0.1094\n"
     ]
    }
   ],
   "source": [
    "\n",
    "\n",
    "# Create model7, having more dropout layers, having a dropout rate of your choice\n",
    "\n",
    "#SOLUTION:\n",
    "model7 = Sequential([\n",
    "    Dense(512, activation='tanh', input_shape = X_train[0].shape),\n",
    "    tf.keras.layers.Dropout(0.5),\n",
    "    Dense(512//2, activation='tanh'),\n",
    "    tf.keras.layers.Dropout(0.5),\n",
    "    Dense(512//4, activation='tanh'),\n",
    "    tf.keras.layers.Dropout(0.5),\n",
    "    Dense(512//8, activation='tanh'),\n",
    "    tf.keras.layers.Dropout(0.3),\n",
    "    Dense(32, activation='relu'),\n",
    "    Dense(3, activation='softmax')\n",
    "])\n",
    "model7.compile(optimizer='sgd',loss='categorical_crossentropy', metrics=['acc', 'mse'])\n",
    "hist7 = model7.fit(X_train, y_train, epochs=150, batch_size=128, validation_data=(X_test,y_test), verbose=2)\n",
    "\n",
    " \n"
   ]
  },
  {
   "cell_type": "code",
   "execution_count": null,
   "metadata": {
    "colab": {
     "base_uri": "https://localhost:8080/"
    },
    "executionInfo": {
     "elapsed": 491,
     "status": "ok",
     "timestamp": 1635757238652,
     "user": {
      "displayName": "Amay Gada",
      "photoUrl": "https://lh3.googleusercontent.com/a-/AOh14GhIegWflm0DVHy8h-sj9l7nvh_87WZPEby6oqxqjw=s64",
      "userId": "18318224108445437394"
     },
     "user_tz": -330
    },
    "id": "AMQw_uzisV8t",
    "outputId": "eadf0541-dcf6-4efd-e74f-39df9da92d5c"
   },
   "outputs": [
    {
     "name": "stdout",
     "output_type": "stream",
     "text": [
      "2/2 [==============================] - 0s 5ms/step - loss: 0.4891 - acc: 0.7368 - mse: 0.1094\n",
      "Loss is 0.48905524611473083,\n",
      "Accuracy is 73.68420958518982,\n",
      "MSE is 0.10941901057958603\n"
     ]
    }
   ],
   "source": [
    "#just how we used evaluate() in the basic model previously, use it again to find the loss, accuracy and MSE on the test set\n",
    "#SOLUTION:\n",
    "loss7, acc7, mse7 = model7.evaluate(X_test, y_test)\n",
    "print(f\"Loss is {loss7},\\nAccuracy is {acc7 * 100},\\nMSE is {mse7}\")"
   ]
  },
  {
   "cell_type": "code",
   "execution_count": null,
   "metadata": {
    "colab": {
     "base_uri": "https://localhost:8080/",
     "height": 581
    },
    "executionInfo": {
     "elapsed": 1585,
     "status": "ok",
     "timestamp": 1635757245450,
     "user": {
      "displayName": "Amay Gada",
      "photoUrl": "https://lh3.googleusercontent.com/a-/AOh14GhIegWflm0DVHy8h-sj9l7nvh_87WZPEby6oqxqjw=s64",
      "userId": "18318224108445437394"
     },
     "user_tz": -330
    },
    "id": "ozCF-k2_sV8u",
    "outputId": "baf8187f-59b7-4593-9704-79ea1f263789"
   },
   "outputs": [
    {
     "data": {
      "image/png": "[encoded data removed]",
      "text/plain": [
       "<Figure size 432x288 with 1 Axes>"
      ]
     },
     "metadata": {},
     "output_type": "display_data"
    },
    {
     "data": {
      "image/png": "[encoded data removed]",
      "text/plain": [
       "<Figure size 432x288 with 1 Axes>"
      ]
     },
     "metadata": {},
     "output_type": "display_data"
    }
   ],
   "source": [
    "# Plot the train loss vs validation loss and train accuracy vs validation accuracy graphs just like we did before\n",
    "\n",
    "#SOLUTION:\n",
    "plt.plot(hist7.history['loss'], label = 'loss')\n",
    "plt.plot(hist7.history['val_loss'], label='val loss')\n",
    "plt.title(\"Loss vs Val_Loss\")\n",
    "plt.xlabel(\"Epochs\")\n",
    "plt.ylabel(\"Loss\")\n",
    "plt.legend()\n",
    "plt.show()\n",
    "\n",
    "plt.plot(hist7.history['acc'], label = 'ACC')\n",
    "plt.plot(hist7.history['val_acc'], label='val acc')\n",
    "plt.title(\"acc vs Val_acc\")\n",
    "plt.xlabel(\"Epochs\")\n",
    "plt.ylabel(\"acc\")\n",
    "plt.legend()\n",
    "plt.show()\n",
    " \n",
    "\n"
   ]
  },
  {
   "cell_type": "markdown",
   "metadata": {
    "id": "D_qdyLnfsV8u"
   },
   "source": [
    "## Batch Normalization\n"
   ]
  },
  {
   "cell_type": "code",
   "execution_count": null,
   "metadata": {
    "colab": {
     "base_uri": "https://localhost:8080/"
    },
    "executionInfo": {
     "elapsed": 7366,
     "status": "ok",
     "timestamp": 1635757322040,
     "user": {
      "displayName": "Amay Gada",
      "photoUrl": "https://lh3.googleusercontent.com/a-/AOh14GhIegWflm0DVHy8h-sj9l7nvh_87WZPEby6oqxqjw=s64",
      "userId": "18318224108445437394"
     },
     "user_tz": -330
    },
    "id": "bzPubMTlsV8u",
    "outputId": "6f737ec0-cdee-4885-b466-ca1644969cca"
   },
   "outputs": [
    {
     "name": "stdout",
     "output_type": "stream",
     "text": [
      "Epoch 1/150\n",
      "4/4 - 1s - loss: 0.8324 - acc: 0.6518 - mse: 0.1568 - val_loss: 0.8996 - val_acc: 0.7368 - val_mse: 0.1756\n",
      "Epoch 2/150\n",
      "4/4 - 0s - loss: 0.4583 - acc: 0.8482 - mse: 0.0777 - val_loss: 0.8285 - val_acc: 0.7632 - val_mse: 0.1586\n",
      "Epoch 3/150\n",
      "4/4 - 0s - loss: 0.3962 - acc: 0.8661 - mse: 0.0682 - val_loss: 0.7834 - val_acc: 0.7632 - val_mse: 0.1480\n",
      "Epoch 4/150\n",
      "4/4 - 0s - loss: 0.3382 - acc: 0.8750 - mse: 0.0576 - val_loss: 0.7463 - val_acc: 0.7368 - val_mse: 0.1394\n",
      "Epoch 5/150\n",
      "4/4 - 0s - loss: 0.3440 - acc: 0.8929 - mse: 0.0588 - val_loss: 0.7197 - val_acc: 0.7632 - val_mse: 0.1335\n",
      "Epoch 6/150\n",
      "4/4 - 0s - loss: 0.4691 - acc: 0.7946 - mse: 0.0904 - val_loss: 0.7147 - val_acc: 0.8158 - val_mse: 0.1327\n",
      "Epoch 7/150\n",
      "4/4 - 0s - loss: 0.3057 - acc: 0.8839 - mse: 0.0530 - val_loss: 0.7008 - val_acc: 0.8421 - val_mse: 0.1302\n",
      "Epoch 8/150\n",
      "4/4 - 0s - loss: 0.3404 - acc: 0.8839 - mse: 0.0612 - val_loss: 0.6957 - val_acc: 0.8158 - val_mse: 0.1292\n",
      "Epoch 9/150\n",
      "4/4 - 0s - loss: 0.3194 - acc: 0.8929 - mse: 0.0567 - val_loss: 0.6777 - val_acc: 0.8158 - val_mse: 0.1257\n",
      "Epoch 10/150\n",
      "4/4 - 0s - loss: 0.3482 - acc: 0.8482 - mse: 0.0678 - val_loss: 0.6653 - val_acc: 0.8158 - val_mse: 0.1230\n",
      "Epoch 11/150\n",
      "4/4 - 0s - loss: 0.2773 - acc: 0.8839 - mse: 0.0501 - val_loss: 0.6517 - val_acc: 0.8158 - val_mse: 0.1203\n",
      "Epoch 12/150\n",
      "4/4 - 0s - loss: 0.2559 - acc: 0.8839 - mse: 0.0453 - val_loss: 0.6376 - val_acc: 0.8158 - val_mse: 0.1174\n",
      "Epoch 13/150\n",
      "4/4 - 0s - loss: 0.2587 - acc: 0.8839 - mse: 0.0471 - val_loss: 0.6332 - val_acc: 0.8684 - val_mse: 0.1171\n",
      "Epoch 14/150\n",
      "4/4 - 0s - loss: 0.2799 - acc: 0.8571 - mse: 0.0522 - val_loss: 0.6115 - val_acc: 0.8421 - val_mse: 0.1121\n",
      "Epoch 15/150\n",
      "4/4 - 0s - loss: 0.2170 - acc: 0.9286 - mse: 0.0350 - val_loss: 0.5975 - val_acc: 0.8684 - val_mse: 0.1093\n",
      "Epoch 16/150\n",
      "4/4 - 0s - loss: 0.2464 - acc: 0.9196 - mse: 0.0440 - val_loss: 0.5990 - val_acc: 0.8684 - val_mse: 0.1105\n",
      "Epoch 17/150\n",
      "4/4 - 0s - loss: 0.2755 - acc: 0.8661 - mse: 0.0537 - val_loss: 0.5990 - val_acc: 0.8421 - val_mse: 0.1112\n",
      "Epoch 18/150\n",
      "4/4 - 0s - loss: 0.2062 - acc: 0.9554 - mse: 0.0342 - val_loss: 0.5654 - val_acc: 0.8684 - val_mse: 0.1035\n",
      "Epoch 19/150\n",
      "4/4 - 0s - loss: 0.2390 - acc: 0.9196 - mse: 0.0427 - val_loss: 0.5702 - val_acc: 0.8684 - val_mse: 0.1047\n",
      "Epoch 20/150\n",
      "4/4 - 0s - loss: 0.2229 - acc: 0.9107 - mse: 0.0398 - val_loss: 0.5457 - val_acc: 0.8684 - val_mse: 0.0994\n",
      "Epoch 21/150\n",
      "4/4 - 0s - loss: 0.2034 - acc: 0.9375 - mse: 0.0352 - val_loss: 0.5525 - val_acc: 0.8684 - val_mse: 0.1017\n",
      "Epoch 22/150\n",
      "4/4 - 0s - loss: 0.2487 - acc: 0.9286 - mse: 0.0444 - val_loss: 0.5440 - val_acc: 0.8684 - val_mse: 0.1003\n",
      "Epoch 23/150\n",
      "4/4 - 0s - loss: 0.1876 - acc: 0.9375 - mse: 0.0312 - val_loss: 0.5273 - val_acc: 0.8684 - val_mse: 0.0967\n",
      "Epoch 24/150\n",
      "4/4 - 0s - loss: 0.2163 - acc: 0.9018 - mse: 0.0411 - val_loss: 0.5479 - val_acc: 0.8684 - val_mse: 0.1023\n",
      "Epoch 25/150\n",
      "4/4 - 0s - loss: 0.2286 - acc: 0.9286 - mse: 0.0414 - val_loss: 0.5395 - val_acc: 0.8684 - val_mse: 0.1010\n",
      "Epoch 26/150\n",
      "4/4 - 0s - loss: 0.1783 - acc: 0.9375 - mse: 0.0298 - val_loss: 0.5181 - val_acc: 0.8684 - val_mse: 0.0965\n",
      "Epoch 27/150\n",
      "4/4 - 0s - loss: 0.1783 - acc: 0.9554 - mse: 0.0297 - val_loss: 0.4914 - val_acc: 0.8947 - val_mse: 0.0907\n",
      "Epoch 28/150\n",
      "4/4 - 0s - loss: 0.2371 - acc: 0.9464 - mse: 0.0426 - val_loss: 0.5218 - val_acc: 0.8684 - val_mse: 0.0988\n",
      "Epoch 29/150\n",
      "4/4 - 0s - loss: 0.1784 - acc: 0.9554 - mse: 0.0292 - val_loss: 0.4929 - val_acc: 0.8684 - val_mse: 0.0920\n",
      "Epoch 30/150\n",
      "4/4 - 0s - loss: 0.2076 - acc: 0.9107 - mse: 0.0367 - val_loss: 0.4935 - val_acc: 0.8684 - val_mse: 0.0916\n",
      "Epoch 31/150\n",
      "4/4 - 0s - loss: 0.2397 - acc: 0.9286 - mse: 0.0464 - val_loss: 0.5036 - val_acc: 0.8684 - val_mse: 0.0948\n",
      "Epoch 32/150\n",
      "4/4 - 0s - loss: 0.1742 - acc: 0.9375 - mse: 0.0303 - val_loss: 0.5264 - val_acc: 0.8158 - val_mse: 0.1012\n",
      "Epoch 33/150\n",
      "4/4 - 0s - loss: 0.2263 - acc: 0.9107 - mse: 0.0402 - val_loss: 0.5023 - val_acc: 0.8684 - val_mse: 0.0951\n",
      "Epoch 34/150\n",
      "4/4 - 0s - loss: 0.1457 - acc: 0.9643 - mse: 0.0214 - val_loss: 0.4892 - val_acc: 0.8684 - val_mse: 0.0922\n",
      "Epoch 35/150\n",
      "4/4 - 0s - loss: 0.1559 - acc: 0.9554 - mse: 0.0253 - val_loss: 0.4681 - val_acc: 0.8684 - val_mse: 0.0880\n",
      "Epoch 36/150\n",
      "4/4 - 0s - loss: 0.1829 - acc: 0.9286 - mse: 0.0322 - val_loss: 0.4800 - val_acc: 0.8684 - val_mse: 0.0894\n",
      "Epoch 37/150\n",
      "4/4 - 0s - loss: 0.1885 - acc: 0.9286 - mse: 0.0340 - val_loss: 0.4599 - val_acc: 0.8684 - val_mse: 0.0856\n",
      "Epoch 38/150\n",
      "4/4 - 0s - loss: 0.2005 - acc: 0.9375 - mse: 0.0374 - val_loss: 0.5043 - val_acc: 0.8684 - val_mse: 0.0960\n",
      "Epoch 39/150\n",
      "4/4 - 0s - loss: 0.2029 - acc: 0.9107 - mse: 0.0381 - val_loss: 0.4635 - val_acc: 0.8684 - val_mse: 0.0872\n",
      "Epoch 40/150\n",
      "4/4 - 0s - loss: 0.1608 - acc: 0.9643 - mse: 0.0263 - val_loss: 0.4329 - val_acc: 0.8684 - val_mse: 0.0811\n",
      "Epoch 41/150\n",
      "4/4 - 0s - loss: 0.1550 - acc: 0.9464 - mse: 0.0269 - val_loss: 0.4521 - val_acc: 0.8684 - val_mse: 0.0852\n",
      "Epoch 42/150\n",
      "4/4 - 0s - loss: 0.1233 - acc: 0.9643 - mse: 0.0182 - val_loss: 0.4480 - val_acc: 0.8684 - val_mse: 0.0844\n",
      "Epoch 43/150\n",
      "4/4 - 0s - loss: 0.1382 - acc: 0.9643 - mse: 0.0228 - val_loss: 0.4492 - val_acc: 0.8684 - val_mse: 0.0848\n",
      "Epoch 44/150\n",
      "4/4 - 0s - loss: 0.1295 - acc: 0.9554 - mse: 0.0200 - val_loss: 0.4475 - val_acc: 0.8684 - val_mse: 0.0846\n",
      "Epoch 45/150\n",
      "4/4 - 0s - loss: 0.1193 - acc: 0.9732 - mse: 0.0176 - val_loss: 0.4402 - val_acc: 0.8684 - val_mse: 0.0829\n",
      "Epoch 46/150\n",
      "4/4 - 0s - loss: 0.1552 - acc: 0.9554 - mse: 0.0267 - val_loss: 0.4415 - val_acc: 0.8684 - val_mse: 0.0835\n",
      "Epoch 47/150\n",
      "4/4 - 0s - loss: 0.1903 - acc: 0.9375 - mse: 0.0352 - val_loss: 0.4651 - val_acc: 0.8684 - val_mse: 0.0897\n",
      "Epoch 48/150\n",
      "4/4 - 0s - loss: 0.1468 - acc: 0.9464 - mse: 0.0253 - val_loss: 0.4340 - val_acc: 0.8684 - val_mse: 0.0835\n",
      "Epoch 49/150\n",
      "4/4 - 0s - loss: 0.1092 - acc: 0.9643 - mse: 0.0159 - val_loss: 0.4228 - val_acc: 0.8684 - val_mse: 0.0813\n",
      "Epoch 50/150\n",
      "4/4 - 0s - loss: 0.1283 - acc: 0.9554 - mse: 0.0203 - val_loss: 0.4212 - val_acc: 0.8684 - val_mse: 0.0804\n",
      "Epoch 51/150\n",
      "4/4 - 0s - loss: 0.1367 - acc: 0.9643 - mse: 0.0227 - val_loss: 0.4211 - val_acc: 0.8684 - val_mse: 0.0802\n",
      "Epoch 52/150\n",
      "4/4 - 0s - loss: 0.1898 - acc: 0.9375 - mse: 0.0333 - val_loss: 0.4507 - val_acc: 0.8684 - val_mse: 0.0863\n",
      "Epoch 53/150\n",
      "4/4 - 0s - loss: 0.1470 - acc: 0.9554 - mse: 0.0261 - val_loss: 0.4491 - val_acc: 0.8684 - val_mse: 0.0864\n",
      "Epoch 54/150\n",
      "4/4 - 0s - loss: 0.1046 - acc: 0.9732 - mse: 0.0140 - val_loss: 0.4103 - val_acc: 0.8684 - val_mse: 0.0787\n",
      "Epoch 55/150\n",
      "4/4 - 0s - loss: 0.1260 - acc: 0.9464 - mse: 0.0225 - val_loss: 0.4310 - val_acc: 0.8684 - val_mse: 0.0820\n",
      "Epoch 56/150\n",
      "4/4 - 0s - loss: 0.1231 - acc: 0.9643 - mse: 0.0188 - val_loss: 0.4126 - val_acc: 0.8684 - val_mse: 0.0782\n",
      "Epoch 57/150\n",
      "4/4 - 0s - loss: 0.1701 - acc: 0.9375 - mse: 0.0303 - val_loss: 0.4104 - val_acc: 0.8684 - val_mse: 0.0770\n",
      "Epoch 58/150\n",
      "4/4 - 0s - loss: 0.2166 - acc: 0.8839 - mse: 0.0430 - val_loss: 0.4327 - val_acc: 0.8684 - val_mse: 0.0792\n",
      "Epoch 59/150\n",
      "4/4 - 0s - loss: 0.1633 - acc: 0.9286 - mse: 0.0317 - val_loss: 0.3912 - val_acc: 0.8947 - val_mse: 0.0741\n",
      "Epoch 60/150\n",
      "4/4 - 0s - loss: 0.1417 - acc: 0.9464 - mse: 0.0256 - val_loss: 0.4040 - val_acc: 0.8684 - val_mse: 0.0765\n",
      "Epoch 61/150\n",
      "4/4 - 0s - loss: 0.0928 - acc: 0.9821 - mse: 0.0129 - val_loss: 0.3908 - val_acc: 0.8947 - val_mse: 0.0745\n",
      "Epoch 62/150\n",
      "4/4 - 0s - loss: 0.1655 - acc: 0.9375 - mse: 0.0313 - val_loss: 0.3408 - val_acc: 0.8947 - val_mse: 0.0671\n",
      "Epoch 63/150\n",
      "4/4 - 0s - loss: 0.1202 - acc: 0.9554 - mse: 0.0214 - val_loss: 0.3281 - val_acc: 0.8947 - val_mse: 0.0651\n",
      "Epoch 64/150\n",
      "4/4 - 0s - loss: 0.0968 - acc: 0.9732 - mse: 0.0154 - val_loss: 0.3477 - val_acc: 0.8947 - val_mse: 0.0686\n",
      "Epoch 65/150\n",
      "4/4 - 0s - loss: 0.1947 - acc: 0.9286 - mse: 0.0396 - val_loss: 0.3333 - val_acc: 0.8947 - val_mse: 0.0664\n",
      "Epoch 66/150\n",
      "4/4 - 0s - loss: 0.1485 - acc: 0.9464 - mse: 0.0278 - val_loss: 0.3928 - val_acc: 0.8684 - val_mse: 0.0769\n",
      "Epoch 67/150\n",
      "4/4 - 0s - loss: 0.1147 - acc: 0.9732 - mse: 0.0183 - val_loss: 0.3975 - val_acc: 0.8684 - val_mse: 0.0771\n",
      "Epoch 68/150\n",
      "4/4 - 0s - loss: 0.1055 - acc: 0.9643 - mse: 0.0157 - val_loss: 0.3470 - val_acc: 0.8947 - val_mse: 0.0690\n",
      "Epoch 69/150\n",
      "4/4 - 0s - loss: 0.1946 - acc: 0.9375 - mse: 0.0328 - val_loss: 0.4655 - val_acc: 0.8684 - val_mse: 0.0888\n",
      "Epoch 70/150\n",
      "4/4 - 0s - loss: 0.2417 - acc: 0.9018 - mse: 0.0498 - val_loss: 0.3358 - val_acc: 0.8947 - val_mse: 0.0672\n",
      "Epoch 71/150\n",
      "4/4 - 0s - loss: 0.1978 - acc: 0.9107 - mse: 0.0401 - val_loss: 0.3621 - val_acc: 0.8947 - val_mse: 0.0712\n",
      "Epoch 72/150\n",
      "4/4 - 0s - loss: 0.1175 - acc: 0.9554 - mse: 0.0200 - val_loss: 0.3407 - val_acc: 0.8947 - val_mse: 0.0685\n",
      "Epoch 73/150\n",
      "4/4 - 0s - loss: 0.2175 - acc: 0.9018 - mse: 0.0455 - val_loss: 0.2396 - val_acc: 0.8947 - val_mse: 0.0438\n",
      "Epoch 74/150\n",
      "4/4 - 0s - loss: 0.1646 - acc: 0.9286 - mse: 0.0309 - val_loss: 0.2727 - val_acc: 0.8947 - val_mse: 0.0554\n",
      "Epoch 75/150\n",
      "4/4 - 0s - loss: 0.2491 - acc: 0.9107 - mse: 0.0505 - val_loss: 0.3253 - val_acc: 0.8947 - val_mse: 0.0660\n",
      "Epoch 76/150\n",
      "4/4 - 0s - loss: 0.1609 - acc: 0.9464 - mse: 0.0309 - val_loss: 0.2563 - val_acc: 0.8947 - val_mse: 0.0525\n",
      "Epoch 77/150\n",
      "4/4 - 0s - loss: 0.0939 - acc: 0.9554 - mse: 0.0158 - val_loss: 0.2873 - val_acc: 0.8947 - val_mse: 0.0596\n",
      "Epoch 78/150\n",
      "4/4 - 0s - loss: 0.1061 - acc: 0.9732 - mse: 0.0168 - val_loss: 0.3072 - val_acc: 0.8947 - val_mse: 0.0633\n",
      "Epoch 79/150\n",
      "4/4 - 0s - loss: 0.1216 - acc: 0.9464 - mse: 0.0208 - val_loss: 0.3237 - val_acc: 0.8947 - val_mse: 0.0658\n",
      "Epoch 80/150\n",
      "4/4 - 0s - loss: 0.1033 - acc: 0.9821 - mse: 0.0156 - val_loss: 0.3307 - val_acc: 0.8947 - val_mse: 0.0667\n",
      "Epoch 81/150\n",
      "4/4 - 0s - loss: 0.0774 - acc: 0.9911 - mse: 0.0094 - val_loss: 0.3427 - val_acc: 0.8947 - val_mse: 0.0681\n",
      "Epoch 82/150\n",
      "4/4 - 0s - loss: 0.1164 - acc: 0.9732 - mse: 0.0180 - val_loss: 0.3551 - val_acc: 0.8947 - val_mse: 0.0705\n",
      "Epoch 83/150\n",
      "4/4 - 0s - loss: 0.1390 - acc: 0.9464 - mse: 0.0262 - val_loss: 0.3007 - val_acc: 0.8947 - val_mse: 0.0624\n",
      "Epoch 84/150\n",
      "4/4 - 0s - loss: 0.1135 - acc: 0.9643 - mse: 0.0200 - val_loss: 0.2442 - val_acc: 0.8947 - val_mse: 0.0498\n",
      "Epoch 85/150\n",
      "4/4 - 0s - loss: 0.1416 - acc: 0.9554 - mse: 0.0234 - val_loss: 0.2421 - val_acc: 0.8947 - val_mse: 0.0495\n",
      "Epoch 86/150\n",
      "4/4 - 0s - loss: 0.1155 - acc: 0.9554 - mse: 0.0205 - val_loss: 0.3035 - val_acc: 0.8947 - val_mse: 0.0630\n",
      "Epoch 87/150\n",
      "4/4 - 0s - loss: 0.1404 - acc: 0.9375 - mse: 0.0272 - val_loss: 0.2277 - val_acc: 0.8684 - val_mse: 0.0467\n",
      "Epoch 88/150\n",
      "4/4 - 0s - loss: 0.1997 - acc: 0.9107 - mse: 0.0413 - val_loss: 0.2698 - val_acc: 0.8684 - val_mse: 0.0577\n",
      "Epoch 89/150\n",
      "4/4 - 0s - loss: 0.0824 - acc: 0.9732 - mse: 0.0128 - val_loss: 0.3061 - val_acc: 0.8684 - val_mse: 0.0637\n",
      "Epoch 90/150\n",
      "4/4 - 0s - loss: 0.1171 - acc: 0.9732 - mse: 0.0190 - val_loss: 0.3221 - val_acc: 0.8684 - val_mse: 0.0658\n",
      "Epoch 91/150\n",
      "4/4 - 0s - loss: 0.1701 - acc: 0.9196 - mse: 0.0357 - val_loss: 0.2709 - val_acc: 0.8684 - val_mse: 0.0582\n",
      "Epoch 92/150\n",
      "4/4 - 0s - loss: 0.0874 - acc: 0.9732 - mse: 0.0136 - val_loss: 0.2809 - val_acc: 0.8421 - val_mse: 0.0600\n",
      "Epoch 93/150\n",
      "4/4 - 0s - loss: 0.1780 - acc: 0.8929 - mse: 0.0388 - val_loss: 0.2612 - val_acc: 0.8947 - val_mse: 0.0561\n",
      "Epoch 94/150\n",
      "4/4 - 0s - loss: 0.0777 - acc: 0.9821 - mse: 0.0112 - val_loss: 0.2720 - val_acc: 0.8684 - val_mse: 0.0584\n",
      "Epoch 95/150\n",
      "4/4 - 0s - loss: 0.1885 - acc: 0.8929 - mse: 0.0370 - val_loss: 0.2677 - val_acc: 0.8684 - val_mse: 0.0578\n",
      "Epoch 96/150\n",
      "4/4 - 0s - loss: 0.1818 - acc: 0.9375 - mse: 0.0356 - val_loss: 0.2652 - val_acc: 0.8684 - val_mse: 0.0570\n",
      "Epoch 97/150\n",
      "4/4 - 0s - loss: 0.0848 - acc: 0.9821 - mse: 0.0121 - val_loss: 0.2717 - val_acc: 0.8684 - val_mse: 0.0583\n",
      "Epoch 98/150\n",
      "4/4 - 0s - loss: 0.0853 - acc: 0.9732 - mse: 0.0137 - val_loss: 0.2852 - val_acc: 0.8947 - val_mse: 0.0604\n",
      "Epoch 99/150\n",
      "4/4 - 0s - loss: 0.1295 - acc: 0.9554 - mse: 0.0237 - val_loss: 0.2828 - val_acc: 0.8947 - val_mse: 0.0601\n",
      "Epoch 100/150\n",
      "4/4 - 0s - loss: 0.0945 - acc: 0.9821 - mse: 0.0141 - val_loss: 0.3022 - val_acc: 0.8947 - val_mse: 0.0630\n",
      "Epoch 101/150\n",
      "4/4 - 0s - loss: 0.1592 - acc: 0.9464 - mse: 0.0285 - val_loss: 0.3804 - val_acc: 0.8684 - val_mse: 0.0739\n",
      "Epoch 102/150\n",
      "4/4 - 0s - loss: 0.1117 - acc: 0.9732 - mse: 0.0185 - val_loss: 0.3396 - val_acc: 0.8947 - val_mse: 0.0680\n",
      "Epoch 103/150\n",
      "4/4 - 0s - loss: 0.1170 - acc: 0.9643 - mse: 0.0197 - val_loss: 0.2519 - val_acc: 0.8947 - val_mse: 0.0553\n",
      "Epoch 104/150\n",
      "4/4 - 0s - loss: 0.1569 - acc: 0.9286 - mse: 0.0317 - val_loss: 0.3023 - val_acc: 0.8684 - val_mse: 0.0638\n",
      "Epoch 105/150\n",
      "4/4 - 0s - loss: 0.1199 - acc: 0.9643 - mse: 0.0218 - val_loss: 0.2096 - val_acc: 0.8684 - val_mse: 0.0456\n",
      "Epoch 106/150\n",
      "4/4 - 0s - loss: 0.1486 - acc: 0.9375 - mse: 0.0302 - val_loss: 0.2726 - val_acc: 0.8947 - val_mse: 0.0589\n",
      "Epoch 107/150\n",
      "4/4 - 0s - loss: 0.0676 - acc: 0.9821 - mse: 0.0085 - val_loss: 0.2593 - val_acc: 0.8684 - val_mse: 0.0569\n",
      "Epoch 108/150\n",
      "4/4 - 0s - loss: 0.0605 - acc: 0.9911 - mse: 0.0075 - val_loss: 0.2847 - val_acc: 0.8684 - val_mse: 0.0610\n",
      "Epoch 109/150\n",
      "4/4 - 0s - loss: 0.0759 - acc: 0.9911 - mse: 0.0109 - val_loss: 0.2797 - val_acc: 0.8684 - val_mse: 0.0604\n",
      "Epoch 110/150\n",
      "4/4 - 0s - loss: 0.0963 - acc: 0.9732 - mse: 0.0153 - val_loss: 0.4050 - val_acc: 0.8947 - val_mse: 0.0731\n",
      "Epoch 111/150\n",
      "4/4 - 0s - loss: 0.1103 - acc: 0.9554 - mse: 0.0207 - val_loss: 0.3070 - val_acc: 0.8684 - val_mse: 0.0643\n",
      "Epoch 112/150\n",
      "4/4 - 0s - loss: 0.1663 - acc: 0.9375 - mse: 0.0302 - val_loss: 0.3751 - val_acc: 0.8947 - val_mse: 0.0706\n",
      "Epoch 113/150\n",
      "4/4 - 0s - loss: 0.2054 - acc: 0.9196 - mse: 0.0394 - val_loss: 0.2190 - val_acc: 0.8684 - val_mse: 0.0497\n",
      "Epoch 114/150\n",
      "4/4 - 0s - loss: 0.2074 - acc: 0.9375 - mse: 0.0378 - val_loss: 0.2078 - val_acc: 0.8421 - val_mse: 0.0461\n",
      "Epoch 115/150\n",
      "4/4 - 0s - loss: 0.1062 - acc: 0.9643 - mse: 0.0180 - val_loss: 0.2872 - val_acc: 0.8684 - val_mse: 0.0609\n",
      "Epoch 116/150\n",
      "4/4 - 0s - loss: 0.0825 - acc: 0.9821 - mse: 0.0118 - val_loss: 0.2647 - val_acc: 0.8684 - val_mse: 0.0586\n",
      "Epoch 117/150\n",
      "4/4 - 0s - loss: 0.0609 - acc: 1.0000 - mse: 0.0073 - val_loss: 0.2469 - val_acc: 0.8684 - val_mse: 0.0559\n",
      "Epoch 118/150\n",
      "4/4 - 0s - loss: 0.1290 - acc: 0.9464 - mse: 0.0254 - val_loss: 0.2653 - val_acc: 0.8684 - val_mse: 0.0585\n",
      "Epoch 119/150\n",
      "4/4 - 0s - loss: 0.1274 - acc: 0.9464 - mse: 0.0241 - val_loss: 0.2654 - val_acc: 0.8684 - val_mse: 0.0582\n",
      "Epoch 120/150\n",
      "4/4 - 0s - loss: 0.0970 - acc: 0.9643 - mse: 0.0171 - val_loss: 0.3041 - val_acc: 0.8947 - val_mse: 0.0632\n",
      "Epoch 121/150\n",
      "4/4 - 0s - loss: 0.0892 - acc: 0.9643 - mse: 0.0156 - val_loss: 0.2946 - val_acc: 0.8684 - val_mse: 0.0619\n",
      "Epoch 122/150\n",
      "4/4 - 0s - loss: 0.0812 - acc: 0.9732 - mse: 0.0133 - val_loss: 0.2853 - val_acc: 0.8684 - val_mse: 0.0608\n",
      "Epoch 123/150\n",
      "4/4 - 0s - loss: 0.0721 - acc: 0.9821 - mse: 0.0105 - val_loss: 0.2417 - val_acc: 0.8684 - val_mse: 0.0547\n",
      "Epoch 124/150\n",
      "4/4 - 0s - loss: 0.0879 - acc: 0.9732 - mse: 0.0141 - val_loss: 0.2607 - val_acc: 0.8421 - val_mse: 0.0574\n",
      "Epoch 125/150\n",
      "4/4 - 0s - loss: 0.2461 - acc: 0.9018 - mse: 0.0478 - val_loss: 0.3001 - val_acc: 0.8684 - val_mse: 0.0629\n",
      "Epoch 126/150\n",
      "4/4 - 0s - loss: 0.0979 - acc: 0.9821 - mse: 0.0170 - val_loss: 0.2627 - val_acc: 0.8684 - val_mse: 0.0606\n",
      "Epoch 127/150\n",
      "4/4 - 0s - loss: 0.1237 - acc: 0.9464 - mse: 0.0239 - val_loss: 0.2424 - val_acc: 0.8684 - val_mse: 0.0557\n",
      "Epoch 128/150\n",
      "4/4 - 0s - loss: 0.3098 - acc: 0.8661 - mse: 0.0650 - val_loss: 0.1925 - val_acc: 0.9474 - val_mse: 0.0372\n",
      "Epoch 129/150\n",
      "4/4 - 0s - loss: 0.1843 - acc: 0.9286 - mse: 0.0360 - val_loss: 0.1822 - val_acc: 0.8684 - val_mse: 0.0383\n",
      "Epoch 130/150\n",
      "4/4 - 0s - loss: 0.1015 - acc: 0.9643 - mse: 0.0181 - val_loss: 0.1867 - val_acc: 0.8947 - val_mse: 0.0399\n",
      "Epoch 131/150\n",
      "4/4 - 0s - loss: 0.2349 - acc: 0.9107 - mse: 0.0462 - val_loss: 0.2098 - val_acc: 0.8947 - val_mse: 0.0461\n",
      "Epoch 132/150\n",
      "4/4 - 0s - loss: 0.1332 - acc: 0.9554 - mse: 0.0255 - val_loss: 0.2038 - val_acc: 0.8947 - val_mse: 0.0451\n",
      "Epoch 133/150\n",
      "4/4 - 0s - loss: 0.0965 - acc: 0.9732 - mse: 0.0167 - val_loss: 0.2040 - val_acc: 0.8684 - val_mse: 0.0451\n",
      "Epoch 134/150\n",
      "4/4 - 0s - loss: 0.0780 - acc: 0.9732 - mse: 0.0119 - val_loss: 0.2402 - val_acc: 0.8947 - val_mse: 0.0531\n",
      "Epoch 135/150\n",
      "4/4 - 0s - loss: 0.0976 - acc: 0.9643 - mse: 0.0161 - val_loss: 0.1911 - val_acc: 0.8947 - val_mse: 0.0415\n",
      "Epoch 136/150\n",
      "4/4 - 0s - loss: 0.0999 - acc: 0.9643 - mse: 0.0188 - val_loss: 0.2697 - val_acc: 0.8684 - val_mse: 0.0587\n",
      "Epoch 137/150\n",
      "4/4 - 0s - loss: 0.1103 - acc: 0.9464 - mse: 0.0204 - val_loss: 0.2357 - val_acc: 0.8684 - val_mse: 0.0530\n",
      "Epoch 138/150\n",
      "4/4 - 0s - loss: 0.0568 - acc: 0.9911 - mse: 0.0071 - val_loss: 0.2262 - val_acc: 0.8684 - val_mse: 0.0515\n",
      "Epoch 139/150\n",
      "4/4 - 0s - loss: 0.0608 - acc: 1.0000 - mse: 0.0073 - val_loss: 0.2134 - val_acc: 0.8947 - val_mse: 0.0481\n",
      "Epoch 140/150\n",
      "4/4 - 0s - loss: 0.0909 - acc: 0.9643 - mse: 0.0171 - val_loss: 0.2190 - val_acc: 0.8947 - val_mse: 0.0491\n",
      "Epoch 141/150\n",
      "4/4 - 0s - loss: 0.0797 - acc: 0.9821 - mse: 0.0131 - val_loss: 0.2360 - val_acc: 0.8684 - val_mse: 0.0521\n",
      "Epoch 142/150\n",
      "4/4 - 0s - loss: 0.1277 - acc: 0.9643 - mse: 0.0226 - val_loss: 0.2450 - val_acc: 0.8684 - val_mse: 0.0560\n",
      "Epoch 143/150\n",
      "4/4 - 0s - loss: 0.0800 - acc: 0.9643 - mse: 0.0141 - val_loss: 0.2227 - val_acc: 0.8947 - val_mse: 0.0512\n",
      "Epoch 144/150\n",
      "4/4 - 0s - loss: 0.1432 - acc: 0.9554 - mse: 0.0284 - val_loss: 0.2366 - val_acc: 0.8684 - val_mse: 0.0524\n",
      "Epoch 145/150\n",
      "4/4 - 0s - loss: 0.0723 - acc: 0.9732 - mse: 0.0113 - val_loss: 0.2400 - val_acc: 0.8684 - val_mse: 0.0528\n",
      "Epoch 146/150\n",
      "4/4 - 0s - loss: 0.0734 - acc: 0.9821 - mse: 0.0109 - val_loss: 0.2271 - val_acc: 0.8684 - val_mse: 0.0516\n",
      "Epoch 147/150\n",
      "4/4 - 0s - loss: 0.1593 - acc: 0.9375 - mse: 0.0330 - val_loss: 0.2322 - val_acc: 0.8684 - val_mse: 0.0513\n",
      "Epoch 148/150\n",
      "4/4 - 0s - loss: 0.0967 - acc: 0.9821 - mse: 0.0159 - val_loss: 0.2089 - val_acc: 0.8684 - val_mse: 0.0473\n",
      "Epoch 149/150\n",
      "4/4 - 0s - loss: 0.0775 - acc: 0.9643 - mse: 0.0135 - val_loss: 0.2216 - val_acc: 0.8684 - val_mse: 0.0500\n",
      "Epoch 150/150\n",
      "4/4 - 0s - loss: 0.0545 - acc: 1.0000 - mse: 0.0062 - val_loss: 0.2346 - val_acc: 0.8684 - val_mse: 0.0524\n"
     ]
    }
   ],
   "source": [
    "\n",
    "# The main idea behind batch normalization is that we normalize the input layer by using several techniques (sklearn.preprocessing.StandardScaler) in our case, which improves the model performance, so if the input layer is benefitted by normalization, why not normalize the hidden layers, which will improve and fasten learning even further.\n",
    "\n",
    "# To add it in your TensorFlow model, just add tf.keras.layers.BatchNormalization() after your layers.\n",
    "\n",
    "#Create model9, having same layers as the first model, but this time add a BatchNormalization layer after the first or second dense layer\n",
    "\n",
    "#SOLUTION:\n",
    "model8 = Sequential([\n",
    "    Dense(512, activation='tanh', input_shape = X_train[0].shape),\n",
    "    tf.keras.layers.BatchNormalization(),\n",
    "    Dense(512//2, activation='tanh'),\n",
    "    Dense(512//4, activation='tanh'),\n",
    "    Dense(512//8, activation='tanh'),\n",
    "    Dense(32, activation='relu'),\n",
    "    Dense(3, activation='softmax')\n",
    "])\n",
    "model8.compile(optimizer='sgd',loss='categorical_crossentropy', metrics=['acc', 'mse'])\n",
    "hist8 = model8.fit(X_train, y_train, epochs=150,  validation_data=(X_test,y_test), verbose=2)\n",
    "\n",
    " \n"
   ]
  },
  {
   "cell_type": "code",
   "execution_count": null,
   "metadata": {
    "colab": {
     "base_uri": "https://localhost:8080/"
    },
    "executionInfo": {
     "elapsed": 396,
     "status": "ok",
     "timestamp": 1635757409953,
     "user": {
      "displayName": "Amay Gada",
      "photoUrl": "https://lh3.googleusercontent.com/a-/AOh14GhIegWflm0DVHy8h-sj9l7nvh_87WZPEby6oqxqjw=s64",
      "userId": "18318224108445437394"
     },
     "user_tz": -330
    },
    "id": "f0oDB8e1sV8v",
    "outputId": "986957b4-2bd8-4c42-e567-92e2170395e5"
   },
   "outputs": [
    {
     "name": "stdout",
     "output_type": "stream",
     "text": [
      "2/2 [==============================] - 0s 5ms/step - loss: 0.2346 - acc: 0.8684 - mse: 0.0524\n",
      "Loss is 0.234638974070549,\n",
      "Accuracy is 86.84210777282715,\n",
      "MSE is 0.05242174118757248\n"
     ]
    }
   ],
   "source": [
    "#just how we used evaluate() in the basic model previously, use it again to find the loss, accuracy and MSE on the test set\n",
    "\n",
    "#SOLUTION:\n",
    "loss8, acc8, mse8 = model8.evaluate(X_test, y_test)\n",
    "print(f\"Loss is {loss8},\\nAccuracy is {acc8 * 100},\\nMSE is {mse8}\")\n"
   ]
  },
  {
   "cell_type": "code",
   "execution_count": null,
   "metadata": {
    "colab": {
     "base_uri": "https://localhost:8080/",
     "height": 581
    },
    "executionInfo": {
     "elapsed": 1192,
     "status": "ok",
     "timestamp": 1635757412013,
     "user": {
      "displayName": "Amay Gada",
      "photoUrl": "https://lh3.googleusercontent.com/a-/AOh14GhIegWflm0DVHy8h-sj9l7nvh_87WZPEby6oqxqjw=s64",
      "userId": "18318224108445437394"
     },
     "user_tz": -330
    },
    "id": "mTMjWYpFsV8v",
    "outputId": "43779295-13fa-450f-e9f0-4c16479eddc4"
   },
   "outputs": [
    {
     "data": {
      "image/png": "[encoded data removed]",
      "text/plain": [
       "<Figure size 432x288 with 1 Axes>"
      ]
     },
     "metadata": {},
     "output_type": "display_data"
    },
    {
     "data": {
      "image/png": "[encoded data removed]",
      "text/plain": [
       "<Figure size 432x288 with 1 Axes>"
      ]
     },
     "metadata": {},
     "output_type": "display_data"
    }
   ],
   "source": [
    "# Plot the train loss vs validation loss and train accuracy vs validation accuracy graphs just like we did before\n",
    "\n",
    "#SOLUTION:\n",
    "plt.plot(hist8.history['loss'], label = 'loss')\n",
    "plt.plot(hist8.history['val_loss'], label='val loss')\n",
    "plt.title(\"Loss vs Val_Loss\")\n",
    "plt.xlabel(\"Epochs\")\n",
    "plt.ylabel(\"Loss\")\n",
    "plt.legend()\n",
    "plt.show()\n",
    "\n",
    "\n",
    "plt.plot(hist8.history['acc'], label = 'ACC')\n",
    "plt.plot(hist8.history['val_acc'], label='val acc')\n",
    "plt.title(\"acc vs Val_acc\")\n",
    "plt.xlabel(\"Epochs\")\n",
    "plt.ylabel(\"acc\")\n",
    "plt.legend()\n",
    "plt.show()"
   ]
  },
  {
   "cell_type": "code",
   "execution_count": null,
   "metadata": {
    "colab": {
     "base_uri": "https://localhost:8080/"
    },
    "executionInfo": {
     "elapsed": 12329,
     "status": "ok",
     "timestamp": 1635757426516,
     "user": {
      "displayName": "Amay Gada",
      "photoUrl": "https://lh3.googleusercontent.com/a-/AOh14GhIegWflm0DVHy8h-sj9l7nvh_87WZPEby6oqxqjw=s64",
      "userId": "18318224108445437394"
     },
     "user_tz": -330
    },
    "id": "1kMAYU4fsV8v",
    "outputId": "7b8fbbdc-21f7-4354-d9f8-1615441eb8c7"
   },
   "outputs": [
    {
     "name": "stdout",
     "output_type": "stream",
     "text": [
      "Epoch 1/150\n",
      "4/4 - 2s - loss: 1.0963 - acc: 0.5089 - mse: 0.2037 - val_loss: 0.9751 - val_acc: 0.6842 - val_mse: 0.1932\n",
      "Epoch 2/150\n",
      "4/4 - 0s - loss: 0.3441 - acc: 0.8750 - mse: 0.0615 - val_loss: 0.9376 - val_acc: 0.7895 - val_mse: 0.1846\n",
      "Epoch 3/150\n",
      "4/4 - 0s - loss: 0.3049 - acc: 0.8929 - mse: 0.0561 - val_loss: 0.9016 - val_acc: 0.7895 - val_mse: 0.1761\n",
      "Epoch 4/150\n",
      "4/4 - 0s - loss: 0.2672 - acc: 0.9196 - mse: 0.0464 - val_loss: 0.8990 - val_acc: 0.7895 - val_mse: 0.1760\n",
      "Epoch 5/150\n",
      "4/4 - 0s - loss: 0.2414 - acc: 0.9286 - mse: 0.0403 - val_loss: 0.8965 - val_acc: 0.8684 - val_mse: 0.1754\n",
      "Epoch 6/150\n",
      "4/4 - 0s - loss: 0.2229 - acc: 0.9107 - mse: 0.0394 - val_loss: 0.8792 - val_acc: 0.8421 - val_mse: 0.1716\n",
      "Epoch 7/150\n",
      "4/4 - 0s - loss: 0.1707 - acc: 0.9464 - mse: 0.0278 - val_loss: 0.8750 - val_acc: 0.8684 - val_mse: 0.1710\n",
      "Epoch 8/150\n",
      "4/4 - 0s - loss: 0.1951 - acc: 0.9554 - mse: 0.0305 - val_loss: 0.8985 - val_acc: 0.8158 - val_mse: 0.1765\n",
      "Epoch 9/150\n",
      "4/4 - 0s - loss: 0.2942 - acc: 0.9196 - mse: 0.0524 - val_loss: 0.8719 - val_acc: 0.8158 - val_mse: 0.1707\n",
      "Epoch 10/150\n",
      "4/4 - 0s - loss: 0.2074 - acc: 0.9286 - mse: 0.0354 - val_loss: 0.8559 - val_acc: 0.7368 - val_mse: 0.1669\n",
      "Epoch 11/150\n",
      "4/4 - 0s - loss: 0.2947 - acc: 0.9107 - mse: 0.0529 - val_loss: 0.8945 - val_acc: 0.8158 - val_mse: 0.1751\n",
      "Epoch 12/150\n",
      "4/4 - 0s - loss: 0.1593 - acc: 0.9732 - mse: 0.0221 - val_loss: 0.8552 - val_acc: 0.8158 - val_mse: 0.1661\n",
      "Epoch 13/150\n",
      "4/4 - 0s - loss: 0.1299 - acc: 0.9732 - mse: 0.0188 - val_loss: 0.8470 - val_acc: 0.8158 - val_mse: 0.1644\n",
      "Epoch 14/150\n",
      "4/4 - 0s - loss: 0.0920 - acc: 0.9821 - mse: 0.0119 - val_loss: 0.8225 - val_acc: 0.8158 - val_mse: 0.1585\n",
      "Epoch 15/150\n",
      "4/4 - 0s - loss: 0.1275 - acc: 0.9554 - mse: 0.0214 - val_loss: 0.8255 - val_acc: 0.7368 - val_mse: 0.1587\n",
      "Epoch 16/150\n",
      "4/4 - 0s - loss: 0.0980 - acc: 0.9821 - mse: 0.0134 - val_loss: 0.8087 - val_acc: 0.7368 - val_mse: 0.1557\n",
      "Epoch 17/150\n",
      "4/4 - 0s - loss: 0.1159 - acc: 0.9732 - mse: 0.0168 - val_loss: 0.7704 - val_acc: 0.8158 - val_mse: 0.1465\n",
      "Epoch 18/150\n",
      "4/4 - 0s - loss: 0.1339 - acc: 0.9732 - mse: 0.0201 - val_loss: 0.7678 - val_acc: 0.8158 - val_mse: 0.1460\n",
      "Epoch 19/150\n",
      "4/4 - 0s - loss: 0.1388 - acc: 0.9554 - mse: 0.0235 - val_loss: 0.7440 - val_acc: 0.7368 - val_mse: 0.1401\n",
      "Epoch 20/150\n",
      "4/4 - 0s - loss: 0.3121 - acc: 0.8661 - mse: 0.0636 - val_loss: 0.7308 - val_acc: 0.8158 - val_mse: 0.1372\n",
      "Epoch 21/150\n",
      "4/4 - 0s - loss: 0.0803 - acc: 0.9911 - mse: 0.0098 - val_loss: 0.7460 - val_acc: 0.8158 - val_mse: 0.1412\n",
      "Epoch 22/150\n",
      "4/4 - 0s - loss: 0.0890 - acc: 1.0000 - mse: 0.0103 - val_loss: 0.7458 - val_acc: 0.8158 - val_mse: 0.1412\n",
      "Epoch 23/150\n",
      "4/4 - 0s - loss: 0.1887 - acc: 0.9464 - mse: 0.0345 - val_loss: 0.7379 - val_acc: 0.7368 - val_mse: 0.1403\n",
      "Epoch 24/150\n",
      "4/4 - 0s - loss: 0.2118 - acc: 0.9196 - mse: 0.0399 - val_loss: 0.7846 - val_acc: 0.7368 - val_mse: 0.1503\n",
      "Epoch 25/150\n",
      "4/4 - 0s - loss: 0.1299 - acc: 0.9732 - mse: 0.0194 - val_loss: 0.7595 - val_acc: 0.7368 - val_mse: 0.1444\n",
      "Epoch 26/150\n",
      "4/4 - 0s - loss: 0.1314 - acc: 0.9732 - mse: 0.0224 - val_loss: 0.8034 - val_acc: 0.7368 - val_mse: 0.1542\n",
      "Epoch 27/150\n",
      "4/4 - 0s - loss: 0.0899 - acc: 0.9821 - mse: 0.0124 - val_loss: 0.8156 - val_acc: 0.7368 - val_mse: 0.1550\n",
      "Epoch 28/150\n",
      "4/4 - 0s - loss: 0.0859 - acc: 0.9643 - mse: 0.0135 - val_loss: 0.8211 - val_acc: 0.7368 - val_mse: 0.1564\n",
      "Epoch 29/150\n",
      "4/4 - 0s - loss: 0.1635 - acc: 0.9375 - mse: 0.0305 - val_loss: 0.7943 - val_acc: 0.7368 - val_mse: 0.1522\n",
      "Epoch 30/150\n",
      "4/4 - 0s - loss: 0.1001 - acc: 0.9643 - mse: 0.0166 - val_loss: 0.7508 - val_acc: 0.7368 - val_mse: 0.1411\n",
      "Epoch 31/150\n",
      "4/4 - 0s - loss: 0.0627 - acc: 0.9911 - mse: 0.0069 - val_loss: 0.7495 - val_acc: 0.7368 - val_mse: 0.1407\n",
      "Epoch 32/150\n",
      "4/4 - 0s - loss: 0.1092 - acc: 0.9554 - mse: 0.0191 - val_loss: 0.7754 - val_acc: 0.7368 - val_mse: 0.1491\n",
      "Epoch 33/150\n",
      "4/4 - 0s - loss: 0.0723 - acc: 0.9732 - mse: 0.0102 - val_loss: 0.7507 - val_acc: 0.7368 - val_mse: 0.1437\n",
      "Epoch 34/150\n",
      "4/4 - 0s - loss: 0.2441 - acc: 0.9286 - mse: 0.0440 - val_loss: 0.9538 - val_acc: 0.4737 - val_mse: 0.1986\n",
      "Epoch 35/150\n",
      "4/4 - 0s - loss: 0.2747 - acc: 0.8929 - mse: 0.0513 - val_loss: 0.6082 - val_acc: 0.7632 - val_mse: 0.1137\n",
      "Epoch 36/150\n",
      "4/4 - 0s - loss: 0.2022 - acc: 0.9107 - mse: 0.0376 - val_loss: 0.6323 - val_acc: 0.7895 - val_mse: 0.1174\n",
      "Epoch 37/150\n",
      "4/4 - 0s - loss: 0.1005 - acc: 0.9821 - mse: 0.0150 - val_loss: 0.6243 - val_acc: 0.7895 - val_mse: 0.1162\n",
      "Epoch 38/150\n",
      "4/4 - 0s - loss: 0.1135 - acc: 0.9732 - mse: 0.0179 - val_loss: 0.6184 - val_acc: 0.7895 - val_mse: 0.1128\n",
      "Epoch 39/150\n",
      "4/4 - 0s - loss: 0.0732 - acc: 0.9911 - mse: 0.0078 - val_loss: 0.6163 - val_acc: 0.7895 - val_mse: 0.1119\n",
      "Epoch 40/150\n",
      "4/4 - 0s - loss: 0.1099 - acc: 0.9732 - mse: 0.0195 - val_loss: 0.5989 - val_acc: 0.7368 - val_mse: 0.1127\n",
      "Epoch 41/150\n",
      "4/4 - 0s - loss: 0.0921 - acc: 0.9821 - mse: 0.0122 - val_loss: 0.6000 - val_acc: 0.7895 - val_mse: 0.1111\n",
      "Epoch 42/150\n",
      "4/4 - 0s - loss: 0.0703 - acc: 0.9821 - mse: 0.0108 - val_loss: 0.5957 - val_acc: 0.7632 - val_mse: 0.1112\n",
      "Epoch 43/150\n",
      "4/4 - 0s - loss: 0.1235 - acc: 0.9375 - mse: 0.0236 - val_loss: 0.6043 - val_acc: 0.7368 - val_mse: 0.1129\n",
      "Epoch 44/150\n",
      "4/4 - 0s - loss: 0.0764 - acc: 0.9821 - mse: 0.0115 - val_loss: 0.6151 - val_acc: 0.7632 - val_mse: 0.1135\n",
      "Epoch 45/150\n",
      "4/4 - 0s - loss: 0.3056 - acc: 0.8929 - mse: 0.0561 - val_loss: 0.7511 - val_acc: 0.7368 - val_mse: 0.1364\n",
      "Epoch 46/150\n",
      "4/4 - 0s - loss: 0.1088 - acc: 0.9911 - mse: 0.0144 - val_loss: 0.6654 - val_acc: 0.7368 - val_mse: 0.1224\n",
      "Epoch 47/150\n",
      "4/4 - 0s - loss: 0.0668 - acc: 0.9911 - mse: 0.0074 - val_loss: 0.6799 - val_acc: 0.7368 - val_mse: 0.1232\n",
      "Epoch 48/150\n",
      "4/4 - 0s - loss: 0.0745 - acc: 0.9732 - mse: 0.0111 - val_loss: 0.7198 - val_acc: 0.7368 - val_mse: 0.1343\n",
      "Epoch 49/150\n",
      "4/4 - 0s - loss: 0.0958 - acc: 0.9821 - mse: 0.0140 - val_loss: 0.8123 - val_acc: 0.7368 - val_mse: 0.1444\n",
      "Epoch 50/150\n",
      "4/4 - 0s - loss: 0.1124 - acc: 0.9464 - mse: 0.0197 - val_loss: 0.7926 - val_acc: 0.7368 - val_mse: 0.1423\n",
      "Epoch 51/150\n",
      "4/4 - 0s - loss: 0.1135 - acc: 0.9464 - mse: 0.0210 - val_loss: 0.7313 - val_acc: 0.7632 - val_mse: 0.1272\n",
      "Epoch 52/150\n",
      "4/4 - 0s - loss: 0.0784 - acc: 0.9821 - mse: 0.0115 - val_loss: 0.7330 - val_acc: 0.7368 - val_mse: 0.1313\n",
      "Epoch 53/150\n",
      "4/4 - 0s - loss: 0.0563 - acc: 0.9911 - mse: 0.0067 - val_loss: 0.6993 - val_acc: 0.7632 - val_mse: 0.1228\n",
      "Epoch 54/150\n",
      "4/4 - 0s - loss: 0.0850 - acc: 0.9911 - mse: 0.0126 - val_loss: 0.6704 - val_acc: 0.7368 - val_mse: 0.1241\n",
      "Epoch 55/150\n",
      "4/4 - 0s - loss: 0.0821 - acc: 0.9732 - mse: 0.0138 - val_loss: 0.6456 - val_acc: 0.7632 - val_mse: 0.1146\n",
      "Epoch 56/150\n",
      "4/4 - 0s - loss: 0.1026 - acc: 0.9554 - mse: 0.0181 - val_loss: 0.6606 - val_acc: 0.7895 - val_mse: 0.1155\n",
      "Epoch 57/150\n",
      "4/4 - 0s - loss: 0.1133 - acc: 0.9732 - mse: 0.0168 - val_loss: 0.6053 - val_acc: 0.7368 - val_mse: 0.1134\n",
      "Epoch 58/150\n",
      "4/4 - 0s - loss: 0.0449 - acc: 0.9911 - mse: 0.0044 - val_loss: 0.6077 - val_acc: 0.7632 - val_mse: 0.1105\n",
      "Epoch 59/150\n",
      "4/4 - 0s - loss: 0.0747 - acc: 0.9732 - mse: 0.0116 - val_loss: 0.5647 - val_acc: 0.8158 - val_mse: 0.0951\n",
      "Epoch 60/150\n",
      "4/4 - 0s - loss: 0.0861 - acc: 0.9732 - mse: 0.0134 - val_loss: 0.5474 - val_acc: 0.8158 - val_mse: 0.0995\n",
      "Epoch 61/150\n",
      "4/4 - 0s - loss: 0.0566 - acc: 0.9821 - mse: 0.0075 - val_loss: 0.6143 - val_acc: 0.7895 - val_mse: 0.1131\n",
      "Epoch 62/150\n",
      "4/4 - 0s - loss: 0.0497 - acc: 0.9911 - mse: 0.0061 - val_loss: 0.5904 - val_acc: 0.7895 - val_mse: 0.1071\n",
      "Epoch 63/150\n",
      "4/4 - 0s - loss: 0.2153 - acc: 0.9107 - mse: 0.0401 - val_loss: 0.7950 - val_acc: 0.6316 - val_mse: 0.1617\n",
      "Epoch 64/150\n",
      "4/4 - 0s - loss: 0.0723 - acc: 0.9821 - mse: 0.0100 - val_loss: 0.6969 - val_acc: 0.7895 - val_mse: 0.1339\n",
      "Epoch 65/150\n",
      "4/4 - 0s - loss: 0.0504 - acc: 0.9821 - mse: 0.0058 - val_loss: 0.6520 - val_acc: 0.7895 - val_mse: 0.1228\n",
      "Epoch 66/150\n",
      "4/4 - 0s - loss: 0.0553 - acc: 0.9821 - mse: 0.0072 - val_loss: 0.5904 - val_acc: 0.8158 - val_mse: 0.1099\n",
      "Epoch 67/150\n",
      "4/4 - 0s - loss: 0.0486 - acc: 0.9911 - mse: 0.0058 - val_loss: 0.5948 - val_acc: 0.7632 - val_mse: 0.1130\n",
      "Epoch 68/150\n",
      "4/4 - 0s - loss: 0.0747 - acc: 0.9821 - mse: 0.0107 - val_loss: 0.5322 - val_acc: 0.8684 - val_mse: 0.0873\n",
      "Epoch 69/150\n",
      "4/4 - 0s - loss: 0.3104 - acc: 0.8750 - mse: 0.0613 - val_loss: 0.6313 - val_acc: 0.8158 - val_mse: 0.1142\n",
      "Epoch 70/150\n",
      "4/4 - 0s - loss: 0.0811 - acc: 0.9821 - mse: 0.0120 - val_loss: 0.5702 - val_acc: 0.8158 - val_mse: 0.1062\n",
      "Epoch 71/150\n",
      "4/4 - 0s - loss: 0.0475 - acc: 1.0000 - mse: 0.0038 - val_loss: 0.5950 - val_acc: 0.8158 - val_mse: 0.1094\n",
      "Epoch 72/150\n",
      "4/4 - 0s - loss: 0.0829 - acc: 0.9911 - mse: 0.0129 - val_loss: 0.6340 - val_acc: 0.7895 - val_mse: 0.1165\n",
      "Epoch 73/150\n",
      "4/4 - 0s - loss: 0.0632 - acc: 0.9911 - mse: 0.0081 - val_loss: 0.5978 - val_acc: 0.8421 - val_mse: 0.1041\n",
      "Epoch 74/150\n",
      "4/4 - 0s - loss: 0.0616 - acc: 0.9821 - mse: 0.0091 - val_loss: 0.5905 - val_acc: 0.8158 - val_mse: 0.0961\n",
      "Epoch 75/150\n",
      "4/4 - 0s - loss: 0.2018 - acc: 0.9286 - mse: 0.0407 - val_loss: 0.6185 - val_acc: 0.7895 - val_mse: 0.1135\n",
      "Epoch 76/150\n",
      "4/4 - 0s - loss: 0.0551 - acc: 0.9911 - mse: 0.0058 - val_loss: 0.4402 - val_acc: 0.8684 - val_mse: 0.0786\n",
      "Epoch 77/150\n",
      "4/4 - 0s - loss: 0.2144 - acc: 0.9107 - mse: 0.0409 - val_loss: 0.3956 - val_acc: 0.8158 - val_mse: 0.0841\n",
      "Epoch 78/150\n",
      "4/4 - 0s - loss: 0.0716 - acc: 0.9911 - mse: 0.0107 - val_loss: 0.3724 - val_acc: 0.8421 - val_mse: 0.0782\n",
      "Epoch 79/150\n",
      "4/4 - 0s - loss: 0.0618 - acc: 0.9911 - mse: 0.0080 - val_loss: 0.3558 - val_acc: 0.8421 - val_mse: 0.0727\n",
      "Epoch 80/150\n",
      "4/4 - 0s - loss: 0.1036 - acc: 0.9732 - mse: 0.0172 - val_loss: 0.3079 - val_acc: 0.8684 - val_mse: 0.0644\n",
      "Epoch 81/150\n",
      "4/4 - 0s - loss: 0.0481 - acc: 1.0000 - mse: 0.0059 - val_loss: 0.3006 - val_acc: 0.8684 - val_mse: 0.0632\n",
      "Epoch 82/150\n",
      "4/4 - 0s - loss: 0.1373 - acc: 0.9554 - mse: 0.0214 - val_loss: 0.3419 - val_acc: 0.8684 - val_mse: 0.0680\n",
      "Epoch 83/150\n",
      "4/4 - 0s - loss: 0.1135 - acc: 0.9554 - mse: 0.0202 - val_loss: 0.3698 - val_acc: 0.8684 - val_mse: 0.0765\n",
      "Epoch 84/150\n",
      "4/4 - 0s - loss: 0.0672 - acc: 0.9821 - mse: 0.0099 - val_loss: 0.4576 - val_acc: 0.7632 - val_mse: 0.0971\n",
      "Epoch 85/150\n",
      "4/4 - 0s - loss: 0.0685 - acc: 0.9732 - mse: 0.0099 - val_loss: 0.4449 - val_acc: 0.7632 - val_mse: 0.0912\n",
      "Epoch 86/150\n",
      "4/4 - 0s - loss: 0.0746 - acc: 0.9732 - mse: 0.0114 - val_loss: 0.4306 - val_acc: 0.8421 - val_mse: 0.0853\n",
      "Epoch 87/150\n",
      "4/4 - 0s - loss: 0.0546 - acc: 0.9911 - mse: 0.0066 - val_loss: 0.3081 - val_acc: 0.8684 - val_mse: 0.0655\n",
      "Epoch 88/150\n",
      "4/4 - 0s - loss: 0.0709 - acc: 0.9732 - mse: 0.0110 - val_loss: 0.3621 - val_acc: 0.8421 - val_mse: 0.0759\n",
      "Epoch 89/150\n",
      "4/4 - 0s - loss: 0.0374 - acc: 1.0000 - mse: 0.0040 - val_loss: 0.3547 - val_acc: 0.8421 - val_mse: 0.0765\n",
      "Epoch 90/150\n",
      "4/4 - 0s - loss: 0.0394 - acc: 0.9911 - mse: 0.0044 - val_loss: 0.3877 - val_acc: 0.8158 - val_mse: 0.0853\n",
      "Epoch 91/150\n",
      "4/4 - 0s - loss: 0.0513 - acc: 0.9821 - mse: 0.0068 - val_loss: 0.4222 - val_acc: 0.8421 - val_mse: 0.0800\n",
      "Epoch 92/150\n",
      "4/4 - 0s - loss: 0.0318 - acc: 1.0000 - mse: 0.0023 - val_loss: 0.3805 - val_acc: 0.8421 - val_mse: 0.0800\n",
      "Epoch 93/150\n",
      "4/4 - 0s - loss: 0.0355 - acc: 1.0000 - mse: 0.0031 - val_loss: 0.4478 - val_acc: 0.8684 - val_mse: 0.0800\n",
      "Epoch 94/150\n",
      "4/4 - 0s - loss: 0.0401 - acc: 1.0000 - mse: 0.0037 - val_loss: 0.4215 - val_acc: 0.8421 - val_mse: 0.0834\n",
      "Epoch 95/150\n",
      "4/4 - 0s - loss: 0.0408 - acc: 0.9911 - mse: 0.0047 - val_loss: 0.4459 - val_acc: 0.8421 - val_mse: 0.0888\n",
      "Epoch 96/150\n",
      "4/4 - 0s - loss: 0.0282 - acc: 1.0000 - mse: 0.0019 - val_loss: 0.4105 - val_acc: 0.8421 - val_mse: 0.0814\n",
      "Epoch 97/150\n",
      "4/4 - 0s - loss: 0.0338 - acc: 1.0000 - mse: 0.0027 - val_loss: 0.3750 - val_acc: 0.8421 - val_mse: 0.0774\n",
      "Epoch 98/150\n",
      "4/4 - 0s - loss: 0.0349 - acc: 1.0000 - mse: 0.0036 - val_loss: 0.3809 - val_acc: 0.8684 - val_mse: 0.0696\n",
      "Epoch 99/150\n",
      "4/4 - 0s - loss: 0.0209 - acc: 1.0000 - mse: 0.0013 - val_loss: 0.3746 - val_acc: 0.8684 - val_mse: 0.0713\n",
      "Epoch 100/150\n",
      "4/4 - 0s - loss: 0.0362 - acc: 0.9911 - mse: 0.0047 - val_loss: 0.4691 - val_acc: 0.8158 - val_mse: 0.0916\n",
      "Epoch 101/150\n",
      "4/4 - 0s - loss: 0.0708 - acc: 0.9821 - mse: 0.0123 - val_loss: 0.4259 - val_acc: 0.8158 - val_mse: 0.0867\n",
      "Epoch 102/150\n",
      "4/4 - 0s - loss: 0.0490 - acc: 0.9911 - mse: 0.0057 - val_loss: 0.3654 - val_acc: 0.8684 - val_mse: 0.0667\n",
      "Epoch 103/150\n",
      "4/4 - 0s - loss: 0.0381 - acc: 1.0000 - mse: 0.0039 - val_loss: 0.3938 - val_acc: 0.8684 - val_mse: 0.0728\n",
      "Epoch 104/150\n",
      "4/4 - 0s - loss: 0.0664 - acc: 0.9643 - mse: 0.0117 - val_loss: 0.3415 - val_acc: 0.8684 - val_mse: 0.0682\n",
      "Epoch 105/150\n",
      "4/4 - 0s - loss: 0.1004 - acc: 0.9732 - mse: 0.0187 - val_loss: 0.4292 - val_acc: 0.8158 - val_mse: 0.0779\n",
      "Epoch 106/150\n",
      "4/4 - 0s - loss: 0.1419 - acc: 0.9554 - mse: 0.0258 - val_loss: 0.3798 - val_acc: 0.8684 - val_mse: 0.0675\n",
      "Epoch 107/150\n",
      "4/4 - 0s - loss: 0.1374 - acc: 0.9375 - mse: 0.0268 - val_loss: 0.1617 - val_acc: 0.9474 - val_mse: 0.0311\n",
      "Epoch 108/150\n",
      "4/4 - 0s - loss: 0.0620 - acc: 0.9821 - mse: 0.0100 - val_loss: 0.2063 - val_acc: 0.8947 - val_mse: 0.0454\n",
      "Epoch 109/150\n",
      "4/4 - 0s - loss: 0.0647 - acc: 0.9732 - mse: 0.0118 - val_loss: 0.1498 - val_acc: 0.9474 - val_mse: 0.0275\n",
      "Epoch 110/150\n",
      "4/4 - 0s - loss: 0.0548 - acc: 0.9821 - mse: 0.0076 - val_loss: 0.1603 - val_acc: 0.9211 - val_mse: 0.0338\n",
      "Epoch 111/150\n",
      "4/4 - 0s - loss: 0.0627 - acc: 0.9911 - mse: 0.0096 - val_loss: 0.2787 - val_acc: 0.8947 - val_mse: 0.0506\n",
      "Epoch 112/150\n",
      "4/4 - 0s - loss: 0.1301 - acc: 0.9554 - mse: 0.0226 - val_loss: 0.2826 - val_acc: 0.8947 - val_mse: 0.0570\n",
      "Epoch 113/150\n",
      "4/4 - 0s - loss: 0.0903 - acc: 0.9554 - mse: 0.0172 - val_loss: 0.2137 - val_acc: 0.9474 - val_mse: 0.0397\n",
      "Epoch 114/150\n",
      "4/4 - 0s - loss: 0.1223 - acc: 0.9732 - mse: 0.0204 - val_loss: 0.2163 - val_acc: 0.9211 - val_mse: 0.0432\n",
      "Epoch 115/150\n",
      "4/4 - 0s - loss: 0.0749 - acc: 0.9643 - mse: 0.0127 - val_loss: 0.1969 - val_acc: 0.9474 - val_mse: 0.0389\n",
      "Epoch 116/150\n",
      "4/4 - 0s - loss: 0.1030 - acc: 0.9643 - mse: 0.0191 - val_loss: 0.1992 - val_acc: 0.9211 - val_mse: 0.0415\n",
      "Epoch 117/150\n",
      "4/4 - 0s - loss: 0.0947 - acc: 0.9554 - mse: 0.0176 - val_loss: 0.2274 - val_acc: 0.9211 - val_mse: 0.0467\n",
      "Epoch 118/150\n",
      "4/4 - 0s - loss: 0.0646 - acc: 0.9821 - mse: 0.0108 - val_loss: 0.2674 - val_acc: 0.8947 - val_mse: 0.0495\n",
      "Epoch 119/150\n",
      "4/4 - 0s - loss: 0.0410 - acc: 0.9821 - mse: 0.0058 - val_loss: 0.2266 - val_acc: 0.9474 - val_mse: 0.0422\n",
      "Epoch 120/150\n",
      "4/4 - 0s - loss: 0.0310 - acc: 1.0000 - mse: 0.0020 - val_loss: 0.2113 - val_acc: 0.9474 - val_mse: 0.0410\n",
      "Epoch 121/150\n",
      "4/4 - 0s - loss: 0.0388 - acc: 0.9911 - mse: 0.0052 - val_loss: 0.2283 - val_acc: 0.8947 - val_mse: 0.0449\n",
      "Epoch 122/150\n",
      "4/4 - 0s - loss: 0.0634 - acc: 0.9732 - mse: 0.0109 - val_loss: 0.1679 - val_acc: 0.9211 - val_mse: 0.0337\n",
      "Epoch 123/150\n",
      "4/4 - 0s - loss: 0.0677 - acc: 0.9911 - mse: 0.0102 - val_loss: 0.1721 - val_acc: 0.9211 - val_mse: 0.0358\n",
      "Epoch 124/150\n",
      "4/4 - 0s - loss: 0.0795 - acc: 0.9821 - mse: 0.0126 - val_loss: 0.1818 - val_acc: 0.9211 - val_mse: 0.0367\n",
      "Epoch 125/150\n",
      "4/4 - 0s - loss: 0.0348 - acc: 1.0000 - mse: 0.0038 - val_loss: 0.1796 - val_acc: 0.9474 - val_mse: 0.0349\n",
      "Epoch 126/150\n",
      "4/4 - 0s - loss: 0.0606 - acc: 0.9732 - mse: 0.0097 - val_loss: 0.2570 - val_acc: 0.9211 - val_mse: 0.0498\n",
      "Epoch 127/150\n",
      "4/4 - 0s - loss: 0.0474 - acc: 0.9911 - mse: 0.0064 - val_loss: 0.2349 - val_acc: 0.9211 - val_mse: 0.0466\n",
      "Epoch 128/150\n",
      "4/4 - 0s - loss: 0.0307 - acc: 0.9911 - mse: 0.0036 - val_loss: 0.1997 - val_acc: 0.9474 - val_mse: 0.0403\n",
      "Epoch 129/150\n",
      "4/4 - 0s - loss: 0.0487 - acc: 0.9821 - mse: 0.0076 - val_loss: 0.1952 - val_acc: 0.9474 - val_mse: 0.0394\n",
      "Epoch 130/150\n",
      "4/4 - 0s - loss: 0.0452 - acc: 0.9911 - mse: 0.0062 - val_loss: 0.2482 - val_acc: 0.8947 - val_mse: 0.0478\n",
      "Epoch 131/150\n",
      "4/4 - 0s - loss: 0.0759 - acc: 0.9821 - mse: 0.0102 - val_loss: 0.2240 - val_acc: 0.9474 - val_mse: 0.0421\n",
      "Epoch 132/150\n",
      "4/4 - 0s - loss: 0.0773 - acc: 0.9732 - mse: 0.0137 - val_loss: 0.3770 - val_acc: 0.8947 - val_mse: 0.0612\n",
      "Epoch 133/150\n",
      "4/4 - 0s - loss: 0.0633 - acc: 0.9911 - mse: 0.0106 - val_loss: 0.2842 - val_acc: 0.8947 - val_mse: 0.0568\n",
      "Epoch 134/150\n",
      "4/4 - 0s - loss: 0.0453 - acc: 1.0000 - mse: 0.0048 - val_loss: 0.2766 - val_acc: 0.9211 - val_mse: 0.0498\n",
      "Epoch 135/150\n",
      "4/4 - 0s - loss: 0.0828 - acc: 0.9732 - mse: 0.0135 - val_loss: 0.2020 - val_acc: 0.9474 - val_mse: 0.0385\n",
      "Epoch 136/150\n",
      "4/4 - 0s - loss: 0.1845 - acc: 0.9286 - mse: 0.0349 - val_loss: 0.1883 - val_acc: 0.9211 - val_mse: 0.0390\n",
      "Epoch 137/150\n",
      "4/4 - 0s - loss: 0.0439 - acc: 0.9911 - mse: 0.0056 - val_loss: 0.1525 - val_acc: 0.9474 - val_mse: 0.0306\n",
      "Epoch 138/150\n",
      "4/4 - 0s - loss: 0.2172 - acc: 0.9018 - mse: 0.0462 - val_loss: 0.2234 - val_acc: 0.8947 - val_mse: 0.0476\n",
      "Epoch 139/150\n",
      "4/4 - 0s - loss: 0.0402 - acc: 0.9911 - mse: 0.0052 - val_loss: 0.2112 - val_acc: 0.9211 - val_mse: 0.0439\n",
      "Epoch 140/150\n",
      "4/4 - 0s - loss: 0.0456 - acc: 0.9821 - mse: 0.0070 - val_loss: 0.2040 - val_acc: 0.8947 - val_mse: 0.0434\n",
      "Epoch 141/150\n",
      "4/4 - 0s - loss: 0.0505 - acc: 0.9732 - mse: 0.0075 - val_loss: 0.2320 - val_acc: 0.9211 - val_mse: 0.0465\n",
      "Epoch 142/150\n",
      "4/4 - 0s - loss: 0.0296 - acc: 1.0000 - mse: 0.0031 - val_loss: 0.2164 - val_acc: 0.9474 - val_mse: 0.0437\n",
      "Epoch 143/150\n",
      "4/4 - 0s - loss: 0.0869 - acc: 0.9732 - mse: 0.0144 - val_loss: 0.2250 - val_acc: 0.9474 - val_mse: 0.0433\n",
      "Epoch 144/150\n",
      "4/4 - 0s - loss: 0.0339 - acc: 0.9911 - mse: 0.0042 - val_loss: 0.2403 - val_acc: 0.9474 - val_mse: 0.0418\n",
      "Epoch 145/150\n",
      "4/4 - 0s - loss: 0.0401 - acc: 1.0000 - mse: 0.0041 - val_loss: 0.2330 - val_acc: 0.9474 - val_mse: 0.0411\n",
      "Epoch 146/150\n",
      "4/4 - 0s - loss: 0.0401 - acc: 0.9911 - mse: 0.0054 - val_loss: 0.2386 - val_acc: 0.9474 - val_mse: 0.0425\n",
      "Epoch 147/150\n",
      "4/4 - 0s - loss: 0.0241 - acc: 1.0000 - mse: 0.0016 - val_loss: 0.2121 - val_acc: 0.9474 - val_mse: 0.0387\n",
      "Epoch 148/150\n",
      "4/4 - 0s - loss: 0.0318 - acc: 0.9911 - mse: 0.0034 - val_loss: 0.1971 - val_acc: 0.9211 - val_mse: 0.0393\n",
      "Epoch 149/150\n",
      "4/4 - 0s - loss: 0.0264 - acc: 1.0000 - mse: 0.0022 - val_loss: 0.2023 - val_acc: 0.9474 - val_mse: 0.0381\n",
      "Epoch 150/150\n",
      "4/4 - 0s - loss: 0.0452 - acc: 0.9911 - mse: 0.0066 - val_loss: 0.1926 - val_acc: 0.9474 - val_mse: 0.0381\n"
     ]
    }
   ],
   "source": [
    "\n",
    "# Now create model10, having a BatchNormalization layer after each dense layer\n",
    "\n",
    "#SOLUTION:\n",
    "model9 = Sequential([\n",
    "    Dense(512, activation='tanh', input_shape = X_train[0].shape),\n",
    "    tf.keras.layers.BatchNormalization(),\n",
    "    Dense(512//2, activation='tanh'),\n",
    "    tf.keras.layers.BatchNormalization(),\n",
    "    Dense(512//4, activation='tanh'),\n",
    "    tf.keras.layers.BatchNormalization(),\n",
    "    Dense(512//8, activation='tanh'),\n",
    "    tf.keras.layers.BatchNormalization(),\n",
    "    Dense(32, activation='relu'),\n",
    "    tf.keras.layers.BatchNormalization(),\n",
    "    Dense(3, activation='softmax')\n",
    "])\n",
    "model9.compile(optimizer='sgd',loss='categorical_crossentropy', metrics=['acc', 'mse'])\n",
    "hist9 = model9.fit(X_train, y_train, epochs=150,  validation_data=(X_test,y_test), verbose=2)\n",
    "\n",
    " \n"
   ]
  },
  {
   "cell_type": "code",
   "execution_count": null,
   "metadata": {
    "colab": {
     "base_uri": "https://localhost:8080/"
    },
    "executionInfo": {
     "elapsed": 417,
     "status": "ok",
     "timestamp": 1635757451680,
     "user": {
      "displayName": "Amay Gada",
      "photoUrl": "https://lh3.googleusercontent.com/a-/AOh14GhIegWflm0DVHy8h-sj9l7nvh_87WZPEby6oqxqjw=s64",
      "userId": "18318224108445437394"
     },
     "user_tz": -330
    },
    "id": "u4Fh2BjusV8w",
    "outputId": "968b321b-4e18-4c1a-dcd4-13d38b9712f4"
   },
   "outputs": [
    {
     "name": "stdout",
     "output_type": "stream",
     "text": [
      "2/2 [==============================] - 0s 6ms/step - loss: 0.1926 - acc: 0.9474 - mse: 0.0381\n",
      "Loss is 0.19260577857494354,\n",
      "Accuracy is 94.73684430122375,\n",
      "MSEis 0.03808562457561493\n"
     ]
    }
   ],
   "source": [
    "#just how we used evaluate() in the basic model previously, use it again to find the loss, accuracy and MSE on the test set\n",
    "\n",
    "#SOLUTION:\n",
    "loss9, acc9, mse9 = model9.evaluate(X_test, y_test)\n",
    "print(f\"Loss is {loss9},\\nAccuracy is {acc9 * 100},\\nMSEis {mse9}\")\n",
    " \n",
    "\n",
    " "
   ]
  },
  {
   "cell_type": "code",
   "execution_count": null,
   "metadata": {
    "colab": {
     "base_uri": "https://localhost:8080/",
     "height": 581
    },
    "executionInfo": {
     "elapsed": 660,
     "status": "ok",
     "timestamp": 1635757454279,
     "user": {
      "displayName": "Amay Gada",
      "photoUrl": "https://lh3.googleusercontent.com/a-/AOh14GhIegWflm0DVHy8h-sj9l7nvh_87WZPEby6oqxqjw=s64",
      "userId": "18318224108445437394"
     },
     "user_tz": -330
    },
    "id": "KBwAjbfesV8w",
    "outputId": "2934f4a8-cdb1-41da-c0f2-99c07592bbe3"
   },
   "outputs": [
    {
     "data": {
      "image/png": "[encoded data removed]",
      "text/plain": [
       "<Figure size 432x288 with 1 Axes>"
      ]
     },
     "metadata": {},
     "output_type": "display_data"
    },
    {
     "data": {
      "image/png": "[encoded data removed]",
      "text/plain": [
       "<Figure size 432x288 with 1 Axes>"
      ]
     },
     "metadata": {},
     "output_type": "display_data"
    }
   ],
   "source": [
    "# Plot the train loss vs validation loss and train accuracy vs validation accuracy graphs just like we did before\n",
    "\n",
    "\n",
    "plt.plot(hist9.history['loss'], label = 'loss')\n",
    "plt.plot(hist9.history['val_loss'], label='val loss')\n",
    "plt.title(\"Loss vs Val_Loss\")\n",
    "plt.xlabel(\"Epochs\")\n",
    "plt.ylabel(\"Loss\")\n",
    "plt.legend()\n",
    "plt.show()\n",
    "\n",
    "plt.plot(hist9.history['acc'], label = 'ACC')\n",
    "plt.plot(hist9.history['val_acc'], label='val acc')\n",
    "plt.title(\"acc vs Val_acc\")\n",
    "plt.xlabel(\"Epochs\")\n",
    "plt.ylabel(\"acc\")\n",
    "plt.legend()\n",
    "plt.show()"
   ]
  },
  {
   "cell_type": "markdown",
   "metadata": {
    "id": "sUTWfZBEsV8x"
   },
   "source": [
    "#After completing the above tasks, note down what you've understood and observed in each of the 9 models and what type of regularization works best for this dataset\n"
   ]
  }
 ],
 "metadata": {
  "colab": {
   "name": "week5Solution.ipynb",
   "provenance": []
  },
  "interpreter": {
   "hash": "6f6a9d06c0fd64bf60e6e1c5f52d9e61e3a0d126987fc458258eb07643fb7172"
  },
  "kernelspec": {
   "display_name": "Python 3",
   "language": "python",
   "name": "python3"
  },
  "language_info": {
   "codemirror_mode": {
    "name": "ipython",
    "version": 3
   },
   "file_extension": ".py",
   "mimetype": "text/x-python",
   "name": "python",
   "nbconvert_exporter": "python",
   "pygments_lexer": "ipython3",
   "version": "3.7.6"
  }
 },
 "nbformat": 4,
 "nbformat_minor": 1
}
